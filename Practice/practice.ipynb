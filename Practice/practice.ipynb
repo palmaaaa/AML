{
  "cells": [
    {
      "cell_type": "markdown",
      "metadata": {
        "id": "F7dqpKhnQD70"
      },
      "source": [
        "# AML Homework 3: Practice\n"
      ]
    },
    {
      "cell_type": "markdown",
      "metadata": {
        "id": "phBoxylBQD71"
      },
      "source": [
        "## Table of contents:\n",
        "This notebook is composed of 7 Sections for 17 points\n",
        "\n",
        "* **Section 1: Train a CNN from Scratch on CIFAR-10 ( 2 Points)**\n",
        "\n",
        "    We will implement a Convolutional Neural Network (CNN) from the ground up to classify images from the CIFAR-10 dataset. The focus will be on understanding the architecture of CNNs, preprocessing the dataset, and optimizing the model to achieve high accuracy.\n",
        "\n",
        "* **Section 2: Unlearning( 2 Points)**\n",
        "\n",
        "    We introduce the concept of unlearning, which involves modifying a trained model to forget specific data points while retaining its overall performance.\n",
        "\n",
        "* **Section 3: Gold model ( 2 Points)**\n",
        "\n",
        "    We discuss the development of the Gold model, which serves as the benchmark for evaluating performance after implementing unlearning techniques.\n",
        "\n",
        "\n",
        "* **Section 4: Mia Attacks ( 3 Points)**\n",
        "\n",
        "    This section will focus on MIA (Membership Inference Attacks), which are designed to determine whether a specific data point was included in the training set of a machine learning model.\n",
        "    \n",
        "* **Section 5: Unlearning with KL divergence ( 2 Points)**\n",
        "\n",
        "    This section will discuss the application of Kullback-Leibler (KL) divergence in the unlearning process, emphasizing its role in quantifying the difference between the model's original and modified predictions.\n",
        "\n",
        "* **Section 6: GMN for Unlearning ( 6 Points)**\n",
        "\n",
        "    This section will introduce the use of Graph Meta Networks (GMNs) in the unlearning process, highlighting their ability to adaptively modify model parameters based on specific unlearning tasks.\n",
        "\n",
        "Do not modify parts of code that are not marked with \"Your turn\" or \"Add your code below\"."
      ]
    },
    {
      "cell_type": "code",
      "execution_count": null,
      "metadata": {
        "id": "U_ZwSnjPQD72"
      },
      "outputs": [],
      "source": [
        "# import libraries\n",
        "import numpy as np\n",
        "import pandas as pd\n",
        "import matplotlib.pyplot as plt\n",
        "import torch\n",
        "import torch.nn as nn\n",
        "from torchvision import datasets, transforms\n",
        "from torchvision.transforms import ToTensor\n",
        "from torch.utils.data import DataLoader\n",
        "from tqdm import tqdm\n",
        "import os\n",
        "import random\n",
        "from sklearn import linear_model, model_selection\n",
        "from torch_geometric.data import Data\n",
        "from gmn.graph_construct.model_arch_graph import sequential_to_arch, arch_to_graph\n",
        "import torch.nn.functional as F\n",
        "\n",
        "\n",
        "#fix seeds\n",
        "np.random.seed(0)\n",
        "torch.manual_seed(0)\n",
        "random.seed(0)\n",
        "torch.cuda.manual_seed(0)\n",
        "torch.cuda.manual_seed_all(0)\n",
        "torch.backends.cudnn.deterministic = True\n",
        "torch.backends.cudnn.benchmark = False\n"
      ]
    },
    {
      "cell_type": "markdown",
      "metadata": {
        "id": "pLE0oBYOQD72"
      },
      "source": [
        "# Section 1: Train from scratch a CNN on CIFAR-10"
      ]
    },
    {
      "cell_type": "markdown",
      "metadata": {
        "id": "qzrmk3NDQD72"
      },
      "source": [
        "### 1.1: Model definition"
      ]
    },
    {
      "cell_type": "code",
      "execution_count": null,
      "metadata": {
        "id": "imlzj94LQD72"
      },
      "outputs": [],
      "source": [
        "def create_model():\n",
        "    '''\n",
        "    Create a simple CNN model for CIFAR10 dataset\n",
        "    '''\n",
        "\n",
        "    model = nn.Sequential(\n",
        "        nn.Conv2d(3, 32, kernel_size=(3, 3), stride=1, padding=1),\n",
        "        nn.BatchNorm2d(32),\n",
        "        nn.ReLU(),\n",
        "        nn.AvgPool2d(kernel_size=2, stride=2),\n",
        "        nn.Dropout(p=0.1),\n",
        "\n",
        "        nn.Conv2d(32, 64, kernel_size=(3, 3), stride=1, padding=1),\n",
        "        nn.BatchNorm2d(64),\n",
        "        nn.ReLU(),\n",
        "        nn.AvgPool2d(kernel_size=2, stride=2),\n",
        "        nn.Dropout(p=0.1),\n",
        "\n",
        "        nn.Conv2d(64, 64, kernel_size=(3, 3), stride=1, padding=1),\n",
        "        nn.BatchNorm2d(64),\n",
        "        nn.ReLU(),\n",
        "        nn.AdaptiveAvgPool2d((1,1)),\n",
        "        nn.Flatten(),\n",
        "        nn.Dropout(p=0.1),\n",
        "\n",
        "        nn.Linear(64, 32),\n",
        "        nn.ReLU(),\n",
        "        nn.Dropout(p=0.1),\n",
        "\n",
        "        nn.Linear(32, 10)\n",
        "    )\n",
        "\n",
        "    return model"
      ]
    },
    {
      "cell_type": "markdown",
      "metadata": {
        "id": "zlb2yamAQD73"
      },
      "source": [
        "### 1.2 DataLoader\n"
      ]
    },
    {
      "cell_type": "markdown",
      "metadata": {
        "id": "ZibIsXwSQD73"
      },
      "source": [
        "#### Your turn ( 1 Point)\n",
        "\n",
        "Calculate the mean and the standard deviation vectors to be used in cifar_transforms  rounding the values to four decimal places."
      ]
    },
    {
      "cell_type": "code",
      "execution_count": null,
      "metadata": {
        "id": "Zdk7DkoGQD73",
        "outputId": "a9b0e406-3884-426d-fb8d-712a7d25bb30"
      },
      "outputs": [
        {
          "name": "stdout",
          "output_type": "stream",
          "text": [
            "Files already downloaded and verified\n",
            "Mean:  tensor([0.4914, 0.4822, 0.4465])\n",
            "Std:  tensor([0.2470, 0.2435, 0.2616])\n"
          ]
        }
      ],
      "source": [
        "import numpy as np\n",
        "from torchvision import datasets, transforms\n",
        "\n",
        "# Load the dataset\n",
        "train_dataset = datasets.CIFAR10(root='./data', train=True, download=True, transform=transforms.ToTensor())\n",
        "\n",
        "'''\n",
        "Add your code below\n",
        "'''\n",
        "# Compute the mean and standard deviation for each channel\n",
        "images = torch.stack([img for img, _ in train_dataset]) # (N x C x W x H)\n",
        "mean = torch.mean(images, (0, 2, 3))\n",
        "std = torch.std(images, (0, 2, 3))\n",
        "\n",
        "print(\"Mean: \", np.round(mean, 4))\n",
        "print(\"Std: \", np.round(std, 4))"
      ]
    },
    {
      "cell_type": "code",
      "execution_count": null,
      "metadata": {
        "id": "cWt74BCDQD73",
        "outputId": "c885fcb4-7a1f-4d82-8f31-bc8a82c0d02b"
      },
      "outputs": [
        {
          "name": "stdout",
          "output_type": "stream",
          "text": [
            "Files already downloaded and verified\n",
            "Files already downloaded and verified\n"
          ]
        }
      ],
      "source": [
        "# Define the augmentations for the training set\n",
        "cifar_transforms = transforms.Compose([\n",
        "    transforms.ToTensor(),                    # Convert the image to a PyTorch tensor\n",
        "    transforms.Normalize(mean, std), # Normalize the image channel\n",
        "])\n",
        "\n",
        "# Load the CIFAR-10 dataset with the appropriate transforms\n",
        "train_dataset = datasets.CIFAR10(root=\"data\", train=True, transform=cifar_transforms, download=True)\n",
        "test_dataset = datasets.CIFAR10(root=\"data\", train=False, transform=cifar_transforms, download=True)\n",
        "\n",
        "#split test into test and validation\n",
        "val_dataset, test_dataset = torch.utils.data.random_split(test_dataset, [2000, 8000])"
      ]
    },
    {
      "cell_type": "code",
      "execution_count": null,
      "metadata": {
        "id": "mpjKQ-iTQD74"
      },
      "outputs": [],
      "source": [
        "batch_size = 512\n",
        "\n",
        "# Create the DataLoaders\n",
        "train_loader = DataLoader(train_dataset, batch_size = batch_size, shuffle=True)\n",
        "val_loader = DataLoader(val_dataset, batch_size = batch_size, shuffle=False)\n",
        "test_loader = DataLoader(test_dataset, batch_size = batch_size, shuffle=False)"
      ]
    },
    {
      "cell_type": "markdown",
      "metadata": {
        "id": "uoyMQI5XQD74"
      },
      "source": [
        "### 1.3 See the data"
      ]
    },
    {
      "cell_type": "code",
      "execution_count": null,
      "metadata": {
        "id": "OBXhEBCtQD74",
        "outputId": "ea23c270-e72b-4f01-c910-2f32a3f5b1c9"
      },
      "outputs": [
        {
          "data": {
            "image/png": "[encoded data removed]",
            "text/plain": [
              "<Figure size 2000x400 with 20 Axes>"
            ]
          },
          "metadata": {},
          "output_type": "display_data"
        }
      ],
      "source": [
        "# plot 2 figures for each of the 10 classes in the dataset\n",
        "fig, axs = plt.subplots(2, 10, figsize=(20, 4))\n",
        "for i in range(10):\n",
        "    # Get the first image of each class\n",
        "    img = train_dataset.data[train_dataset.targets.index(i)]\n",
        "    axs[0, i].imshow(img)\n",
        "    axs[0, i].axis('off')\n",
        "    axs[0, i].set_title(train_dataset.classes[i])\n",
        "\n",
        "    # Get the second image of each class\n",
        "    img = train_dataset.data[train_dataset.targets.index(i, train_dataset.targets.index(i) + 1)]\n",
        "    axs[1, i].imshow(img)\n",
        "    axs[1, i].axis('off')"
      ]
    },
    {
      "cell_type": "markdown",
      "metadata": {
        "id": "ABv2fRnYQD74"
      },
      "source": [
        "### 1.4: Training Loop"
      ]
    },
    {
      "cell_type": "code",
      "execution_count": null,
      "metadata": {
        "id": "pMJzu7veQD74"
      },
      "outputs": [],
      "source": [
        "device = torch.device(\"cuda\" if torch.cuda.is_available() else \"cpu\")\n",
        "#load weights\n",
        "model = create_model()\n",
        "model.load_state_dict(torch.load('checkpoint/model_weights.pth'))\n",
        "model.to(device);\n",
        "\n",
        "# initialize the loss function and optimizer\n",
        "criterion = nn.CrossEntropyLoss()\n",
        "optimizer = torch.optim.Adam(model.parameters(), lr=0.001)\n",
        "scheduler = torch.optim.lr_scheduler.ReduceLROnPlateau(optimizer, mode='min', factor=0.1, patience=5, verbose=True)\n",
        "num_epochs = 20\n"
      ]
    },
    {
      "cell_type": "code",
      "execution_count": null,
      "metadata": {
        "id": "86n9_E8_QD74",
        "outputId": "09991d92-779e-4896-9a3e-7455c79afb53"
      },
      "outputs": [
        {
          "name": "stderr",
          "output_type": "stream",
          "text": [
            "Epoch [1/20]: 100%|██████████| 98/98 [00:18<00:00,  5.38it/s, loss=1.58]\n"
          ]
        },
        {
          "name": "stdout",
          "output_type": "stream",
          "text": [
            "Epoch [1/20], Average Loss: 1.8914\n",
            "Validation Loss: 1.5897\n"
          ]
        },
        {
          "name": "stderr",
          "output_type": "stream",
          "text": [
            "Epoch [2/20]: 100%|██████████| 98/98 [00:15<00:00,  6.21it/s, loss=1.38]\n"
          ]
        },
        {
          "name": "stdout",
          "output_type": "stream",
          "text": [
            "Epoch [2/20], Average Loss: 1.4626\n",
            "Validation Loss: 1.3830\n"
          ]
        },
        {
          "name": "stderr",
          "output_type": "stream",
          "text": [
            "Epoch [3/20]: 100%|██████████| 98/98 [00:16<00:00,  6.11it/s, loss=1.28]\n"
          ]
        },
        {
          "name": "stdout",
          "output_type": "stream",
          "text": [
            "Epoch [3/20], Average Loss: 1.3151\n",
            "Validation Loss: 1.2020\n"
          ]
        },
        {
          "name": "stderr",
          "output_type": "stream",
          "text": [
            "Epoch [4/20]: 100%|██████████| 98/98 [00:15<00:00,  6.15it/s, loss=1.17]\n"
          ]
        },
        {
          "name": "stdout",
          "output_type": "stream",
          "text": [
            "Epoch [4/20], Average Loss: 1.2400\n",
            "Validation Loss: 1.1537\n"
          ]
        },
        {
          "name": "stderr",
          "output_type": "stream",
          "text": [
            "Epoch [5/20]: 100%|██████████| 98/98 [00:16<00:00,  5.99it/s, loss=1.17]\n"
          ]
        },
        {
          "name": "stdout",
          "output_type": "stream",
          "text": [
            "Epoch [5/20], Average Loss: 1.1886\n",
            "Validation Loss: 1.2420\n"
          ]
        },
        {
          "name": "stderr",
          "output_type": "stream",
          "text": [
            "Epoch [6/20]: 100%|██████████| 98/98 [00:16<00:00,  6.10it/s, loss=1.19]\n"
          ]
        },
        {
          "name": "stdout",
          "output_type": "stream",
          "text": [
            "Epoch [6/20], Average Loss: 1.1518\n",
            "Validation Loss: 1.0748\n"
          ]
        },
        {
          "name": "stderr",
          "output_type": "stream",
          "text": [
            "Epoch [7/20]: 100%|██████████| 98/98 [00:15<00:00,  6.18it/s, loss=1.13]\n"
          ]
        },
        {
          "name": "stdout",
          "output_type": "stream",
          "text": [
            "Epoch [7/20], Average Loss: 1.1174\n",
            "Validation Loss: 1.0018\n"
          ]
        },
        {
          "name": "stderr",
          "output_type": "stream",
          "text": [
            "Epoch [8/20]: 100%|██████████| 98/98 [00:15<00:00,  6.18it/s, loss=1.06] \n"
          ]
        },
        {
          "name": "stdout",
          "output_type": "stream",
          "text": [
            "Epoch [8/20], Average Loss: 1.0865\n",
            "Validation Loss: 1.0415\n"
          ]
        },
        {
          "name": "stderr",
          "output_type": "stream",
          "text": [
            "Epoch [9/20]: 100%|██████████| 98/98 [00:15<00:00,  6.14it/s, loss=1.08] \n"
          ]
        },
        {
          "name": "stdout",
          "output_type": "stream",
          "text": [
            "Epoch [9/20], Average Loss: 1.0765\n",
            "Validation Loss: 1.1650\n"
          ]
        },
        {
          "name": "stderr",
          "output_type": "stream",
          "text": [
            "Epoch [10/20]: 100%|██████████| 98/98 [00:15<00:00,  6.20it/s, loss=1.11] \n"
          ]
        },
        {
          "name": "stdout",
          "output_type": "stream",
          "text": [
            "Epoch [10/20], Average Loss: 1.0516\n",
            "Validation Loss: 1.0879\n"
          ]
        },
        {
          "name": "stderr",
          "output_type": "stream",
          "text": [
            "Epoch [11/20]: 100%|██████████| 98/98 [00:15<00:00,  6.34it/s, loss=1]    \n"
          ]
        },
        {
          "name": "stdout",
          "output_type": "stream",
          "text": [
            "Epoch [11/20], Average Loss: 1.0341\n",
            "Validation Loss: 0.9875\n"
          ]
        },
        {
          "name": "stderr",
          "output_type": "stream",
          "text": [
            "Epoch [12/20]: 100%|██████████| 98/98 [00:16<00:00,  6.01it/s, loss=0.943]\n"
          ]
        },
        {
          "name": "stdout",
          "output_type": "stream",
          "text": [
            "Epoch [12/20], Average Loss: 1.0233\n",
            "Validation Loss: 0.9682\n"
          ]
        },
        {
          "name": "stderr",
          "output_type": "stream",
          "text": [
            "Epoch [13/20]: 100%|██████████| 98/98 [00:15<00:00,  6.19it/s, loss=1.1]  \n"
          ]
        },
        {
          "name": "stdout",
          "output_type": "stream",
          "text": [
            "Epoch [13/20], Average Loss: 1.0042\n",
            "Validation Loss: 0.9752\n"
          ]
        },
        {
          "name": "stderr",
          "output_type": "stream",
          "text": [
            "Epoch [14/20]: 100%|██████████| 98/98 [00:16<00:00,  5.98it/s, loss=0.982]\n"
          ]
        },
        {
          "name": "stdout",
          "output_type": "stream",
          "text": [
            "Epoch [14/20], Average Loss: 0.9886\n",
            "Validation Loss: 1.0103\n"
          ]
        },
        {
          "name": "stderr",
          "output_type": "stream",
          "text": [
            "Epoch [15/20]: 100%|██████████| 98/98 [00:16<00:00,  5.97it/s, loss=0.972]\n"
          ]
        },
        {
          "name": "stdout",
          "output_type": "stream",
          "text": [
            "Epoch [15/20], Average Loss: 0.9764\n",
            "Validation Loss: 0.8809\n"
          ]
        },
        {
          "name": "stderr",
          "output_type": "stream",
          "text": [
            "Epoch [16/20]: 100%|██████████| 98/98 [00:16<00:00,  5.92it/s, loss=0.911]\n"
          ]
        },
        {
          "name": "stdout",
          "output_type": "stream",
          "text": [
            "Epoch [16/20], Average Loss: 0.9602\n",
            "Validation Loss: 0.9065\n"
          ]
        },
        {
          "name": "stderr",
          "output_type": "stream",
          "text": [
            "Epoch [17/20]: 100%|██████████| 98/98 [00:16<00:00,  6.02it/s, loss=1.01] \n"
          ]
        },
        {
          "name": "stdout",
          "output_type": "stream",
          "text": [
            "Epoch [17/20], Average Loss: 0.9547\n",
            "Validation Loss: 0.9171\n"
          ]
        },
        {
          "name": "stderr",
          "output_type": "stream",
          "text": [
            "Epoch [18/20]: 100%|██████████| 98/98 [00:16<00:00,  6.07it/s, loss=0.913]\n"
          ]
        },
        {
          "name": "stdout",
          "output_type": "stream",
          "text": [
            "Epoch [18/20], Average Loss: 0.9414\n",
            "Validation Loss: 0.8813\n"
          ]
        },
        {
          "name": "stderr",
          "output_type": "stream",
          "text": [
            "Epoch [19/20]: 100%|██████████| 98/98 [00:16<00:00,  6.01it/s, loss=0.943]\n"
          ]
        },
        {
          "name": "stdout",
          "output_type": "stream",
          "text": [
            "Epoch [19/20], Average Loss: 0.9347\n",
            "Validation Loss: 0.8255\n"
          ]
        },
        {
          "name": "stderr",
          "output_type": "stream",
          "text": [
            "Epoch [20/20]: 100%|██████████| 98/98 [00:16<00:00,  5.99it/s, loss=0.928]\n"
          ]
        },
        {
          "name": "stdout",
          "output_type": "stream",
          "text": [
            "Epoch [20/20], Average Loss: 0.9188\n",
            "Validation Loss: 0.8898\n"
          ]
        }
      ],
      "source": [
        "# Placeholder for storing losses for each epoch\n",
        "losses = []\n",
        "losses_val = []\n",
        "\n",
        "# Training the model\n",
        "for epoch in range(num_epochs):\n",
        "\n",
        "    ######### TRAINING ##########\n",
        "    model.train()\n",
        "    running_loss = 0  # To track loss for this epoch\n",
        "\n",
        "    # Using tqdm for the progress bar\n",
        "    loop = tqdm(enumerate(train_loader), total=len(train_loader), leave=True)\n",
        "\n",
        "    for batch_idx, (data, targets) in loop:\n",
        "        # Get data to cuda if possible\n",
        "        data = data.to(device=device)\n",
        "        targets = targets.to(device=device)\n",
        "\n",
        "        # Forward pass\n",
        "        scores = model(data)\n",
        "        loss = criterion(scores, targets)\n",
        "\n",
        "        # Backward pass\n",
        "        optimizer.zero_grad()\n",
        "        loss.backward()\n",
        "\n",
        "        # Gradient descent step\n",
        "        optimizer.step()\n",
        "\n",
        "        # Accumulate loss\n",
        "        running_loss += loss.item()\n",
        "\n",
        "        # Update progress bar with loss and epoch information\n",
        "        loop.set_description(f\"Epoch [{epoch+1}/{num_epochs}]\")\n",
        "        loop.set_postfix(loss=loss.item())\n",
        "\n",
        "    # Calculate average loss for the epoch\n",
        "    avg_loss = running_loss / len(train_loader)\n",
        "    losses.append(avg_loss)\n",
        "\n",
        "    #scheduler\n",
        "    scheduler.step(avg_loss)\n",
        "\n",
        "    # Print loss for this epoch\n",
        "    tqdm.write(f\"Epoch [{epoch+1}/{num_epochs}], Average Loss: {avg_loss:.4f}\")\n",
        "\n",
        "    ####### VALIDATION ########\n",
        "    model.eval()\n",
        "    val_loss = 0\n",
        "\n",
        "    with torch.no_grad():\n",
        "        for data, targets in val_loader:\n",
        "            data = data.to(device=device)\n",
        "            targets = targets.to(device=device)\n",
        "\n",
        "            scores = model(data)\n",
        "            loss = criterion(scores, targets)\n",
        "            val_loss += loss.item()\n",
        "        # Calculate average loss for the epoch\n",
        "        avg_val_loss = val_loss / len(val_loader)\n",
        "        losses_val.append(avg_val_loss)\n",
        "        print(f\"Validation Loss: {avg_val_loss:.4f}\")\n",
        "        # if avg val_loss is better than the one before, save the model\n",
        "        if epoch == 0:\n",
        "            # create directory if not exist\n",
        "            os.makedirs(\"checkpoint\", exist_ok=True)\n",
        "            best_loss = avg_val_loss\n",
        "            torch.save(model.state_dict(), \"checkpoint/trained_model.pth\")\n",
        "        elif avg_val_loss < best_loss:\n",
        "            best_loss = avg_val_loss\n",
        "            torch.save(model.state_dict(), \"checkpoint/trained_model.pth\")\n",
        "\n"
      ]
    },
    {
      "cell_type": "code",
      "execution_count": null,
      "metadata": {
        "id": "Bv6eWGctQD74",
        "outputId": "af83335d-7565-43e8-9408-26c78d0ba1b7"
      },
      "outputs": [
        {
          "name": "stdout",
          "output_type": "stream",
          "text": [
            "Best validation loss: 0.8255\n"
          ]
        },
        {
          "data": {
            "image/png": "[encoded data removed]",
            "text/plain": [
              "<Figure size 1500x500 with 1 Axes>"
            ]
          },
          "metadata": {},
          "output_type": "display_data"
        }
      ],
      "source": [
        "# Plot the losses after training\n",
        "# epoch of best validation loss\n",
        "print(f\"Best validation loss: {best_loss:.4f}\")\n",
        "index_best = losses_val.index(best_loss)\n",
        "\n",
        "plt.figure(figsize=(15, 5))\n",
        "plt.plot(range(1,num_epochs+1), losses, label=\"Train Loss\")\n",
        "plt.plot(range(1,num_epochs+1), losses_val, label=\"Val Loss\")\n",
        "plt.axvline(index_best+1, color='r', linestyle='--', label=\"Best Val Loss\")\n",
        "plt.legend()\n",
        "plt.title(\"Loss vs Epochs\")\n",
        "plt.xlabel(\"Epochs\")\n",
        "plt.ylabel(\"Loss\")\n",
        "plt.grid()\n",
        "plt.show()"
      ]
    },
    {
      "cell_type": "markdown",
      "metadata": {
        "id": "-pfWGVgkQD75"
      },
      "source": [
        "#### Your Turn (1 point)\n",
        "\n",
        "**Question**\n",
        "\n",
        "Q: *Based on what you've learned in the lectures and by examining the image above, identify the problems with this plot and explain how to fix them.*\n",
        "\n",
        "A: From the plot we can see that the model do not converge very well, and the validation accuracy is a little bit noisy. As a first naive strategy, one could try to train for longer (say 40 epochs), but the results do not improve so much, as we can see in the following plots:\n",
        "\n",
        "![image2.png](attachment:image2.png)\n",
        "\n",
        "Similar results are obtained with smaller learning rate of 1E-4 (and obviously a longer training of 40 epochs, because of smaller update steps for each iteration), proving a smaller learning rate can help stabilize training, as it can be seen from the following plots:\n",
        "\n",
        "![image.png](attachment:image.png)\n",
        "\n",
        "However, looking at the batch size, we can see how it is a pretty large number. Even if large batches better approximate the gradients, with a too high batch size we are doing less updates in an epoch, and so the model requires much more epochs to converge. With a smaller batch size (equal 16), with the drawback of a little bit longer training, we obtain in 20 epochs much better results, as it is shown in the following plots:\n",
        "\n",
        "![image-2.png](attachment:image-2.png)\n",
        "\n",
        "As a final proof, we trained the model for 60 epochs and a batch size of 32, achieving very good performances as it is shown here:\n",
        "\n",
        "![image2-2.png](attachment:image2-2.png)\n",
        "\n",
        "Even bettering the performances of best_model.pth weights:\n",
        "\n",
        "![image-3.png](attachment:image-3.png)"
      ]
    },
    {
      "cell_type": "markdown",
      "metadata": {
        "id": "cDPKwa4WQD75"
      },
      "source": [
        "### 1.5 Evaluation\n",
        "\n",
        "Now, let's evaluate the performances of our model"
      ]
    },
    {
      "cell_type": "code",
      "execution_count": null,
      "metadata": {
        "id": "eg9jSfPPQD75"
      },
      "outputs": [],
      "source": [
        "# accuracy\n",
        "def accuracy (model, loader):\n",
        "    '''\n",
        "    Function to calculate the accuracy of the model on the test set\n",
        "    '''\n",
        "    correct = 0\n",
        "    total = 0\n",
        "    for data, targets in loader:\n",
        "        data = data.to(device=device)\n",
        "        targets = targets.to(device=device)\n",
        "        scores = model(data)\n",
        "        _, predictions = scores.max(1)\n",
        "        correct += (predictions == targets).sum()\n",
        "        total += targets.shape[0]\n",
        "    return correct / total"
      ]
    },
    {
      "cell_type": "code",
      "execution_count": null,
      "metadata": {
        "id": "FEN8-4i6QD75",
        "outputId": "8dd1cd2c-2b05-4ac4-f261-24f8197f4c1c"
      },
      "outputs": [
        {
          "name": "stdout",
          "output_type": "stream",
          "text": [
            "Your Model Train Accuracy : 72.1220\n",
            "Your Model Test Accuracy : 70.3500\n"
          ]
        }
      ],
      "source": [
        "# your model\n",
        "model = create_model()\n",
        "model.load_state_dict(torch.load('checkpoint/trained_model.pth'))\n",
        "model.eval()\n",
        "model.to(device)\n",
        "\n",
        "# Calculate accuracy on the train and test set\n",
        "train_accuracy = accuracy(model, train_loader)\n",
        "test_accuracy = accuracy(model, test_loader)\n",
        "\n",
        "print(f\"Your Model Train Accuracy : {100* train_accuracy:.4f}\")\n",
        "print(f\"Your Model Test Accuracy : {100* test_accuracy:.4f}\")"
      ]
    },
    {
      "cell_type": "markdown",
      "metadata": {
        "id": "d8e5VgBKQD75"
      },
      "source": [
        "To avoid training for too many epochs, here it is a checkpoint you can use for the trained model."
      ]
    },
    {
      "cell_type": "code",
      "execution_count": null,
      "metadata": {
        "id": "ueR3vzlqQD75",
        "outputId": "7b55187c-b91b-4af5-fea8-ae9a9320c4ab"
      },
      "outputs": [
        {
          "name": "stdout",
          "output_type": "stream",
          "text": [
            "Train accuracy: 86.3800\n",
            "Test Accuracy: 80.9000\n"
          ]
        }
      ],
      "source": [
        "model = create_model()\n",
        "model.load_state_dict(torch.load(\"checkpoint/best_model.pth\"))\n",
        "model.eval()\n",
        "model.to(device)\n",
        "\n",
        "# Calculate the accuracy on the train and test set\n",
        "train_accuracy = accuracy(model, train_loader)\n",
        "test_accuracy = accuracy(model, test_loader)\n",
        "\n",
        "print(f\"Train accuracy: {100* train_accuracy:.4f}\")\n",
        "print(f\"Test Accuracy: {100* test_accuracy:.4f}\")"
      ]
    },
    {
      "cell_type": "markdown",
      "metadata": {
        "id": "xS9abyYPQD75"
      },
      "source": [
        "# Section 2: Unlearning"
      ]
    },
    {
      "cell_type": "markdown",
      "metadata": {
        "id": "LLZPOlPNQD75"
      },
      "source": [
        "In the context of machine learning, unlearning refers to the process of modifying a trained model so that it forgets specific pieces of information without losing the general performance. This is particularly important in situations where data privacy is a concern, such as when sensitive information is involved, or when a model has learned from outdated or incorrect data. In this scenario,\n",
        "you may want to unlearn an entire class of data, a specific instance within that class, or even a particular concept that the model has learned.\n",
        "\n",
        "**Why is Unlearning Important?**\n",
        "\n",
        "Let’s say you have trained a machine learning model to recognize different types of animals based on a dataset containing images. Now, suppose that this dataset includes images of a particular cat breed that was later found to be misclassified or problematic. You might need to remove that specific information from the model to ensure it doesn't make incorrect predictions in the future.\n",
        "\n",
        "Additionally, with privacy laws like GDPR (General Data Protection Regulation), individuals have the right to request that their personal data be removed from a model. If a model has been trained on this data, we need a way to unlearn it.\n",
        "\n",
        "Here, our task will be to unlearn the class of Airplanes in CIFAR-10 Dataset"
      ]
    },
    {
      "cell_type": "markdown",
      "metadata": {
        "id": "fL0QAQglQD76"
      },
      "source": [
        "### Unlearning by Fine-Tuning\n",
        "\n",
        "The Unlearning by Fine-Tuning strategy is a technique used to remove the influence of specific data points from a trained machine learning model while preserving its performance on other, relevant data.\n",
        "Here’s a detailed explanation of how this strategy works:\n",
        "\n",
        "#### 1. The Retain Set\n",
        "\n",
        "The retain set consists of all the data points that you want the model to remember or continue to learn from. This set excludes the data points you want the model to forget.\n",
        "\n",
        "####  2. Fine-Tuning Process\n",
        "\n",
        "To perform unlearning through this strategy, you follow these steps:\n",
        "\n",
        "- Identify and Remove the Data Points: First, identify the data points that you wish to unlearn and remove them from the training dataset.\n",
        "\n",
        "- Prepare the Retain and Forget Set: Create a new training dataset that contains only the retain set, those data points that should be kept in the model’s knowledge, and include the remaing data in the Forget Set.\n",
        "\n",
        "- Fine-Tuning on the Retain Set: Instead of retraining the model from scratch, you will fine-tune the existing model using the retain set. This involves using the retain set to continue training the model, typically with a lower learning rate to ensure that the model can adjust its parameters without drastically altering what it has already learned.\n",
        "\n",
        "#### 3. Benefits of this strategy\n",
        "\n",
        "- Efficiency: Fine-tuning on the retain set only is more efficient than retraining the model from scratch. It saves computational resources and time.\n",
        "\n",
        "- Maintained Performance: The model retains its ability to perform well on the general dataset, as it continues to learn from the valid data in the retain set.\n",
        "\n",
        "#### 4. Drawbacks of this strategy\n",
        "\n",
        "- Even if more efficient than retraining the model from scratch, you still need to do a fine tuning, that could be very expensive for large or foundational models. Even finding the best hyperparameters can be costly.\n",
        "\n",
        "- If you change samples or architecture to unlearn, you have to do the ad-hoc fine tuning again, it is not a *general* strategy."
      ]
    },
    {
      "cell_type": "markdown",
      "metadata": {
        "id": "zASL6WlQQD76"
      },
      "source": [
        "### 2.1: Forget Airplanes"
      ]
    },
    {
      "cell_type": "markdown",
      "metadata": {
        "id": "u-3GE99pQD76"
      },
      "source": [
        "#### Your Turn ( 1 Point)\n",
        "\n",
        "Generate the retain and forget datasets, keeping in mind that we want to forget the \"airplanes\" class. Afterward, create new instances of the loaders for training, validation, and testing. Make sure to use the torch.utils.data.Subset function."
      ]
    },
    {
      "cell_type": "code",
      "execution_count": null,
      "metadata": {
        "id": "XU-QdAHRQD76"
      },
      "outputs": [],
      "source": [
        "#train\n",
        "'''\n",
        "Add your code below\n",
        "'''\n",
        "keep,forget = [],[]\n",
        "for i in range(len(train_dataset)):\n",
        "    if train_dataset[i][1] != 0: keep.append(i)\n",
        "    else: forget.append(i)\n",
        "\n",
        "retain_dataset = torch.utils.data.Subset(train_dataset, keep)\n",
        "forget_dataset = torch.utils.data.Subset(train_dataset, forget)\n",
        "retain_loader = DataLoader(retain_dataset, batch_size = batch_size)\n",
        "forget_loader = DataLoader(forget_dataset, batch_size = batch_size)"
      ]
    },
    {
      "cell_type": "code",
      "execution_count": null,
      "metadata": {
        "id": "6CnlVcB4QD76"
      },
      "outputs": [],
      "source": [
        "#validation\n",
        "'''\n",
        "Add your code below\n",
        "'''\n",
        "keep,forget = [],[]\n",
        "for i in range(len(val_dataset)):\n",
        "    if val_dataset[i][1] != 0: keep.append(i)\n",
        "    else: forget.append(i)\n",
        "\n",
        "retain_dataset_val = torch.utils.data.Subset(val_dataset, keep)\n",
        "forget_dataset_val = torch.utils.data.Subset(val_dataset, forget)\n",
        "retain_loader_val = DataLoader(retain_dataset_val, batch_size = batch_size)\n",
        "forget_loader_val = DataLoader(forget_dataset_val, batch_size = batch_size)"
      ]
    },
    {
      "cell_type": "code",
      "execution_count": null,
      "metadata": {
        "id": "eGODTENTQD76"
      },
      "outputs": [],
      "source": [
        "#test\n",
        "'''\n",
        "Add your code below\n",
        "'''\n",
        "keep,forget = [],[]\n",
        "for i in range(len(test_dataset)):\n",
        "    if test_dataset[i][1] != 0: keep.append(i)\n",
        "    else: forget.append(i)\n",
        "\n",
        "retain_dataset_test = torch.utils.data.Subset(test_dataset, keep)\n",
        "forget_dataset_test = torch.utils.data.Subset(test_dataset, forget)\n",
        "retain_loader_test = DataLoader(retain_dataset_test, batch_size = batch_size)\n",
        "forget_loader_test = DataLoader(forget_dataset_test, batch_size = batch_size)"
      ]
    },
    {
      "cell_type": "markdown",
      "metadata": {
        "id": "KzC5M6dGQD76"
      },
      "source": [
        "### 2.2: Training Loop"
      ]
    },
    {
      "cell_type": "code",
      "execution_count": null,
      "metadata": {
        "id": "GmdssLzDQD76"
      },
      "outputs": [],
      "source": [
        "def unlearning( model, retain_loader , validation, epochs = 5, criterion = criterion, optimizer = optimizer, scheduler = scheduler):\n",
        "    \"\"\"Unlearning by fine-tuning.\n",
        "\n",
        "    Fine-tuning is a very simple algorithm that trains using only\n",
        "    the retain set.\n",
        "\n",
        "    Args:\n",
        "      model : nn.Module.\n",
        "        pre-trained model to use as base of unlearning.\n",
        "      retain : torch.utils.data.DataLoader.\n",
        "        Dataset loader for access to the retain set. This is the subset\n",
        "        of the training set that we don't want to forget.\n",
        "      validation : torch.utils.data.DataLoader.\n",
        "        Dataset loader for access to the validation set. This method doesn't\n",
        "        make use of the validation set.\n",
        "    Returns:\n",
        "      model : updated model\n",
        "    \"\"\"\n",
        "    device = torch.device(\"cuda\" if torch.cuda.is_available() else \"cpu\")\n",
        "    model.to(device)\n",
        "    losses = []\n",
        "    losses_val = []\n",
        "\n",
        "    for epoch in range(epochs):\n",
        "        model.train()\n",
        "        loss_epoch = 0\n",
        "        loop = tqdm(enumerate(retain_loader), total=len(retain_loader), leave=True)\n",
        "        for batch_idx, (inputs, targets) in loop:\n",
        "            inputs, targets = inputs.to(device), targets.to(device)\n",
        "            optimizer.zero_grad()\n",
        "            outputs = model(inputs)\n",
        "            loss = criterion(outputs, targets)\n",
        "            loss.backward()\n",
        "            optimizer.step()\n",
        "\n",
        "            #running loss\n",
        "            loss_epoch += loss.item()\n",
        "            # Update progress bar with loss and epoch information\n",
        "            loop.set_description(f\"Epoch [{epoch+1}/{epochs}]\")\n",
        "            loop.set_postfix(loss=loss.item())\n",
        "\n",
        "        #avg loss\n",
        "        avg_loss = loss_epoch / len(retain_loader )\n",
        "        losses.append(avg_loss)\n",
        "        #scheduler step\n",
        "        scheduler.step(avg_loss)\n",
        "        tqdm.write(f\"Epoch [{epoch+1}/{epochs}], Average Loss: {avg_loss:.4f}\")\n",
        "\n",
        "        # validation\n",
        "        loss_val = 0\n",
        "        model.eval()\n",
        "        with torch.no_grad():\n",
        "            for data, targets in validation:\n",
        "                data = data.to(device=device)\n",
        "                targets = targets.to(device=device)\n",
        "\n",
        "                scores = model(data)\n",
        "                loss = criterion(scores, targets)\n",
        "                loss_val += loss.item()\n",
        "            # Calculate average loss for the epoch\n",
        "            avg_val_loss = loss_val / len(validation)\n",
        "            losses_val.append(avg_val_loss)\n",
        "            print(f\"Validation Loss: {avg_val_loss:.4f}\")\n",
        "            # if avg val_loss is better than the one before, save the model\n",
        "            if epoch == 0:\n",
        "                # create directory if not exist\n",
        "                os.makedirs(\"checkpoint\", exist_ok=True)\n",
        "                best_loss = avg_val_loss\n",
        "                torch.save(model.state_dict(), \"checkpoint/forget_model.pth\")\n",
        "            elif avg_val_loss < best_loss:\n",
        "                best_loss = avg_val_loss\n",
        "                torch.save(model.state_dict(), \"checkpoint/forget_model.pth\")\n",
        "\n",
        "\n",
        "    model.eval()\n",
        "    model.load_state_dict(torch.load(\"checkpoint/forget_model.pth\"))\n",
        "    return model, losses, losses_val"
      ]
    },
    {
      "cell_type": "code",
      "execution_count": null,
      "metadata": {
        "id": "UG9SVrD6QD77",
        "outputId": "7ffaca1e-d1f8-421e-c465-fea18b010120"
      },
      "outputs": [
        {
          "name": "stderr",
          "output_type": "stream",
          "text": [
            "Epoch [1/10]: 100%|██████████| 88/88 [00:20<00:00,  4.26it/s, loss=0.485]\n"
          ]
        },
        {
          "name": "stdout",
          "output_type": "stream",
          "text": [
            "Epoch [1/10], Average Loss: 0.5279\n",
            "Validation Loss: 0.5176\n"
          ]
        },
        {
          "name": "stderr",
          "output_type": "stream",
          "text": [
            "Epoch [2/10]: 100%|██████████| 88/88 [00:14<00:00,  6.11it/s, loss=0.473]\n"
          ]
        },
        {
          "name": "stdout",
          "output_type": "stream",
          "text": [
            "Epoch [2/10], Average Loss: 0.5026\n",
            "Validation Loss: 0.5059\n"
          ]
        },
        {
          "name": "stderr",
          "output_type": "stream",
          "text": [
            "Epoch [3/10]: 100%|██████████| 88/88 [00:14<00:00,  5.97it/s, loss=0.48] \n"
          ]
        },
        {
          "name": "stdout",
          "output_type": "stream",
          "text": [
            "Epoch [3/10], Average Loss: 0.4980\n",
            "Validation Loss: 0.5104\n"
          ]
        },
        {
          "name": "stderr",
          "output_type": "stream",
          "text": [
            "Epoch [4/10]: 100%|██████████| 88/88 [00:14<00:00,  6.23it/s, loss=0.471]\n"
          ]
        },
        {
          "name": "stdout",
          "output_type": "stream",
          "text": [
            "Epoch [4/10], Average Loss: 0.4962\n",
            "Validation Loss: 0.4990\n"
          ]
        },
        {
          "name": "stderr",
          "output_type": "stream",
          "text": [
            "Epoch [5/10]: 100%|██████████| 88/88 [00:14<00:00,  5.97it/s, loss=0.461]\n"
          ]
        },
        {
          "name": "stdout",
          "output_type": "stream",
          "text": [
            "Epoch [5/10], Average Loss: 0.4929\n",
            "Validation Loss: 0.5053\n"
          ]
        },
        {
          "name": "stderr",
          "output_type": "stream",
          "text": [
            "Epoch [6/10]: 100%|██████████| 88/88 [00:14<00:00,  6.16it/s, loss=0.472]\n"
          ]
        },
        {
          "name": "stdout",
          "output_type": "stream",
          "text": [
            "Epoch [6/10], Average Loss: 0.4913\n",
            "Validation Loss: 0.5055\n"
          ]
        },
        {
          "name": "stderr",
          "output_type": "stream",
          "text": [
            "Epoch [7/10]: 100%|██████████| 88/88 [00:15<00:00,  5.76it/s, loss=0.439]\n"
          ]
        },
        {
          "name": "stdout",
          "output_type": "stream",
          "text": [
            "Epoch [7/10], Average Loss: 0.4888\n",
            "Validation Loss: 0.5015\n"
          ]
        },
        {
          "name": "stderr",
          "output_type": "stream",
          "text": [
            "Epoch [8/10]: 100%|██████████| 88/88 [00:14<00:00,  6.01it/s, loss=0.452]\n"
          ]
        },
        {
          "name": "stdout",
          "output_type": "stream",
          "text": [
            "Epoch [8/10], Average Loss: 0.4882\n",
            "Validation Loss: 0.5002\n"
          ]
        },
        {
          "name": "stderr",
          "output_type": "stream",
          "text": [
            "Epoch [9/10]: 100%|██████████| 88/88 [00:14<00:00,  6.17it/s, loss=0.425]\n"
          ]
        },
        {
          "name": "stdout",
          "output_type": "stream",
          "text": [
            "Epoch [9/10], Average Loss: 0.4859\n",
            "Validation Loss: 0.4993\n"
          ]
        },
        {
          "name": "stderr",
          "output_type": "stream",
          "text": [
            "Epoch [10/10]: 100%|██████████| 88/88 [00:14<00:00,  6.21it/s, loss=0.435]\n"
          ]
        },
        {
          "name": "stdout",
          "output_type": "stream",
          "text": [
            "Epoch [10/10], Average Loss: 0.4819\n",
            "Validation Loss: 0.4949\n"
          ]
        }
      ],
      "source": [
        "# intialize forget model as trained model\n",
        "forget_model = create_model()\n",
        "forget_model.load_state_dict(torch.load(\"checkpoint/best_model.pth\"))\n",
        "\n",
        "criterion = nn.CrossEntropyLoss()\n",
        "optimizer = torch.optim.Adam(forget_model.parameters(), lr=0.0001)\n",
        "scheduler = torch.optim.lr_scheduler.ReduceLROnPlateau(optimizer, mode='min', factor=0.1, patience=3, verbose=True)\n",
        "\n",
        "\n",
        "# Unlearn the forget set\n",
        "epochs = 10\n",
        "forget_model, losses, losses_val = unlearning(forget_model, retain_loader, retain_loader_val, epochs=epochs, criterion=criterion, optimizer=optimizer, scheduler=scheduler)"
      ]
    },
    {
      "cell_type": "markdown",
      "metadata": {
        "id": "MQ1IdsmhQD77"
      },
      "source": [
        "**Below there is the evaluation of your unlearned by fine-tuning model**"
      ]
    },
    {
      "cell_type": "code",
      "execution_count": null,
      "metadata": {
        "id": "93kOLxdqQD77",
        "outputId": "07492899-3f86-4e21-df00-39cde9fa8d37"
      },
      "outputs": [
        {
          "name": "stdout",
          "output_type": "stream",
          "text": [
            "Retain set Accuracy: 88.8822\n",
            "Forget set Accuracy: 30.2400\n",
            "Test set Accuracy: 77.3375\n",
            "Test set Retain Accuracy: 83.2778\n",
            "Test set Forget Accuracy: 23.8750\n"
          ]
        }
      ],
      "source": [
        "# load weights forget model\n",
        "forget_model = create_model()\n",
        "forget_model.load_state_dict(torch.load(\"checkpoint/forget_model.pth\"));\n",
        "forget_model.eval()\n",
        "forget_model.to(device);\n",
        "\n",
        "# print accuracies on retain, forget and test set\n",
        "retain_accuracy = accuracy(forget_model, retain_loader)\n",
        "forget_accuracy = accuracy(forget_model, forget_loader)\n",
        "test_accuracy = accuracy(forget_model, test_loader)\n",
        "test_accuracy_retain = accuracy(forget_model, retain_loader_test)\n",
        "test_accuracy_forget = accuracy(forget_model, forget_loader_test)\n",
        "\n",
        "print(f\"Retain set Accuracy: {100* retain_accuracy:.4f}\")\n",
        "print(f\"Forget set Accuracy: {100* forget_accuracy:.4f}\")\n",
        "print(f\"Test set Accuracy: {100* test_accuracy:.4f}\") # whole test set\n",
        "print(f\"Test set Retain Accuracy: {100* test_accuracy_retain:.4f}\")\n",
        "\n",
        "print(f\"Test set Forget Accuracy: {100* test_accuracy_forget:.4f}\")"
      ]
    },
    {
      "cell_type": "markdown",
      "metadata": {
        "id": "aXzxQbM7QD77"
      },
      "source": [
        "#### Your Turn (1 Point)\n",
        "\n",
        "**Question**\n",
        "\n",
        "Q: *Summarize what you have learned. Specifically, interpret the accuracy values for the retain and forget sets during training. Additionally, discuss what can be inferred from the accuracy at test time for the entire test set, as well as for the two subsets of forget and retain.*\n",
        "\n",
        "A: The idea of unlearning, by fine tuning, is based on the model training on the data minus the class (or classes) that must be unlearned. Intuitively, by training on the remaining classes the gradients, with an appropriate learning rate, would point towards a location of the loss function where the associated weights would be less specialized for the class which wants to be unlearned.\n",
        "\n",
        "Regarding the values of forget and retain sets during training, it has been observed that the fine-tuned model performed slightly better than the original one on retain training set.\n",
        "Moreover the test accuracy on the original set slightly decreased with respect to the original model by $\\sim$ 3%, which is an acceptable tradeoff for the desired result and combined with the accuracy obtained on retain test set and forget test set it also shows how the model is effectively unlearning the target class. In fact, the model perform very poorly on the forget test set, while obtaining good performances on the retain test set. It is also worth noting that both retain and forget obtained a worse accuracy than the training respective sets, which is a typical tendency, because the model has not seen any of the sample in the test set.\n",
        "\n",
        "One could ask himself how we have got a so small decrease in performances over the original test set, while completely eliminating a class during fine tuning. Because no *airplane* image was shown to the model in fine tuning, it learned to never output something meaningful for the *airplane* label (the first one, associated with 0). Thus, the model probably became more specialized in the other labels, as it can be seen by computing the error rates (per label) for best model and forget model over the original test set:\n",
        "\n",
        "![image-2.png](attachment:image-2.png)\n",
        "\n",
        "More than 70% of the times the forget model missclassify the *aiplane* label, while the other error rates are generally lower, suggesting what it has been said above."
      ]
    },
    {
      "cell_type": "markdown",
      "metadata": {
        "id": "fWx5eqP6QD77"
      },
      "source": [
        "# Section 3: Gold model"
      ]
    },
    {
      "cell_type": "markdown",
      "metadata": {
        "id": "_HrwZeMyQD77"
      },
      "source": [
        "One might ask, how good are the scores above? What is the best possible score? Since our goal is to approximate a model that has been trained **only on** the retain set, we'll consider that the gold standard is the score achieved by this model. Such a model is called here the *gold model*."
      ]
    },
    {
      "cell_type": "code",
      "execution_count": null,
      "metadata": {
        "id": "y_4jJao8QD7-"
      },
      "outputs": [],
      "source": [
        "# train only on retain set\n",
        "gold_model = create_model()\n",
        "gold_model.load_state_dict(torch.load(\"checkpoint/model_weights.pth\"))\n",
        "gold_model.to(device);\n",
        "\n",
        "criterion = nn.CrossEntropyLoss()\n",
        "optimizer = torch.optim.Adam(gold_model.parameters(), lr=0.0001)\n",
        "scheduler = torch.optim.lr_scheduler.ReduceLROnPlateau(optimizer, mode='min', factor=0.1, patience=5, verbose=True)\n",
        "num_epochs = 20"
      ]
    },
    {
      "cell_type": "markdown",
      "metadata": {
        "id": "n0WXZrf0QD7_"
      },
      "source": [
        "#### Your Turn ( 1 Point)\n",
        "\n",
        "Implement the training loop for the Gold Model. Store you losses inside the ```losses``` and ```losses_val``` lists.\n",
        "\n",
        "**IMPORTANT: save the best checkpoint of this model to a checkpoint file called \"checkpoint/gold_model.pth\"**"
      ]
    },
    {
      "cell_type": "code",
      "execution_count": null,
      "metadata": {
        "id": "rTcBfoydQD7_",
        "outputId": "622c7f24-dde6-4a66-a9f4-8d0dc1a83f6a"
      },
      "outputs": [
        {
          "name": "stderr",
          "output_type": "stream",
          "text": [
            "100%|██████████| 88/88 [00:15<00:00,  5.86it/s]\n"
          ]
        },
        {
          "name": "stdout",
          "output_type": "stream",
          "text": [
            "Epoch [1/20], Average Loss: 2.2302\n",
            "Validation Loss: 2.1501\n"
          ]
        },
        {
          "name": "stderr",
          "output_type": "stream",
          "text": [
            "100%|██████████| 88/88 [00:15<00:00,  5.73it/s]\n"
          ]
        },
        {
          "name": "stdout",
          "output_type": "stream",
          "text": [
            "Epoch [2/20], Average Loss: 2.0959\n",
            "Validation Loss: 2.0118\n"
          ]
        },
        {
          "name": "stderr",
          "output_type": "stream",
          "text": [
            "100%|██████████| 88/88 [00:16<00:00,  5.42it/s]\n"
          ]
        },
        {
          "name": "stdout",
          "output_type": "stream",
          "text": [
            "Epoch [3/20], Average Loss: 1.9572\n",
            "Validation Loss: 1.8610\n"
          ]
        },
        {
          "name": "stderr",
          "output_type": "stream",
          "text": [
            "100%|██████████| 88/88 [00:17<00:00,  5.03it/s]\n"
          ]
        },
        {
          "name": "stdout",
          "output_type": "stream",
          "text": [
            "Epoch [4/20], Average Loss: 1.8250\n",
            "Validation Loss: 1.7347\n"
          ]
        },
        {
          "name": "stderr",
          "output_type": "stream",
          "text": [
            "100%|██████████| 88/88 [00:15<00:00,  5.67it/s]\n"
          ]
        },
        {
          "name": "stdout",
          "output_type": "stream",
          "text": [
            "Epoch [5/20], Average Loss: 1.7108\n",
            "Validation Loss: 1.6317\n"
          ]
        },
        {
          "name": "stderr",
          "output_type": "stream",
          "text": [
            "100%|██████████| 88/88 [00:14<00:00,  5.94it/s]\n"
          ]
        },
        {
          "name": "stdout",
          "output_type": "stream",
          "text": [
            "Epoch [6/20], Average Loss: 1.6205\n",
            "Validation Loss: 1.5504\n"
          ]
        },
        {
          "name": "stderr",
          "output_type": "stream",
          "text": [
            "100%|██████████| 88/88 [00:15<00:00,  5.54it/s]\n"
          ]
        },
        {
          "name": "stdout",
          "output_type": "stream",
          "text": [
            "Epoch [7/20], Average Loss: 1.5446\n",
            "Validation Loss: 1.4902\n"
          ]
        },
        {
          "name": "stderr",
          "output_type": "stream",
          "text": [
            "100%|██████████| 88/88 [00:15<00:00,  5.58it/s]\n"
          ]
        },
        {
          "name": "stdout",
          "output_type": "stream",
          "text": [
            "Epoch [8/20], Average Loss: 1.4837\n",
            "Validation Loss: 1.4297\n"
          ]
        },
        {
          "name": "stderr",
          "output_type": "stream",
          "text": [
            "100%|██████████| 88/88 [00:16<00:00,  5.49it/s]\n"
          ]
        },
        {
          "name": "stdout",
          "output_type": "stream",
          "text": [
            "Epoch [9/20], Average Loss: 1.4313\n",
            "Validation Loss: 1.3817\n"
          ]
        },
        {
          "name": "stderr",
          "output_type": "stream",
          "text": [
            "100%|██████████| 88/88 [00:16<00:00,  5.28it/s]\n"
          ]
        },
        {
          "name": "stdout",
          "output_type": "stream",
          "text": [
            "Epoch [10/20], Average Loss: 1.3872\n",
            "Validation Loss: 1.3487\n"
          ]
        },
        {
          "name": "stderr",
          "output_type": "stream",
          "text": [
            "100%|██████████| 88/88 [00:17<00:00,  5.12it/s]\n"
          ]
        },
        {
          "name": "stdout",
          "output_type": "stream",
          "text": [
            "Epoch [11/20], Average Loss: 1.3500\n",
            "Validation Loss: 1.3006\n"
          ]
        },
        {
          "name": "stderr",
          "output_type": "stream",
          "text": [
            "100%|██████████| 88/88 [00:17<00:00,  5.18it/s]\n"
          ]
        },
        {
          "name": "stdout",
          "output_type": "stream",
          "text": [
            "Epoch [12/20], Average Loss: 1.3142\n",
            "Validation Loss: 1.2776\n"
          ]
        },
        {
          "name": "stderr",
          "output_type": "stream",
          "text": [
            "100%|██████████| 88/88 [00:14<00:00,  5.94it/s]\n"
          ]
        },
        {
          "name": "stdout",
          "output_type": "stream",
          "text": [
            "Epoch [13/20], Average Loss: 1.2859\n",
            "Validation Loss: 1.2335\n"
          ]
        },
        {
          "name": "stderr",
          "output_type": "stream",
          "text": [
            "100%|██████████| 88/88 [00:14<00:00,  6.01it/s]\n"
          ]
        },
        {
          "name": "stdout",
          "output_type": "stream",
          "text": [
            "Epoch [14/20], Average Loss: 1.2606\n",
            "Validation Loss: 1.2330\n"
          ]
        },
        {
          "name": "stderr",
          "output_type": "stream",
          "text": [
            "100%|██████████| 88/88 [00:14<00:00,  5.98it/s]\n"
          ]
        },
        {
          "name": "stdout",
          "output_type": "stream",
          "text": [
            "Epoch [15/20], Average Loss: 1.2423\n",
            "Validation Loss: 1.2083\n"
          ]
        },
        {
          "name": "stderr",
          "output_type": "stream",
          "text": [
            "100%|██████████| 88/88 [00:15<00:00,  5.71it/s]\n"
          ]
        },
        {
          "name": "stdout",
          "output_type": "stream",
          "text": [
            "Epoch [16/20], Average Loss: 1.2188\n",
            "Validation Loss: 1.1849\n"
          ]
        },
        {
          "name": "stderr",
          "output_type": "stream",
          "text": [
            "100%|██████████| 88/88 [00:14<00:00,  5.95it/s]\n"
          ]
        },
        {
          "name": "stdout",
          "output_type": "stream",
          "text": [
            "Epoch [17/20], Average Loss: 1.2075\n",
            "Validation Loss: 1.1552\n"
          ]
        },
        {
          "name": "stderr",
          "output_type": "stream",
          "text": [
            "100%|██████████| 88/88 [00:14<00:00,  6.02it/s]\n"
          ]
        },
        {
          "name": "stdout",
          "output_type": "stream",
          "text": [
            "Epoch [18/20], Average Loss: 1.1899\n",
            "Validation Loss: 1.1636\n"
          ]
        },
        {
          "name": "stderr",
          "output_type": "stream",
          "text": [
            "100%|██████████| 88/88 [00:14<00:00,  6.02it/s]\n"
          ]
        },
        {
          "name": "stdout",
          "output_type": "stream",
          "text": [
            "Epoch [19/20], Average Loss: 1.1763\n",
            "Validation Loss: 1.1581\n"
          ]
        },
        {
          "name": "stderr",
          "output_type": "stream",
          "text": [
            "100%|██████████| 88/88 [00:14<00:00,  5.96it/s]\n"
          ]
        },
        {
          "name": "stdout",
          "output_type": "stream",
          "text": [
            "Epoch [20/20], Average Loss: 1.1618\n",
            "Validation Loss: 1.1521\n"
          ]
        }
      ],
      "source": [
        "# **IMPORTANT: save the best checkpoint of this model to a checkpoint file called \"checkpoint/gold_model.pth\"**\n",
        "'''\n",
        "Add your code below\n",
        "'''\n",
        "\n",
        "losses = []\n",
        "losses_val = []\n",
        "\n",
        "for epoch in range(num_epochs):\n",
        "    epoch_loss = 0\n",
        "    gold_model.train()\n",
        "    for inputs, labels in tqdm(retain_loader, total=len(retain_loader), leave=True):\n",
        "\n",
        "        inputs = inputs.to(device)\n",
        "        labels = labels.to(device)\n",
        "\n",
        "        pred = gold_model(inputs)\n",
        "        loss = criterion(pred, labels)\n",
        "\n",
        "        optimizer.zero_grad()\n",
        "        loss.backward()\n",
        "        optimizer.step()\n",
        "\n",
        "        epoch_loss += loss.item()\n",
        "\n",
        "    avg_loss = epoch_loss / len(retain_loader)\n",
        "    losses.append(avg_loss)\n",
        "\n",
        "    scheduler.step(avg_loss)\n",
        "    tqdm.write(f\"Epoch [{epoch+1}/{num_epochs}], Average Loss: {avg_loss:.4f}\")\n",
        "\n",
        "    loss_val = 0\n",
        "    gold_model.eval()\n",
        "    with torch.no_grad():\n",
        "        for inputs, labels in retain_loader_val:\n",
        "            inputs = inputs.to(device)\n",
        "            labels = labels.to(device)\n",
        "\n",
        "            pred = gold_model(inputs)\n",
        "            loss = criterion(pred, labels)\n",
        "            loss_val += loss.item()\n",
        "\n",
        "        avg_val_loss = loss_val / len(retain_loader_val)\n",
        "        losses_val.append(avg_val_loss)\n",
        "        print(f\"Validation Loss: {avg_val_loss:.4f}\")\n",
        "\n",
        "        if epoch == 0:\n",
        "            os.makedirs(\"checkpoint\", exist_ok=True)\n",
        "            best_loss = avg_val_loss\n",
        "            torch.save(gold_model.state_dict(), \"checkpoint/gold_model.pth\")\n",
        "        elif avg_val_loss < best_loss:\n",
        "            best_loss = avg_val_loss\n",
        "            torch.save(gold_model.state_dict(), \"checkpoint/gold_model.pth\")\n"
      ]
    },
    {
      "cell_type": "code",
      "execution_count": null,
      "metadata": {
        "id": "wU4WkqBOQD7_",
        "outputId": "d6557409-756f-490d-a487-b3bb2965f0e0"
      },
      "outputs": [
        {
          "name": "stdout",
          "output_type": "stream",
          "text": [
            "Best validation loss: 1.1521\n"
          ]
        },
        {
          "data": {
            "image/png": "[encoded data removed]",
            "text/plain": [
              "<Figure size 1500x500 with 1 Axes>"
            ]
          },
          "metadata": {},
          "output_type": "display_data"
        }
      ],
      "source": [
        "#epoch of best validation loss\n",
        "print(f\"Best validation loss: {best_loss:.4f}\")\n",
        "index_best = losses_val.index(best_loss)\n",
        "\n",
        "plt.figure(figsize=(15, 5))\n",
        "plt.plot(losses, label=\"Train Loss\")\n",
        "plt.plot(losses_val, label=\"Val Loss\")\n",
        "plt.axvline(index_best, color='r', linestyle='--', label=\"Best Val Loss\")\n",
        "plt.legend()\n",
        "plt.title(\"Loss vs Epochs\")\n",
        "plt.xlabel(\"Epochs\")\n",
        "plt.ylabel(\"Loss\")\n",
        "plt.grid()\n",
        "plt.show()"
      ]
    },
    {
      "cell_type": "markdown",
      "metadata": {
        "id": "exQdkcKYQD7_"
      },
      "source": [
        "**Below there is the evaluation of the gold model**"
      ]
    },
    {
      "cell_type": "code",
      "execution_count": null,
      "metadata": {
        "id": "r26YyD1iQD7_",
        "outputId": "2a1166f6-0dc0-49af-c97c-2f795056c3ac"
      },
      "outputs": [
        {
          "name": "stdout",
          "output_type": "stream",
          "text": [
            "Retain set Accuracy: 57.6822\n",
            "Forget set Accuracy: 0.0000\n",
            "Test set Accuracy: 51.6375\n",
            "Test set Retain Accuracy: 57.3750\n",
            "Test set Forget Accuracy: 0.0000\n"
          ]
        }
      ],
      "source": [
        "# load weights gold model\n",
        "gold_model = create_model()\n",
        "gold_model.load_state_dict(torch.load(\"checkpoint/gold_model.pth\"))\n",
        "gold_model.eval()\n",
        "gold_model.to(device);\n",
        "\n",
        "# print accuracies on retain, forget and test set\n",
        "retain_accuracy = accuracy(gold_model, retain_loader)\n",
        "forget_accuracy = accuracy(gold_model, forget_loader)\n",
        "test_accuracy = accuracy(gold_model, test_loader)\n",
        "test_accuracy_retain = accuracy(gold_model, retain_loader_test)\n",
        "test_accuracy_forget = accuracy(gold_model, forget_loader_test)\n",
        "\n",
        "print(f\"Retain set Accuracy: {100* retain_accuracy:.4f}\")\n",
        "print(f\"Forget set Accuracy: {100* forget_accuracy:.4f}\")\n",
        "print(f\"Test set Accuracy: {100* test_accuracy:.4f}\")\n",
        "print(f\"Test set Retain Accuracy: {100* test_accuracy_retain:.4f}\")\n",
        "print(f\"Test set Forget Accuracy: {100* test_accuracy_forget:.4f}\")"
      ]
    },
    {
      "cell_type": "markdown",
      "metadata": {
        "id": "MrjHV1DxQD7_"
      },
      "source": [
        "#### Your Turn\n",
        "\n",
        "**Question**\n",
        "\n",
        "Q: *Explain the results of the Gold Model. Did you notice something strange?*\n",
        "\n",
        "A: Starting with a not trained model, result in the forget set (both training and test) to be completely misclassified, with an accuracy of 0%. Given that the model still outputs a tensor with 10 elements, each for one class, and that training was performed with just 9 classes, it learned to never output something meaningful in first position, because no samples had that label. The accuracies obtained on the *retain* dataset are good, but improvable (maybe longer training, smaller batch size, etc...), while accuracies on the whole *test* set are reasonably lower, because those data still have the label we haven't seen during the training, that will be misclassified, lowering the general accuracy."
      ]
    },
    {
      "cell_type": "markdown",
      "metadata": {
        "id": "cVmc0pRZQD7_"
      },
      "source": [
        "# Section 5: Mia attacks"
      ]
    },
    {
      "cell_type": "markdown",
      "metadata": {
        "id": "S6vKnUoLQD7_"
      },
      "source": [
        "In this section, we'll quantify the quality of the unlearning algorithm through a simple membership inference attack (MIA).\n",
        "MIAs are a type of adversarial attack aimed at determining whether a specific data point was included in the training dataset of a machine learning model. These attacks exploit the behavior of the model to make inferences about the presence or absence of certain data points.\n",
        "This MIA consists of a logistic regression model that predicts whether the model was trained on a particular sample from that sample's loss.\n",
        "\n"
      ]
    },
    {
      "cell_type": "code",
      "execution_count": null,
      "metadata": {
        "id": "GWkqIlzOQD7_"
      },
      "outputs": [],
      "source": [
        "def compute_losses(model, loader, criterion = \"CrossEntropy\"):\n",
        "\n",
        "    \"\"\"\n",
        "    Auxiliary function to compute per-sample losses\n",
        "    Args:\n",
        "    model : model to evaluate\n",
        "    loader : data loader\n",
        "    criterion : loss function. Specify \"CrossEntropy\" for cross-entropy loss or \"KL\" for KL divergence\n",
        "    \"\"\"\n",
        "\n",
        "    device = torch.device(\"cuda\" if torch.cuda.is_available() else \"cpu\")\n",
        "    all_losses = []\n",
        "\n",
        "    for inputs, targets in loader:\n",
        "        inputs, targets = inputs.to(device), targets.to(device)\n",
        "        logits = model(inputs)\n",
        "        losses = nn.CrossEntropyLoss(reduction = \"none\")(logits, targets).detach().cpu().numpy()\n",
        "\n",
        "        for l in losses:\n",
        "            all_losses.append(l)\n",
        "\n",
        "    return np.array(all_losses)\n"
      ]
    },
    {
      "cell_type": "code",
      "execution_count": null,
      "metadata": {
        "id": "yTux6iJZQD8A"
      },
      "outputs": [],
      "source": [
        "#model\n",
        "model = create_model()\n",
        "model.load_state_dict(torch.load(\"checkpoint/best_model.pth\"));\n",
        "model.eval()\n",
        "model.to(device);\n",
        "\n",
        "retain_losses = compute_losses(model, retain_loader_test)\n",
        "forget_losses = compute_losses(model, forget_loader_test)\n"
      ]
    },
    {
      "cell_type": "code",
      "execution_count": null,
      "metadata": {
        "id": "bHjtBYWMQD8A"
      },
      "outputs": [],
      "source": [
        "# forget model\n",
        "forget_model = create_model()\n",
        "forget_model.load_state_dict(torch.load(\"checkpoint/forget_model.pth\"));\n",
        "forget_model.eval()\n",
        "forget_model.to(device);\n",
        "\n",
        "retain_losses_forget = compute_losses(forget_model, retain_loader_test)\n",
        "forget_losses_forget = compute_losses(forget_model, forget_loader_test)\n"
      ]
    },
    {
      "cell_type": "code",
      "execution_count": null,
      "metadata": {
        "id": "BwSHnDLTQD8A"
      },
      "outputs": [],
      "source": [
        "# gold model\n",
        "gold_model = create_model()\n",
        "gold_model.load_state_dict(torch.load(\"checkpoint/gold_model.pth\"));\n",
        "gold_model.eval()\n",
        "gold_model.to(device);\n",
        "\n",
        "retain_losses_gold = compute_losses(gold_model, retain_loader_test)\n",
        "forget_losses_gold = compute_losses(gold_model, forget_loader_test)"
      ]
    },
    {
      "cell_type": "code",
      "execution_count": null,
      "metadata": {
        "id": "KMPqnHVGQD8A",
        "outputId": "c0d3cae8-e049-47df-a55b-fe7d68165621"
      },
      "outputs": [
        {
          "data": {
            "image/png": "[encoded data removed]",
            "text/plain": [
              "<Figure size 2000x500 with 3 Axes>"
            ]
          },
          "metadata": {},
          "output_type": "display_data"
        }
      ],
      "source": [
        "# 3 plots woth ax of histograms\n",
        "fig, axs = plt.subplots(1, 3, figsize=(20, 5))\n",
        "\n",
        "#subsample retrain losses to have the same size as the forget losses\n",
        "random_idx = np.random.choice(np.arange(len(retain_losses)), len(forget_losses), replace=False)\n",
        "retain_losses = retain_losses[random_idx]\n",
        "retain_losses_forget = retain_losses_forget[random_idx]\n",
        "retain_losses_gold = retain_losses_gold[random_idx]\n",
        "\n",
        "\n",
        "axs[0].hist(retain_losses, density = True, bins=50, alpha=0.5, label='Retain', color='blue')\n",
        "axs[0].hist(forget_losses, density = True, bins=50, alpha=0.5, label='Forget', color='red')\n",
        "axs[0].set_title('Model')\n",
        "axs[0].set_xlabel('Loss')\n",
        "axs[0].legend()\n",
        "\n",
        "axs[1].hist(retain_losses_forget, density = True, bins=50, alpha=0.5, label='Retain', color='blue')\n",
        "axs[1].hist(forget_losses_forget, density = True, bins=50, alpha=0.5, label='Forget', color='red')\n",
        "axs[1].set_title('Forget Model')\n",
        "axs[1].set_xlabel('Loss')\n",
        "axs[1].legend()\n",
        "\n",
        "axs[2].hist(retain_losses_gold, density = True, bins=50, alpha=0.5, label='Retain', color='blue')\n",
        "axs[2].hist(forget_losses_gold, density = True, bins=50, alpha=0.5, label='Forget', color='red')\n",
        "axs[2].set_title('Gold Model')\n",
        "axs[2].set_xlabel('Loss')\n",
        "axs[2].legend()\n",
        "\n",
        "plt.show()"
      ]
    },
    {
      "cell_type": "code",
      "execution_count": null,
      "metadata": {
        "id": "8W35xAsWQD8A"
      },
      "outputs": [],
      "source": [
        "def simple_mia(sample_loss, members, n_splits=10, random_state=0):\n",
        "    \"\"\"Computes cross-validation score of a membership inference attack.\n",
        "\n",
        "    Args:\n",
        "      sample_loss : array_like of shape (n,).\n",
        "        objective function evaluated on n samples.\n",
        "      members : array_like of shape (n,),\n",
        "        whether a sample was used for training.\n",
        "      n_splits: int\n",
        "        number of splits to use in the cross-validation.\n",
        "    Returns:\n",
        "      scores : array_like of size (n_splits,)\n",
        "    \"\"\"\n",
        "\n",
        "    torch.manual_seed(torch.initial_seed())\n",
        "\n",
        "    unique_members = np.unique(members)\n",
        "    if not np.all(unique_members == np.array([0, 1])):\n",
        "        raise ValueError(\"members should only have 0 and 1s\")\n",
        "\n",
        "    attack_model = linear_model.LogisticRegression(random_state=random_state)\n",
        "    cv = model_selection.StratifiedShuffleSplit(\n",
        "        n_splits=n_splits, random_state = 0\n",
        "    )\n",
        "\n",
        "    return model_selection.cross_val_score(\n",
        "        attack_model, sample_loss, members, cv=cv, scoring=\"accuracy\",\n",
        "    )"
      ]
    },
    {
      "cell_type": "code",
      "execution_count": null,
      "metadata": {
        "id": "S8VSdR0IQD8A",
        "outputId": "38af4dfe-05d9-4d22-a6b5-48abceff861f"
      },
      "outputs": [
        {
          "name": "stdout",
          "output_type": "stream",
          "text": [
            "Model MIA score: 0.5575\n"
          ]
        }
      ],
      "source": [
        "# mia on model\n",
        "retain_losses_subsample = np.random.choice(retain_losses, len(forget_losses), replace=False)\n",
        "samples_mia = np.concatenate([retain_losses_subsample, forget_losses]).reshape(-1, 1)\n",
        "#balance the number of samples\n",
        "members_mia = np.concatenate([np.zeros(len(retain_losses_subsample)), np.ones(len(forget_losses))])\n",
        "\n",
        "scores_model = simple_mia(samples_mia, members_mia)\n",
        "print(f\"Model MIA score: {scores_model.mean():.4f}\")"
      ]
    },
    {
      "cell_type": "code",
      "execution_count": null,
      "metadata": {
        "id": "cxx7aQwkQD8A",
        "outputId": "1cdfda78-1811-4f50-e89a-8e7f0b1773bd"
      },
      "outputs": [
        {
          "name": "stdout",
          "output_type": "stream",
          "text": [
            "Forget Model MIA score: 0.7800\n"
          ]
        }
      ],
      "source": [
        "#mia on forget model\n",
        "retain_losses_forget_subsample = np.random.choice(retain_losses_forget, len(forget_losses_forget), replace=False)\n",
        "samples_mia = np.concatenate([retain_losses_forget_subsample, forget_losses_forget]).reshape(-1, 1)\n",
        "members_mia = np.concatenate([np.zeros(len(retain_losses_forget_subsample)), np.ones(len(forget_losses_forget))])\n",
        "\n",
        "scores_forget = simple_mia(samples_mia, members_mia)\n",
        "print(f\"Forget Model MIA score: {scores_forget.mean():.4f}\")"
      ]
    },
    {
      "cell_type": "code",
      "execution_count": null,
      "metadata": {
        "id": "v1bqZeFYQD8B",
        "outputId": "4fad337d-e3e7-4644-82ff-acf123db6a7e"
      },
      "outputs": [
        {
          "name": "stdout",
          "output_type": "stream",
          "text": [
            "Gold Model MIA score: 0.9969\n"
          ]
        }
      ],
      "source": [
        "# mia on gold model\n",
        "retain_losses_gold_subsample = np.random.choice(retain_losses_gold, len(forget_losses_gold), replace=False)\n",
        "samples_mia = np.concatenate([retain_losses_gold_subsample, forget_losses_gold]).reshape(-1, 1)\n",
        "members_mia = np.concatenate([np.zeros(len(retain_losses_gold_subsample)), np.ones(len(forget_losses_gold))])\n",
        "\n",
        "scores_gold = simple_mia(samples_mia, members_mia)\n",
        "print(f\"Gold Model MIA score: {scores_gold.mean():.4f}\")"
      ]
    },
    {
      "cell_type": "markdown",
      "metadata": {
        "id": "2FH_nC4HQD8B"
      },
      "source": [
        "#### Your Turn ( 3 Points)\n",
        "\n",
        "**Question**\n",
        "\n",
        "Q: *For each model, analyze the loss plots and explain the results obtained from the membership inference attack (MIA).*\n",
        "\n",
        "A:  The loss plots show how the three models perform on the Retain and Forget sets. The first one (_best\\_model_) is highly balanced between the two sets: this is trivial because it has been trained to recognize both. The second one (_foget\\_model_) shows that the model performs better on the Retain set, due to the fact that it has been trained to forget the Forget set. Finally the third one (_gold\\_model_) shows *very* noticeable differences between the loss on the Retain set and the Forget set.\n",
        "\n",
        "MIA attacks leverage differences in the loss function to determine if a data point was part of the training set of a given model. As a result of this, we expect higher MIA scores on the models that have very diverse losses for Retain and Forget sets. This is exactly what happens:\n",
        "- _best\\_model_ has similar loss values for both sets, resulting in the MIA model not being able to recognize differences between them (it has an accuracy of $\\approx 0.56$ so it's basically just guessing);\n",
        "- _foget\\_model_ has higher differences between the two losses. In general, elements from the Forget set result in lower loss values than the ones in the Retain set. This is the reason why the MIA model's performance increases when attacking this model;\n",
        "- _gold\\_model_ has *very* distinct difference between the losses of the two sets. Recognizing if a data point was used in the training set is almost as simple as checking if the loss for that point is greater than $\\approx 4.5$. This is why the MIA model performs best, with an accuracy of almost $100\\%$."
      ]
    },
    {
      "cell_type": "markdown",
      "metadata": {
        "id": "ONZV3EMSQD8B"
      },
      "source": [
        "# 6. Unlearning with Kl divergence\n"
      ]
    },
    {
      "cell_type": "markdown",
      "metadata": {
        "id": "IWWEQKriQD8B"
      },
      "source": [
        "The Kullback-Leibler (KL) divergence is a measure of how one probability distribution differs from another. In this case, to induce unlearning, we want the model's predictions on the forget set to match a uniform distribution, meaning the model \"forgets\" any specific information about these classes."
      ]
    },
    {
      "cell_type": "markdown",
      "metadata": {
        "id": "zjLoBh_xQD8B"
      },
      "source": [
        "#### Your Turn (1 Point)\n",
        "\n",
        "Next, consider a simple scenario to clarify the concept: a classification problem with four classes. Here, the objective is to unlearn one class by enforcing the logits' distribution (after the softmax) to match a uniform distribution. In this case, let the target distribution for a sample coming from the forget set be $y_{gt} = [0.25, 0.25, 0.25, 0.25]$, and assume that you have achieved the predicted distribution $y_{pred} = [0.25, 0.25, 0.25, 0.25]$\n",
        "\n",
        "**Question**\n",
        "\n",
        "Q: *In this context, why is it preferable to use KL divergence instead of Cross-Entropy? Explain it and fill the code below in order to show it numerically.*\n",
        "\n",
        "A: We can think about the Cross-Entropy as a measure to compute the *cost* of using one probability distribution to approximate another one. Instead, KL divergence directly measure how much a probability distribution diverge from another one.\n",
        "\n",
        "Let's analyze the usage of Cross-Entropy in this particular case, starting from the mathematical formulation:\n",
        "\n",
        "$$ CE(y_{gt}, y_{pred}) = - \\sum_{i} y_{gt}[i] \\log y_{pred}[i] $$\n",
        "\n",
        "In our case, $y_{gt} = y_{pred}$, so it is easy to check that the Cross-Entropy correspond to the entropy of the uniform distribution ($H(y_{gt})$), where the entropy is a measure that quantifies the level of uncertainty of a particular probability distribution.\n",
        "\n",
        "We can discover this value by computing it by hand (either with $CE(y_{gt}, y_{pred})$ or $H(y_{gt})$, since they are equal). By doing so, we obtain:\n",
        "\n",
        "$$ CE(y_{gt}, y_{pred}) = −(0.25 \\times \\log(0.25) + 0.25 \\times \\log(0.25) + 0.25 \\times \\log(0.25) + 0.25 \\times \\log(0.25)) = 1.3863 $$\n",
        "\n",
        "This term express the *cost* of using $y_{pred}$ to approximate $y_{gt}$, and it includes the inherent uncertainty associated with a uniform distribution.\n",
        "\n",
        "Considering instead the formulation for the KL divergence:\n",
        "\n",
        "$$ KL(y_{gt}||y_{pred}) = \\sum_{i} y_{gt}[i] \\log \\Biggl(  \\frac{y_{gt}[i]}{y_{pred}[i]} \\Biggl) $$\n",
        "\n",
        "we can see how, when $y_{gt} = y_{pred}$, $\\log \\Bigl(  \\frac{y_{gt}[i]}{y_{pred}[i]} \\Bigl) = 0$ (because $\\log(1) = 0$), so all the summation will be zero.\n",
        "\n",
        "Given that we want to minimize the loss, it is now clear why we want to use KL instead of CE: a zero value for the loss means that we are perfectly approximating one distribution with the other."
      ]
    },
    {
      "cell_type": "code",
      "execution_count": null,
      "metadata": {
        "id": "K_g5DGCaQD8B",
        "outputId": "7d28f5da-930c-4d86-f2ab-c1bfd78988eb"
      },
      "outputs": [
        {
          "name": "stdout",
          "output_type": "stream",
          "text": [
            "Cross Entropy: 1.3863\n",
            "KL Divergence: 0.0000\n"
          ]
        }
      ],
      "source": [
        "y_gt = torch.tensor([0.25, 0.25, 0.25, 0.25])\n",
        "y_pred = torch.tensor([0.25, 0.25, 0.25, 0.25])\n",
        "\n",
        "'''\n",
        "Add your code below\n",
        "'''\n",
        "cross_entropy = - (y_gt @ torch.log(y_pred))\n",
        "kl_div = y_gt @ torch.log(y_gt / y_pred)\n",
        "\n",
        "print(f\"Cross Entropy: {cross_entropy:.4f}\")\n",
        "print(f\"KL Divergence: {kl_div:.4f}\")"
      ]
    },
    {
      "cell_type": "markdown",
      "metadata": {
        "id": "5HsiVgExQD8B"
      },
      "source": [
        "**Question**\n",
        "\n",
        "Q: *Before proceeding, you should explain the relationship between Cross-Entropy and Kullback-Leibler (KL) divergence. Provide the proof showing how to derive the relationship between the two.*\n",
        "\n",
        "A: Let's consider the generic formula for the Kullback-Leibler divergence:\n",
        "$$\n",
        "\\begin{align*}\n",
        "KL(p||q) &= \\sum_{x} p(x) \\log \\Biggl(\\frac{p(x)}{q(x)}\\Biggl) \\\\\n",
        "&= \\sum_{x} p(x) [\\log(p(x)) - \\log(q(x))] \\\\\n",
        "&= \\sum_{x} p(x) \\log (p(x)) - p(x) \\log (q(x)) \\\\\n",
        "&= \\sum_{x} p(x) \\log (p(x)) - \\sum_{x} p(x) \\log (q(x)) \\\\\n",
        "&= - H(p) - (-CE(p,q)) \\\\\n",
        "&= - H(p) + CE(p,q) \\\\\n",
        "&= CE(p,q) - H(p)\n",
        "\\end{align*}\n",
        "$$\n",
        "Or said in other words, by rearraging the terms:\n",
        "\n",
        "$$ CE(p,q) = KL(p||q) + H(p)$$\n",
        "\n",
        "where $H(p) = - \\sum_{x} p(x) \\log (p(x)) $ is the *entropy* of a probability distribution, that is, its level of uncertainty.\n",
        "\n",
        "From this we can understand that the Cross-Entropy not only takes into account the differences between two probability distributions (KL divergence), but also for the inherent uncertainty of the true probability distribution we are trying to approximate.\n",
        "\n",
        "As it was said above, when $p=q$ then $KL(p||q) = 0$, thus we will obtain $CE(p,q) = H(p)$, meaning that the Cross-Entropy will represent the entropy of the target probability distribution."
      ]
    },
    {
      "cell_type": "code",
      "execution_count": null,
      "metadata": {
        "id": "g8nLd_BxQD8B"
      },
      "outputs": [],
      "source": [
        "#fix seeds\n",
        "np.random.seed(0)\n",
        "torch.manual_seed(0)\n",
        "random.seed(0)\n",
        "torch.cuda.manual_seed(0)\n",
        "torch.cuda.manual_seed_all(0)\n",
        "torch.backends.cudnn.deterministic = True\n",
        "torch.backends.cudnn.benchmark = False"
      ]
    },
    {
      "cell_type": "code",
      "execution_count": null,
      "metadata": {
        "id": "D-Lxycd3QD8C"
      },
      "outputs": [],
      "source": [
        "def make_target (target, number_of_classes = 10):\n",
        "    '''\n",
        "    Function to modify the target class\n",
        "    '''\n",
        "    device = torch.device(\"cuda\" if torch.cuda.is_available() else \"cpu\")\n",
        "    tensor = torch.nn.functional.one_hot(target, num_classes= number_of_classes ).float().to(device)\n",
        "    # Identify rows with 1 in the first position\n",
        "    first_pos_mask = target == 0\n",
        "\n",
        "    # Substite the rows with 1 in the first position with a uniform distribution\n",
        "    n = tensor.size(1)  # Numero di colonne\n",
        "    uniform_distribution = torch.full((n,), 1.0 / n, device = device)  # Distribuzione uniforme\n",
        "    tensor[first_pos_mask] = uniform_distribution\n",
        "\n",
        "    return tensor"
      ]
    },
    {
      "cell_type": "code",
      "execution_count": null,
      "metadata": {
        "id": "m1oBEjN-QD8C"
      },
      "outputs": [],
      "source": [
        "def unlearning_2 (model, forget_loader, validation, epochs, optimizer, scheduler):\n",
        "    '''\n",
        "    Function to unlearn the forget set\n",
        "    '''\n",
        "    device = torch.device(\"cuda\" if torch.cuda.is_available() else \"cpu\")\n",
        "    epsilon = 1e-5\n",
        "    model.to(device)\n",
        "    losses = []\n",
        "    losses_val = []\n",
        "\n",
        "    for epoch in range(epochs):\n",
        "        model.train()\n",
        "        loss_epoch = 0\n",
        "        loop = tqdm(enumerate(forget_loader), total=len(forget_loader), leave=True)\n",
        "        for batch_idx, (inputs, targets) in loop:\n",
        "            inputs, targets = inputs.to(device), targets.to(device)\n",
        "            optimizer.zero_grad()\n",
        "            outputs = model(inputs)\n",
        "            outputs = outputs + epsilon\n",
        "            outputs = F.log_softmax(outputs, dim=1)\n",
        "\n",
        "            targets = make_target(targets)\n",
        "            loss = F.kl_div(outputs, targets, reduction='batchmean')\n",
        "            loss.backward()\n",
        "            optimizer.step()\n",
        "\n",
        "            #running loss\n",
        "            loss_epoch += loss.item()\n",
        "            # Update progress bar with loss and epoch information\n",
        "            loop.set_description(f\"Epoch [{epoch+1}/{epochs}]\")\n",
        "            loop.set_postfix(loss=loss.item())\n",
        "\n",
        "        #avg loss\n",
        "        avg_loss = loss_epoch / len(forget_loader )\n",
        "        losses.append(avg_loss)\n",
        "        #scheduler step\n",
        "        scheduler.step(avg_loss)\n",
        "        tqdm.write(f\"Epoch [{epoch+1}/{epochs}], Average Loss: {avg_loss:.4f}\")\n",
        "\n",
        "        # validation\n",
        "        loss_val = 0\n",
        "        model.eval()\n",
        "        with torch.no_grad():\n",
        "            for data, targets in validation:\n",
        "                data = data.to(device=device)\n",
        "                targets = targets.to(device=device)\n",
        "\n",
        "                scores = model(data)\n",
        "                scores = scores + epsilon\n",
        "                scores = F.log_softmax(scores, dim=1)\n",
        "                targets = make_target(targets)\n",
        "                loss = F.kl_div(scores, targets, reduction='batchmean')\n",
        "                loss_val += loss.item()\n",
        "            # Calculate average loss for the epoch\n",
        "            avg_val_loss = loss_val / len(validation)\n",
        "            losses_val.append(avg_val_loss)\n",
        "            print(f\"Validation Loss: {avg_val_loss:.4f}\")\n",
        "            # if avg val_loss is better than the one before, save the model\n",
        "            if epoch == 0:\n",
        "                # create directory if not exist\n",
        "                os.makedirs(\"checkpoint\", exist_ok=True)\n",
        "                best_loss = avg_val_loss\n",
        "                torch.save(model.state_dict(), \"checkpoint/another_forget_model.pth\")\n",
        "            elif avg_val_loss < best_loss:\n",
        "                best_loss = avg_val_loss\n",
        "                torch.save(model.state_dict(), \"checkpoint/another_forget_model.pth\")\n",
        "    return model, losses, losses_val"
      ]
    },
    {
      "cell_type": "code",
      "execution_count": null,
      "metadata": {
        "id": "3es6r1aJQD8C",
        "outputId": "e0e282c1-b42f-463e-8958-0dd1afddf63d"
      },
      "outputs": [
        {
          "name": "stderr",
          "output_type": "stream",
          "text": [
            "Epoch [1/10]: 100%|██████████| 10/10 [00:01<00:00,  5.51it/s, loss=1.46]\n"
          ]
        },
        {
          "name": "stdout",
          "output_type": "stream",
          "text": [
            "Epoch [1/10], Average Loss: 1.6866\n",
            "Validation Loss: 1.4896\n"
          ]
        },
        {
          "name": "stderr",
          "output_type": "stream",
          "text": [
            "Epoch [2/10]: 100%|██████████| 10/10 [00:01<00:00,  5.75it/s, loss=1.16]\n"
          ]
        },
        {
          "name": "stdout",
          "output_type": "stream",
          "text": [
            "Epoch [2/10], Average Loss: 1.2966\n",
            "Validation Loss: 1.0808\n"
          ]
        },
        {
          "name": "stderr",
          "output_type": "stream",
          "text": [
            "Epoch [3/10]: 100%|██████████| 10/10 [00:01<00:00,  5.91it/s, loss=0.93]\n"
          ]
        },
        {
          "name": "stdout",
          "output_type": "stream",
          "text": [
            "Epoch [3/10], Average Loss: 1.0473\n",
            "Validation Loss: 0.8654\n"
          ]
        },
        {
          "name": "stderr",
          "output_type": "stream",
          "text": [
            "Epoch [4/10]: 100%|██████████| 10/10 [00:02<00:00,  4.78it/s, loss=0.81]\n"
          ]
        },
        {
          "name": "stdout",
          "output_type": "stream",
          "text": [
            "Epoch [4/10], Average Loss: 0.8766\n",
            "Validation Loss: 0.7212\n"
          ]
        },
        {
          "name": "stderr",
          "output_type": "stream",
          "text": [
            "Epoch [5/10]: 100%|██████████| 10/10 [00:01<00:00,  5.06it/s, loss=0.689]\n"
          ]
        },
        {
          "name": "stdout",
          "output_type": "stream",
          "text": [
            "Epoch [5/10], Average Loss: 0.7499\n",
            "Validation Loss: 0.6159\n"
          ]
        },
        {
          "name": "stderr",
          "output_type": "stream",
          "text": [
            "Epoch [6/10]: 100%|██████████| 10/10 [00:01<00:00,  5.30it/s, loss=0.584]\n"
          ]
        },
        {
          "name": "stdout",
          "output_type": "stream",
          "text": [
            "Epoch [6/10], Average Loss: 0.6486\n",
            "Validation Loss: 0.5355\n"
          ]
        },
        {
          "name": "stderr",
          "output_type": "stream",
          "text": [
            "Epoch [7/10]: 100%|██████████| 10/10 [00:01<00:00,  6.93it/s, loss=0.524]\n"
          ]
        },
        {
          "name": "stdout",
          "output_type": "stream",
          "text": [
            "Epoch [7/10], Average Loss: 0.5728\n",
            "Validation Loss: 0.4751\n"
          ]
        },
        {
          "name": "stderr",
          "output_type": "stream",
          "text": [
            "Epoch [8/10]: 100%|██████████| 10/10 [00:01<00:00,  7.00it/s, loss=0.471]\n"
          ]
        },
        {
          "name": "stdout",
          "output_type": "stream",
          "text": [
            "Epoch [8/10], Average Loss: 0.5115\n",
            "Validation Loss: 0.4237\n"
          ]
        },
        {
          "name": "stderr",
          "output_type": "stream",
          "text": [
            "Epoch [9/10]: 100%|██████████| 10/10 [00:01<00:00,  6.37it/s, loss=0.418]\n"
          ]
        },
        {
          "name": "stdout",
          "output_type": "stream",
          "text": [
            "Epoch [9/10], Average Loss: 0.4561\n",
            "Validation Loss: 0.3784\n"
          ]
        },
        {
          "name": "stderr",
          "output_type": "stream",
          "text": [
            "Epoch [10/10]: 100%|██████████| 10/10 [00:01<00:00,  5.31it/s, loss=0.384]"
          ]
        },
        {
          "name": "stdout",
          "output_type": "stream",
          "text": [
            "Epoch [10/10], Average Loss: 0.4142\n",
            "Validation Loss: 0.3466\n"
          ]
        },
        {
          "name": "stderr",
          "output_type": "stream",
          "text": [
            "\n"
          ]
        }
      ],
      "source": [
        "another_forget_model = create_model()\n",
        "another_forget_model.load_state_dict(torch.load(\"checkpoint/best_model.pth\"));\n",
        "another_forget_model.to(device);\n",
        "\n",
        "# optimizer\n",
        "optimizer = torch.optim.Adam(another_forget_model.parameters(), lr=0.0001)\n",
        "scheduler = torch.optim.lr_scheduler.ReduceLROnPlateau(optimizer, mode='min', factor=0.1, patience=5, verbose=True)\n",
        "num_epochs = 10\n",
        "\n",
        "forget_loader = forget_loader\n",
        "val_loader = forget_loader_val\n",
        "\n",
        "another_forget_model, losses, losses_val = unlearning_2(another_forget_model, forget_loader, val_loader, num_epochs, optimizer, scheduler)"
      ]
    },
    {
      "cell_type": "code",
      "execution_count": null,
      "metadata": {
        "id": "aei_ImnlQD8C",
        "outputId": "88264187-2b54-4cfc-bb4f-76a100576c2f"
      },
      "outputs": [
        {
          "data": {
            "image/png": "[encoded data removed]",
            "text/plain": [
              "<Figure size 1500x500 with 1 Axes>"
            ]
          },
          "metadata": {},
          "output_type": "display_data"
        }
      ],
      "source": [
        "#plot losses\n",
        "#epoch of best validation loss\n",
        "index_best = losses_val.index(min(losses_val))\n",
        "\n",
        "plt.figure(figsize=(15, 5))\n",
        "plt.plot(losses, label=\"Train Loss\")\n",
        "plt.plot(losses_val, label=\"Val Loss\")\n",
        "plt.axvline(index_best, color='r', linestyle='--', label=\"Best Val Loss\")\n",
        "plt.legend()\n",
        "plt.title(\"Loss vs Epochs\")\n",
        "plt.xlabel(\"Epochs\")\n",
        "plt.ylabel(\"Loss\")\n",
        "plt.grid()\n",
        "plt.show()"
      ]
    },
    {
      "cell_type": "code",
      "execution_count": null,
      "metadata": {
        "id": "rMxVYCsCQD8C"
      },
      "outputs": [],
      "source": [
        "# calculate accuracy\n",
        "another_forget_model = create_model()\n",
        "another_forget_model.load_state_dict(torch.load(\"checkpoint/another_forget_model.pth\"))\n",
        "another_forget_model.eval()\n",
        "another_forget_model.to(device)\n",
        "\n",
        "\n",
        "# Calculate the accuracy on the test set\n",
        "retain_accuracy = accuracy(another_forget_model, retain_loader)\n",
        "forget_accuracy = accuracy(another_forget_model, forget_loader)\n",
        "test_accuracy = accuracy(another_forget_model, test_loader)\n",
        "retain_test_accuracy = accuracy(another_forget_model, retain_loader_test)\n",
        "forget_test_accuracy = accuracy(another_forget_model, forget_loader_test)"
      ]
    },
    {
      "cell_type": "code",
      "execution_count": null,
      "metadata": {
        "id": "SJsrzQ6zQD8C",
        "outputId": "695ef393-fcc4-4409-e334-aa2e2a312155"
      },
      "outputs": [
        {
          "name": "stdout",
          "output_type": "stream",
          "text": [
            "Retain Accuracy: 64.1667\n",
            "Forget Accuracy: 15.8200\n",
            "Test Accuracy: 56.5125\n",
            "Test Retain Accuracy: 61.1944\n",
            "Test Forget Accuracy: 14.3750\n"
          ]
        }
      ],
      "source": [
        "# print accuracies on retain, forget and test set\n",
        "print(f\"Retain Accuracy: {100* retain_accuracy:.4f}\")\n",
        "print(f\"Forget Accuracy: {100* forget_accuracy:.4f}\")\n",
        "print(f\"Test Accuracy: {100* test_accuracy:.4f}\")\n",
        "print(f\"Test Retain Accuracy: {100* retain_test_accuracy:.4f}\")\n",
        "print(f\"Test Forget Accuracy: {100* forget_test_accuracy:.4f}\")"
      ]
    },
    {
      "cell_type": "code",
      "execution_count": null,
      "metadata": {
        "id": "ZbRNo0l0QD8D"
      },
      "outputs": [],
      "source": [
        "# calculate losses of the model on forget and retain test set\n",
        "retain_losses_CE = compute_losses(another_forget_model, retain_loader_test)\n",
        "forget_losses_CE = compute_losses(another_forget_model, forget_loader_test)"
      ]
    },
    {
      "cell_type": "code",
      "execution_count": null,
      "metadata": {
        "id": "_47-n3AMQD8D",
        "outputId": "8ee11110-c3d5-4d29-c8c3-eaa6b8ea60eb"
      },
      "outputs": [
        {
          "data": {
            "image/png": "[encoded data removed]",
            "text/plain": [
              "<Figure size 640x480 with 1 Axes>"
            ]
          },
          "metadata": {},
          "output_type": "display_data"
        }
      ],
      "source": [
        "plt.hist(retain_losses_CE, density = True, bins=50, alpha=0.5, label='Retain', color='blue')\n",
        "plt.hist(forget_losses_CE, density = True, bins=50, alpha=0.5, label='Forget', color='red')\n",
        "plt.title('Another Forget Model')\n",
        "plt.xlabel('Loss')\n",
        "plt.legend()\n",
        "plt.show()"
      ]
    },
    {
      "cell_type": "code",
      "execution_count": null,
      "metadata": {
        "id": "6FQWUAspQD8D",
        "outputId": "23b6c450-7f42-4903-d376-a39ae5fee00f"
      },
      "outputs": [
        {
          "name": "stdout",
          "output_type": "stream",
          "text": [
            "Another Forget Model MIA score with Cross Entropy losses: 0.7687\n"
          ]
        }
      ],
      "source": [
        "# mia attack on cross entropy\n",
        "np.random.seed(0)\n",
        "subsample_retain_losses_CE = np.random.choice(retain_losses_CE, len(forget_losses), replace=False)\n",
        "samples_mia = np.concatenate([subsample_retain_losses_CE, forget_losses_CE]).reshape(-1, 1)\n",
        "members_mia = np.concatenate([np.zeros(len(subsample_retain_losses_CE)), np.ones(len(forget_losses))])\n",
        "\n",
        "scores_another_forget = simple_mia(samples_mia, members_mia)\n",
        "print(f\"Another Forget Model MIA score with Cross Entropy losses: {scores_another_forget.mean():.4f}\")"
      ]
    },
    {
      "cell_type": "markdown",
      "metadata": {
        "id": "2I7_mkQPQD8D"
      },
      "source": [
        "This is another way of performing unlearning, you may have noticed that the distributions of the retain and forget sets are different but still there is an overlapping portion. It is very likely that the MIA attack will fail in that specific region."
      ]
    },
    {
      "cell_type": "markdown",
      "metadata": {
        "id": "8LqvBWEKQD8D"
      },
      "source": [
        "# GMN for unlearning (6 Points)\n",
        "\n",
        "Now, we will attempt to use the GMN you have implemented in the theory notebook for the unlearning task. Keep in mind that this is a novel and challenging task, and it is quite possible that the results may not meet your expectations. However, this is the nature of research. Therefore, the evaluation will focus on the clarity of your approach and your ability to justify your choices and results, rather then the result itself."
      ]
    },
    {
      "cell_type": "markdown",
      "metadata": {
        "id": "lRfTI5a_QD8D"
      },
      "source": [
        "First of all, go into the ```Practice/gmn/graph_models.py``` file and replace the empty classes with what you have implemented in the second part of the theory notebook. Then, try to think about and implement an unlearning algorithm that leverages the graph metanetwork, and evaluate the unlearned model with MIA attacks and accuracy scores. It would be super cool to have a neural network (the GMN) that can take as input other pretrained neural networks and produce as output the same networks but unlearned over a specific subset of data samples.\n",
        "\n",
        "In the end, generate a detailed report where you describe your idea, methodology and implementation. Put the most of your effort in explaining us the ideas and the intuitions that you had, since this is what we will reward. Don't be worried if results are poor, there can be many causes of this and it's not your task to solve all of them."
      ]
    },
    {
      "cell_type": "code",
      "execution_count": null,
      "metadata": {
        "id": "TUW2shjXQD8D",
        "outputId": "cd33a162-7a9e-4688-8191-75df0e5263fc"
      },
      "outputs": [
        {
          "name": "stdout",
          "output_type": "stream",
          "text": [
            "DataBatch(x=[216, 3], edge_index=[2, 59050], edge_attr=[59050, 6], u=[1, 8], batch=[216], ptr=[2])\n"
          ]
        },
        {
          "name": "stderr",
          "output_type": "stream",
          "text": [
            "C:\\Users\\stefa\\AppData\\Local\\Temp\\ipykernel_2704\\954954823.py:9: FutureWarning: You are using `torch.load` with `weights_only=False` (the current default value), which uses the default pickle module implicitly. It is possible to construct malicious pickle data which will execute arbitrary code during unpickling (See https://github.com/pytorch/pytorch/blob/main/SECURITY.md#untrusted-models for more details). In a future release, the default value for `weights_only` will be flipped to `True`. This limits the functions that could be executed during unpickling. Arbitrary objects will no longer be allowed to be loaded via this mode unless they are explicitly allowlisted by the user via `torch.serialization.add_safe_globals`. We recommend you start setting `weights_only=True` for any use case where you don't have full control of the loaded file. Please open an issue on GitHub for any issues related to this experimental feature.\n",
            "  weights = torch.load(\"checkpoint/best_model.pth\")\n"
          ]
        }
      ],
      "source": [
        "from gmn.graph_models import *\n",
        "from torch_geometric.data import Data, Batch\n",
        "from gmn.graph_construct.model_arch_graph import sequential_to_arch, arch_to_graph, graph_to_arch, arch_to_sequential\n",
        "from gmn.feature_extractor_gmn import NodeEdgeFeatEncoder\n",
        "from gmn.graph_models import MPNN\n",
        "\n",
        "torch.manual_seed(0)\n",
        "\n",
        "weights = torch.load(\"checkpoint/best_model.pth\")\n",
        "model = create_model()\n",
        "model.load_state_dict(weights)\n",
        "arch = sequential_to_arch(model)\n",
        "x, edge_index, edge_attr = arch_to_graph(arch)\n",
        "x = x.float()\n",
        "edge_attr = edge_attr.float()\n",
        "\n",
        "# currently u is a vector of zeros, and it is basically useless. You can consider filling it with what you prefer and leverage it for the task of unlearning\n",
        "g_cnn = Data(x=x, edge_index=edge_index, edge_attr=edge_attr, u = torch.zeros(1, 8))\n",
        "\n",
        "graph_batch = Batch.from_data_list([g_cnn])\n",
        "print(graph_batch)"
      ]
    },
    {
      "cell_type": "code",
      "execution_count": null,
      "metadata": {
        "id": "SaSM6Z4fQD8E",
        "outputId": "ad246dbe-10cb-4728-c82e-5e2420431169"
      },
      "outputs": [
        {
          "data": {
            "text/plain": [
              "GraphMetaNetwork(\n",
              "  (encoder): NodeEdgeFeatEncoder(\n",
              "    (node_layer_encoder): Sequential(\n",
              "      (0): Linear(in_features=1, out_features=64, bias=True)\n",
              "      (1): Sin()\n",
              "    )\n",
              "    (neuron_num_encoder): Sequential(\n",
              "      (0): Linear(in_features=1, out_features=64, bias=True)\n",
              "      (1): Sin()\n",
              "    )\n",
              "    (node_type_encoder): Embedding(17, 64)\n",
              "    (x_proj): Linear(in_features=192, out_features=64, bias=True)\n",
              "    (weight_encoder): Sequential(\n",
              "      (0): Linear(in_features=1, out_features=64, bias=True)\n",
              "      (1): Sin()\n",
              "    )\n",
              "    (edge_layer_encoder): Sequential(\n",
              "      (0): Linear(in_features=1, out_features=64, bias=True)\n",
              "      (1): Sin()\n",
              "    )\n",
              "    (conv_pos_encoder): Sequential(\n",
              "      (0): Linear(in_features=3, out_features=64, bias=True)\n",
              "      (1): Sin()\n",
              "    )\n",
              "    (edge_type_encoder): Embedding(14, 64)\n",
              "    (edge_attr_proj): Linear(in_features=256, out_features=64, bias=True)\n",
              "  )\n",
              "  (mpnn): MPNN(\n",
              "    (convs): ModuleList(\n",
              "      (0): MetaLayer(\n",
              "        edge_model=EdgeModel(\n",
              "        (edge_mlp): Sequential(\n",
              "          (0): Linear(in_features=200, out_features=32, bias=True)\n",
              "          (1): ReLU()\n",
              "        )\n",
              "      ),\n",
              "        node_model=NodeModel(\n",
              "        (node_mlp_1): Sequential(\n",
              "          (0): Linear(in_features=168, out_features=32, bias=True)\n",
              "          (1): ReLU()\n",
              "        )\n",
              "        (node_mlp_2): Sequential(\n",
              "          (0): Linear(in_features=104, out_features=32, bias=True)\n",
              "          (1): ReLU()\n",
              "        )\n",
              "      ),\n",
              "        global_model=GlobalModel(\n",
              "        (global_mlp): Sequential(\n",
              "          (0): Linear(in_features=72, out_features=32, bias=True)\n",
              "          (1): ReLU()\n",
              "        )\n",
              "      )\n",
              "      )\n",
              "      (1-2): 2 x MetaLayer(\n",
              "        edge_model=EdgeModel(\n",
              "        (edge_mlp): Sequential(\n",
              "          (0): Linear(in_features=128, out_features=32, bias=True)\n",
              "          (1): ReLU()\n",
              "        )\n",
              "      ),\n",
              "        node_model=NodeModel(\n",
              "        (node_mlp_1): Sequential(\n",
              "          (0): Linear(in_features=128, out_features=32, bias=True)\n",
              "          (1): ReLU()\n",
              "        )\n",
              "        (node_mlp_2): Sequential(\n",
              "          (0): Linear(in_features=96, out_features=32, bias=True)\n",
              "          (1): ReLU()\n",
              "        )\n",
              "      ),\n",
              "        global_model=GlobalModel(\n",
              "        (global_mlp): Sequential(\n",
              "          (0): Linear(in_features=96, out_features=32, bias=True)\n",
              "          (1): ReLU()\n",
              "        )\n",
              "      )\n",
              "      )\n",
              "      (3): MetaLayer(\n",
              "        edge_model=EdgeModel(\n",
              "        (edge_mlp): Sequential(\n",
              "          (0): Linear(in_features=128, out_features=1, bias=True)\n",
              "        )\n",
              "      ),\n",
              "        node_model=NodeModel(\n",
              "        (node_mlp_1): Sequential(\n",
              "          (0): Linear(in_features=97, out_features=3, bias=True)\n",
              "        )\n",
              "        (node_mlp_2): Sequential(\n",
              "          (0): Linear(in_features=67, out_features=3, bias=True)\n",
              "        )\n",
              "      ),\n",
              "        global_model=GlobalModel(\n",
              "        (global_mlp): Sequential(\n",
              "          (0): Linear(in_features=36, out_features=8, bias=True)\n",
              "        )\n",
              "      )\n",
              "      )\n",
              "    )\n",
              "    (node_norms): ModuleList(\n",
              "      (0-2): 3 x BatchNorm1d(32, eps=1e-05, momentum=0.1, affine=True, track_running_stats=True)\n",
              "    )\n",
              "    (edge_norms): ModuleList(\n",
              "      (0-2): 3 x BatchNorm1d(32, eps=1e-05, momentum=0.1, affine=True, track_running_stats=True)\n",
              "    )\n",
              "    (global_norms): ModuleList(\n",
              "      (0-2): 3 x BatchNorm1d(32, eps=1e-05, momentum=0.1, affine=True, track_running_stats=True)\n",
              "    )\n",
              "  )\n",
              ")"
            ]
          },
          "execution_count": 19,
          "metadata": {},
          "output_type": "execute_result"
        }
      ],
      "source": [
        "class GraphMetaNetwork(nn.Module):\n",
        "    '''\n",
        "    Wrapper class for the graph metanetwork\n",
        "    '''\n",
        "    def __init__(self, encoder, mpnn):\n",
        "        super(GraphMetaNetwork, self).__init__()\n",
        "        self.encoder = encoder\n",
        "        self.mpnn = mpnn\n",
        "\n",
        "    def forward(self, data):\n",
        "        x, edge_index, edge_attr, u, batch = data.x, data.edge_index, data.edge_attr, data.u, data.batch\n",
        "        x, edge_attr = self.encoder(x, edge_attr)\n",
        "        x, edge_attr, u = self.mpnn(x, edge_index, edge_attr, u, batch)\n",
        "        return edge_attr\n",
        "\n",
        "# Define the encoder and MPNN\n",
        "pre_embedding_dim = 64\n",
        "global_in_dim = 8\n",
        "hidden_dim = 32\n",
        "node_out_dim = 3\n",
        "edge_out_dim = 1\n",
        "global_out_dim = 8\n",
        "num_gnn_layers = 4\n",
        "encoder = NodeEdgeFeatEncoder(hidden_dim=pre_embedding_dim)\n",
        "mpnn = MPNN(node_in_dim=pre_embedding_dim,\n",
        "            edge_in_dim=pre_embedding_dim,\n",
        "            global_in_dim = global_in_dim,\n",
        "            hidden_dim=hidden_dim,\n",
        "            node_out_dim= node_out_dim,\n",
        "            edge_out_dim = edge_out_dim,\n",
        "            global_out_dim= global_out_dim,\n",
        "            num_layers=num_gnn_layers,\n",
        "            reduce='mean')\n",
        "\n",
        "# Create the metanetwork\n",
        "gmn = GraphMetaNetwork(encoder, mpnn)\n",
        "gmn.to(device)"
      ]
    },
    {
      "cell_type": "markdown",
      "metadata": {
        "id": "oC9Z-opKQD8E"
      },
      "source": [
        "If you need to convert the output of the gmn back into a neural network model (i.e., an ```nn.Sequential``` object), please look into ```graph_to_arch``` and ```arch_to_sequential``` functions stored in ```Practice/gmn/graph_construct/model_arch_graph.py```."
      ]
    },
    {
      "cell_type": "markdown",
      "metadata": {
        "id": "L-lm5v1pQD8E"
      },
      "source": [
        "### Import Libraries"
      ]
    },
    {
      "cell_type": "code",
      "execution_count": 5,
      "metadata": {
        "id": "gcXjjfLqQD8E"
      },
      "outputs": [],
      "source": [
        "from numpy import load\n",
        "from torchvision import transforms\n",
        "import torch\n",
        "from torch.utils.data import Dataset, DataLoader\n",
        "import torch\n",
        "import itertools\n",
        "import torch.nn as nn\n",
        "import torch.nn.functional as F\n",
        "from torchvision import datasets, transforms\n",
        "from torch.optim.lr_scheduler import OneCycleLR\n",
        "import torch.optim as optim\n",
        "import openpyxl\n",
        "import os\n",
        "from tqdm.auto import tqdm\n",
        "import numpy as np\n",
        "import matplotlib.pyplot as plt\n",
        "import random\n",
        "\n",
        "import pandas as pd\n",
        "import math\n",
        "from gmn.graph_models import *\n",
        "from torch_geometric.data import Data, Batch\n",
        "from gmn.graph_construct.model_arch_graph import sequential_to_arch, arch_to_graph, graph_to_arch, arch_to_sequential\n",
        "from gmn.feature_extractor_gmn import NodeEdgeFeatEncoder\n",
        "from gmn.graph_models import MPNN\n",
        "from collections import defaultdict\n",
        "from torch_geometric.utils import subgraph\n",
        "\n",
        "device = \"cuda\" if torch.cuda.is_available() else \"cpu\""
      ]
    },
    {
      "cell_type": "markdown",
      "metadata": {
        "id": "IwbNtdBxQD8E"
      },
      "source": [
        "### Dataset and Dataloader"
      ]
    },
    {
      "cell_type": "markdown",
      "metadata": {
        "id": "0Dt1bRWYQD8E"
      },
      "source": [
        "The following here presented is the code used to generate the dataset. All the details are inside the report."
      ]
    },
    {
      "cell_type": "markdown",
      "metadata": {
        "id": "rttX6XycQD8E"
      },
      "source": [
        "From now, we will assume that every file here used (dataset included) was downloaded and moved in the same folder of this notebook. To download the data see in the report."
      ]
    },
    {
      "cell_type": "code",
      "execution_count": 6,
      "metadata": {
        "id": "iIp-vC11QD8F"
      },
      "outputs": [],
      "source": [
        "data_mnist = load('mnist_compressed.npz')"
      ]
    },
    {
      "cell_type": "markdown",
      "metadata": {
        "id": "-FOmQrVcQD8F"
      },
      "source": [
        "The following is a custom Dataset used to take just a subset of MNIST100"
      ]
    },
    {
      "cell_type": "code",
      "execution_count": 7,
      "metadata": {
        "id": "F8nQOgAcQD8F"
      },
      "outputs": [],
      "source": [
        "import torch\n",
        "from torch.utils.data import Dataset\n",
        "from torchvision import datasets, transforms\n",
        "\n",
        "class MNIST100Subset(Dataset):\n",
        "    def __init__(self, data, labels, to_include, transform=None):\n",
        "        self.filtered_data = []\n",
        "        self.filtered_labels = []\n",
        "        conversion = {idx: i for i, idx in enumerate(to_include)}\n",
        "        for i, label in enumerate(labels):\n",
        "            if label in to_include:\n",
        "                self.filtered_data.append(transform(data[i]))\n",
        "                self.filtered_labels.append(conversion[label])\n",
        "\n",
        "    def __len__(self):\n",
        "        return len(self.filtered_data)\n",
        "\n",
        "    def __getitem__(self, idx):\n",
        "        sample = self.filtered_data[idx]\n",
        "        label = self.filtered_labels[idx]\n",
        "\n",
        "        return sample, label"
      ]
    },
    {
      "cell_type": "markdown",
      "metadata": {
        "id": "M_lvy3gNQD8F"
      },
      "source": [
        "The following function was used to compute mean and standard deviations of datasets used to train a CNN and thus creating the weights dataset (the one to be used with th GMN)."
      ]
    },
    {
      "cell_type": "code",
      "execution_count": 8,
      "metadata": {
        "id": "54h8cTg9QD8F"
      },
      "outputs": [],
      "source": [
        "def compute_mean_std(dataset):\n",
        "\n",
        "    dataloader = DataLoader(dataset, batch_size=64, shuffle=False)\n",
        "\n",
        "    mean = 0.\n",
        "    std = 0.\n",
        "    total_images = 0\n",
        "\n",
        "    for images, _ in dataloader:\n",
        "        batch_samples = images.size(0)\n",
        "        images = images.view(batch_samples, images.size(1), -1)\n",
        "\n",
        "        mean += images.mean(2).sum(0)\n",
        "        std += images.std(2).sum(0)\n",
        "        total_images += batch_samples\n",
        "\n",
        "    mean /= total_images\n",
        "    std /= total_images\n",
        "\n",
        "    return mean, std"
      ]
    },
    {
      "cell_type": "markdown",
      "metadata": {
        "id": "nA01HlCsQD8F"
      },
      "source": [
        "The code below was used to create the dataset of weights using a very small CNN. All the details are in the report below."
      ]
    },
    {
      "cell_type": "code",
      "execution_count": 9,
      "metadata": {
        "id": "2Dg00XbTQD8F"
      },
      "outputs": [],
      "source": [
        "class TinyCNN(nn.Module):\n",
        "    def __init__(self):\n",
        "        super(TinyCNN, self).__init__()\n",
        "        self.model = nn.Sequential(\n",
        "            nn.Conv2d(1, 24, kernel_size=3),\n",
        "            nn.ReLU(),\n",
        "            nn.MaxPool2d(2),\n",
        "\n",
        "            nn.Conv2d(24, 40, kernel_size=3),\n",
        "            nn.ReLU(),\n",
        "            nn.AdaptiveAvgPool2d((1, 1)),\n",
        "            nn.Flatten(),\n",
        "            nn.Linear(40, 5),\n",
        "            nn.LogSoftmax(dim=1)\n",
        "        )\n",
        "\n",
        "    def forward(self, x):\n",
        "        return self.model(x)\n",
        "\n",
        "\n",
        "def train(train_data, train_labels, model, device, optimizer, scheduler, epochs):\n",
        "    batch_size = 256\n",
        "    model.train()\n",
        "    num_batches = (len(train_data) - 1) // batch_size + 1\n",
        "\n",
        "    for epoch in range(epochs):\n",
        "        for i in range(num_batches):\n",
        "            data = train_data[batch_size * i:batch_size * (i + 1)].to(device)\n",
        "            target = train_labels[batch_size * i:batch_size * (i + 1)].to(device)\n",
        "\n",
        "            optimizer.zero_grad()\n",
        "            output = model(data)\n",
        "            loss = F.nll_loss(output, target)\n",
        "            loss.backward()\n",
        "            optimizer.step()\n",
        "            scheduler.step()\n",
        "\n",
        "def test(test_data, test_labels, model, device):\n",
        "    batch_size = 256\n",
        "    model.eval()\n",
        "    correct = 0\n",
        "\n",
        "    with torch.no_grad():\n",
        "        num_batches = (len(test_data) - 1) // batch_size + 1\n",
        "        for i in range(num_batches):\n",
        "            data = test_data[batch_size * i:batch_size * (i + 1)].to(device)\n",
        "            target = test_labels[batch_size * i:batch_size * (i + 1)].to(device)\n",
        "            output = model(data)\n",
        "            pred = output.argmax(dim=1, keepdim=True)\n",
        "            correct += pred.eq(target.view_as(pred)).sum().item()\n",
        "\n",
        "    return 100. * correct / len(test_data)\n",
        "\n",
        "def train_test_in_memory(dataset_name, base_dir, elems):\n",
        "    device = torch.device(\"cuda\" if torch.cuda.is_available() else \"cpu\")\n",
        "\n",
        "    os.makedirs(base_dir, exist_ok=True)\n",
        "\n",
        "    save_dir = os.path.join(base_dir, \"model_weights\")\n",
        "    results_file = os.path.join(base_dir, \"results.xlsx\")\n",
        "\n",
        "    os.makedirs(save_dir, exist_ok=True)\n",
        "\n",
        "\n",
        "    data_mean, data_std = compute_mean_std(MNIST100Subset(data_mnist['train_images'], data_mnist['train_labels'], elems, transform=transforms.Compose([\n",
        "                                        transforms.ToTensor(),\n",
        "                                        transforms.Resize((28, 28)),\n",
        "                                        ])))\n",
        "\n",
        "    dataset = MNIST100Subset(data_mnist['train_images'], data_mnist['train_labels'], elems, transform=transforms.Compose([\n",
        "                                        transforms.ToTensor(),\n",
        "                                        transforms.Resize((28, 28)),\n",
        "                                        transforms.Normalize(data_mean, data_std)\n",
        "                                        ]))\n",
        "\n",
        "    test_dataset = MNIST100Subset(data_mnist['test_images'], data_mnist['test_labels'], elems, transform=transforms.Compose([\n",
        "                                        transforms.ToTensor(),\n",
        "                                        transforms.Resize((28, 28)),\n",
        "                                        transforms.Normalize(data_mean, data_std)]))\n",
        "\n",
        "    train_data = torch.stack(dataset.filtered_data).float()\n",
        "    train_labels = torch.tensor(dataset.filtered_labels)\n",
        "\n",
        "    test_data = torch.stack(test_dataset.filtered_data).float()\n",
        "    test_labels = torch.tensor(test_dataset.filtered_labels)\n",
        "\n",
        "    all_labels = list(range(5))\n",
        "    epochs = 30\n",
        "\n",
        "    for k in tqdm(range(5), desc = \"LABELS\"):\n",
        "        for labels_to_remove in tqdm(itertools.combinations(all_labels, k), desc=\"COMBINATIONS\"):\n",
        "            labels_to_remove = set(labels_to_remove)\n",
        "\n",
        "            train_mask = ~torch.tensor([label.item() in labels_to_remove for label in train_labels])\n",
        "            test_mask = ~torch.tensor([label.item() in labels_to_remove for label in test_labels])\n",
        "\n",
        "            subset_train_data = train_data[train_mask]\n",
        "            subset_train_labels = train_labels[train_mask]\n",
        "\n",
        "            subset_test_data = test_data[test_mask]\n",
        "            subset_test_labels = test_labels[test_mask]\n",
        "\n",
        "            subset_train_data, subset_train_labels = subset_train_data.to(device), subset_train_labels.to(device)\n",
        "            subset_test_data, subset_test_labels = subset_test_data.to(device), subset_test_labels.to(device)\n",
        "\n",
        "            model = TinyCNN().to(device)\n",
        "            optimizer = optim.Adam(model.parameters(), lr=1e-2)\n",
        "            scheduler = OneCycleLR(optimizer, max_lr=1e-2,\n",
        "                                   total_steps=((len(subset_train_data) - 1) // 256 + 1) * epochs,\n",
        "                                   cycle_momentum=False)\n",
        "\n",
        "            train(subset_train_data, subset_train_labels, model, device, optimizer, scheduler, epochs)\n",
        "            test_accuracy_retain = test(subset_test_data, subset_test_labels, model, device)\n",
        "            test_accuracy_all = test(test_data.to(device), test_labels.to(device), model, device)\n",
        "\n",
        "            excluded_labels_str = \"_\".join(map(str, sorted(labels_to_remove)))\n",
        "            weights_path = os.path.join(save_dir, f\"{dataset_name}_excluded_{excluded_labels_str}.pt\")\n",
        "            torch.save(model.state_dict(), weights_path)\n",
        "\n",
        "            # Record results\n",
        "            subset_key = f\"remove_{k}_labels_{sorted(labels_to_remove)}\"\n",
        "            print(f\"{dataset_name}, Subset {subset_key}, Test Accuracy Retain: {test_accuracy_retain:.2f}%, Test Accuracy All: {test_accuracy_all:.2f}%\")\n",
        "\n",
        "            result = {\n",
        "                \"Dataset\": dataset_name,\n",
        "                \"Excluded_Labels\": sorted(labels_to_remove),\n",
        "                \"Test_Accuracy_Retain\": test_accuracy_retain,\n",
        "                \"Test_Accuracy_All\": test_accuracy_all,\n",
        "                \"Weights_Path\": weights_path\n",
        "            }\n",
        "\n",
        "            try:\n",
        "                workbook = openpyxl.load_workbook(results_file)\n",
        "                sheet = workbook.active\n",
        "            except FileNotFoundError:\n",
        "                workbook = openpyxl.Workbook()\n",
        "                sheet = workbook.active\n",
        "\n",
        "                sheet.append([\"Dataset\", \"Excluded_Labels\", \"Test_Accuracy_Retain\", \"Test_Accuracy_All\", \"Weights_Path\"])\n",
        "\n",
        "            sheet.append([\n",
        "                result[\"Dataset\"],\n",
        "                ', '.join([str(label) for label in result[\"Excluded_Labels\"]]),\n",
        "                result[\"Test_Accuracy_Retain\"],\n",
        "                result[\"Test_Accuracy_All\"],\n",
        "                result[\"Weights_Path\"]\n",
        "            ])\n",
        "\n",
        "            workbook.save(results_file)\n",
        "            workbook.close()"
      ]
    },
    {
      "cell_type": "code",
      "execution_count": null,
      "metadata": {
        "id": "zN15lkd1QD8F",
        "outputId": "aed231ba-a118-46ee-90d1-2b9ee20328b6"
      },
      "outputs": [
        {
          "name": "stderr",
          "output_type": "stream",
          "text": [
            "COMBINATIONS: 1it [00:01,  1.64s/it]?, ?it/s]\n",
            "LABELS:  20%|██        | 1/5 [00:01<00:06,  1.65s/it]"
          ]
        },
        {
          "name": "stdout",
          "output_type": "stream",
          "text": [
            "98-38-51-31-67, Subset remove_0_labels_[], Test Accuracy Retain: 94.89%, Test Accuracy All: 94.89%\n"
          ]
        },
        {
          "name": "stderr",
          "output_type": "stream",
          "text": []
        },
        {
          "name": "stdout",
          "output_type": "stream",
          "text": [
            "98-38-51-31-67, Subset remove_1_labels_[0], Test Accuracy Retain: 94.71%, Test Accuracy All: 73.87%\n"
          ]
        },
        {
          "name": "stderr",
          "output_type": "stream",
          "text": []
        },
        {
          "name": "stdout",
          "output_type": "stream",
          "text": [
            "98-38-51-31-67, Subset remove_1_labels_[1], Test Accuracy Retain: 90.53%, Test Accuracy All: 73.28%\n"
          ]
        },
        {
          "name": "stderr",
          "output_type": "stream",
          "text": []
        },
        {
          "name": "stdout",
          "output_type": "stream",
          "text": [
            "98-38-51-31-67, Subset remove_1_labels_[2], Test Accuracy Retain: 95.52%, Test Accuracy All: 75.44%\n"
          ]
        },
        {
          "name": "stderr",
          "output_type": "stream",
          "text": []
        },
        {
          "name": "stdout",
          "output_type": "stream",
          "text": [
            "98-38-51-31-67, Subset remove_1_labels_[3], Test Accuracy Retain: 94.12%, Test Accuracy All: 75.44%\n"
          ]
        },
        {
          "name": "stderr",
          "output_type": "stream",
          "text": [
            "COMBINATIONS: 5it [00:03,  1.31it/s]\n",
            "LABELS:  40%|████      | 2/5 [00:05<00:08,  2.93s/it]"
          ]
        },
        {
          "name": "stdout",
          "output_type": "stream",
          "text": [
            "98-38-51-31-67, Subset remove_1_labels_[4], Test Accuracy Retain: 89.21%, Test Accuracy All: 73.08%\n"
          ]
        },
        {
          "name": "stderr",
          "output_type": "stream",
          "text": []
        },
        {
          "name": "stdout",
          "output_type": "stream",
          "text": [
            "98-38-51-31-67, Subset remove_2_labels_[0, 1], Test Accuracy Retain: 88.33%, Test Accuracy All: 52.06%\n"
          ]
        },
        {
          "name": "stderr",
          "output_type": "stream",
          "text": []
        },
        {
          "name": "stdout",
          "output_type": "stream",
          "text": [
            "98-38-51-31-67, Subset remove_2_labels_[0, 2], Test Accuracy Retain: 97.93%, Test Accuracy All: 55.80%\n"
          ]
        },
        {
          "name": "stderr",
          "output_type": "stream",
          "text": []
        },
        {
          "name": "stdout",
          "output_type": "stream",
          "text": [
            "98-38-51-31-67, Subset remove_2_labels_[0, 3], Test Accuracy Retain: 95.61%, Test Accuracy All: 55.60%\n"
          ]
        },
        {
          "name": "stderr",
          "output_type": "stream",
          "text": []
        },
        {
          "name": "stdout",
          "output_type": "stream",
          "text": [
            "98-38-51-31-67, Subset remove_2_labels_[0, 4], Test Accuracy Retain: 82.95%, Test Accuracy All: 49.71%\n"
          ]
        },
        {
          "name": "stderr",
          "output_type": "stream",
          "text": []
        },
        {
          "name": "stdout",
          "output_type": "stream",
          "text": [
            "98-38-51-31-67, Subset remove_2_labels_[1, 2], Test Accuracy Retain: 99.02%, Test Accuracy All: 59.33%\n"
          ]
        },
        {
          "name": "stderr",
          "output_type": "stream",
          "text": []
        },
        {
          "name": "stdout",
          "output_type": "stream",
          "text": [
            "98-38-51-31-67, Subset remove_2_labels_[1, 3], Test Accuracy Retain: 98.39%, Test Accuracy All: 60.12%\n"
          ]
        },
        {
          "name": "stderr",
          "output_type": "stream",
          "text": []
        },
        {
          "name": "stdout",
          "output_type": "stream",
          "text": [
            "98-38-51-31-67, Subset remove_2_labels_[1, 4], Test Accuracy Retain: 89.38%, Test Accuracy All: 56.19%\n"
          ]
        },
        {
          "name": "stderr",
          "output_type": "stream",
          "text": []
        },
        {
          "name": "stdout",
          "output_type": "stream",
          "text": [
            "98-38-51-31-67, Subset remove_2_labels_[2, 3], Test Accuracy Retain: 93.69%, Test Accuracy All: 55.40%\n"
          ]
        },
        {
          "name": "stderr",
          "output_type": "stream",
          "text": []
        },
        {
          "name": "stdout",
          "output_type": "stream",
          "text": [
            "98-38-51-31-67, Subset remove_2_labels_[2, 4], Test Accuracy Retain: 90.00%, Test Accuracy All: 54.81%\n"
          ]
        },
        {
          "name": "stderr",
          "output_type": "stream",
          "text": [
            "COMBINATIONS: 10it [00:06,  1.59it/s]\n",
            "LABELS:  60%|██████    | 3/5 [00:11<00:08,  4.46s/it]"
          ]
        },
        {
          "name": "stdout",
          "output_type": "stream",
          "text": [
            "98-38-51-31-67, Subset remove_2_labels_[3, 4], Test Accuracy Retain: 94.30%, Test Accuracy All: 58.55%\n"
          ]
        },
        {
          "name": "stderr",
          "output_type": "stream",
          "text": []
        },
        {
          "name": "stdout",
          "output_type": "stream",
          "text": [
            "98-38-51-31-67, Subset remove_3_labels_[0, 1, 2], Test Accuracy Retain: 96.89%, Test Accuracy All: 36.74%\n"
          ]
        },
        {
          "name": "stderr",
          "output_type": "stream",
          "text": []
        },
        {
          "name": "stdout",
          "output_type": "stream",
          "text": [
            "98-38-51-31-67, Subset remove_3_labels_[0, 1, 3], Test Accuracy Retain: 94.97%, Test Accuracy All: 37.13%\n"
          ]
        },
        {
          "name": "stderr",
          "output_type": "stream",
          "text": []
        },
        {
          "name": "stdout",
          "output_type": "stream",
          "text": [
            "98-38-51-31-67, Subset remove_3_labels_[0, 1, 4], Test Accuracy Retain: 89.90%, Test Accuracy All: 36.74%\n"
          ]
        },
        {
          "name": "stderr",
          "output_type": "stream",
          "text": []
        },
        {
          "name": "stdout",
          "output_type": "stream",
          "text": [
            "98-38-51-31-67, Subset remove_3_labels_[0, 2, 3], Test Accuracy Retain: 97.88%, Test Accuracy All: 36.35%\n"
          ]
        },
        {
          "name": "stderr",
          "output_type": "stream",
          "text": []
        },
        {
          "name": "stdout",
          "output_type": "stream",
          "text": [
            "98-38-51-31-67, Subset remove_3_labels_[0, 2, 4], Test Accuracy Retain: 97.47%, Test Accuracy All: 37.92%\n"
          ]
        },
        {
          "name": "stderr",
          "output_type": "stream",
          "text": []
        },
        {
          "name": "stdout",
          "output_type": "stream",
          "text": [
            "98-38-51-31-67, Subset remove_3_labels_[0, 3, 4], Test Accuracy Retain: 96.57%, Test Accuracy All: 38.70%\n"
          ]
        },
        {
          "name": "stderr",
          "output_type": "stream",
          "text": []
        },
        {
          "name": "stdout",
          "output_type": "stream",
          "text": [
            "98-38-51-31-67, Subset remove_3_labels_[1, 2, 3], Test Accuracy Retain: 98.53%, Test Accuracy All: 39.49%\n"
          ]
        },
        {
          "name": "stderr",
          "output_type": "stream",
          "text": []
        },
        {
          "name": "stdout",
          "output_type": "stream",
          "text": [
            "98-38-51-31-67, Subset remove_3_labels_[1, 2, 4], Test Accuracy Retain: 99.06%, Test Accuracy All: 41.45%\n"
          ]
        },
        {
          "name": "stderr",
          "output_type": "stream",
          "text": []
        },
        {
          "name": "stdout",
          "output_type": "stream",
          "text": [
            "98-38-51-31-67, Subset remove_3_labels_[1, 3, 4], Test Accuracy Retain: 99.54%, Test Accuracy All: 42.83%\n"
          ]
        },
        {
          "name": "stderr",
          "output_type": "stream",
          "text": [
            "COMBINATIONS: 10it [00:04,  2.20it/s]\n",
            "LABELS:  80%|████████  | 4/5 [00:16<00:04,  4.49s/it]"
          ]
        },
        {
          "name": "stdout",
          "output_type": "stream",
          "text": [
            "98-38-51-31-67, Subset remove_3_labels_[2, 3, 4], Test Accuracy Retain: 92.34%, Test Accuracy All: 37.92%\n"
          ]
        },
        {
          "name": "stderr",
          "output_type": "stream",
          "text": []
        },
        {
          "name": "stdout",
          "output_type": "stream",
          "text": [
            "98-38-51-31-67, Subset remove_4_labels_[0, 1, 2, 3], Test Accuracy Retain: 100.00%, Test Accuracy All: 18.07%\n"
          ]
        },
        {
          "name": "stderr",
          "output_type": "stream",
          "text": []
        },
        {
          "name": "stdout",
          "output_type": "stream",
          "text": [
            "98-38-51-31-67, Subset remove_4_labels_[0, 1, 2, 4], Test Accuracy Retain: 100.00%, Test Accuracy All: 19.84%\n"
          ]
        },
        {
          "name": "stderr",
          "output_type": "stream",
          "text": []
        },
        {
          "name": "stdout",
          "output_type": "stream",
          "text": [
            "98-38-51-31-67, Subset remove_4_labels_[0, 1, 3, 4], Test Accuracy Retain: 100.00%, Test Accuracy All: 21.02%\n"
          ]
        },
        {
          "name": "stderr",
          "output_type": "stream",
          "text": []
        },
        {
          "name": "stdout",
          "output_type": "stream",
          "text": [
            "98-38-51-31-67, Subset remove_4_labels_[0, 2, 3, 4], Test Accuracy Retain: 100.00%, Test Accuracy All: 19.06%\n"
          ]
        },
        {
          "name": "stderr",
          "output_type": "stream",
          "text": [
            "COMBINATIONS: 5it [00:01,  3.49it/s]\n",
            "LABELS: 100%|██████████| 5/5 [00:17<00:00,  3.55s/it]"
          ]
        },
        {
          "name": "stdout",
          "output_type": "stream",
          "text": [
            "98-38-51-31-67, Subset remove_4_labels_[1, 2, 3, 4], Test Accuracy Retain: 100.00%, Test Accuracy All: 22.00%\n"
          ]
        },
        {
          "name": "stderr",
          "output_type": "stream",
          "text": [
            "\n",
            "COMBINATIONS: 1it [00:01,  1.15s/it]?, ?it/s]\n",
            "LABELS:  20%|██        | 1/5 [00:01<00:04,  1.15s/it]"
          ]
        },
        {
          "name": "stdout",
          "output_type": "stream",
          "text": [
            "12-23-27-33-80, Subset remove_0_labels_[], Test Accuracy Retain: 93.39%, Test Accuracy All: 93.39%\n"
          ]
        },
        {
          "name": "stderr",
          "output_type": "stream",
          "text": []
        },
        {
          "name": "stdout",
          "output_type": "stream",
          "text": [
            "12-23-27-33-80, Subset remove_1_labels_[0], Test Accuracy Retain: 91.32%, Test Accuracy All: 71.60%\n"
          ]
        },
        {
          "name": "stderr",
          "output_type": "stream",
          "text": []
        },
        {
          "name": "stdout",
          "output_type": "stream",
          "text": [
            "12-23-27-33-80, Subset remove_1_labels_[1], Test Accuracy Retain: 98.04%, Test Accuracy All: 78.02%\n"
          ]
        },
        {
          "name": "stderr",
          "output_type": "stream",
          "text": []
        },
        {
          "name": "stdout",
          "output_type": "stream",
          "text": [
            "12-23-27-33-80, Subset remove_1_labels_[2], Test Accuracy Retain: 90.52%, Test Accuracy All: 70.62%\n"
          ]
        },
        {
          "name": "stderr",
          "output_type": "stream",
          "text": []
        },
        {
          "name": "stdout",
          "output_type": "stream",
          "text": [
            "12-23-27-33-80, Subset remove_1_labels_[3], Test Accuracy Retain: 92.74%, Test Accuracy All: 74.51%\n"
          ]
        },
        {
          "name": "stderr",
          "output_type": "stream",
          "text": [
            "COMBINATIONS: 5it [00:03,  1.27it/s]\n",
            "LABELS:  40%|████      | 2/5 [00:05<00:08,  2.81s/it]"
          ]
        },
        {
          "name": "stdout",
          "output_type": "stream",
          "text": [
            "12-23-27-33-80, Subset remove_1_labels_[4], Test Accuracy Retain: 91.86%, Test Accuracy All: 76.85%\n"
          ]
        },
        {
          "name": "stderr",
          "output_type": "stream",
          "text": []
        },
        {
          "name": "stdout",
          "output_type": "stream",
          "text": [
            "12-23-27-33-80, Subset remove_2_labels_[0, 1], Test Accuracy Retain: 98.66%, Test Accuracy All: 57.20%\n"
          ]
        },
        {
          "name": "stderr",
          "output_type": "stream",
          "text": []
        },
        {
          "name": "stdout",
          "output_type": "stream",
          "text": [
            "12-23-27-33-80, Subset remove_2_labels_[0, 2], Test Accuracy Retain: 88.62%, Test Accuracy All: 50.00%\n"
          ]
        },
        {
          "name": "stderr",
          "output_type": "stream",
          "text": []
        },
        {
          "name": "stdout",
          "output_type": "stream",
          "text": [
            "12-23-27-33-80, Subset remove_2_labels_[0, 3], Test Accuracy Retain: 90.73%, Test Accuracy All: 53.31%\n"
          ]
        },
        {
          "name": "stderr",
          "output_type": "stream",
          "text": []
        },
        {
          "name": "stdout",
          "output_type": "stream",
          "text": [
            "12-23-27-33-80, Subset remove_2_labels_[0, 4], Test Accuracy Retain: 83.39%, Test Accuracy All: 51.75%\n"
          ]
        },
        {
          "name": "stderr",
          "output_type": "stream",
          "text": []
        },
        {
          "name": "stdout",
          "output_type": "stream",
          "text": [
            "12-23-27-33-80, Subset remove_2_labels_[1, 2], Test Accuracy Retain: 98.65%, Test Accuracy All: 56.81%\n"
          ]
        },
        {
          "name": "stderr",
          "output_type": "stream",
          "text": []
        },
        {
          "name": "stdout",
          "output_type": "stream",
          "text": [
            "12-23-27-33-80, Subset remove_2_labels_[1, 3], Test Accuracy Retain: 96.10%, Test Accuracy All: 57.59%\n"
          ]
        },
        {
          "name": "stderr",
          "output_type": "stream",
          "text": []
        },
        {
          "name": "stdout",
          "output_type": "stream",
          "text": [
            "12-23-27-33-80, Subset remove_2_labels_[1, 4], Test Accuracy Retain: 97.23%, Test Accuracy All: 61.48%\n"
          ]
        },
        {
          "name": "stderr",
          "output_type": "stream",
          "text": []
        },
        {
          "name": "stdout",
          "output_type": "stream",
          "text": [
            "12-23-27-33-80, Subset remove_2_labels_[2, 3], Test Accuracy Retain: 97.33%, Test Accuracy All: 56.81%\n"
          ]
        },
        {
          "name": "stderr",
          "output_type": "stream",
          "text": []
        },
        {
          "name": "stdout",
          "output_type": "stream",
          "text": [
            "12-23-27-33-80, Subset remove_2_labels_[2, 4], Test Accuracy Retain: 85.49%, Test Accuracy All: 52.72%\n"
          ]
        },
        {
          "name": "stderr",
          "output_type": "stream",
          "text": [
            "COMBINATIONS: 10it [00:06,  1.62it/s]\n",
            "LABELS:  60%|██████    | 3/5 [00:11<00:08,  4.35s/it]"
          ]
        },
        {
          "name": "stdout",
          "output_type": "stream",
          "text": [
            "12-23-27-33-80, Subset remove_2_labels_[3, 4], Test Accuracy Retain: 92.40%, Test Accuracy All: 59.14%\n"
          ]
        },
        {
          "name": "stderr",
          "output_type": "stream",
          "text": []
        },
        {
          "name": "stdout",
          "output_type": "stream",
          "text": [
            "12-23-27-33-80, Subset remove_3_labels_[0, 1, 2], Test Accuracy Retain: 97.84%, Test Accuracy All: 35.21%\n"
          ]
        },
        {
          "name": "stderr",
          "output_type": "stream",
          "text": []
        },
        {
          "name": "stdout",
          "output_type": "stream",
          "text": [
            "12-23-27-33-80, Subset remove_3_labels_[0, 1, 3], Test Accuracy Retain: 98.48%, Test Accuracy All: 37.74%\n"
          ]
        },
        {
          "name": "stderr",
          "output_type": "stream",
          "text": []
        },
        {
          "name": "stdout",
          "output_type": "stream",
          "text": [
            "12-23-27-33-80, Subset remove_3_labels_[0, 1, 4], Test Accuracy Retain: 92.52%, Test Accuracy All: 38.52%\n"
          ]
        },
        {
          "name": "stderr",
          "output_type": "stream",
          "text": []
        },
        {
          "name": "stdout",
          "output_type": "stream",
          "text": [
            "12-23-27-33-80, Subset remove_3_labels_[0, 2, 3], Test Accuracy Retain: 97.88%, Test Accuracy All: 35.99%\n"
          ]
        },
        {
          "name": "stderr",
          "output_type": "stream",
          "text": []
        },
        {
          "name": "stdout",
          "output_type": "stream",
          "text": [
            "12-23-27-33-80, Subset remove_3_labels_[0, 2, 4], Test Accuracy Retain: 81.07%, Test Accuracy All: 32.49%\n"
          ]
        },
        {
          "name": "stderr",
          "output_type": "stream",
          "text": []
        },
        {
          "name": "stdout",
          "output_type": "stream",
          "text": [
            "12-23-27-33-80, Subset remove_3_labels_[0, 3, 4], Test Accuracy Retain: 87.16%, Test Accuracy All: 36.96%\n"
          ]
        },
        {
          "name": "stderr",
          "output_type": "stream",
          "text": []
        },
        {
          "name": "stdout",
          "output_type": "stream",
          "text": [
            "12-23-27-33-80, Subset remove_3_labels_[1, 2, 3], Test Accuracy Retain: 96.92%, Test Accuracy All: 36.77%\n"
          ]
        },
        {
          "name": "stderr",
          "output_type": "stream",
          "text": []
        },
        {
          "name": "stdout",
          "output_type": "stream",
          "text": [
            "12-23-27-33-80, Subset remove_3_labels_[1, 2, 4], Test Accuracy Retain: 98.11%, Test Accuracy All: 40.47%\n"
          ]
        },
        {
          "name": "stderr",
          "output_type": "stream",
          "text": []
        },
        {
          "name": "stdout",
          "output_type": "stream",
          "text": [
            "12-23-27-33-80, Subset remove_3_labels_[1, 3, 4], Test Accuracy Retain: 98.21%, Test Accuracy All: 42.80%\n"
          ]
        },
        {
          "name": "stderr",
          "output_type": "stream",
          "text": [
            "COMBINATIONS: 10it [00:04,  2.23it/s]\n",
            "LABELS:  80%|████████  | 4/5 [00:15<00:04,  4.41s/it]"
          ]
        },
        {
          "name": "stdout",
          "output_type": "stream",
          "text": [
            "12-23-27-33-80, Subset remove_3_labels_[2, 3, 4], Test Accuracy Retain: 97.69%, Test Accuracy All: 41.05%\n"
          ]
        },
        {
          "name": "stderr",
          "output_type": "stream",
          "text": []
        },
        {
          "name": "stdout",
          "output_type": "stream",
          "text": [
            "12-23-27-33-80, Subset remove_4_labels_[0, 1, 2, 3], Test Accuracy Retain: 100.00%, Test Accuracy All: 16.34%\n"
          ]
        },
        {
          "name": "stderr",
          "output_type": "stream",
          "text": []
        },
        {
          "name": "stdout",
          "output_type": "stream",
          "text": [
            "12-23-27-33-80, Subset remove_4_labels_[0, 1, 2, 4], Test Accuracy Retain: 100.00%, Test Accuracy All: 19.65%\n"
          ]
        },
        {
          "name": "stderr",
          "output_type": "stream",
          "text": []
        },
        {
          "name": "stdout",
          "output_type": "stream",
          "text": [
            "12-23-27-33-80, Subset remove_4_labels_[0, 1, 3, 4], Test Accuracy Retain: 100.00%, Test Accuracy All: 21.98%\n"
          ]
        },
        {
          "name": "stderr",
          "output_type": "stream",
          "text": []
        },
        {
          "name": "stdout",
          "output_type": "stream",
          "text": [
            "12-23-27-33-80, Subset remove_4_labels_[0, 2, 3, 4], Test Accuracy Retain: 100.00%, Test Accuracy All: 20.43%\n"
          ]
        },
        {
          "name": "stderr",
          "output_type": "stream",
          "text": [
            "COMBINATIONS: 5it [00:01,  3.64it/s]\n",
            "LABELS: 100%|██████████| 5/5 [00:17<00:00,  3.44s/it]"
          ]
        },
        {
          "name": "stdout",
          "output_type": "stream",
          "text": [
            "12-23-27-33-80, Subset remove_4_labels_[1, 2, 3, 4], Test Accuracy Retain: 100.00%, Test Accuracy All: 21.60%\n"
          ]
        },
        {
          "name": "stderr",
          "output_type": "stream",
          "text": [
            "\n",
            "COMBINATIONS: 1it [00:01,  1.05s/it]?, ?it/s]\n",
            "LABELS:  20%|██        | 1/5 [00:01<00:04,  1.05s/it]"
          ]
        },
        {
          "name": "stdout",
          "output_type": "stream",
          "text": [
            "84-78-79-43-83, Subset remove_0_labels_[], Test Accuracy Retain: 91.04%, Test Accuracy All: 91.04%\n"
          ]
        },
        {
          "name": "stderr",
          "output_type": "stream",
          "text": []
        },
        {
          "name": "stdout",
          "output_type": "stream",
          "text": [
            "84-78-79-43-83, Subset remove_1_labels_[0], Test Accuracy Retain: 89.49%, Test Accuracy All: 70.79%\n"
          ]
        },
        {
          "name": "stderr",
          "output_type": "stream",
          "text": []
        },
        {
          "name": "stdout",
          "output_type": "stream",
          "text": [
            "84-78-79-43-83, Subset remove_1_labels_[1], Test Accuracy Retain: 95.71%, Test Accuracy All: 76.12%\n"
          ]
        },
        {
          "name": "stderr",
          "output_type": "stream",
          "text": []
        },
        {
          "name": "stdout",
          "output_type": "stream",
          "text": [
            "84-78-79-43-83, Subset remove_1_labels_[2], Test Accuracy Retain: 90.14%, Test Accuracy All: 70.15%\n"
          ]
        },
        {
          "name": "stderr",
          "output_type": "stream",
          "text": []
        },
        {
          "name": "stdout",
          "output_type": "stream",
          "text": [
            "84-78-79-43-83, Subset remove_1_labels_[3], Test Accuracy Retain: 91.60%, Test Accuracy All: 74.41%\n"
          ]
        },
        {
          "name": "stderr",
          "output_type": "stream",
          "text": [
            "COMBINATIONS: 5it [00:03,  1.28it/s]\n",
            "LABELS:  40%|████      | 2/5 [00:04<00:08,  2.74s/it]"
          ]
        },
        {
          "name": "stdout",
          "output_type": "stream",
          "text": [
            "84-78-79-43-83, Subset remove_1_labels_[4], Test Accuracy Retain: 83.68%, Test Accuracy All: 68.87%\n"
          ]
        },
        {
          "name": "stderr",
          "output_type": "stream",
          "text": []
        },
        {
          "name": "stdout",
          "output_type": "stream",
          "text": [
            "84-78-79-43-83, Subset remove_2_labels_[0, 1], Test Accuracy Retain: 91.64%, Test Accuracy All: 53.73%\n"
          ]
        },
        {
          "name": "stderr",
          "output_type": "stream",
          "text": []
        },
        {
          "name": "stdout",
          "output_type": "stream",
          "text": [
            "84-78-79-43-83, Subset remove_2_labels_[0, 2], Test Accuracy Retain: 89.51%, Test Accuracy All: 50.96%\n"
          ]
        },
        {
          "name": "stderr",
          "output_type": "stream",
          "text": []
        },
        {
          "name": "stdout",
          "output_type": "stream",
          "text": [
            "84-78-79-43-83, Subset remove_2_labels_[0, 3], Test Accuracy Retain: 86.57%, Test Accuracy All: 52.24%\n"
          ]
        },
        {
          "name": "stderr",
          "output_type": "stream",
          "text": []
        },
        {
          "name": "stdout",
          "output_type": "stream",
          "text": [
            "84-78-79-43-83, Subset remove_2_labels_[0, 4], Test Accuracy Retain: 87.85%, Test Accuracy All: 53.94%\n"
          ]
        },
        {
          "name": "stderr",
          "output_type": "stream",
          "text": []
        },
        {
          "name": "stdout",
          "output_type": "stream",
          "text": [
            "84-78-79-43-83, Subset remove_2_labels_[1, 2], Test Accuracy Retain: 94.42%, Test Accuracy All: 54.16%\n"
          ]
        },
        {
          "name": "stderr",
          "output_type": "stream",
          "text": []
        },
        {
          "name": "stdout",
          "output_type": "stream",
          "text": [
            "84-78-79-43-83, Subset remove_2_labels_[1, 3], Test Accuracy Retain: 91.93%, Test Accuracy All: 55.86%\n"
          ]
        },
        {
          "name": "stderr",
          "output_type": "stream",
          "text": []
        },
        {
          "name": "stdout",
          "output_type": "stream",
          "text": [
            "84-78-79-43-83, Subset remove_2_labels_[1, 4], Test Accuracy Retain: 93.79%, Test Accuracy All: 58.00%\n"
          ]
        },
        {
          "name": "stderr",
          "output_type": "stream",
          "text": []
        },
        {
          "name": "stdout",
          "output_type": "stream",
          "text": [
            "84-78-79-43-83, Subset remove_2_labels_[2, 3], Test Accuracy Retain: 89.53%, Test Accuracy All: 52.88%\n"
          ]
        },
        {
          "name": "stderr",
          "output_type": "stream",
          "text": []
        },
        {
          "name": "stdout",
          "output_type": "stream",
          "text": [
            "84-78-79-43-83, Subset remove_2_labels_[2, 4], Test Accuracy Retain: 92.20%, Test Accuracy All: 55.44%\n"
          ]
        },
        {
          "name": "stderr",
          "output_type": "stream",
          "text": [
            "COMBINATIONS: 10it [00:05,  1.70it/s]\n",
            "LABELS:  60%|██████    | 3/5 [00:10<00:08,  4.17s/it]"
          ]
        },
        {
          "name": "stdout",
          "output_type": "stream",
          "text": [
            "84-78-79-43-83, Subset remove_2_labels_[3, 4], Test Accuracy Retain: 81.54%, Test Accuracy All: 51.81%\n"
          ]
        },
        {
          "name": "stderr",
          "output_type": "stream",
          "text": []
        },
        {
          "name": "stdout",
          "output_type": "stream",
          "text": [
            "84-78-79-43-83, Subset remove_3_labels_[0, 1, 2], Test Accuracy Retain: 88.30%, Test Accuracy All: 32.20%\n"
          ]
        },
        {
          "name": "stderr",
          "output_type": "stream",
          "text": []
        },
        {
          "name": "stdout",
          "output_type": "stream",
          "text": [
            "84-78-79-43-83, Subset remove_3_labels_[0, 1, 3], Test Accuracy Retain: 96.79%, Test Accuracy All: 38.59%\n"
          ]
        },
        {
          "name": "stderr",
          "output_type": "stream",
          "text": []
        },
        {
          "name": "stdout",
          "output_type": "stream",
          "text": [
            "84-78-79-43-83, Subset remove_3_labels_[0, 1, 4], Test Accuracy Retain: 92.71%, Test Accuracy All: 37.95%\n"
          ]
        },
        {
          "name": "stderr",
          "output_type": "stream",
          "text": []
        },
        {
          "name": "stdout",
          "output_type": "stream",
          "text": [
            "84-78-79-43-83, Subset remove_3_labels_[0, 2, 3], Test Accuracy Retain: 89.39%, Test Accuracy All: 34.12%\n"
          ]
        },
        {
          "name": "stderr",
          "output_type": "stream",
          "text": []
        },
        {
          "name": "stdout",
          "output_type": "stream",
          "text": [
            "84-78-79-43-83, Subset remove_3_labels_[0, 2, 4], Test Accuracy Retain: 91.30%, Test Accuracy All: 35.82%\n"
          ]
        },
        {
          "name": "stderr",
          "output_type": "stream",
          "text": []
        },
        {
          "name": "stdout",
          "output_type": "stream",
          "text": [
            "84-78-79-43-83, Subset remove_3_labels_[0, 3, 4], Test Accuracy Retain: 74.00%, Test Accuracy All: 31.56%\n"
          ]
        },
        {
          "name": "stderr",
          "output_type": "stream",
          "text": []
        },
        {
          "name": "stdout",
          "output_type": "stream",
          "text": [
            "84-78-79-43-83, Subset remove_3_labels_[1, 2, 3], Test Accuracy Retain: 92.82%, Test Accuracy All: 35.82%\n"
          ]
        },
        {
          "name": "stderr",
          "output_type": "stream",
          "text": []
        },
        {
          "name": "stdout",
          "output_type": "stream",
          "text": [
            "84-78-79-43-83, Subset remove_3_labels_[1, 2, 4], Test Accuracy Retain: 95.16%, Test Accuracy All: 37.74%\n"
          ]
        },
        {
          "name": "stderr",
          "output_type": "stream",
          "text": []
        },
        {
          "name": "stdout",
          "output_type": "stream",
          "text": [
            "84-78-79-43-83, Subset remove_3_labels_[1, 3, 4], Test Accuracy Retain: 93.07%, Test Accuracy All: 40.09%\n"
          ]
        },
        {
          "name": "stderr",
          "output_type": "stream",
          "text": [
            "COMBINATIONS: 10it [00:04,  2.33it/s]\n",
            "LABELS:  80%|████████  | 4/5 [00:15<00:04,  4.22s/it]"
          ]
        },
        {
          "name": "stdout",
          "output_type": "stream",
          "text": [
            "84-78-79-43-83, Subset remove_3_labels_[2, 3, 4], Test Accuracy Retain: 95.36%, Test Accuracy All: 39.45%\n"
          ]
        },
        {
          "name": "stderr",
          "output_type": "stream",
          "text": []
        },
        {
          "name": "stdout",
          "output_type": "stream",
          "text": [
            "84-78-79-43-83, Subset remove_4_labels_[0, 1, 2, 3], Test Accuracy Retain: 100.00%, Test Accuracy All: 17.70%\n"
          ]
        },
        {
          "name": "stderr",
          "output_type": "stream",
          "text": []
        },
        {
          "name": "stdout",
          "output_type": "stream",
          "text": [
            "84-78-79-43-83, Subset remove_4_labels_[0, 1, 2, 4], Test Accuracy Retain: 100.00%, Test Accuracy All: 18.76%\n"
          ]
        },
        {
          "name": "stderr",
          "output_type": "stream",
          "text": []
        },
        {
          "name": "stdout",
          "output_type": "stream",
          "text": [
            "84-78-79-43-83, Subset remove_4_labels_[0, 1, 3, 4], Test Accuracy Retain: 100.00%, Test Accuracy All: 22.17%\n"
          ]
        },
        {
          "name": "stderr",
          "output_type": "stream",
          "text": []
        },
        {
          "name": "stdout",
          "output_type": "stream",
          "text": [
            "84-78-79-43-83, Subset remove_4_labels_[0, 2, 3, 4], Test Accuracy Retain: 100.00%, Test Accuracy All: 20.47%\n"
          ]
        },
        {
          "name": "stderr",
          "output_type": "stream",
          "text": [
            "COMBINATIONS: 5it [00:01,  3.39it/s]\n",
            "LABELS: 100%|██████████| 5/5 [00:16<00:00,  3.32s/it]"
          ]
        },
        {
          "name": "stdout",
          "output_type": "stream",
          "text": [
            "84-78-79-43-83, Subset remove_4_labels_[1, 2, 3, 4], Test Accuracy Retain: 100.00%, Test Accuracy All: 20.90%\n"
          ]
        },
        {
          "name": "stderr",
          "output_type": "stream",
          "text": [
            "\n",
            "COMBINATIONS: 1it [00:01,  1.22s/it]?, ?it/s]\n",
            "LABELS:  20%|██        | 1/5 [00:01<00:04,  1.22s/it]"
          ]
        },
        {
          "name": "stdout",
          "output_type": "stream",
          "text": [
            "21-74-41-93-15, Subset remove_0_labels_[], Test Accuracy Retain: 97.77%, Test Accuracy All: 97.77%\n"
          ]
        },
        {
          "name": "stderr",
          "output_type": "stream",
          "text": []
        },
        {
          "name": "stdout",
          "output_type": "stream",
          "text": [
            "21-74-41-93-15, Subset remove_1_labels_[0], Test Accuracy Retain: 98.82%, Test Accuracy All: 78.03%\n"
          ]
        },
        {
          "name": "stderr",
          "output_type": "stream",
          "text": []
        },
        {
          "name": "stdout",
          "output_type": "stream",
          "text": [
            "21-74-41-93-15, Subset remove_1_labels_[1], Test Accuracy Retain: 97.27%, Test Accuracy All: 79.52%\n"
          ]
        },
        {
          "name": "stderr",
          "output_type": "stream",
          "text": []
        },
        {
          "name": "stdout",
          "output_type": "stream",
          "text": [
            "21-74-41-93-15, Subset remove_1_labels_[2], Test Accuracy Retain: 97.10%, Test Accuracy All: 74.86%\n"
          ]
        },
        {
          "name": "stderr",
          "output_type": "stream",
          "text": []
        },
        {
          "name": "stdout",
          "output_type": "stream",
          "text": [
            "21-74-41-93-15, Subset remove_1_labels_[3], Test Accuracy Retain: 96.77%, Test Accuracy All: 78.21%\n"
          ]
        },
        {
          "name": "stderr",
          "output_type": "stream",
          "text": [
            "COMBINATIONS: 5it [00:04,  1.16it/s]\n",
            "LABELS:  40%|████      | 2/5 [00:05<00:09,  3.05s/it]"
          ]
        },
        {
          "name": "stdout",
          "output_type": "stream",
          "text": [
            "21-74-41-93-15, Subset remove_1_labels_[4], Test Accuracy Retain: 96.34%, Test Accuracy All: 78.40%\n"
          ]
        },
        {
          "name": "stderr",
          "output_type": "stream",
          "text": []
        },
        {
          "name": "stdout",
          "output_type": "stream",
          "text": [
            "21-74-41-93-15, Subset remove_2_labels_[0, 1], Test Accuracy Retain: 95.40%, Test Accuracy All: 57.91%\n"
          ]
        },
        {
          "name": "stderr",
          "output_type": "stream",
          "text": []
        },
        {
          "name": "stdout",
          "output_type": "stream",
          "text": [
            "21-74-41-93-15, Subset remove_2_labels_[0, 2], Test Accuracy Retain: 96.68%, Test Accuracy All: 54.19%\n"
          ]
        },
        {
          "name": "stderr",
          "output_type": "stream",
          "text": []
        },
        {
          "name": "stdout",
          "output_type": "stream",
          "text": [
            "21-74-41-93-15, Subset remove_2_labels_[0, 3], Test Accuracy Retain: 97.51%, Test Accuracy All: 58.29%\n"
          ]
        },
        {
          "name": "stderr",
          "output_type": "stream",
          "text": []
        },
        {
          "name": "stdout",
          "output_type": "stream",
          "text": [
            "21-74-41-93-15, Subset remove_2_labels_[0, 4], Test Accuracy Retain: 97.53%, Test Accuracy All: 58.85%\n"
          ]
        },
        {
          "name": "stderr",
          "output_type": "stream",
          "text": []
        },
        {
          "name": "stdout",
          "output_type": "stream",
          "text": [
            "21-74-41-93-15, Subset remove_2_labels_[1, 2], Test Accuracy Retain: 97.15%, Test Accuracy All: 57.17%\n"
          ]
        },
        {
          "name": "stderr",
          "output_type": "stream",
          "text": []
        },
        {
          "name": "stdout",
          "output_type": "stream",
          "text": [
            "21-74-41-93-15, Subset remove_2_labels_[1, 3], Test Accuracy Retain: 96.13%, Test Accuracy All: 60.15%\n"
          ]
        },
        {
          "name": "stderr",
          "output_type": "stream",
          "text": []
        },
        {
          "name": "stdout",
          "output_type": "stream",
          "text": [
            "21-74-41-93-15, Subset remove_2_labels_[1, 4], Test Accuracy Retain: 95.87%, Test Accuracy All: 60.52%\n"
          ]
        },
        {
          "name": "stderr",
          "output_type": "stream",
          "text": []
        },
        {
          "name": "stdout",
          "output_type": "stream",
          "text": [
            "21-74-41-93-15, Subset remove_2_labels_[2, 3], Test Accuracy Retain: 98.39%, Test Accuracy All: 56.98%\n"
          ]
        },
        {
          "name": "stderr",
          "output_type": "stream",
          "text": []
        },
        {
          "name": "stdout",
          "output_type": "stream",
          "text": [
            "21-74-41-93-15, Subset remove_2_labels_[2, 4], Test Accuracy Retain: 96.18%, Test Accuracy All: 56.24%\n"
          ]
        },
        {
          "name": "stderr",
          "output_type": "stream",
          "text": [
            "COMBINATIONS: 10it [00:06,  1.54it/s]\n",
            "LABELS:  60%|██████    | 3/5 [00:12<00:09,  4.63s/it]"
          ]
        },
        {
          "name": "stdout",
          "output_type": "stream",
          "text": [
            "21-74-41-93-15, Subset remove_2_labels_[3, 4], Test Accuracy Retain: 96.71%, Test Accuracy All: 60.15%\n"
          ]
        },
        {
          "name": "stderr",
          "output_type": "stream",
          "text": []
        },
        {
          "name": "stdout",
          "output_type": "stream",
          "text": [
            "21-74-41-93-15, Subset remove_3_labels_[0, 1, 2], Test Accuracy Retain: 98.52%, Test Accuracy All: 37.24%\n"
          ]
        },
        {
          "name": "stderr",
          "output_type": "stream",
          "text": []
        },
        {
          "name": "stdout",
          "output_type": "stream",
          "text": [
            "21-74-41-93-15, Subset remove_3_labels_[0, 1, 3], Test Accuracy Retain: 98.65%, Test Accuracy All: 40.97%\n"
          ]
        },
        {
          "name": "stderr",
          "output_type": "stream",
          "text": []
        },
        {
          "name": "stdout",
          "output_type": "stream",
          "text": [
            "21-74-41-93-15, Subset remove_3_labels_[0, 1, 4], Test Accuracy Retain: 97.79%, Test Accuracy All: 41.15%\n"
          ]
        },
        {
          "name": "stderr",
          "output_type": "stream",
          "text": []
        },
        {
          "name": "stdout",
          "output_type": "stream",
          "text": [
            "21-74-41-93-15, Subset remove_3_labels_[0, 2, 3], Test Accuracy Retain: 92.42%, Test Accuracy All: 34.08%\n"
          ]
        },
        {
          "name": "stderr",
          "output_type": "stream",
          "text": []
        },
        {
          "name": "stdout",
          "output_type": "stream",
          "text": [
            "21-74-41-93-15, Subset remove_3_labels_[0, 2, 4], Test Accuracy Retain: 96.02%, Test Accuracy All: 35.94%\n"
          ]
        },
        {
          "name": "stderr",
          "output_type": "stream",
          "text": []
        },
        {
          "name": "stdout",
          "output_type": "stream",
          "text": [
            "21-74-41-93-15, Subset remove_3_labels_[0, 3, 4], Test Accuracy Retain: 99.10%, Test Accuracy All: 40.78%\n"
          ]
        },
        {
          "name": "stderr",
          "output_type": "stream",
          "text": []
        },
        {
          "name": "stdout",
          "output_type": "stream",
          "text": [
            "21-74-41-93-15, Subset remove_3_labels_[1, 2, 3], Test Accuracy Retain: 98.12%, Test Accuracy All: 38.92%\n"
          ]
        },
        {
          "name": "stderr",
          "output_type": "stream",
          "text": []
        },
        {
          "name": "stdout",
          "output_type": "stream",
          "text": [
            "21-74-41-93-15, Subset remove_3_labels_[1, 2, 4], Test Accuracy Retain: 99.07%, Test Accuracy All: 39.85%\n"
          ]
        },
        {
          "name": "stderr",
          "output_type": "stream",
          "text": []
        },
        {
          "name": "stdout",
          "output_type": "stream",
          "text": [
            "21-74-41-93-15, Subset remove_3_labels_[1, 3, 4], Test Accuracy Retain: 94.92%, Test Accuracy All: 41.71%\n"
          ]
        },
        {
          "name": "stderr",
          "output_type": "stream",
          "text": [
            "COMBINATIONS: 10it [00:04,  2.06it/s]\n",
            "LABELS:  80%|████████  | 4/5 [00:16<00:04,  4.72s/it]"
          ]
        },
        {
          "name": "stdout",
          "output_type": "stream",
          "text": [
            "21-74-41-93-15, Subset remove_3_labels_[2, 3, 4], Test Accuracy Retain: 99.05%, Test Accuracy All: 38.92%\n"
          ]
        },
        {
          "name": "stderr",
          "output_type": "stream",
          "text": []
        },
        {
          "name": "stdout",
          "output_type": "stream",
          "text": [
            "21-74-41-93-15, Subset remove_4_labels_[0, 1, 2, 3], Test Accuracy Retain: 100.00%, Test Accuracy All: 18.62%\n"
          ]
        },
        {
          "name": "stderr",
          "output_type": "stream",
          "text": []
        },
        {
          "name": "stdout",
          "output_type": "stream",
          "text": [
            "21-74-41-93-15, Subset remove_4_labels_[0, 1, 2, 4], Test Accuracy Retain: 100.00%, Test Accuracy All: 19.18%\n"
          ]
        },
        {
          "name": "stderr",
          "output_type": "stream",
          "text": []
        },
        {
          "name": "stdout",
          "output_type": "stream",
          "text": [
            "21-74-41-93-15, Subset remove_4_labels_[0, 1, 3, 4], Test Accuracy Retain: 100.00%, Test Accuracy All: 22.91%\n"
          ]
        },
        {
          "name": "stderr",
          "output_type": "stream",
          "text": []
        },
        {
          "name": "stdout",
          "output_type": "stream",
          "text": [
            "21-74-41-93-15, Subset remove_4_labels_[0, 2, 3, 4], Test Accuracy Retain: 100.00%, Test Accuracy All: 18.25%\n"
          ]
        },
        {
          "name": "stderr",
          "output_type": "stream",
          "text": [
            "COMBINATIONS: 5it [00:01,  3.24it/s]\n",
            "LABELS: 100%|██████████| 5/5 [00:18<00:00,  3.69s/it]"
          ]
        },
        {
          "name": "stdout",
          "output_type": "stream",
          "text": [
            "21-74-41-93-15, Subset remove_4_labels_[1, 2, 3, 4], Test Accuracy Retain: 100.00%, Test Accuracy All: 21.04%\n"
          ]
        },
        {
          "name": "stderr",
          "output_type": "stream",
          "text": [
            "\n",
            "COMBINATIONS: 1it [00:01,  1.13s/it]?, ?it/s]\n",
            "LABELS:  20%|██        | 1/5 [00:01<00:04,  1.13s/it]"
          ]
        },
        {
          "name": "stdout",
          "output_type": "stream",
          "text": [
            "14-4-34-60-69, Subset remove_0_labels_[], Test Accuracy Retain: 93.65%, Test Accuracy All: 93.65%\n"
          ]
        },
        {
          "name": "stderr",
          "output_type": "stream",
          "text": []
        },
        {
          "name": "stdout",
          "output_type": "stream",
          "text": [
            "14-4-34-60-69, Subset remove_1_labels_[0], Test Accuracy Retain: 94.84%, Test Accuracy All: 76.37%\n"
          ]
        },
        {
          "name": "stderr",
          "output_type": "stream",
          "text": []
        },
        {
          "name": "stdout",
          "output_type": "stream",
          "text": [
            "14-4-34-60-69, Subset remove_1_labels_[1], Test Accuracy Retain: 92.93%, Test Accuracy All: 77.68%\n"
          ]
        },
        {
          "name": "stderr",
          "output_type": "stream",
          "text": []
        },
        {
          "name": "stdout",
          "output_type": "stream",
          "text": [
            "14-4-34-60-69, Subset remove_1_labels_[2], Test Accuracy Retain: 90.48%, Test Accuracy All: 70.68%\n"
          ]
        },
        {
          "name": "stderr",
          "output_type": "stream",
          "text": []
        },
        {
          "name": "stdout",
          "output_type": "stream",
          "text": [
            "14-4-34-60-69, Subset remove_1_labels_[3], Test Accuracy Retain: 94.94%, Test Accuracy All: 73.96%\n"
          ]
        },
        {
          "name": "stderr",
          "output_type": "stream",
          "text": [
            "COMBINATIONS: 5it [00:03,  1.26it/s]\n",
            "LABELS:  40%|████      | 2/5 [00:05<00:08,  2.80s/it]"
          ]
        },
        {
          "name": "stdout",
          "output_type": "stream",
          "text": [
            "14-4-34-60-69, Subset remove_1_labels_[4], Test Accuracy Retain: 94.79%, Test Accuracy All: 75.71%\n"
          ]
        },
        {
          "name": "stderr",
          "output_type": "stream",
          "text": []
        },
        {
          "name": "stdout",
          "output_type": "stream",
          "text": [
            "14-4-34-60-69, Subset remove_2_labels_[0, 1], Test Accuracy Retain: 87.37%, Test Accuracy All: 56.02%\n"
          ]
        },
        {
          "name": "stderr",
          "output_type": "stream",
          "text": []
        },
        {
          "name": "stdout",
          "output_type": "stream",
          "text": [
            "14-4-34-60-69, Subset remove_2_labels_[0, 2], Test Accuracy Retain: 83.21%, Test Accuracy All: 48.80%\n"
          ]
        },
        {
          "name": "stderr",
          "output_type": "stream",
          "text": []
        },
        {
          "name": "stdout",
          "output_type": "stream",
          "text": [
            "14-4-34-60-69, Subset remove_2_labels_[0, 3], Test Accuracy Retain: 86.52%, Test Accuracy All: 50.55%\n"
          ]
        },
        {
          "name": "stderr",
          "output_type": "stream",
          "text": []
        },
        {
          "name": "stdout",
          "output_type": "stream",
          "text": [
            "14-4-34-60-69, Subset remove_2_labels_[0, 4], Test Accuracy Retain: 89.13%, Test Accuracy All: 53.83%\n"
          ]
        },
        {
          "name": "stderr",
          "output_type": "stream",
          "text": []
        },
        {
          "name": "stdout",
          "output_type": "stream",
          "text": [
            "14-4-34-60-69, Subset remove_2_labels_[1, 2], Test Accuracy Retain: 95.39%, Test Accuracy All: 58.86%\n"
          ]
        },
        {
          "name": "stderr",
          "output_type": "stream",
          "text": []
        },
        {
          "name": "stdout",
          "output_type": "stream",
          "text": [
            "14-4-34-60-69, Subset remove_2_labels_[1, 3], Test Accuracy Retain: 94.31%, Test Accuracy All: 57.99%\n"
          ]
        },
        {
          "name": "stderr",
          "output_type": "stream",
          "text": []
        },
        {
          "name": "stdout",
          "output_type": "stream",
          "text": [
            "14-4-34-60-69, Subset remove_2_labels_[1, 4], Test Accuracy Retain: 97.59%, Test Accuracy All: 61.93%\n"
          ]
        },
        {
          "name": "stderr",
          "output_type": "stream",
          "text": []
        },
        {
          "name": "stdout",
          "output_type": "stream",
          "text": [
            "14-4-34-60-69, Subset remove_2_labels_[2, 3], Test Accuracy Retain: 95.70%, Test Accuracy All: 53.61%\n"
          ]
        },
        {
          "name": "stderr",
          "output_type": "stream",
          "text": []
        },
        {
          "name": "stdout",
          "output_type": "stream",
          "text": [
            "14-4-34-60-69, Subset remove_2_labels_[2, 4], Test Accuracy Retain: 89.06%, Test Accuracy All: 51.64%\n"
          ]
        },
        {
          "name": "stderr",
          "output_type": "stream",
          "text": [
            "COMBINATIONS: 10it [00:06,  1.62it/s]\n",
            "LABELS:  60%|██████    | 3/5 [00:11<00:08,  4.34s/it]"
          ]
        },
        {
          "name": "stdout",
          "output_type": "stream",
          "text": [
            "14-4-34-60-69, Subset remove_2_labels_[3, 4], Test Accuracy Retain: 95.08%, Test Accuracy All: 54.92%\n"
          ]
        },
        {
          "name": "stderr",
          "output_type": "stream",
          "text": []
        },
        {
          "name": "stdout",
          "output_type": "stream",
          "text": [
            "14-4-34-60-69, Subset remove_3_labels_[0, 1, 2], Test Accuracy Retain: 88.08%, Test Accuracy All: 37.20%\n"
          ]
        },
        {
          "name": "stderr",
          "output_type": "stream",
          "text": []
        },
        {
          "name": "stdout",
          "output_type": "stream",
          "text": [
            "14-4-34-60-69, Subset remove_3_labels_[0, 1, 3], Test Accuracy Retain: 84.38%, Test Accuracy All: 35.45%\n"
          ]
        },
        {
          "name": "stderr",
          "output_type": "stream",
          "text": []
        },
        {
          "name": "stdout",
          "output_type": "stream",
          "text": [
            "14-4-34-60-69, Subset remove_3_labels_[0, 1, 4], Test Accuracy Retain: 98.01%, Test Accuracy All: 43.11%\n"
          ]
        },
        {
          "name": "stderr",
          "output_type": "stream",
          "text": []
        },
        {
          "name": "stdout",
          "output_type": "stream",
          "text": [
            "14-4-34-60-69, Subset remove_3_labels_[0, 2, 3], Test Accuracy Retain: 88.02%, Test Accuracy All: 32.17%\n"
          ]
        },
        {
          "name": "stderr",
          "output_type": "stream",
          "text": []
        },
        {
          "name": "stdout",
          "output_type": "stream",
          "text": [
            "14-4-34-60-69, Subset remove_3_labels_[0, 2, 4], Test Accuracy Retain: 82.39%, Test Accuracy All: 31.73%\n"
          ]
        },
        {
          "name": "stderr",
          "output_type": "stream",
          "text": []
        },
        {
          "name": "stdout",
          "output_type": "stream",
          "text": [
            "14-4-34-60-69, Subset remove_3_labels_[0, 3, 4], Test Accuracy Retain: 96.57%, Test Accuracy All: 36.98%\n"
          ]
        },
        {
          "name": "stderr",
          "output_type": "stream",
          "text": []
        },
        {
          "name": "stdout",
          "output_type": "stream",
          "text": [
            "14-4-34-60-69, Subset remove_3_labels_[1, 2, 3], Test Accuracy Retain: 99.45%, Test Accuracy All: 39.39%\n"
          ]
        },
        {
          "name": "stderr",
          "output_type": "stream",
          "text": []
        },
        {
          "name": "stdout",
          "output_type": "stream",
          "text": [
            "14-4-34-60-69, Subset remove_3_labels_[1, 2, 4], Test Accuracy Retain: 97.37%, Test Accuracy All: 40.48%\n"
          ]
        },
        {
          "name": "stderr",
          "output_type": "stream",
          "text": []
        },
        {
          "name": "stdout",
          "output_type": "stream",
          "text": [
            "14-4-34-60-69, Subset remove_3_labels_[1, 3, 4], Test Accuracy Retain: 96.83%, Test Accuracy All: 40.04%\n"
          ]
        },
        {
          "name": "stderr",
          "output_type": "stream",
          "text": [
            "COMBINATIONS: 10it [00:04,  2.20it/s]\n",
            "LABELS:  80%|████████  | 4/5 [00:15<00:04,  4.42s/it]"
          ]
        },
        {
          "name": "stdout",
          "output_type": "stream",
          "text": [
            "14-4-34-60-69, Subset remove_3_labels_[2, 3, 4], Test Accuracy Retain: 95.12%, Test Accuracy All: 34.14%\n"
          ]
        },
        {
          "name": "stderr",
          "output_type": "stream",
          "text": []
        },
        {
          "name": "stdout",
          "output_type": "stream",
          "text": [
            "14-4-34-60-69, Subset remove_4_labels_[0, 1, 2, 3], Test Accuracy Retain: 100.00%, Test Accuracy All: 20.13%\n"
          ]
        },
        {
          "name": "stderr",
          "output_type": "stream",
          "text": []
        },
        {
          "name": "stdout",
          "output_type": "stream",
          "text": [
            "14-4-34-60-69, Subset remove_4_labels_[0, 1, 2, 4], Test Accuracy Retain: 100.00%, Test Accuracy All: 22.10%\n"
          ]
        },
        {
          "name": "stderr",
          "output_type": "stream",
          "text": []
        },
        {
          "name": "stdout",
          "output_type": "stream",
          "text": [
            "14-4-34-60-69, Subset remove_4_labels_[0, 1, 3, 4], Test Accuracy Retain: 100.00%, Test Accuracy All: 21.88%\n"
          ]
        },
        {
          "name": "stderr",
          "output_type": "stream",
          "text": []
        },
        {
          "name": "stdout",
          "output_type": "stream",
          "text": [
            "14-4-34-60-69, Subset remove_4_labels_[0, 2, 3, 4], Test Accuracy Retain: 100.00%, Test Accuracy All: 16.41%\n"
          ]
        },
        {
          "name": "stderr",
          "output_type": "stream",
          "text": [
            "COMBINATIONS: 5it [00:01,  3.29it/s]\n",
            "LABELS: 100%|██████████| 5/5 [00:17<00:00,  3.47s/it]"
          ]
        },
        {
          "name": "stdout",
          "output_type": "stream",
          "text": [
            "14-4-34-60-69, Subset remove_4_labels_[1, 2, 3, 4], Test Accuracy Retain: 100.00%, Test Accuracy All: 19.47%\n"
          ]
        },
        {
          "name": "stderr",
          "output_type": "stream",
          "text": [
            "\n",
            "COMBINATIONS: 1it [00:01,  1.07s/it]?, ?it/s]\n",
            "LABELS:  20%|██        | 1/5 [00:01<00:04,  1.08s/it]"
          ]
        },
        {
          "name": "stdout",
          "output_type": "stream",
          "text": [
            "75-11-54-52-56, Subset remove_0_labels_[], Test Accuracy Retain: 92.40%, Test Accuracy All: 92.40%\n"
          ]
        },
        {
          "name": "stderr",
          "output_type": "stream",
          "text": []
        },
        {
          "name": "stdout",
          "output_type": "stream",
          "text": [
            "75-11-54-52-56, Subset remove_1_labels_[0], Test Accuracy Retain: 88.08%, Test Accuracy All: 69.82%\n"
          ]
        },
        {
          "name": "stderr",
          "output_type": "stream",
          "text": []
        },
        {
          "name": "stdout",
          "output_type": "stream",
          "text": [
            "75-11-54-52-56, Subset remove_1_labels_[1], Test Accuracy Retain: 85.35%, Test Accuracy All: 62.22%\n"
          ]
        },
        {
          "name": "stderr",
          "output_type": "stream",
          "text": []
        },
        {
          "name": "stdout",
          "output_type": "stream",
          "text": [
            "75-11-54-52-56, Subset remove_1_labels_[2], Test Accuracy Retain: 95.01%, Test Accuracy All: 78.23%\n"
          ]
        },
        {
          "name": "stderr",
          "output_type": "stream",
          "text": []
        },
        {
          "name": "stdout",
          "output_type": "stream",
          "text": [
            "75-11-54-52-56, Subset remove_1_labels_[3], Test Accuracy Retain: 93.20%, Test Accuracy All: 75.98%\n"
          ]
        },
        {
          "name": "stderr",
          "output_type": "stream",
          "text": [
            "COMBINATIONS: 5it [00:03,  1.28it/s]\n",
            "LABELS:  40%|████      | 2/5 [00:04<00:08,  2.74s/it]"
          ]
        },
        {
          "name": "stdout",
          "output_type": "stream",
          "text": [
            "75-11-54-52-56, Subset remove_1_labels_[4], Test Accuracy Retain: 95.11%, Test Accuracy All: 79.88%\n"
          ]
        },
        {
          "name": "stderr",
          "output_type": "stream",
          "text": []
        },
        {
          "name": "stdout",
          "output_type": "stream",
          "text": [
            "75-11-54-52-56, Subset remove_2_labels_[0, 1], Test Accuracy Retain: 72.05%, Test Accuracy All: 37.58%\n"
          ]
        },
        {
          "name": "stderr",
          "output_type": "stream",
          "text": []
        },
        {
          "name": "stdout",
          "output_type": "stream",
          "text": [
            "75-11-54-52-56, Subset remove_2_labels_[0, 2], Test Accuracy Retain: 91.67%, Test Accuracy All: 56.47%\n"
          ]
        },
        {
          "name": "stderr",
          "output_type": "stream",
          "text": []
        },
        {
          "name": "stdout",
          "output_type": "stream",
          "text": [
            "75-11-54-52-56, Subset remove_2_labels_[0, 3], Test Accuracy Retain: 92.57%, Test Accuracy All: 56.26%\n"
          ]
        },
        {
          "name": "stderr",
          "output_type": "stream",
          "text": []
        },
        {
          "name": "stdout",
          "output_type": "stream",
          "text": [
            "75-11-54-52-56, Subset remove_2_labels_[0, 4], Test Accuracy Retain: 89.94%, Test Accuracy All: 56.88%\n"
          ]
        },
        {
          "name": "stderr",
          "output_type": "stream",
          "text": []
        },
        {
          "name": "stdout",
          "output_type": "stream",
          "text": [
            "75-11-54-52-56, Subset remove_2_labels_[1, 2], Test Accuracy Retain: 86.99%, Test Accuracy All: 48.05%\n"
          ]
        },
        {
          "name": "stderr",
          "output_type": "stream",
          "text": []
        },
        {
          "name": "stdout",
          "output_type": "stream",
          "text": [
            "75-11-54-52-56, Subset remove_2_labels_[1, 3], Test Accuracy Retain: 80.00%, Test Accuracy All: 43.53%\n"
          ]
        },
        {
          "name": "stderr",
          "output_type": "stream",
          "text": []
        },
        {
          "name": "stdout",
          "output_type": "stream",
          "text": [
            "75-11-54-52-56, Subset remove_2_labels_[1, 4], Test Accuracy Retain: 81.95%, Test Accuracy All: 46.61%\n"
          ]
        },
        {
          "name": "stderr",
          "output_type": "stream",
          "text": []
        },
        {
          "name": "stdout",
          "output_type": "stream",
          "text": [
            "75-11-54-52-56, Subset remove_2_labels_[2, 3], Test Accuracy Retain: 99.36%, Test Accuracy All: 63.45%\n"
          ]
        },
        {
          "name": "stderr",
          "output_type": "stream",
          "text": []
        },
        {
          "name": "stdout",
          "output_type": "stream",
          "text": [
            "75-11-54-52-56, Subset remove_2_labels_[2, 4], Test Accuracy Retain: 97.21%, Test Accuracy All: 64.48%\n"
          ]
        },
        {
          "name": "stderr",
          "output_type": "stream",
          "text": [
            "COMBINATIONS: 10it [00:06,  1.60it/s]\n",
            "LABELS:  60%|██████    | 3/5 [00:11<00:08,  4.34s/it]"
          ]
        },
        {
          "name": "stdout",
          "output_type": "stream",
          "text": [
            "75-11-54-52-56, Subset remove_2_labels_[3, 4], Test Accuracy Retain: 97.18%, Test Accuracy All: 63.66%\n"
          ]
        },
        {
          "name": "stderr",
          "output_type": "stream",
          "text": []
        },
        {
          "name": "stdout",
          "output_type": "stream",
          "text": [
            "75-11-54-52-56, Subset remove_3_labels_[0, 1, 2], Test Accuracy Retain: 77.98%, Test Accuracy All: 26.90%\n"
          ]
        },
        {
          "name": "stderr",
          "output_type": "stream",
          "text": []
        },
        {
          "name": "stdout",
          "output_type": "stream",
          "text": [
            "75-11-54-52-56, Subset remove_3_labels_[0, 1, 3], Test Accuracy Retain: 85.37%, Test Accuracy All: 28.75%\n"
          ]
        },
        {
          "name": "stderr",
          "output_type": "stream",
          "text": []
        },
        {
          "name": "stdout",
          "output_type": "stream",
          "text": [
            "75-11-54-52-56, Subset remove_3_labels_[0, 1, 4], Test Accuracy Retain: 85.23%, Test Accuracy All: 30.80%\n"
          ]
        },
        {
          "name": "stderr",
          "output_type": "stream",
          "text": []
        },
        {
          "name": "stdout",
          "output_type": "stream",
          "text": [
            "75-11-54-52-56, Subset remove_3_labels_[0, 2, 3], Test Accuracy Retain: 100.00%, Test Accuracy All: 43.12%\n"
          ]
        },
        {
          "name": "stderr",
          "output_type": "stream",
          "text": []
        },
        {
          "name": "stdout",
          "output_type": "stream",
          "text": [
            "75-11-54-52-56, Subset remove_3_labels_[0, 2, 4], Test Accuracy Retain: 100.00%, Test Accuracy All: 45.59%\n"
          ]
        },
        {
          "name": "stderr",
          "output_type": "stream",
          "text": []
        },
        {
          "name": "stdout",
          "output_type": "stream",
          "text": [
            "75-11-54-52-56, Subset remove_3_labels_[0, 3, 4], Test Accuracy Retain: 100.00%, Test Accuracy All: 44.76%\n"
          ]
        },
        {
          "name": "stderr",
          "output_type": "stream",
          "text": []
        },
        {
          "name": "stdout",
          "output_type": "stream",
          "text": [
            "75-11-54-52-56, Subset remove_3_labels_[1, 2, 3], Test Accuracy Retain: 94.41%, Test Accuracy All: 34.70%\n"
          ]
        },
        {
          "name": "stderr",
          "output_type": "stream",
          "text": []
        },
        {
          "name": "stdout",
          "output_type": "stream",
          "text": [
            "75-11-54-52-56, Subset remove_3_labels_[1, 2, 4], Test Accuracy Retain: 89.01%, Test Accuracy All: 34.91%\n"
          ]
        },
        {
          "name": "stderr",
          "output_type": "stream",
          "text": []
        },
        {
          "name": "stdout",
          "output_type": "stream",
          "text": [
            "75-11-54-52-56, Subset remove_3_labels_[1, 3, 4], Test Accuracy Retain: 87.70%, Test Accuracy All: 33.68%\n"
          ]
        },
        {
          "name": "stderr",
          "output_type": "stream",
          "text": [
            "COMBINATIONS: 10it [00:04,  2.15it/s]\n",
            "LABELS:  80%|████████  | 4/5 [00:15<00:04,  4.46s/it]"
          ]
        },
        {
          "name": "stdout",
          "output_type": "stream",
          "text": [
            "75-11-54-52-56, Subset remove_3_labels_[2, 3, 4], Test Accuracy Retain: 99.57%, Test Accuracy All: 47.64%\n"
          ]
        },
        {
          "name": "stderr",
          "output_type": "stream",
          "text": []
        },
        {
          "name": "stdout",
          "output_type": "stream",
          "text": [
            "75-11-54-52-56, Subset remove_4_labels_[0, 1, 2, 3], Test Accuracy Retain: 100.00%, Test Accuracy All: 16.02%\n"
          ]
        },
        {
          "name": "stderr",
          "output_type": "stream",
          "text": []
        },
        {
          "name": "stdout",
          "output_type": "stream",
          "text": [
            "75-11-54-52-56, Subset remove_4_labels_[0, 1, 2, 4], Test Accuracy Retain: 100.00%, Test Accuracy All: 18.48%\n"
          ]
        },
        {
          "name": "stderr",
          "output_type": "stream",
          "text": []
        },
        {
          "name": "stdout",
          "output_type": "stream",
          "text": [
            "75-11-54-52-56, Subset remove_4_labels_[0, 1, 3, 4], Test Accuracy Retain: 100.00%, Test Accuracy All: 17.66%\n"
          ]
        },
        {
          "name": "stderr",
          "output_type": "stream",
          "text": []
        },
        {
          "name": "stdout",
          "output_type": "stream",
          "text": [
            "75-11-54-52-56, Subset remove_4_labels_[0, 2, 3, 4], Test Accuracy Retain: 100.00%, Test Accuracy All: 27.10%\n"
          ]
        },
        {
          "name": "stderr",
          "output_type": "stream",
          "text": [
            "COMBINATIONS: 5it [00:01,  3.42it/s]\n",
            "LABELS: 100%|██████████| 5/5 [00:17<00:00,  3.47s/it]"
          ]
        },
        {
          "name": "stdout",
          "output_type": "stream",
          "text": [
            "75-11-54-52-56, Subset remove_4_labels_[1, 2, 3, 4], Test Accuracy Retain: 100.00%, Test Accuracy All: 20.74%\n"
          ]
        },
        {
          "name": "stderr",
          "output_type": "stream",
          "text": [
            "\n",
            "COMBINATIONS: 1it [00:01,  1.11s/it]?, ?it/s]\n",
            "LABELS:  20%|██        | 1/5 [00:01<00:04,  1.11s/it]"
          ]
        },
        {
          "name": "stdout",
          "output_type": "stream",
          "text": [
            "47-64-82-65-71, Subset remove_0_labels_[], Test Accuracy Retain: 95.41%, Test Accuracy All: 95.41%\n"
          ]
        },
        {
          "name": "stderr",
          "output_type": "stream",
          "text": []
        },
        {
          "name": "stdout",
          "output_type": "stream",
          "text": [
            "47-64-82-65-71, Subset remove_1_labels_[0], Test Accuracy Retain: 93.98%, Test Accuracy All: 77.84%\n"
          ]
        },
        {
          "name": "stderr",
          "output_type": "stream",
          "text": []
        },
        {
          "name": "stdout",
          "output_type": "stream",
          "text": [
            "47-64-82-65-71, Subset remove_1_labels_[1], Test Accuracy Retain: 90.33%, Test Accuracy All: 70.86%\n"
          ]
        },
        {
          "name": "stderr",
          "output_type": "stream",
          "text": []
        },
        {
          "name": "stdout",
          "output_type": "stream",
          "text": [
            "47-64-82-65-71, Subset remove_1_labels_[2], Test Accuracy Retain: 93.65%, Test Accuracy All: 73.65%\n"
          ]
        },
        {
          "name": "stderr",
          "output_type": "stream",
          "text": []
        },
        {
          "name": "stdout",
          "output_type": "stream",
          "text": [
            "47-64-82-65-71, Subset remove_1_labels_[3], Test Accuracy Retain: 95.68%, Test Accuracy All: 79.64%\n"
          ]
        },
        {
          "name": "stderr",
          "output_type": "stream",
          "text": [
            "COMBINATIONS: 5it [00:04,  1.20it/s]\n",
            "LABELS:  40%|████      | 2/5 [00:05<00:08,  2.92s/it]"
          ]
        },
        {
          "name": "stdout",
          "output_type": "stream",
          "text": [
            "47-64-82-65-71, Subset remove_1_labels_[4], Test Accuracy Retain: 91.95%, Test Accuracy All: 70.66%\n"
          ]
        },
        {
          "name": "stderr",
          "output_type": "stream",
          "text": []
        },
        {
          "name": "stdout",
          "output_type": "stream",
          "text": [
            "47-64-82-65-71, Subset remove_2_labels_[0, 1], Test Accuracy Retain: 91.21%, Test Accuracy All: 55.89%\n"
          ]
        },
        {
          "name": "stderr",
          "output_type": "stream",
          "text": []
        },
        {
          "name": "stdout",
          "output_type": "stream",
          "text": [
            "47-64-82-65-71, Subset remove_2_labels_[0, 2], Test Accuracy Retain: 95.13%, Test Accuracy All: 58.48%\n"
          ]
        },
        {
          "name": "stderr",
          "output_type": "stream",
          "text": []
        },
        {
          "name": "stdout",
          "output_type": "stream",
          "text": [
            "47-64-82-65-71, Subset remove_2_labels_[0, 3], Test Accuracy Retain: 97.28%, Test Accuracy All: 64.27%\n"
          ]
        },
        {
          "name": "stderr",
          "output_type": "stream",
          "text": []
        },
        {
          "name": "stdout",
          "output_type": "stream",
          "text": [
            "47-64-82-65-71, Subset remove_2_labels_[0, 4], Test Accuracy Retain: 86.62%, Test Accuracy All: 51.70%\n"
          ]
        },
        {
          "name": "stderr",
          "output_type": "stream",
          "text": []
        },
        {
          "name": "stdout",
          "output_type": "stream",
          "text": [
            "47-64-82-65-71, Subset remove_2_labels_[1, 2], Test Accuracy Retain: 95.10%, Test Accuracy All: 54.29%\n"
          ]
        },
        {
          "name": "stderr",
          "output_type": "stream",
          "text": []
        },
        {
          "name": "stdout",
          "output_type": "stream",
          "text": [
            "47-64-82-65-71, Subset remove_2_labels_[1, 3], Test Accuracy Retain: 96.44%, Test Accuracy All: 59.48%\n"
          ]
        },
        {
          "name": "stderr",
          "output_type": "stream",
          "text": []
        },
        {
          "name": "stdout",
          "output_type": "stream",
          "text": [
            "47-64-82-65-71, Subset remove_2_labels_[1, 4], Test Accuracy Retain: 84.12%, Test Accuracy All: 46.51%\n"
          ]
        },
        {
          "name": "stderr",
          "output_type": "stream",
          "text": []
        },
        {
          "name": "stdout",
          "output_type": "stream",
          "text": [
            "47-64-82-65-71, Subset remove_2_labels_[2, 3], Test Accuracy Retain: 97.10%, Test Accuracy All: 60.08%\n"
          ]
        },
        {
          "name": "stderr",
          "output_type": "stream",
          "text": []
        },
        {
          "name": "stdout",
          "output_type": "stream",
          "text": [
            "47-64-82-65-71, Subset remove_2_labels_[2, 4], Test Accuracy Retain: 92.81%, Test Accuracy All: 51.50%\n"
          ]
        },
        {
          "name": "stderr",
          "output_type": "stream",
          "text": [
            "COMBINATIONS: 10it [00:06,  1.60it/s]\n",
            "LABELS:  60%|██████    | 3/5 [00:11<00:08,  4.43s/it]"
          ]
        },
        {
          "name": "stdout",
          "output_type": "stream",
          "text": [
            "47-64-82-65-71, Subset remove_2_labels_[3, 4], Test Accuracy Retain: 96.68%, Test Accuracy All: 58.08%\n"
          ]
        },
        {
          "name": "stderr",
          "output_type": "stream",
          "text": []
        },
        {
          "name": "stdout",
          "output_type": "stream",
          "text": [
            "47-64-82-65-71, Subset remove_3_labels_[0, 1, 2], Test Accuracy Retain: 99.50%, Test Accuracy All: 39.72%\n"
          ]
        },
        {
          "name": "stderr",
          "output_type": "stream",
          "text": []
        },
        {
          "name": "stdout",
          "output_type": "stream",
          "text": [
            "47-64-82-65-71, Subset remove_3_labels_[0, 1, 3], Test Accuracy Retain: 99.55%, Test Accuracy All: 44.31%\n"
          ]
        },
        {
          "name": "stderr",
          "output_type": "stream",
          "text": []
        },
        {
          "name": "stdout",
          "output_type": "stream",
          "text": [
            "47-64-82-65-71, Subset remove_3_labels_[0, 1, 4], Test Accuracy Retain: 79.06%, Test Accuracy All: 30.14%\n"
          ]
        },
        {
          "name": "stderr",
          "output_type": "stream",
          "text": []
        },
        {
          "name": "stdout",
          "output_type": "stream",
          "text": [
            "47-64-82-65-71, Subset remove_3_labels_[0, 2, 3], Test Accuracy Retain: 99.11%, Test Accuracy All: 44.31%\n"
          ]
        },
        {
          "name": "stderr",
          "output_type": "stream",
          "text": []
        },
        {
          "name": "stdout",
          "output_type": "stream",
          "text": [
            "47-64-82-65-71, Subset remove_3_labels_[0, 2, 4], Test Accuracy Retain: 92.19%, Test Accuracy All: 35.33%\n"
          ]
        },
        {
          "name": "stderr",
          "output_type": "stream",
          "text": []
        },
        {
          "name": "stdout",
          "output_type": "stream",
          "text": [
            "47-64-82-65-71, Subset remove_3_labels_[0, 3, 4], Test Accuracy Retain: 92.09%, Test Accuracy All: 39.52%\n"
          ]
        },
        {
          "name": "stderr",
          "output_type": "stream",
          "text": []
        },
        {
          "name": "stdout",
          "output_type": "stream",
          "text": [
            "47-64-82-65-71, Subset remove_3_labels_[1, 2, 3], Test Accuracy Retain: 95.05%, Test Accuracy All: 38.32%\n"
          ]
        },
        {
          "name": "stderr",
          "output_type": "stream",
          "text": []
        },
        {
          "name": "stdout",
          "output_type": "stream",
          "text": [
            "47-64-82-65-71, Subset remove_3_labels_[1, 2, 4], Test Accuracy Retain: 97.65%, Test Accuracy All: 33.13%\n"
          ]
        },
        {
          "name": "stderr",
          "output_type": "stream",
          "text": []
        },
        {
          "name": "stdout",
          "output_type": "stream",
          "text": [
            "47-64-82-65-71, Subset remove_3_labels_[1, 3, 4], Test Accuracy Retain: 90.67%, Test Accuracy All: 34.93%\n"
          ]
        },
        {
          "name": "stderr",
          "output_type": "stream",
          "text": [
            "COMBINATIONS: 10it [00:04,  2.20it/s]\n",
            "LABELS:  80%|████████  | 4/5 [00:16<00:04,  4.48s/it]"
          ]
        },
        {
          "name": "stdout",
          "output_type": "stream",
          "text": [
            "47-64-82-65-71, Subset remove_3_labels_[2, 3, 4], Test Accuracy Retain: 88.14%, Test Accuracy All: 34.13%\n"
          ]
        },
        {
          "name": "stderr",
          "output_type": "stream",
          "text": []
        },
        {
          "name": "stdout",
          "output_type": "stream",
          "text": [
            "47-64-82-65-71, Subset remove_4_labels_[0, 1, 2, 3], Test Accuracy Retain: 100.00%, Test Accuracy All: 23.15%\n"
          ]
        },
        {
          "name": "stderr",
          "output_type": "stream",
          "text": []
        },
        {
          "name": "stdout",
          "output_type": "stream",
          "text": [
            "47-64-82-65-71, Subset remove_4_labels_[0, 1, 2, 4], Test Accuracy Retain: 100.00%, Test Accuracy All: 16.77%\n"
          ]
        },
        {
          "name": "stderr",
          "output_type": "stream",
          "text": []
        },
        {
          "name": "stdout",
          "output_type": "stream",
          "text": [
            "47-64-82-65-71, Subset remove_4_labels_[0, 1, 3, 4], Test Accuracy Retain: 100.00%, Test Accuracy All: 21.36%\n"
          ]
        },
        {
          "name": "stderr",
          "output_type": "stream",
          "text": []
        },
        {
          "name": "stdout",
          "output_type": "stream",
          "text": [
            "47-64-82-65-71, Subset remove_4_labels_[0, 2, 3, 4], Test Accuracy Retain: 100.00%, Test Accuracy All: 21.56%\n"
          ]
        },
        {
          "name": "stderr",
          "output_type": "stream",
          "text": [
            "COMBINATIONS: 5it [00:01,  3.17it/s]\n",
            "LABELS: 100%|██████████| 5/5 [00:17<00:00,  3.53s/it]"
          ]
        },
        {
          "name": "stdout",
          "output_type": "stream",
          "text": [
            "47-64-82-65-71, Subset remove_4_labels_[1, 2, 3, 4], Test Accuracy Retain: 100.00%, Test Accuracy All: 17.17%\n"
          ]
        },
        {
          "name": "stderr",
          "output_type": "stream",
          "text": [
            "\n",
            "COMBINATIONS: 1it [00:01,  1.17s/it]?, ?it/s]\n",
            "LABELS:  20%|██        | 1/5 [00:01<00:04,  1.18s/it]"
          ]
        },
        {
          "name": "stdout",
          "output_type": "stream",
          "text": [
            "20-17-92-81-95, Subset remove_0_labels_[], Test Accuracy Retain: 93.81%, Test Accuracy All: 93.81%\n"
          ]
        },
        {
          "name": "stderr",
          "output_type": "stream",
          "text": []
        },
        {
          "name": "stdout",
          "output_type": "stream",
          "text": [
            "20-17-92-81-95, Subset remove_1_labels_[0], Test Accuracy Retain: 92.20%, Test Accuracy All: 73.11%\n"
          ]
        },
        {
          "name": "stderr",
          "output_type": "stream",
          "text": []
        },
        {
          "name": "stdout",
          "output_type": "stream",
          "text": [
            "20-17-92-81-95, Subset remove_1_labels_[1], Test Accuracy Retain: 92.58%, Test Accuracy All: 70.02%\n"
          ]
        },
        {
          "name": "stderr",
          "output_type": "stream",
          "text": []
        },
        {
          "name": "stdout",
          "output_type": "stream",
          "text": [
            "20-17-92-81-95, Subset remove_1_labels_[2], Test Accuracy Retain: 96.94%, Test Accuracy All: 79.69%\n"
          ]
        },
        {
          "name": "stderr",
          "output_type": "stream",
          "text": []
        },
        {
          "name": "stdout",
          "output_type": "stream",
          "text": [
            "20-17-92-81-95, Subset remove_1_labels_[3], Test Accuracy Retain: 88.80%, Test Accuracy All: 67.50%\n"
          ]
        },
        {
          "name": "stderr",
          "output_type": "stream",
          "text": [
            "COMBINATIONS: 5it [00:04,  1.18it/s]\n",
            "LABELS:  40%|████      | 2/5 [00:05<00:08,  2.97s/it]"
          ]
        },
        {
          "name": "stdout",
          "output_type": "stream",
          "text": [
            "20-17-92-81-95, Subset remove_1_labels_[4], Test Accuracy Retain: 96.88%, Test Accuracy All: 84.14%\n"
          ]
        },
        {
          "name": "stderr",
          "output_type": "stream",
          "text": []
        },
        {
          "name": "stdout",
          "output_type": "stream",
          "text": [
            "20-17-92-81-95, Subset remove_2_labels_[0, 1], Test Accuracy Retain: 91.90%, Test Accuracy All: 50.48%\n"
          ]
        },
        {
          "name": "stderr",
          "output_type": "stream",
          "text": []
        },
        {
          "name": "stdout",
          "output_type": "stream",
          "text": [
            "20-17-92-81-95, Subset remove_2_labels_[0, 2], Test Accuracy Retain: 97.48%, Test Accuracy All: 59.96%\n"
          ]
        },
        {
          "name": "stderr",
          "output_type": "stream",
          "text": []
        },
        {
          "name": "stdout",
          "output_type": "stream",
          "text": [
            "20-17-92-81-95, Subset remove_2_labels_[0, 3], Test Accuracy Retain: 90.56%, Test Accuracy All: 50.10%\n"
          ]
        },
        {
          "name": "stderr",
          "output_type": "stream",
          "text": []
        },
        {
          "name": "stdout",
          "output_type": "stream",
          "text": [
            "20-17-92-81-95, Subset remove_2_labels_[0, 4], Test Accuracy Retain: 96.78%, Test Accuracy All: 64.02%\n"
          ]
        },
        {
          "name": "stderr",
          "output_type": "stream",
          "text": []
        },
        {
          "name": "stdout",
          "output_type": "stream",
          "text": [
            "20-17-92-81-95, Subset remove_2_labels_[1, 2], Test Accuracy Retain: 96.99%, Test Accuracy All: 56.09%\n"
          ]
        },
        {
          "name": "stderr",
          "output_type": "stream",
          "text": []
        },
        {
          "name": "stdout",
          "output_type": "stream",
          "text": [
            "20-17-92-81-95, Subset remove_2_labels_[1, 3], Test Accuracy Retain: 80.52%, Test Accuracy All: 41.59%\n"
          ]
        },
        {
          "name": "stderr",
          "output_type": "stream",
          "text": []
        },
        {
          "name": "stdout",
          "output_type": "stream",
          "text": [
            "20-17-92-81-95, Subset remove_2_labels_[1, 4], Test Accuracy Retain: 95.05%, Test Accuracy All: 59.38%\n"
          ]
        },
        {
          "name": "stderr",
          "output_type": "stream",
          "text": []
        },
        {
          "name": "stdout",
          "output_type": "stream",
          "text": [
            "20-17-92-81-95, Subset remove_2_labels_[2, 3], Test Accuracy Retain: 92.69%, Test Accuracy All: 53.97%\n"
          ]
        },
        {
          "name": "stderr",
          "output_type": "stream",
          "text": []
        },
        {
          "name": "stdout",
          "output_type": "stream",
          "text": [
            "20-17-92-81-95, Subset remove_2_labels_[2, 4], Test Accuracy Retain: 98.04%, Test Accuracy All: 67.70%\n"
          ]
        },
        {
          "name": "stderr",
          "output_type": "stream",
          "text": [
            "COMBINATIONS: 10it [00:06,  1.53it/s]\n",
            "LABELS:  60%|██████    | 3/5 [00:11<00:09,  4.60s/it]"
          ]
        },
        {
          "name": "stdout",
          "output_type": "stream",
          "text": [
            "20-17-92-81-95, Subset remove_2_labels_[3, 4], Test Accuracy Retain: 90.46%, Test Accuracy All: 56.87%\n"
          ]
        },
        {
          "name": "stderr",
          "output_type": "stream",
          "text": []
        },
        {
          "name": "stdout",
          "output_type": "stream",
          "text": [
            "20-17-92-81-95, Subset remove_3_labels_[0, 1, 2], Test Accuracy Retain: 98.44%, Test Accuracy All: 36.56%\n"
          ]
        },
        {
          "name": "stderr",
          "output_type": "stream",
          "text": []
        },
        {
          "name": "stdout",
          "output_type": "stream",
          "text": [
            "20-17-92-81-95, Subset remove_3_labels_[0, 1, 3], Test Accuracy Retain: 84.38%, Test Accuracy All: 26.11%\n"
          ]
        },
        {
          "name": "stderr",
          "output_type": "stream",
          "text": []
        },
        {
          "name": "stdout",
          "output_type": "stream",
          "text": [
            "20-17-92-81-95, Subset remove_3_labels_[0, 1, 4], Test Accuracy Retain: 99.07%, Test Accuracy All: 41.39%\n"
          ]
        },
        {
          "name": "stderr",
          "output_type": "stream",
          "text": []
        },
        {
          "name": "stdout",
          "output_type": "stream",
          "text": [
            "20-17-92-81-95, Subset remove_3_labels_[0, 2, 3], Test Accuracy Retain: 98.45%, Test Accuracy All: 36.94%\n"
          ]
        },
        {
          "name": "stderr",
          "output_type": "stream",
          "text": []
        },
        {
          "name": "stdout",
          "output_type": "stream",
          "text": [
            "20-17-92-81-95, Subset remove_3_labels_[0, 2, 4], Test Accuracy Retain: 97.60%, Test Accuracy All: 47.20%\n"
          ]
        },
        {
          "name": "stderr",
          "output_type": "stream",
          "text": []
        },
        {
          "name": "stdout",
          "output_type": "stream",
          "text": [
            "20-17-92-81-95, Subset remove_3_labels_[0, 3, 4], Test Accuracy Retain: 98.62%, Test Accuracy All: 41.59%\n"
          ]
        },
        {
          "name": "stderr",
          "output_type": "stream",
          "text": []
        },
        {
          "name": "stdout",
          "output_type": "stream",
          "text": [
            "20-17-92-81-95, Subset remove_3_labels_[1, 2, 3], Test Accuracy Retain: 98.86%, Test Accuracy All: 33.46%\n"
          ]
        },
        {
          "name": "stderr",
          "output_type": "stream",
          "text": []
        },
        {
          "name": "stdout",
          "output_type": "stream",
          "text": [
            "20-17-92-81-95, Subset remove_3_labels_[1, 2, 4], Test Accuracy Retain: 100.00%, Test Accuracy All: 44.68%\n"
          ]
        },
        {
          "name": "stderr",
          "output_type": "stream",
          "text": []
        },
        {
          "name": "stdout",
          "output_type": "stream",
          "text": [
            "20-17-92-81-95, Subset remove_3_labels_[1, 3, 4], Test Accuracy Retain: 85.93%, Test Accuracy All: 33.08%\n"
          ]
        },
        {
          "name": "stderr",
          "output_type": "stream",
          "text": [
            "COMBINATIONS: 10it [00:04,  2.10it/s]\n",
            "LABELS:  80%|████████  | 4/5 [00:16<00:04,  4.67s/it]"
          ]
        },
        {
          "name": "stdout",
          "output_type": "stream",
          "text": [
            "20-17-92-81-95, Subset remove_3_labels_[2, 3, 4], Test Accuracy Retain: 99.57%, Test Accuracy All: 44.87%\n"
          ]
        },
        {
          "name": "stderr",
          "output_type": "stream",
          "text": []
        },
        {
          "name": "stdout",
          "output_type": "stream",
          "text": [
            "20-17-92-81-95, Subset remove_4_labels_[0, 1, 2, 3], Test Accuracy Retain: 100.00%, Test Accuracy All: 13.15%\n"
          ]
        },
        {
          "name": "stderr",
          "output_type": "stream",
          "text": []
        },
        {
          "name": "stdout",
          "output_type": "stream",
          "text": [
            "20-17-92-81-95, Subset remove_4_labels_[0, 1, 2, 4], Test Accuracy Retain: 100.00%, Test Accuracy All: 23.98%\n"
          ]
        },
        {
          "name": "stderr",
          "output_type": "stream",
          "text": []
        },
        {
          "name": "stdout",
          "output_type": "stream",
          "text": [
            "20-17-92-81-95, Subset remove_4_labels_[0, 1, 3, 4], Test Accuracy Retain: 100.00%, Test Accuracy All: 17.79%\n"
          ]
        },
        {
          "name": "stderr",
          "output_type": "stream",
          "text": []
        },
        {
          "name": "stdout",
          "output_type": "stream",
          "text": [
            "20-17-92-81-95, Subset remove_4_labels_[0, 2, 3, 4], Test Accuracy Retain: 100.00%, Test Accuracy All: 24.37%\n"
          ]
        },
        {
          "name": "stderr",
          "output_type": "stream",
          "text": [
            "COMBINATIONS: 5it [00:01,  2.96it/s]\n",
            "LABELS: 100%|██████████| 5/5 [00:18<00:00,  3.68s/it]"
          ]
        },
        {
          "name": "stdout",
          "output_type": "stream",
          "text": [
            "20-17-92-81-95, Subset remove_4_labels_[1, 2, 3, 4], Test Accuracy Retain: 100.00%, Test Accuracy All: 20.70%\n"
          ]
        },
        {
          "name": "stderr",
          "output_type": "stream",
          "text": [
            "\n",
            "COMBINATIONS: 1it [00:01,  1.28s/it]?, ?it/s]\n",
            "LABELS:  20%|██        | 1/5 [00:01<00:05,  1.29s/it]"
          ]
        },
        {
          "name": "stdout",
          "output_type": "stream",
          "text": [
            "39-22-1-91-68, Subset remove_0_labels_[], Test Accuracy Retain: 97.62%, Test Accuracy All: 97.62%\n"
          ]
        },
        {
          "name": "stderr",
          "output_type": "stream",
          "text": []
        },
        {
          "name": "stdout",
          "output_type": "stream",
          "text": [
            "39-22-1-91-68, Subset remove_1_labels_[0], Test Accuracy Retain: 96.00%, Test Accuracy All: 79.12%\n"
          ]
        },
        {
          "name": "stderr",
          "output_type": "stream",
          "text": []
        },
        {
          "name": "stdout",
          "output_type": "stream",
          "text": [
            "39-22-1-91-68, Subset remove_1_labels_[1], Test Accuracy Retain: 96.59%, Test Accuracy All: 72.53%\n"
          ]
        },
        {
          "name": "stderr",
          "output_type": "stream",
          "text": []
        },
        {
          "name": "stdout",
          "output_type": "stream",
          "text": [
            "39-22-1-91-68, Subset remove_1_labels_[2], Test Accuracy Retain: 98.17%, Test Accuracy All: 78.75%\n",
            "39-22-1-91-68, Subset remove_1_labels_[3], Test Accuracy Retain: 97.91%, Test Accuracy All: 77.11%\n"
          ]
        },
        {
          "name": "stderr",
          "output_type": "stream",
          "text": [
            "COMBINATIONS: 5it [00:04,  1.15it/s]\n",
            "LABELS:  40%|████      | 2/5 [00:05<00:09,  3.08s/it]"
          ]
        },
        {
          "name": "stdout",
          "output_type": "stream",
          "text": [
            "39-22-1-91-68, Subset remove_1_labels_[4], Test Accuracy Retain: 96.93%, Test Accuracy All: 80.95%\n"
          ]
        },
        {
          "name": "stderr",
          "output_type": "stream",
          "text": []
        },
        {
          "name": "stdout",
          "output_type": "stream",
          "text": [
            "39-22-1-91-68, Subset remove_2_labels_[0, 1], Test Accuracy Retain: 95.54%, Test Accuracy All: 54.95%\n"
          ]
        },
        {
          "name": "stderr",
          "output_type": "stream",
          "text": []
        },
        {
          "name": "stdout",
          "output_type": "stream",
          "text": [
            "39-22-1-91-68, Subset remove_2_labels_[0, 2], Test Accuracy Retain: 96.49%, Test Accuracy All: 60.44%\n"
          ]
        },
        {
          "name": "stderr",
          "output_type": "stream",
          "text": []
        },
        {
          "name": "stdout",
          "output_type": "stream",
          "text": [
            "39-22-1-91-68, Subset remove_2_labels_[0, 3], Test Accuracy Retain: 98.50%, Test Accuracy All: 60.26%\n"
          ]
        },
        {
          "name": "stderr",
          "output_type": "stream",
          "text": []
        },
        {
          "name": "stdout",
          "output_type": "stream",
          "text": [
            "39-22-1-91-68, Subset remove_2_labels_[0, 4], Test Accuracy Retain: 96.67%, Test Accuracy All: 63.74%\n"
          ]
        },
        {
          "name": "stderr",
          "output_type": "stream",
          "text": []
        },
        {
          "name": "stdout",
          "output_type": "stream",
          "text": [
            "39-22-1-91-68, Subset remove_2_labels_[1, 2], Test Accuracy Retain: 98.34%, Test Accuracy All: 54.40%\n"
          ]
        },
        {
          "name": "stderr",
          "output_type": "stream",
          "text": []
        },
        {
          "name": "stdout",
          "output_type": "stream",
          "text": [
            "39-22-1-91-68, Subset remove_2_labels_[1, 3], Test Accuracy Retain: 97.28%, Test Accuracy All: 52.38%\n"
          ]
        },
        {
          "name": "stderr",
          "output_type": "stream",
          "text": []
        },
        {
          "name": "stdout",
          "output_type": "stream",
          "text": [
            "39-22-1-91-68, Subset remove_2_labels_[1, 4], Test Accuracy Retain: 95.00%, Test Accuracy All: 55.68%\n"
          ]
        },
        {
          "name": "stderr",
          "output_type": "stream",
          "text": []
        },
        {
          "name": "stdout",
          "output_type": "stream",
          "text": [
            "39-22-1-91-68, Subset remove_2_labels_[2, 3], Test Accuracy Retain: 96.27%, Test Accuracy All: 56.78%\n"
          ]
        },
        {
          "name": "stderr",
          "output_type": "stream",
          "text": []
        },
        {
          "name": "stdout",
          "output_type": "stream",
          "text": [
            "39-22-1-91-68, Subset remove_2_labels_[2, 4], Test Accuracy Retain: 98.85%, Test Accuracy All: 63.00%\n"
          ]
        },
        {
          "name": "stderr",
          "output_type": "stream",
          "text": [
            "COMBINATIONS: 10it [00:06,  1.52it/s]\n",
            "LABELS:  60%|██████    | 3/5 [00:12<00:09,  4.67s/it]"
          ]
        },
        {
          "name": "stdout",
          "output_type": "stream",
          "text": [
            "39-22-1-91-68, Subset remove_2_labels_[3, 4], Test Accuracy Retain: 99.12%, Test Accuracy All: 61.72%\n"
          ]
        },
        {
          "name": "stderr",
          "output_type": "stream",
          "text": []
        },
        {
          "name": "stdout",
          "output_type": "stream",
          "text": [
            "39-22-1-91-68, Subset remove_3_labels_[0, 1, 2], Test Accuracy Retain: 99.51%, Test Accuracy All: 37.55%\n"
          ]
        },
        {
          "name": "stderr",
          "output_type": "stream",
          "text": []
        },
        {
          "name": "stdout",
          "output_type": "stream",
          "text": [
            "39-22-1-91-68, Subset remove_3_labels_[0, 1, 3], Test Accuracy Retain: 98.48%, Test Accuracy All: 35.71%\n"
          ]
        },
        {
          "name": "stderr",
          "output_type": "stream",
          "text": []
        },
        {
          "name": "stdout",
          "output_type": "stream",
          "text": [
            "39-22-1-91-68, Subset remove_3_labels_[0, 1, 4], Test Accuracy Retain: 94.64%, Test Accuracy All: 38.83%\n"
          ]
        },
        {
          "name": "stderr",
          "output_type": "stream",
          "text": []
        },
        {
          "name": "stdout",
          "output_type": "stream",
          "text": [
            "39-22-1-91-68, Subset remove_3_labels_[0, 2, 3], Test Accuracy Retain: 96.90%, Test Accuracy All: 40.11%\n"
          ]
        },
        {
          "name": "stderr",
          "output_type": "stream",
          "text": []
        },
        {
          "name": "stdout",
          "output_type": "stream",
          "text": [
            "39-22-1-91-68, Subset remove_3_labels_[0, 2, 4], Test Accuracy Retain: 99.60%, Test Accuracy All: 45.97%\n"
          ]
        },
        {
          "name": "stderr",
          "output_type": "stream",
          "text": []
        },
        {
          "name": "stdout",
          "output_type": "stream",
          "text": [
            "39-22-1-91-68, Subset remove_3_labels_[0, 3, 4], Test Accuracy Retain: 99.59%, Test Accuracy All: 44.51%\n"
          ]
        },
        {
          "name": "stderr",
          "output_type": "stream",
          "text": []
        },
        {
          "name": "stdout",
          "output_type": "stream",
          "text": [
            "39-22-1-91-68, Subset remove_3_labels_[1, 2, 3], Test Accuracy Retain: 96.77%, Test Accuracy All: 32.97%\n"
          ]
        },
        {
          "name": "stderr",
          "output_type": "stream",
          "text": []
        },
        {
          "name": "stdout",
          "output_type": "stream",
          "text": [
            "39-22-1-91-68, Subset remove_3_labels_[1, 2, 4], Test Accuracy Retain: 99.53%, Test Accuracy All: 38.64%\n"
          ]
        },
        {
          "name": "stderr",
          "output_type": "stream",
          "text": []
        },
        {
          "name": "stdout",
          "output_type": "stream",
          "text": [
            "39-22-1-91-68, Subset remove_3_labels_[1, 3, 4], Test Accuracy Retain: 99.51%, Test Accuracy All: 37.18%\n"
          ]
        },
        {
          "name": "stderr",
          "output_type": "stream",
          "text": [
            "COMBINATIONS: 10it [00:04,  2.08it/s]\n",
            "LABELS:  80%|████████  | 4/5 [00:16<00:04,  4.72s/it]"
          ]
        },
        {
          "name": "stdout",
          "output_type": "stream",
          "text": [
            "39-22-1-91-68, Subset remove_3_labels_[2, 3, 4], Test Accuracy Retain: 99.57%, Test Accuracy All: 42.31%\n"
          ]
        },
        {
          "name": "stderr",
          "output_type": "stream",
          "text": []
        },
        {
          "name": "stdout",
          "output_type": "stream",
          "text": [
            "39-22-1-91-68, Subset remove_4_labels_[0, 1, 2, 3], Test Accuracy Retain: 100.00%, Test Accuracy All: 16.48%\n"
          ]
        },
        {
          "name": "stderr",
          "output_type": "stream",
          "text": []
        },
        {
          "name": "stdout",
          "output_type": "stream",
          "text": [
            "39-22-1-91-68, Subset remove_4_labels_[0, 1, 2, 4], Test Accuracy Retain: 100.00%, Test Accuracy All: 21.25%\n"
          ]
        },
        {
          "name": "stderr",
          "output_type": "stream",
          "text": []
        },
        {
          "name": "stdout",
          "output_type": "stream",
          "text": [
            "39-22-1-91-68, Subset remove_4_labels_[0, 1, 3, 4], Test Accuracy Retain: 100.00%, Test Accuracy All: 19.78%\n"
          ]
        },
        {
          "name": "stderr",
          "output_type": "stream",
          "text": []
        },
        {
          "name": "stdout",
          "output_type": "stream",
          "text": [
            "39-22-1-91-68, Subset remove_4_labels_[0, 2, 3, 4], Test Accuracy Retain: 100.00%, Test Accuracy All: 24.91%\n"
          ]
        },
        {
          "name": "stderr",
          "output_type": "stream",
          "text": [
            "COMBINATIONS: 5it [00:01,  3.32it/s]\n",
            "LABELS: 100%|██████████| 5/5 [00:18<00:00,  3.70s/it]"
          ]
        },
        {
          "name": "stdout",
          "output_type": "stream",
          "text": [
            "39-22-1-91-68, Subset remove_4_labels_[1, 2, 3, 4], Test Accuracy Retain: 100.00%, Test Accuracy All: 17.58%\n"
          ]
        },
        {
          "name": "stderr",
          "output_type": "stream",
          "text": [
            "\n",
            "COMBINATIONS: 1it [00:01,  1.16s/it]?, ?it/s]\n",
            "LABELS:  20%|██        | 1/5 [00:01<00:04,  1.17s/it]"
          ]
        },
        {
          "name": "stdout",
          "output_type": "stream",
          "text": [
            "26-6-96-42-86, Subset remove_0_labels_[], Test Accuracy Retain: 89.14%, Test Accuracy All: 89.14%\n"
          ]
        },
        {
          "name": "stderr",
          "output_type": "stream",
          "text": []
        },
        {
          "name": "stdout",
          "output_type": "stream",
          "text": [
            "26-6-96-42-86, Subset remove_1_labels_[0], Test Accuracy Retain: 85.67%, Test Accuracy All: 66.30%\n"
          ]
        },
        {
          "name": "stderr",
          "output_type": "stream",
          "text": []
        },
        {
          "name": "stdout",
          "output_type": "stream",
          "text": [
            "26-6-96-42-86, Subset remove_1_labels_[1], Test Accuracy Retain: 91.74%, Test Accuracy All: 73.84%\n",
            "26-6-96-42-86, Subset remove_1_labels_[2], Test Accuracy Retain: 86.24%, Test Accuracy All: 68.07%\n"
          ]
        },
        {
          "name": "stderr",
          "output_type": "stream",
          "text": []
        },
        {
          "name": "stdout",
          "output_type": "stream",
          "text": [
            "26-6-96-42-86, Subset remove_1_labels_[3], Test Accuracy Retain: 83.47%, Test Accuracy All: 66.08%\n"
          ]
        },
        {
          "name": "stderr",
          "output_type": "stream",
          "text": [
            "COMBINATIONS: 5it [00:03,  1.28it/s]\n",
            "LABELS:  40%|████      | 2/5 [00:05<00:08,  2.78s/it]"
          ]
        },
        {
          "name": "stdout",
          "output_type": "stream",
          "text": [
            "26-6-96-42-86, Subset remove_1_labels_[4], Test Accuracy Retain: 92.08%, Test Accuracy All: 77.38%\n"
          ]
        },
        {
          "name": "stderr",
          "output_type": "stream",
          "text": []
        },
        {
          "name": "stdout",
          "output_type": "stream",
          "text": [
            "26-6-96-42-86, Subset remove_2_labels_[0, 1], Test Accuracy Retain: 77.01%, Test Accuracy All: 44.57%\n"
          ]
        },
        {
          "name": "stderr",
          "output_type": "stream",
          "text": []
        },
        {
          "name": "stdout",
          "output_type": "stream",
          "text": [
            "26-6-96-42-86, Subset remove_2_labels_[0, 2], Test Accuracy Retain: 90.55%, Test Accuracy All: 51.00%\n"
          ]
        },
        {
          "name": "stderr",
          "output_type": "stream",
          "text": []
        },
        {
          "name": "stdout",
          "output_type": "stream",
          "text": [
            "26-6-96-42-86, Subset remove_2_labels_[0, 3], Test Accuracy Retain: 83.92%, Test Accuracy All: 47.45%\n"
          ]
        },
        {
          "name": "stderr",
          "output_type": "stream",
          "text": []
        },
        {
          "name": "stdout",
          "output_type": "stream",
          "text": [
            "26-6-96-42-86, Subset remove_2_labels_[0, 4], Test Accuracy Retain: 85.56%, Test Accuracy All: 52.55%\n"
          ]
        },
        {
          "name": "stderr",
          "output_type": "stream",
          "text": []
        },
        {
          "name": "stdout",
          "output_type": "stream",
          "text": [
            "26-6-96-42-86, Subset remove_2_labels_[1, 2], Test Accuracy Retain: 83.96%, Test Accuracy All: 49.89%\n"
          ]
        },
        {
          "name": "stderr",
          "output_type": "stream",
          "text": []
        },
        {
          "name": "stdout",
          "output_type": "stream",
          "text": [
            "26-6-96-42-86, Subset remove_2_labels_[1, 3], Test Accuracy Retain: 85.13%, Test Accuracy All: 50.78%\n"
          ]
        },
        {
          "name": "stderr",
          "output_type": "stream",
          "text": []
        },
        {
          "name": "stdout",
          "output_type": "stream",
          "text": [
            "26-6-96-42-86, Subset remove_2_labels_[1, 4], Test Accuracy Retain: 84.54%, Test Accuracy All: 54.55%\n"
          ]
        },
        {
          "name": "stderr",
          "output_type": "stream",
          "text": []
        },
        {
          "name": "stdout",
          "output_type": "stream",
          "text": [
            "26-6-96-42-86, Subset remove_2_labels_[2, 3], Test Accuracy Retain: 86.64%, Test Accuracy All: 50.33%\n"
          ]
        },
        {
          "name": "stderr",
          "output_type": "stream",
          "text": []
        },
        {
          "name": "stdout",
          "output_type": "stream",
          "text": [
            "26-6-96-42-86, Subset remove_2_labels_[2, 4], Test Accuracy Retain: 89.08%, Test Accuracy All: 56.10%\n"
          ]
        },
        {
          "name": "stderr",
          "output_type": "stream",
          "text": [
            "COMBINATIONS: 10it [00:05,  1.69it/s]\n",
            "LABELS:  60%|██████    | 3/5 [00:11<00:08,  4.22s/it]"
          ]
        },
        {
          "name": "stdout",
          "output_type": "stream",
          "text": [
            "26-6-96-42-86, Subset remove_2_labels_[3, 4], Test Accuracy Retain: 87.02%, Test Accuracy All: 54.99%\n"
          ]
        },
        {
          "name": "stderr",
          "output_type": "stream",
          "text": []
        },
        {
          "name": "stdout",
          "output_type": "stream",
          "text": [
            "26-6-96-42-86, Subset remove_3_labels_[0, 1, 2], Test Accuracy Retain: 95.78%, Test Accuracy All: 35.25%\n"
          ]
        },
        {
          "name": "stderr",
          "output_type": "stream",
          "text": []
        },
        {
          "name": "stdout",
          "output_type": "stream",
          "text": [
            "26-6-96-42-86, Subset remove_3_labels_[0, 1, 3], Test Accuracy Retain: 78.44%, Test Accuracy All: 29.05%\n"
          ]
        },
        {
          "name": "stderr",
          "output_type": "stream",
          "text": []
        },
        {
          "name": "stdout",
          "output_type": "stream",
          "text": [
            "26-6-96-42-86, Subset remove_3_labels_[0, 1, 4], Test Accuracy Retain: 84.66%, Test Accuracy All: 35.48%\n"
          ]
        },
        {
          "name": "stderr",
          "output_type": "stream",
          "text": []
        },
        {
          "name": "stdout",
          "output_type": "stream",
          "text": [
            "26-6-96-42-86, Subset remove_3_labels_[0, 2, 3], Test Accuracy Retain: 83.75%, Test Accuracy All: 29.71%\n"
          ]
        },
        {
          "name": "stderr",
          "output_type": "stream",
          "text": []
        },
        {
          "name": "stdout",
          "output_type": "stream",
          "text": [
            "26-6-96-42-86, Subset remove_3_labels_[0, 2, 4], Test Accuracy Retain: 93.41%, Test Accuracy All: 37.69%\n"
          ]
        },
        {
          "name": "stderr",
          "output_type": "stream",
          "text": []
        },
        {
          "name": "stdout",
          "output_type": "stream",
          "text": [
            "26-6-96-42-86, Subset remove_3_labels_[0, 3, 4], Test Accuracy Retain: 93.44%, Test Accuracy All: 37.92%\n"
          ]
        },
        {
          "name": "stderr",
          "output_type": "stream",
          "text": []
        },
        {
          "name": "stdout",
          "output_type": "stream",
          "text": [
            "26-6-96-42-86, Subset remove_3_labels_[1, 2, 3], Test Accuracy Retain: 91.95%, Test Accuracy All: 35.48%\n"
          ]
        },
        {
          "name": "stderr",
          "output_type": "stream",
          "text": []
        },
        {
          "name": "stdout",
          "output_type": "stream",
          "text": [
            "26-6-96-42-86, Subset remove_3_labels_[1, 2, 4], Test Accuracy Retain: 82.65%, Test Accuracy All: 35.92%\n"
          ]
        },
        {
          "name": "stderr",
          "output_type": "stream",
          "text": []
        },
        {
          "name": "stdout",
          "output_type": "stream",
          "text": [
            "26-6-96-42-86, Subset remove_3_labels_[1, 3, 4], Test Accuracy Retain: 85.79%, Test Accuracy All: 37.47%\n"
          ]
        },
        {
          "name": "stderr",
          "output_type": "stream",
          "text": [
            "COMBINATIONS: 10it [00:04,  2.27it/s]\n",
            "LABELS:  80%|████████  | 4/5 [00:15<00:04,  4.29s/it]"
          ]
        },
        {
          "name": "stdout",
          "output_type": "stream",
          "text": [
            "26-6-96-42-86, Subset remove_3_labels_[2, 3, 4], Test Accuracy Retain: 87.89%, Test Accuracy All: 37.03%\n"
          ]
        },
        {
          "name": "stderr",
          "output_type": "stream",
          "text": []
        },
        {
          "name": "stdout",
          "output_type": "stream",
          "text": [
            "26-6-96-42-86, Subset remove_4_labels_[0, 1, 2, 3], Test Accuracy Retain: 100.00%, Test Accuracy All: 15.96%\n"
          ]
        },
        {
          "name": "stderr",
          "output_type": "stream",
          "text": []
        },
        {
          "name": "stdout",
          "output_type": "stream",
          "text": [
            "26-6-96-42-86, Subset remove_4_labels_[0, 1, 2, 4], Test Accuracy Retain: 100.00%, Test Accuracy All: 20.84%\n"
          ]
        },
        {
          "name": "stderr",
          "output_type": "stream",
          "text": []
        },
        {
          "name": "stdout",
          "output_type": "stream",
          "text": [
            "26-6-96-42-86, Subset remove_4_labels_[0, 1, 3, 4], Test Accuracy Retain: 100.00%, Test Accuracy All: 21.06%\n"
          ]
        },
        {
          "name": "stderr",
          "output_type": "stream",
          "text": []
        },
        {
          "name": "stdout",
          "output_type": "stream",
          "text": [
            "26-6-96-42-86, Subset remove_4_labels_[0, 2, 3, 4], Test Accuracy Retain: 100.00%, Test Accuracy All: 19.51%\n"
          ]
        },
        {
          "name": "stderr",
          "output_type": "stream",
          "text": [
            "COMBINATIONS: 5it [00:01,  3.09it/s]\n",
            "LABELS: 100%|██████████| 5/5 [00:17<00:00,  3.41s/it]"
          ]
        },
        {
          "name": "stdout",
          "output_type": "stream",
          "text": [
            "26-6-96-42-86, Subset remove_4_labels_[1, 2, 3, 4], Test Accuracy Retain: 100.00%, Test Accuracy All: 22.62%\n"
          ]
        },
        {
          "name": "stderr",
          "output_type": "stream",
          "text": [
            "\n",
            "COMBINATIONS: 1it [00:01,  1.19s/it]?, ?it/s]\n",
            "LABELS:  20%|██        | 1/5 [00:01<00:04,  1.20s/it]"
          ]
        },
        {
          "name": "stdout",
          "output_type": "stream",
          "text": [
            "16-88-36-66-29, Subset remove_0_labels_[], Test Accuracy Retain: 95.83%, Test Accuracy All: 95.83%\n"
          ]
        },
        {
          "name": "stderr",
          "output_type": "stream",
          "text": []
        },
        {
          "name": "stdout",
          "output_type": "stream",
          "text": [
            "16-88-36-66-29, Subset remove_1_labels_[0], Test Accuracy Retain: 96.68%, Test Accuracy All: 75.15%\n"
          ]
        },
        {
          "name": "stderr",
          "output_type": "stream",
          "text": []
        },
        {
          "name": "stdout",
          "output_type": "stream",
          "text": [
            "16-88-36-66-29, Subset remove_1_labels_[1], Test Accuracy Retain: 93.83%, Test Accuracy All: 75.55%\n"
          ]
        },
        {
          "name": "stderr",
          "output_type": "stream",
          "text": []
        },
        {
          "name": "stdout",
          "output_type": "stream",
          "text": [
            "16-88-36-66-29, Subset remove_1_labels_[2], Test Accuracy Retain: 98.23%, Test Accuracy All: 77.34%\n"
          ]
        },
        {
          "name": "stderr",
          "output_type": "stream",
          "text": []
        },
        {
          "name": "stdout",
          "output_type": "stream",
          "text": [
            "16-88-36-66-29, Subset remove_1_labels_[3], Test Accuracy Retain: 97.14%, Test Accuracy All: 80.91%\n"
          ]
        },
        {
          "name": "stderr",
          "output_type": "stream",
          "text": [
            "COMBINATIONS: 5it [00:03,  1.25it/s]\n",
            "LABELS:  40%|████      | 2/5 [00:05<00:08,  2.85s/it]"
          ]
        },
        {
          "name": "stdout",
          "output_type": "stream",
          "text": [
            "16-88-36-66-29, Subset remove_1_labels_[4], Test Accuracy Retain: 95.26%, Test Accuracy All: 75.94%\n"
          ]
        },
        {
          "name": "stderr",
          "output_type": "stream",
          "text": []
        },
        {
          "name": "stdout",
          "output_type": "stream",
          "text": [
            "16-88-36-66-29, Subset remove_2_labels_[0, 1], Test Accuracy Retain: 90.10%, Test Accuracy All: 52.49%\n"
          ]
        },
        {
          "name": "stderr",
          "output_type": "stream",
          "text": []
        },
        {
          "name": "stdout",
          "output_type": "stream",
          "text": [
            "16-88-36-66-29, Subset remove_2_labels_[0, 2], Test Accuracy Retain: 98.59%, Test Accuracy All: 55.67%\n"
          ]
        },
        {
          "name": "stderr",
          "output_type": "stream",
          "text": []
        },
        {
          "name": "stdout",
          "output_type": "stream",
          "text": [
            "16-88-36-66-29, Subset remove_2_labels_[0, 3], Test Accuracy Retain: 93.49%, Test Accuracy All: 57.06%\n"
          ]
        },
        {
          "name": "stderr",
          "output_type": "stream",
          "text": []
        },
        {
          "name": "stdout",
          "output_type": "stream",
          "text": [
            "16-88-36-66-29, Subset remove_2_labels_[0, 4], Test Accuracy Retain: 92.39%, Test Accuracy All: 53.08%\n"
          ]
        },
        {
          "name": "stderr",
          "output_type": "stream",
          "text": []
        },
        {
          "name": "stdout",
          "output_type": "stream",
          "text": [
            "16-88-36-66-29, Subset remove_2_labels_[1, 2], Test Accuracy Retain: 97.99%, Test Accuracy All: 58.05%\n"
          ]
        },
        {
          "name": "stderr",
          "output_type": "stream",
          "text": []
        },
        {
          "name": "stdout",
          "output_type": "stream",
          "text": [
            "16-88-36-66-29, Subset remove_2_labels_[1, 3], Test Accuracy Retain: 96.57%, Test Accuracy All: 61.63%\n"
          ]
        },
        {
          "name": "stderr",
          "output_type": "stream",
          "text": []
        },
        {
          "name": "stdout",
          "output_type": "stream",
          "text": [
            "16-88-36-66-29, Subset remove_2_labels_[1, 4], Test Accuracy Retain: 97.03%, Test Accuracy All: 58.45%\n"
          ]
        },
        {
          "name": "stderr",
          "output_type": "stream",
          "text": []
        },
        {
          "name": "stdout",
          "output_type": "stream",
          "text": [
            "16-88-36-66-29, Subset remove_2_labels_[2, 3], Test Accuracy Retain: 100.00%, Test Accuracy All: 62.03%\n"
          ]
        },
        {
          "name": "stderr",
          "output_type": "stream",
          "text": []
        },
        {
          "name": "stdout",
          "output_type": "stream",
          "text": [
            "16-88-36-66-29, Subset remove_2_labels_[2, 4], Test Accuracy Retain: 98.30%, Test Accuracy All: 57.46%\n"
          ]
        },
        {
          "name": "stderr",
          "output_type": "stream",
          "text": [
            "COMBINATIONS: 10it [00:06,  1.57it/s]\n",
            "LABELS:  60%|██████    | 3/5 [00:11<00:08,  4.45s/it]"
          ]
        },
        {
          "name": "stdout",
          "output_type": "stream",
          "text": [
            "16-88-36-66-29, Subset remove_2_labels_[3, 4], Test Accuracy Retain: 98.74%, Test Accuracy All: 62.23%\n"
          ]
        },
        {
          "name": "stderr",
          "output_type": "stream",
          "text": []
        },
        {
          "name": "stdout",
          "output_type": "stream",
          "text": [
            "16-88-36-66-29, Subset remove_3_labels_[0, 1, 2], Test Accuracy Retain: 98.92%, Test Accuracy All: 36.58%\n"
          ]
        },
        {
          "name": "stderr",
          "output_type": "stream",
          "text": []
        },
        {
          "name": "stdout",
          "output_type": "stream",
          "text": [
            "16-88-36-66-29, Subset remove_3_labels_[0, 1, 3], Test Accuracy Retain: 85.17%, Test Accuracy All: 35.39%\n"
          ]
        },
        {
          "name": "stderr",
          "output_type": "stream",
          "text": []
        },
        {
          "name": "stdout",
          "output_type": "stream",
          "text": [
            "16-88-36-66-29, Subset remove_3_labels_[0, 1, 4], Test Accuracy Retain: 88.48%, Test Accuracy All: 33.60%\n"
          ]
        },
        {
          "name": "stderr",
          "output_type": "stream",
          "text": []
        },
        {
          "name": "stdout",
          "output_type": "stream",
          "text": [
            "16-88-36-66-29, Subset remove_3_labels_[0, 2, 3], Test Accuracy Retain: 97.00%, Test Accuracy All: 38.57%\n"
          ]
        },
        {
          "name": "stderr",
          "output_type": "stream",
          "text": []
        },
        {
          "name": "stdout",
          "output_type": "stream",
          "text": [
            "16-88-36-66-29, Subset remove_3_labels_[0, 2, 4], Test Accuracy Retain: 99.45%, Test Accuracy All: 35.98%\n",
            "16-88-36-66-29, Subset remove_3_labels_[0, 3, 4], Test Accuracy Retain: 99.02%, Test Accuracy All: 40.36%\n"
          ]
        },
        {
          "name": "stderr",
          "output_type": "stream",
          "text": []
        },
        {
          "name": "stdout",
          "output_type": "stream",
          "text": [
            "16-88-36-66-29, Subset remove_3_labels_[1, 2, 3], Test Accuracy Retain: 100.00%, Test Accuracy All: 42.54%\n"
          ]
        },
        {
          "name": "stderr",
          "output_type": "stream",
          "text": []
        },
        {
          "name": "stdout",
          "output_type": "stream",
          "text": [
            "16-88-36-66-29, Subset remove_3_labels_[1, 2, 4], Test Accuracy Retain: 95.41%, Test Accuracy All: 37.18%\n"
          ]
        },
        {
          "name": "stderr",
          "output_type": "stream",
          "text": []
        },
        {
          "name": "stdout",
          "output_type": "stream",
          "text": [
            "16-88-36-66-29, Subset remove_3_labels_[1, 3, 4], Test Accuracy Retain: 98.63%, Test Accuracy All: 42.94%\n"
          ]
        },
        {
          "name": "stderr",
          "output_type": "stream",
          "text": [
            "COMBINATIONS: 10it [00:04,  2.11it/s]\n",
            "LABELS:  80%|████████  | 4/5 [00:16<00:04,  4.57s/it]"
          ]
        },
        {
          "name": "stdout",
          "output_type": "stream",
          "text": [
            "16-88-36-66-29, Subset remove_3_labels_[2, 3, 4], Test Accuracy Retain: 99.05%, Test Accuracy All: 41.35%\n"
          ]
        },
        {
          "name": "stderr",
          "output_type": "stream",
          "text": []
        },
        {
          "name": "stdout",
          "output_type": "stream",
          "text": [
            "16-88-36-66-29, Subset remove_4_labels_[0, 1, 2, 3], Test Accuracy Retain: 100.00%, Test Accuracy All: 20.28%\n"
          ]
        },
        {
          "name": "stderr",
          "output_type": "stream",
          "text": []
        },
        {
          "name": "stdout",
          "output_type": "stream",
          "text": [
            "16-88-36-66-29, Subset remove_4_labels_[0, 1, 2, 4], Test Accuracy Retain: 100.00%, Test Accuracy All: 16.70%\n"
          ]
        },
        {
          "name": "stderr",
          "output_type": "stream",
          "text": []
        },
        {
          "name": "stdout",
          "output_type": "stream",
          "text": [
            "16-88-36-66-29, Subset remove_4_labels_[0, 1, 3, 4], Test Accuracy Retain: 100.00%, Test Accuracy All: 21.27%\n"
          ]
        },
        {
          "name": "stderr",
          "output_type": "stream",
          "text": []
        },
        {
          "name": "stdout",
          "output_type": "stream",
          "text": [
            "16-88-36-66-29, Subset remove_4_labels_[0, 2, 3, 4], Test Accuracy Retain: 100.00%, Test Accuracy All: 19.48%\n"
          ]
        },
        {
          "name": "stderr",
          "output_type": "stream",
          "text": [
            "COMBINATIONS: 5it [00:01,  3.16it/s]\n",
            "LABELS: 100%|██████████| 5/5 [00:17<00:00,  3.58s/it]"
          ]
        },
        {
          "name": "stdout",
          "output_type": "stream",
          "text": [
            "16-88-36-66-29, Subset remove_4_labels_[1, 2, 3, 4], Test Accuracy Retain: 100.00%, Test Accuracy All: 22.27%\n"
          ]
        },
        {
          "name": "stderr",
          "output_type": "stream",
          "text": [
            "\n",
            "COMBINATIONS: 1it [00:01,  1.13s/it]?, ?it/s]\n",
            "LABELS:  20%|██        | 1/5 [00:01<00:04,  1.13s/it]"
          ]
        },
        {
          "name": "stdout",
          "output_type": "stream",
          "text": [
            "72-30-63-24-59, Subset remove_0_labels_[], Test Accuracy Retain: 89.16%, Test Accuracy All: 89.16%\n"
          ]
        },
        {
          "name": "stderr",
          "output_type": "stream",
          "text": []
        },
        {
          "name": "stdout",
          "output_type": "stream",
          "text": [
            "72-30-63-24-59, Subset remove_1_labels_[0], Test Accuracy Retain: 87.63%, Test Accuracy All: 69.53%\n"
          ]
        },
        {
          "name": "stderr",
          "output_type": "stream",
          "text": []
        },
        {
          "name": "stdout",
          "output_type": "stream",
          "text": [
            "72-30-63-24-59, Subset remove_1_labels_[1], Test Accuracy Retain: 87.79%, Test Accuracy All: 70.55%\n"
          ]
        },
        {
          "name": "stderr",
          "output_type": "stream",
          "text": []
        },
        {
          "name": "stdout",
          "output_type": "stream",
          "text": [
            "72-30-63-24-59, Subset remove_1_labels_[2], Test Accuracy Retain: 87.05%, Test Accuracy All: 68.71%\n"
          ]
        },
        {
          "name": "stderr",
          "output_type": "stream",
          "text": []
        },
        {
          "name": "stdout",
          "output_type": "stream",
          "text": [
            "72-30-63-24-59, Subset remove_1_labels_[3], Test Accuracy Retain: 84.65%, Test Accuracy All: 67.69%\n"
          ]
        },
        {
          "name": "stderr",
          "output_type": "stream",
          "text": [
            "COMBINATIONS: 5it [00:03,  1.32it/s]\n",
            "LABELS:  40%|████      | 2/5 [00:04<00:08,  2.69s/it]"
          ]
        },
        {
          "name": "stdout",
          "output_type": "stream",
          "text": [
            "72-30-63-24-59, Subset remove_1_labels_[4], Test Accuracy Retain: 88.69%, Test Accuracy All: 72.19%\n"
          ]
        },
        {
          "name": "stderr",
          "output_type": "stream",
          "text": []
        },
        {
          "name": "stdout",
          "output_type": "stream",
          "text": [
            "72-30-63-24-59, Subset remove_2_labels_[0, 1], Test Accuracy Retain: 80.48%, Test Accuracy All: 48.06%\n"
          ]
        },
        {
          "name": "stderr",
          "output_type": "stream",
          "text": []
        },
        {
          "name": "stdout",
          "output_type": "stream",
          "text": [
            "72-30-63-24-59, Subset remove_2_labels_[0, 2], Test Accuracy Retain: 85.26%, Test Accuracy All: 49.69%\n"
          ]
        },
        {
          "name": "stderr",
          "output_type": "stream",
          "text": []
        },
        {
          "name": "stdout",
          "output_type": "stream",
          "text": [
            "72-30-63-24-59, Subset remove_2_labels_[0, 3], Test Accuracy Retain: 91.38%, Test Accuracy All: 54.19%\n"
          ]
        },
        {
          "name": "stderr",
          "output_type": "stream",
          "text": []
        },
        {
          "name": "stdout",
          "output_type": "stream",
          "text": [
            "72-30-63-24-59, Subset remove_2_labels_[0, 4], Test Accuracy Retain: 87.21%, Test Accuracy All: 52.97%\n"
          ]
        },
        {
          "name": "stderr",
          "output_type": "stream",
          "text": []
        },
        {
          "name": "stdout",
          "output_type": "stream",
          "text": [
            "72-30-63-24-59, Subset remove_2_labels_[1, 2], Test Accuracy Retain: 88.62%, Test Accuracy All: 52.56%\n"
          ]
        },
        {
          "name": "stderr",
          "output_type": "stream",
          "text": []
        },
        {
          "name": "stdout",
          "output_type": "stream",
          "text": [
            "72-30-63-24-59, Subset remove_2_labels_[1, 3], Test Accuracy Retain: 86.44%, Test Accuracy All: 52.15%\n"
          ]
        },
        {
          "name": "stderr",
          "output_type": "stream",
          "text": []
        },
        {
          "name": "stdout",
          "output_type": "stream",
          "text": [
            "72-30-63-24-59, Subset remove_2_labels_[1, 4], Test Accuracy Retain: 88.74%, Test Accuracy All: 54.81%\n",
            "72-30-63-24-59, Subset remove_2_labels_[2, 3], Test Accuracy Retain: 92.36%, Test Accuracy All: 54.40%\n"
          ]
        },
        {
          "name": "stderr",
          "output_type": "stream",
          "text": []
        },
        {
          "name": "stdout",
          "output_type": "stream",
          "text": [
            "72-30-63-24-59, Subset remove_2_labels_[2, 4], Test Accuracy Retain: 81.02%, Test Accuracy All: 48.88%\n"
          ]
        },
        {
          "name": "stderr",
          "output_type": "stream",
          "text": [
            "COMBINATIONS: 10it [00:06,  1.64it/s]\n",
            "LABELS:  60%|██████    | 3/5 [00:11<00:08,  4.24s/it]"
          ]
        },
        {
          "name": "stdout",
          "output_type": "stream",
          "text": [
            "72-30-63-24-59, Subset remove_2_labels_[3, 4], Test Accuracy Retain: 89.67%, Test Accuracy All: 55.01%\n"
          ]
        },
        {
          "name": "stderr",
          "output_type": "stream",
          "text": []
        },
        {
          "name": "stdout",
          "output_type": "stream",
          "text": [
            "72-30-63-24-59, Subset remove_3_labels_[0, 1, 2], Test Accuracy Retain: 87.83%, Test Accuracy All: 33.95%\n"
          ]
        },
        {
          "name": "stderr",
          "output_type": "stream",
          "text": []
        },
        {
          "name": "stdout",
          "output_type": "stream",
          "text": [
            "72-30-63-24-59, Subset remove_3_labels_[0, 1, 3], Test Accuracy Retain: 77.32%, Test Accuracy All: 30.67%\n"
          ]
        },
        {
          "name": "stderr",
          "output_type": "stream",
          "text": []
        },
        {
          "name": "stdout",
          "output_type": "stream",
          "text": [
            "72-30-63-24-59, Subset remove_3_labels_[0, 1, 4], Test Accuracy Retain: 87.06%, Test Accuracy All: 35.79%\n"
          ]
        },
        {
          "name": "stderr",
          "output_type": "stream",
          "text": []
        },
        {
          "name": "stdout",
          "output_type": "stream",
          "text": [
            "72-30-63-24-59, Subset remove_3_labels_[0, 2, 3], Test Accuracy Retain: 86.63%, Test Accuracy All: 33.13%\n"
          ]
        },
        {
          "name": "stderr",
          "output_type": "stream",
          "text": []
        },
        {
          "name": "stdout",
          "output_type": "stream",
          "text": [
            "72-30-63-24-59, Subset remove_3_labels_[0, 2, 4], Test Accuracy Retain: 89.18%, Test Accuracy All: 35.38%\n"
          ]
        },
        {
          "name": "stderr",
          "output_type": "stream",
          "text": []
        },
        {
          "name": "stdout",
          "output_type": "stream",
          "text": [
            "72-30-63-24-59, Subset remove_3_labels_[0, 3, 4], Test Accuracy Retain: 91.96%, Test Accuracy All: 37.42%\n"
          ]
        },
        {
          "name": "stderr",
          "output_type": "stream",
          "text": []
        },
        {
          "name": "stdout",
          "output_type": "stream",
          "text": [
            "72-30-63-24-59, Subset remove_3_labels_[1, 2, 3], Test Accuracy Retain: 90.10%, Test Accuracy All: 35.38%\n"
          ]
        },
        {
          "name": "stderr",
          "output_type": "stream",
          "text": []
        },
        {
          "name": "stdout",
          "output_type": "stream",
          "text": [
            "72-30-63-24-59, Subset remove_3_labels_[1, 2, 4], Test Accuracy Retain: 88.44%, Test Accuracy All: 35.99%\n"
          ]
        },
        {
          "name": "stderr",
          "output_type": "stream",
          "text": []
        },
        {
          "name": "stdout",
          "output_type": "stream",
          "text": [
            "72-30-63-24-59, Subset remove_3_labels_[1, 3, 4], Test Accuracy Retain: 96.57%, Test Accuracy All: 40.29%\n"
          ]
        },
        {
          "name": "stderr",
          "output_type": "stream",
          "text": [
            "COMBINATIONS: 10it [00:04,  2.21it/s]\n",
            "LABELS:  80%|████████  | 4/5 [00:15<00:04,  4.35s/it]"
          ]
        },
        {
          "name": "stdout",
          "output_type": "stream",
          "text": [
            "72-30-63-24-59, Subset remove_3_labels_[2, 3, 4], Test Accuracy Retain: 90.86%, Test Accuracy All: 36.61%\n"
          ]
        },
        {
          "name": "stderr",
          "output_type": "stream",
          "text": []
        },
        {
          "name": "stdout",
          "output_type": "stream",
          "text": [
            "72-30-63-24-59, Subset remove_4_labels_[0, 1, 2, 3], Test Accuracy Retain: 100.00%, Test Accuracy All: 18.61%\n"
          ]
        },
        {
          "name": "stderr",
          "output_type": "stream",
          "text": []
        },
        {
          "name": "stdout",
          "output_type": "stream",
          "text": [
            "72-30-63-24-59, Subset remove_4_labels_[0, 1, 2, 4], Test Accuracy Retain: 100.00%, Test Accuracy All: 20.04%\n"
          ]
        },
        {
          "name": "stderr",
          "output_type": "stream",
          "text": []
        },
        {
          "name": "stdout",
          "output_type": "stream",
          "text": [
            "72-30-63-24-59, Subset remove_4_labels_[0, 1, 3, 4], Test Accuracy Retain: 100.00%, Test Accuracy All: 21.06%\n"
          ]
        },
        {
          "name": "stderr",
          "output_type": "stream",
          "text": []
        },
        {
          "name": "stdout",
          "output_type": "stream",
          "text": [
            "72-30-63-24-59, Subset remove_4_labels_[0, 2, 3, 4], Test Accuracy Retain: 100.00%, Test Accuracy All: 19.63%\n"
          ]
        },
        {
          "name": "stderr",
          "output_type": "stream",
          "text": [
            "COMBINATIONS: 5it [00:01,  3.17it/s]\n",
            "LABELS: 100%|██████████| 5/5 [00:17<00:00,  3.42s/it]"
          ]
        },
        {
          "name": "stdout",
          "output_type": "stream",
          "text": [
            "72-30-63-24-59, Subset remove_4_labels_[1, 2, 3, 4], Test Accuracy Retain: 100.00%, Test Accuracy All: 20.65%\n"
          ]
        },
        {
          "name": "stderr",
          "output_type": "stream",
          "text": [
            "\n",
            "COMBINATIONS: 1it [00:01,  1.15s/it]?, ?it/s]\n",
            "LABELS:  20%|██        | 1/5 [00:01<00:04,  1.15s/it]"
          ]
        },
        {
          "name": "stdout",
          "output_type": "stream",
          "text": [
            "37-55-44-77-89, Subset remove_0_labels_[], Test Accuracy Retain: 97.61%, Test Accuracy All: 97.61%\n"
          ]
        },
        {
          "name": "stderr",
          "output_type": "stream",
          "text": []
        },
        {
          "name": "stdout",
          "output_type": "stream",
          "text": [
            "37-55-44-77-89, Subset remove_1_labels_[0], Test Accuracy Retain: 99.74%, Test Accuracy All: 77.53%\n"
          ]
        },
        {
          "name": "stderr",
          "output_type": "stream",
          "text": []
        },
        {
          "name": "stdout",
          "output_type": "stream",
          "text": [
            "37-55-44-77-89, Subset remove_1_labels_[1], Test Accuracy Retain: 95.54%, Test Accuracy All: 80.91%\n",
            "37-55-44-77-89, Subset remove_1_labels_[2], Test Accuracy Retain: 94.51%, Test Accuracy All: 75.35%\n"
          ]
        },
        {
          "name": "stderr",
          "output_type": "stream",
          "text": []
        },
        {
          "name": "stdout",
          "output_type": "stream",
          "text": [
            "37-55-44-77-89, Subset remove_1_labels_[3], Test Accuracy Retain: 96.35%, Test Accuracy All: 73.56%\n"
          ]
        },
        {
          "name": "stderr",
          "output_type": "stream",
          "text": [
            "COMBINATIONS: 5it [00:04,  1.21it/s]\n",
            "LABELS:  40%|████      | 2/5 [00:05<00:08,  2.91s/it]"
          ]
        },
        {
          "name": "stdout",
          "output_type": "stream",
          "text": [
            "37-55-44-77-89, Subset remove_1_labels_[4], Test Accuracy Retain: 97.80%, Test Accuracy All: 79.72%\n"
          ]
        },
        {
          "name": "stderr",
          "output_type": "stream",
          "text": []
        },
        {
          "name": "stdout",
          "output_type": "stream",
          "text": [
            "37-55-44-77-89, Subset remove_2_labels_[0, 1], Test Accuracy Retain: 96.50%, Test Accuracy All: 60.24%\n"
          ]
        },
        {
          "name": "stderr",
          "output_type": "stream",
          "text": []
        },
        {
          "name": "stdout",
          "output_type": "stream",
          "text": [
            "37-55-44-77-89, Subset remove_2_labels_[0, 2], Test Accuracy Retain: 98.62%, Test Accuracy All: 56.66%\n"
          ]
        },
        {
          "name": "stderr",
          "output_type": "stream",
          "text": []
        },
        {
          "name": "stdout",
          "output_type": "stream",
          "text": [
            "37-55-44-77-89, Subset remove_2_labels_[0, 3], Test Accuracy Retain: 98.90%, Test Accuracy All: 53.48%\n"
          ]
        },
        {
          "name": "stderr",
          "output_type": "stream",
          "text": []
        },
        {
          "name": "stdout",
          "output_type": "stream",
          "text": [
            "37-55-44-77-89, Subset remove_2_labels_[0, 4], Test Accuracy Retain: 99.33%, Test Accuracy All: 58.85%\n"
          ]
        },
        {
          "name": "stderr",
          "output_type": "stream",
          "text": []
        },
        {
          "name": "stdout",
          "output_type": "stream",
          "text": [
            "37-55-44-77-89, Subset remove_2_labels_[1, 2], Test Accuracy Retain: 94.14%, Test Accuracy All: 60.64%\n"
          ]
        },
        {
          "name": "stderr",
          "output_type": "stream",
          "text": []
        },
        {
          "name": "stdout",
          "output_type": "stream",
          "text": [
            "37-55-44-77-89, Subset remove_2_labels_[1, 3], Test Accuracy Retain: 96.42%, Test Accuracy All: 58.85%\n"
          ]
        },
        {
          "name": "stderr",
          "output_type": "stream",
          "text": []
        },
        {
          "name": "stdout",
          "output_type": "stream",
          "text": [
            "37-55-44-77-89, Subset remove_2_labels_[1, 4], Test Accuracy Retain: 97.60%, Test Accuracy All: 64.61%\n"
          ]
        },
        {
          "name": "stderr",
          "output_type": "stream",
          "text": []
        },
        {
          "name": "stdout",
          "output_type": "stream",
          "text": [
            "37-55-44-77-89, Subset remove_2_labels_[2, 3], Test Accuracy Retain: 95.04%, Test Accuracy All: 53.28%\n"
          ]
        },
        {
          "name": "stderr",
          "output_type": "stream",
          "text": []
        },
        {
          "name": "stdout",
          "output_type": "stream",
          "text": [
            "37-55-44-77-89, Subset remove_2_labels_[2, 4], Test Accuracy Retain: 92.53%, Test Accuracy All: 56.66%\n"
          ]
        },
        {
          "name": "stderr",
          "output_type": "stream",
          "text": [
            "COMBINATIONS: 10it [00:06,  1.60it/s]\n",
            "LABELS:  60%|██████    | 3/5 [00:11<00:08,  4.43s/it]"
          ]
        },
        {
          "name": "stdout",
          "output_type": "stream",
          "text": [
            "37-55-44-77-89, Subset remove_2_labels_[3, 4], Test Accuracy Retain: 100.00%, Test Accuracy All: 57.85%\n"
          ]
        },
        {
          "name": "stderr",
          "output_type": "stream",
          "text": []
        },
        {
          "name": "stdout",
          "output_type": "stream",
          "text": [
            "37-55-44-77-89, Subset remove_3_labels_[0, 1, 2], Test Accuracy Retain: 98.58%, Test Accuracy All: 41.55%\n"
          ]
        },
        {
          "name": "stderr",
          "output_type": "stream",
          "text": []
        },
        {
          "name": "stdout",
          "output_type": "stream",
          "text": [
            "37-55-44-77-89, Subset remove_3_labels_[0, 1, 3], Test Accuracy Retain: 99.49%, Test Accuracy All: 38.57%\n"
          ]
        },
        {
          "name": "stderr",
          "output_type": "stream",
          "text": []
        },
        {
          "name": "stdout",
          "output_type": "stream",
          "text": [
            "37-55-44-77-89, Subset remove_3_labels_[0, 1, 4], Test Accuracy Retain: 100.00%, Test Accuracy All: 43.94%\n"
          ]
        },
        {
          "name": "stderr",
          "output_type": "stream",
          "text": []
        },
        {
          "name": "stdout",
          "output_type": "stream",
          "text": [
            "37-55-44-77-89, Subset remove_3_labels_[0, 2, 3], Test Accuracy Retain: 100.00%, Test Accuracy All: 33.80%\n"
          ]
        },
        {
          "name": "stderr",
          "output_type": "stream",
          "text": []
        },
        {
          "name": "stdout",
          "output_type": "stream",
          "text": [
            "37-55-44-77-89, Subset remove_3_labels_[0, 2, 4], Test Accuracy Retain: 98.47%, Test Accuracy All: 38.37%\n"
          ]
        },
        {
          "name": "stderr",
          "output_type": "stream",
          "text": []
        },
        {
          "name": "stdout",
          "output_type": "stream",
          "text": [
            "37-55-44-77-89, Subset remove_3_labels_[0, 3, 4], Test Accuracy Retain: 100.00%, Test Accuracy All: 35.59%\n"
          ]
        },
        {
          "name": "stderr",
          "output_type": "stream",
          "text": []
        },
        {
          "name": "stdout",
          "output_type": "stream",
          "text": [
            "37-55-44-77-89, Subset remove_3_labels_[1, 2, 3], Test Accuracy Retain: 95.12%, Test Accuracy All: 38.77%\n"
          ]
        },
        {
          "name": "stderr",
          "output_type": "stream",
          "text": []
        },
        {
          "name": "stdout",
          "output_type": "stream",
          "text": [
            "37-55-44-77-89, Subset remove_3_labels_[1, 2, 4], Test Accuracy Retain: 93.51%, Test Accuracy All: 42.94%\n",
            "37-55-44-77-89, Subset remove_3_labels_[1, 3, 4], Test Accuracy Retain: 100.00%, Test Accuracy All: 42.54%\n"
          ]
        },
        {
          "name": "stderr",
          "output_type": "stream",
          "text": [
            "COMBINATIONS: 10it [00:04,  2.11it/s]\n",
            "LABELS:  80%|████████  | 4/5 [00:16<00:04,  4.55s/it]"
          ]
        },
        {
          "name": "stdout",
          "output_type": "stream",
          "text": [
            "37-55-44-77-89, Subset remove_3_labels_[2, 3, 4], Test Accuracy Retain: 94.18%, Test Accuracy All: 35.39%\n"
          ]
        },
        {
          "name": "stderr",
          "output_type": "stream",
          "text": []
        },
        {
          "name": "stdout",
          "output_type": "stream",
          "text": [
            "37-55-44-77-89, Subset remove_4_labels_[0, 1, 2, 3], Test Accuracy Retain: 100.00%, Test Accuracy All: 18.49%\n"
          ]
        },
        {
          "name": "stderr",
          "output_type": "stream",
          "text": []
        },
        {
          "name": "stdout",
          "output_type": "stream",
          "text": [
            "37-55-44-77-89, Subset remove_4_labels_[0, 1, 2, 4], Test Accuracy Retain: 100.00%, Test Accuracy All: 23.66%\n"
          ]
        },
        {
          "name": "stderr",
          "output_type": "stream",
          "text": []
        },
        {
          "name": "stdout",
          "output_type": "stream",
          "text": [
            "37-55-44-77-89, Subset remove_4_labels_[0, 1, 3, 4], Test Accuracy Retain: 100.00%, Test Accuracy All: 20.28%\n"
          ]
        },
        {
          "name": "stderr",
          "output_type": "stream",
          "text": []
        },
        {
          "name": "stdout",
          "output_type": "stream",
          "text": [
            "37-55-44-77-89, Subset remove_4_labels_[0, 2, 3, 4], Test Accuracy Retain: 100.00%, Test Accuracy All: 15.31%\n"
          ]
        },
        {
          "name": "stderr",
          "output_type": "stream",
          "text": [
            "COMBINATIONS: 5it [00:01,  3.29it/s]\n",
            "LABELS: 100%|██████████| 5/5 [00:17<00:00,  3.56s/it]"
          ]
        },
        {
          "name": "stdout",
          "output_type": "stream",
          "text": [
            "37-55-44-77-89, Subset remove_4_labels_[1, 2, 3, 4], Test Accuracy Retain: 100.00%, Test Accuracy All: 22.27%\n"
          ]
        },
        {
          "name": "stderr",
          "output_type": "stream",
          "text": [
            "\n",
            "COMBINATIONS: 1it [00:01,  1.11s/it]?, ?it/s]\n",
            "LABELS:  20%|██        | 1/5 [00:01<00:04,  1.12s/it]"
          ]
        },
        {
          "name": "stdout",
          "output_type": "stream",
          "text": [
            "9-70-57-50-32, Subset remove_0_labels_[], Test Accuracy Retain: 93.80%, Test Accuracy All: 93.80%\n"
          ]
        },
        {
          "name": "stderr",
          "output_type": "stream",
          "text": []
        },
        {
          "name": "stdout",
          "output_type": "stream",
          "text": [
            "9-70-57-50-32, Subset remove_1_labels_[0], Test Accuracy Retain: 87.34%, Test Accuracy All: 67.60%\n"
          ]
        },
        {
          "name": "stderr",
          "output_type": "stream",
          "text": []
        },
        {
          "name": "stdout",
          "output_type": "stream",
          "text": [
            "9-70-57-50-32, Subset remove_1_labels_[1], Test Accuracy Retain: 94.47%, Test Accuracy All: 75.20%\n"
          ]
        },
        {
          "name": "stderr",
          "output_type": "stream",
          "text": []
        },
        {
          "name": "stdout",
          "output_type": "stream",
          "text": [
            "9-70-57-50-32, Subset remove_1_labels_[2], Test Accuracy Retain: 89.28%, Test Accuracy All: 71.60%\n"
          ]
        },
        {
          "name": "stderr",
          "output_type": "stream",
          "text": []
        },
        {
          "name": "stdout",
          "output_type": "stream",
          "text": [
            "9-70-57-50-32, Subset remove_1_labels_[3], Test Accuracy Retain: 95.02%, Test Accuracy All: 80.20%\n"
          ]
        },
        {
          "name": "stderr",
          "output_type": "stream",
          "text": [
            "COMBINATIONS: 5it [00:03,  1.31it/s]\n",
            "LABELS:  40%|████      | 2/5 [00:04<00:08,  2.71s/it]"
          ]
        },
        {
          "name": "stdout",
          "output_type": "stream",
          "text": [
            "9-70-57-50-32, Subset remove_1_labels_[4], Test Accuracy Retain: 88.78%, Test Accuracy All: 69.60%\n"
          ]
        },
        {
          "name": "stderr",
          "output_type": "stream",
          "text": []
        },
        {
          "name": "stdout",
          "output_type": "stream",
          "text": [
            "9-70-57-50-32, Subset remove_2_labels_[0, 1], Test Accuracy Retain: 92.98%, Test Accuracy All: 53.00%\n"
          ]
        },
        {
          "name": "stderr",
          "output_type": "stream",
          "text": []
        },
        {
          "name": "stdout",
          "output_type": "stream",
          "text": [
            "9-70-57-50-32, Subset remove_2_labels_[0, 2], Test Accuracy Retain: 91.67%, Test Accuracy All: 52.80%\n"
          ]
        },
        {
          "name": "stderr",
          "output_type": "stream",
          "text": []
        },
        {
          "name": "stdout",
          "output_type": "stream",
          "text": [
            "9-70-57-50-32, Subset remove_2_labels_[0, 3], Test Accuracy Retain: 95.47%, Test Accuracy All: 59.00%\n"
          ]
        },
        {
          "name": "stderr",
          "output_type": "stream",
          "text": []
        },
        {
          "name": "stdout",
          "output_type": "stream",
          "text": [
            "9-70-57-50-32, Subset remove_2_labels_[0, 4], Test Accuracy Retain: 91.04%, Test Accuracy All: 50.80%\n"
          ]
        },
        {
          "name": "stderr",
          "output_type": "stream",
          "text": []
        },
        {
          "name": "stdout",
          "output_type": "stream",
          "text": [
            "9-70-57-50-32, Subset remove_2_labels_[1, 2], Test Accuracy Retain: 95.65%, Test Accuracy All: 57.20%\n"
          ]
        },
        {
          "name": "stderr",
          "output_type": "stream",
          "text": []
        },
        {
          "name": "stdout",
          "output_type": "stream",
          "text": [
            "9-70-57-50-32, Subset remove_2_labels_[1, 3], Test Accuracy Retain: 94.38%, Test Accuracy All: 60.40%\n"
          ]
        },
        {
          "name": "stderr",
          "output_type": "stream",
          "text": []
        },
        {
          "name": "stdout",
          "output_type": "stream",
          "text": [
            "9-70-57-50-32, Subset remove_2_labels_[1, 4], Test Accuracy Retain: 93.10%, Test Accuracy All: 54.00%\n",
            "9-70-57-50-32, Subset remove_2_labels_[2, 3], Test Accuracy Retain: 95.67%, Test Accuracy All: 61.80%\n"
          ]
        },
        {
          "name": "stderr",
          "output_type": "stream",
          "text": []
        },
        {
          "name": "stdout",
          "output_type": "stream",
          "text": [
            "9-70-57-50-32, Subset remove_2_labels_[2, 4], Test Accuracy Retain: 90.10%, Test Accuracy All: 52.80%\n"
          ]
        },
        {
          "name": "stderr",
          "output_type": "stream",
          "text": [
            "COMBINATIONS: 10it [00:06,  1.62it/s]\n",
            "LABELS:  60%|██████    | 3/5 [00:11<00:08,  4.30s/it]"
          ]
        },
        {
          "name": "stdout",
          "output_type": "stream",
          "text": [
            "9-70-57-50-32, Subset remove_2_labels_[3, 4], Test Accuracy Retain: 93.31%, Test Accuracy All: 58.60%\n"
          ]
        },
        {
          "name": "stderr",
          "output_type": "stream",
          "text": []
        },
        {
          "name": "stdout",
          "output_type": "stream",
          "text": [
            "9-70-57-50-32, Subset remove_3_labels_[0, 1, 2], Test Accuracy Retain: 93.55%, Test Accuracy All: 34.80%\n"
          ]
        },
        {
          "name": "stderr",
          "output_type": "stream",
          "text": []
        },
        {
          "name": "stdout",
          "output_type": "stream",
          "text": [
            "9-70-57-50-32, Subset remove_3_labels_[0, 1, 3], Test Accuracy Retain: 83.57%, Test Accuracy All: 34.60%\n"
          ]
        },
        {
          "name": "stderr",
          "output_type": "stream",
          "text": []
        },
        {
          "name": "stdout",
          "output_type": "stream",
          "text": [
            "9-70-57-50-32, Subset remove_3_labels_[0, 1, 4], Test Accuracy Retain: 92.09%, Test Accuracy All: 32.60%\n"
          ]
        },
        {
          "name": "stderr",
          "output_type": "stream",
          "text": []
        },
        {
          "name": "stdout",
          "output_type": "stream",
          "text": [
            "9-70-57-50-32, Subset remove_3_labels_[0, 2, 3], Test Accuracy Retain: 98.57%, Test Accuracy All: 41.40%\n"
          ]
        },
        {
          "name": "stderr",
          "output_type": "stream",
          "text": []
        },
        {
          "name": "stdout",
          "output_type": "stream",
          "text": [
            "9-70-57-50-32, Subset remove_3_labels_[0, 2, 4], Test Accuracy Retain: 88.33%, Test Accuracy All: 31.80%\n"
          ]
        },
        {
          "name": "stderr",
          "output_type": "stream",
          "text": []
        },
        {
          "name": "stdout",
          "output_type": "stream",
          "text": [
            "9-70-57-50-32, Subset remove_3_labels_[0, 3, 4], Test Accuracy Retain: 95.52%, Test Accuracy All: 38.40%\n"
          ]
        },
        {
          "name": "stderr",
          "output_type": "stream",
          "text": []
        },
        {
          "name": "stdout",
          "output_type": "stream",
          "text": [
            "9-70-57-50-32, Subset remove_3_labels_[1, 2, 3], Test Accuracy Retain: 97.74%, Test Accuracy All: 43.20%\n"
          ]
        },
        {
          "name": "stderr",
          "output_type": "stream",
          "text": []
        },
        {
          "name": "stdout",
          "output_type": "stream",
          "text": [
            "9-70-57-50-32, Subset remove_3_labels_[1, 2, 4], Test Accuracy Retain: 94.76%, Test Accuracy All: 36.20%\n"
          ]
        },
        {
          "name": "stderr",
          "output_type": "stream",
          "text": []
        },
        {
          "name": "stdout",
          "output_type": "stream",
          "text": [
            "9-70-57-50-32, Subset remove_3_labels_[1, 3, 4], Test Accuracy Retain: 92.92%, Test Accuracy All: 39.40%\n"
          ]
        },
        {
          "name": "stderr",
          "output_type": "stream",
          "text": [
            "COMBINATIONS: 10it [00:04,  2.16it/s]\n",
            "LABELS:  80%|████████  | 4/5 [00:15<00:04,  4.43s/it]"
          ]
        },
        {
          "name": "stdout",
          "output_type": "stream",
          "text": [
            "9-70-57-50-32, Subset remove_3_labels_[2, 3, 4], Test Accuracy Retain: 93.49%, Test Accuracy All: 40.20%\n"
          ]
        },
        {
          "name": "stderr",
          "output_type": "stream",
          "text": []
        },
        {
          "name": "stdout",
          "output_type": "stream",
          "text": [
            "9-70-57-50-32, Subset remove_4_labels_[0, 1, 2, 3], Test Accuracy Retain: 100.00%, Test Accuracy All: 21.60%\n"
          ]
        },
        {
          "name": "stderr",
          "output_type": "stream",
          "text": []
        },
        {
          "name": "stdout",
          "output_type": "stream",
          "text": [
            "9-70-57-50-32, Subset remove_4_labels_[0, 1, 2, 4], Test Accuracy Retain: 100.00%, Test Accuracy All: 15.60%\n"
          ]
        },
        {
          "name": "stderr",
          "output_type": "stream",
          "text": []
        },
        {
          "name": "stdout",
          "output_type": "stream",
          "text": [
            "9-70-57-50-32, Subset remove_4_labels_[0, 1, 3, 4], Test Accuracy Retain: 100.00%, Test Accuracy All: 19.80%\n"
          ]
        },
        {
          "name": "stderr",
          "output_type": "stream",
          "text": []
        },
        {
          "name": "stdout",
          "output_type": "stream",
          "text": [
            "9-70-57-50-32, Subset remove_4_labels_[0, 2, 3, 4], Test Accuracy Retain: 100.00%, Test Accuracy All: 20.40%\n"
          ]
        },
        {
          "name": "stderr",
          "output_type": "stream",
          "text": [
            "COMBINATIONS: 5it [00:01,  3.29it/s]\n",
            "LABELS: 100%|██████████| 5/5 [00:17<00:00,  3.46s/it]"
          ]
        },
        {
          "name": "stdout",
          "output_type": "stream",
          "text": [
            "9-70-57-50-32, Subset remove_4_labels_[1, 2, 3, 4], Test Accuracy Retain: 100.00%, Test Accuracy All: 22.60%\n"
          ]
        },
        {
          "name": "stderr",
          "output_type": "stream",
          "text": [
            "\n",
            "LABELS:   0%|          | 0/5 [00:00<?, ?it/s]"
          ]
        },
        {
          "name": "stdout",
          "output_type": "stream",
          "text": [
            "94-3-58-40-99, Subset remove_0_labels_[], Test Accuracy Retain: 93.75%, Test Accuracy All: 93.75%\n"
          ]
        },
        {
          "name": "stderr",
          "output_type": "stream",
          "text": [
            "COMBINATIONS: 1it [00:01,  1.32s/it]\n",
            "LABELS:  20%|██        | 1/5 [00:01<00:05,  1.32s/it]"
          ]
        },
        {
          "name": "stdout",
          "output_type": "stream",
          "text": [
            "94-3-58-40-99, Subset remove_1_labels_[0], Test Accuracy Retain: 95.38%, Test Accuracy All: 75.00%\n"
          ]
        },
        {
          "name": "stderr",
          "output_type": "stream",
          "text": []
        },
        {
          "name": "stdout",
          "output_type": "stream",
          "text": [
            "94-3-58-40-99, Subset remove_1_labels_[1], Test Accuracy Retain: 89.25%, Test Accuracy All: 71.98%\n"
          ]
        },
        {
          "name": "stderr",
          "output_type": "stream",
          "text": []
        },
        {
          "name": "stdout",
          "output_type": "stream",
          "text": [
            "94-3-58-40-99, Subset remove_1_labels_[2], Test Accuracy Retain: 88.43%, Test Accuracy All: 73.99%\n"
          ]
        },
        {
          "name": "stderr",
          "output_type": "stream",
          "text": []
        },
        {
          "name": "stdout",
          "output_type": "stream",
          "text": [
            "94-3-58-40-99, Subset remove_1_labels_[3], Test Accuracy Retain: 90.33%, Test Accuracy All: 71.57%\n"
          ]
        },
        {
          "name": "stderr",
          "output_type": "stream",
          "text": [
            "COMBINATIONS: 5it [00:03,  1.29it/s]\n",
            "LABELS:  40%|████      | 2/5 [00:05<00:08,  2.83s/it]"
          ]
        },
        {
          "name": "stdout",
          "output_type": "stream",
          "text": [
            "94-3-58-40-99, Subset remove_1_labels_[4], Test Accuracy Retain: 87.05%, Test Accuracy All: 67.74%\n"
          ]
        },
        {
          "name": "stderr",
          "output_type": "stream",
          "text": []
        },
        {
          "name": "stdout",
          "output_type": "stream",
          "text": [
            "94-3-58-40-99, Subset remove_2_labels_[0, 1], Test Accuracy Retain: 95.92%, Test Accuracy All: 56.85%\n"
          ]
        },
        {
          "name": "stderr",
          "output_type": "stream",
          "text": []
        },
        {
          "name": "stdout",
          "output_type": "stream",
          "text": [
            "94-3-58-40-99, Subset remove_2_labels_[0, 2], Test Accuracy Retain: 95.79%, Test Accuracy All: 59.68%\n"
          ]
        },
        {
          "name": "stderr",
          "output_type": "stream",
          "text": []
        },
        {
          "name": "stdout",
          "output_type": "stream",
          "text": [
            "94-3-58-40-99, Subset remove_2_labels_[0, 3], Test Accuracy Retain: 96.52%, Test Accuracy All: 55.85%\n"
          ]
        },
        {
          "name": "stderr",
          "output_type": "stream",
          "text": []
        },
        {
          "name": "stdout",
          "output_type": "stream",
          "text": [
            "94-3-58-40-99, Subset remove_2_labels_[0, 4], Test Accuracy Retain: 95.36%, Test Accuracy All: 53.83%\n"
          ]
        },
        {
          "name": "stderr",
          "output_type": "stream",
          "text": []
        },
        {
          "name": "stdout",
          "output_type": "stream",
          "text": [
            "94-3-58-40-99, Subset remove_2_labels_[1, 2], Test Accuracy Retain: 83.07%, Test Accuracy All: 53.43%\n"
          ]
        },
        {
          "name": "stderr",
          "output_type": "stream",
          "text": []
        },
        {
          "name": "stdout",
          "output_type": "stream",
          "text": [
            "94-3-58-40-99, Subset remove_2_labels_[1, 3], Test Accuracy Retain: 90.91%, Test Accuracy All: 54.44%\n"
          ]
        },
        {
          "name": "stderr",
          "output_type": "stream",
          "text": []
        },
        {
          "name": "stdout",
          "output_type": "stream",
          "text": [
            "94-3-58-40-99, Subset remove_2_labels_[1, 4], Test Accuracy Retain: 94.14%, Test Accuracy All: 55.04%\n"
          ]
        },
        {
          "name": "stderr",
          "output_type": "stream",
          "text": []
        },
        {
          "name": "stdout",
          "output_type": "stream",
          "text": [
            "94-3-58-40-99, Subset remove_2_labels_[2, 3], Test Accuracy Retain: 74.36%, Test Accuracy All: 46.77%\n"
          ]
        },
        {
          "name": "stderr",
          "output_type": "stream",
          "text": []
        },
        {
          "name": "stdout",
          "output_type": "stream",
          "text": [
            "94-3-58-40-99, Subset remove_2_labels_[2, 4], Test Accuracy Retain: 87.54%, Test Accuracy All: 53.83%\n"
          ]
        },
        {
          "name": "stderr",
          "output_type": "stream",
          "text": [
            "COMBINATIONS: 10it [00:06,  1.62it/s]\n",
            "LABELS:  60%|██████    | 3/5 [00:11<00:08,  4.36s/it]"
          ]
        },
        {
          "name": "stdout",
          "output_type": "stream",
          "text": [
            "94-3-58-40-99, Subset remove_2_labels_[3, 4], Test Accuracy Retain: 90.46%, Test Accuracy All: 51.61%\n"
          ]
        },
        {
          "name": "stderr",
          "output_type": "stream",
          "text": []
        },
        {
          "name": "stdout",
          "output_type": "stream",
          "text": [
            "94-3-58-40-99, Subset remove_3_labels_[0, 1, 2], Test Accuracy Retain: 97.65%, Test Accuracy All: 41.94%\n",
            "94-3-58-40-99, Subset remove_3_labels_[0, 1, 3], Test Accuracy Retain: 94.24%, Test Accuracy All: 36.29%\n"
          ]
        },
        {
          "name": "stderr",
          "output_type": "stream",
          "text": []
        },
        {
          "name": "stdout",
          "output_type": "stream",
          "text": [
            "94-3-58-40-99, Subset remove_3_labels_[0, 1, 4], Test Accuracy Retain: 97.83%, Test Accuracy All: 36.29%\n"
          ]
        },
        {
          "name": "stderr",
          "output_type": "stream",
          "text": []
        },
        {
          "name": "stdout",
          "output_type": "stream",
          "text": [
            "94-3-58-40-99, Subset remove_3_labels_[0, 2, 3], Test Accuracy Retain: 96.60%, Test Accuracy All: 40.12%\n"
          ]
        },
        {
          "name": "stderr",
          "output_type": "stream",
          "text": []
        },
        {
          "name": "stdout",
          "output_type": "stream",
          "text": [
            "94-3-58-40-99, Subset remove_3_labels_[0, 2, 4], Test Accuracy Retain: 96.48%, Test Accuracy All: 38.71%\n"
          ]
        },
        {
          "name": "stderr",
          "output_type": "stream",
          "text": []
        },
        {
          "name": "stdout",
          "output_type": "stream",
          "text": [
            "94-3-58-40-99, Subset remove_3_labels_[0, 3, 4], Test Accuracy Retain: 92.09%, Test Accuracy All: 32.86%\n"
          ]
        },
        {
          "name": "stderr",
          "output_type": "stream",
          "text": []
        },
        {
          "name": "stdout",
          "output_type": "stream",
          "text": [
            "94-3-58-40-99, Subset remove_3_labels_[1, 2, 3], Test Accuracy Retain: 81.94%, Test Accuracy All: 35.69%\n"
          ]
        },
        {
          "name": "stderr",
          "output_type": "stream",
          "text": []
        },
        {
          "name": "stdout",
          "output_type": "stream",
          "text": [
            "94-3-58-40-99, Subset remove_3_labels_[1, 2, 4], Test Accuracy Retain: 80.38%, Test Accuracy All: 33.87%\n"
          ]
        },
        {
          "name": "stderr",
          "output_type": "stream",
          "text": []
        },
        {
          "name": "stdout",
          "output_type": "stream",
          "text": [
            "94-3-58-40-99, Subset remove_3_labels_[1, 3, 4], Test Accuracy Retain: 98.40%, Test Accuracy All: 37.10%\n"
          ]
        },
        {
          "name": "stderr",
          "output_type": "stream",
          "text": [
            "COMBINATIONS: 10it [00:04,  2.07it/s]\n",
            "LABELS:  80%|████████  | 4/5 [00:16<00:04,  4.55s/it]"
          ]
        },
        {
          "name": "stdout",
          "output_type": "stream",
          "text": [
            "94-3-58-40-99, Subset remove_3_labels_[2, 3, 4], Test Accuracy Retain: 92.08%, Test Accuracy All: 37.50%\n"
          ]
        },
        {
          "name": "stderr",
          "output_type": "stream",
          "text": []
        },
        {
          "name": "stdout",
          "output_type": "stream",
          "text": [
            "94-3-58-40-99, Subset remove_4_labels_[0, 1, 2, 3], Test Accuracy Retain: 100.00%, Test Accuracy All: 22.18%\n"
          ]
        },
        {
          "name": "stderr",
          "output_type": "stream",
          "text": []
        },
        {
          "name": "stdout",
          "output_type": "stream",
          "text": [
            "94-3-58-40-99, Subset remove_4_labels_[0, 1, 2, 4], Test Accuracy Retain: 100.00%, Test Accuracy All: 20.77%\n"
          ]
        },
        {
          "name": "stderr",
          "output_type": "stream",
          "text": []
        },
        {
          "name": "stdout",
          "output_type": "stream",
          "text": [
            "94-3-58-40-99, Subset remove_4_labels_[0, 1, 3, 4], Test Accuracy Retain: 100.00%, Test Accuracy All: 16.33%\n"
          ]
        },
        {
          "name": "stderr",
          "output_type": "stream",
          "text": []
        },
        {
          "name": "stdout",
          "output_type": "stream",
          "text": [
            "94-3-58-40-99, Subset remove_4_labels_[0, 2, 3, 4], Test Accuracy Retain: 100.00%, Test Accuracy All: 19.35%\n"
          ]
        },
        {
          "name": "stderr",
          "output_type": "stream",
          "text": [
            "COMBINATIONS: 5it [00:01,  3.17it/s]\n",
            "LABELS: 100%|██████████| 5/5 [00:17<00:00,  3.56s/it]"
          ]
        },
        {
          "name": "stdout",
          "output_type": "stream",
          "text": [
            "94-3-58-40-99, Subset remove_4_labels_[1, 2, 3, 4], Test Accuracy Retain: 100.00%, Test Accuracy All: 21.37%\n"
          ]
        },
        {
          "name": "stderr",
          "output_type": "stream",
          "text": [
            "\n",
            "COMBINATIONS: 1it [00:01,  1.21s/it]?, ?it/s]\n",
            "LABELS:  20%|██        | 1/5 [00:01<00:04,  1.22s/it]"
          ]
        },
        {
          "name": "stdout",
          "output_type": "stream",
          "text": [
            "62-76-49-97-48, Subset remove_0_labels_[], Test Accuracy Retain: 95.85%, Test Accuracy All: 95.85%\n"
          ]
        },
        {
          "name": "stderr",
          "output_type": "stream",
          "text": []
        },
        {
          "name": "stdout",
          "output_type": "stream",
          "text": [
            "62-76-49-97-48, Subset remove_1_labels_[0], Test Accuracy Retain: 94.17%, Test Accuracy All: 76.68%\n"
          ]
        },
        {
          "name": "stderr",
          "output_type": "stream",
          "text": []
        },
        {
          "name": "stdout",
          "output_type": "stream",
          "text": [
            "62-76-49-97-48, Subset remove_1_labels_[1], Test Accuracy Retain: 94.46%, Test Accuracy All: 77.47%\n",
            "62-76-49-97-48, Subset remove_1_labels_[2], Test Accuracy Retain: 96.06%, Test Accuracy All: 77.08%\n"
          ]
        },
        {
          "name": "stderr",
          "output_type": "stream",
          "text": []
        },
        {
          "name": "stdout",
          "output_type": "stream",
          "text": [
            "62-76-49-97-48, Subset remove_1_labels_[3], Test Accuracy Retain: 94.50%, Test Accuracy All: 74.70%\n"
          ]
        },
        {
          "name": "stderr",
          "output_type": "stream",
          "text": [
            "COMBINATIONS: 5it [00:04,  1.17it/s]\n",
            "LABELS:  40%|████      | 2/5 [00:05<00:09,  3.04s/it]"
          ]
        },
        {
          "name": "stdout",
          "output_type": "stream",
          "text": [
            "62-76-49-97-48, Subset remove_1_labels_[4], Test Accuracy Retain: 96.68%, Test Accuracy All: 74.70%\n"
          ]
        },
        {
          "name": "stderr",
          "output_type": "stream",
          "text": []
        },
        {
          "name": "stdout",
          "output_type": "stream",
          "text": [
            "62-76-49-97-48, Subset remove_2_labels_[0, 1], Test Accuracy Retain: 89.10%, Test Accuracy All: 56.52%\n"
          ]
        },
        {
          "name": "stderr",
          "output_type": "stream",
          "text": []
        },
        {
          "name": "stdout",
          "output_type": "stream",
          "text": [
            "62-76-49-97-48, Subset remove_2_labels_[0, 2], Test Accuracy Retain: 94.87%, Test Accuracy All: 58.50%\n"
          ]
        },
        {
          "name": "stderr",
          "output_type": "stream",
          "text": []
        },
        {
          "name": "stdout",
          "output_type": "stream",
          "text": [
            "62-76-49-97-48, Subset remove_2_labels_[0, 3], Test Accuracy Retain: 90.20%, Test Accuracy All: 54.55%\n"
          ]
        },
        {
          "name": "stderr",
          "output_type": "stream",
          "text": []
        },
        {
          "name": "stdout",
          "output_type": "stream",
          "text": [
            "62-76-49-97-48, Subset remove_2_labels_[0, 4], Test Accuracy Retain: 89.90%, Test Accuracy All: 52.77%\n"
          ]
        },
        {
          "name": "stderr",
          "output_type": "stream",
          "text": []
        },
        {
          "name": "stdout",
          "output_type": "stream",
          "text": [
            "62-76-49-97-48, Subset remove_2_labels_[1, 2], Test Accuracy Retain: 97.46%, Test Accuracy All: 60.67%\n"
          ]
        },
        {
          "name": "stderr",
          "output_type": "stream",
          "text": []
        },
        {
          "name": "stdout",
          "output_type": "stream",
          "text": [
            "62-76-49-97-48, Subset remove_2_labels_[1, 3], Test Accuracy Retain: 85.76%, Test Accuracy All: 52.37%\n"
          ]
        },
        {
          "name": "stderr",
          "output_type": "stream",
          "text": []
        },
        {
          "name": "stdout",
          "output_type": "stream",
          "text": [
            "62-76-49-97-48, Subset remove_2_labels_[1, 4], Test Accuracy Retain: 97.67%, Test Accuracy All: 57.91%\n"
          ]
        },
        {
          "name": "stderr",
          "output_type": "stream",
          "text": []
        },
        {
          "name": "stdout",
          "output_type": "stream",
          "text": [
            "62-76-49-97-48, Subset remove_2_labels_[2, 3], Test Accuracy Retain: 92.00%, Test Accuracy All: 54.55%\n"
          ]
        },
        {
          "name": "stderr",
          "output_type": "stream",
          "text": []
        },
        {
          "name": "stdout",
          "output_type": "stream",
          "text": [
            "62-76-49-97-48, Subset remove_2_labels_[2, 4], Test Accuracy Retain: 94.50%, Test Accuracy All: 54.35%\n"
          ]
        },
        {
          "name": "stderr",
          "output_type": "stream",
          "text": [
            "COMBINATIONS: 10it [00:06,  1.49it/s]\n",
            "LABELS:  60%|██████    | 3/5 [00:12<00:09,  4.72s/it]"
          ]
        },
        {
          "name": "stdout",
          "output_type": "stream",
          "text": [
            "62-76-49-97-48, Subset remove_2_labels_[3, 4], Test Accuracy Retain: 91.93%, Test Accuracy All: 51.78%\n"
          ]
        },
        {
          "name": "stderr",
          "output_type": "stream",
          "text": []
        },
        {
          "name": "stdout",
          "output_type": "stream",
          "text": [
            "62-76-49-97-48, Subset remove_3_labels_[0, 1, 2], Test Accuracy Retain: 95.48%, Test Accuracy All: 41.70%\n"
          ]
        },
        {
          "name": "stderr",
          "output_type": "stream",
          "text": []
        },
        {
          "name": "stdout",
          "output_type": "stream",
          "text": [
            "62-76-49-97-48, Subset remove_3_labels_[0, 1, 3], Test Accuracy Retain: 86.05%, Test Accuracy All: 36.56%\n"
          ]
        },
        {
          "name": "stderr",
          "output_type": "stream",
          "text": []
        },
        {
          "name": "stdout",
          "output_type": "stream",
          "text": [
            "62-76-49-97-48, Subset remove_3_labels_[0, 1, 4], Test Accuracy Retain: 93.69%, Test Accuracy All: 38.14%\n"
          ]
        },
        {
          "name": "stderr",
          "output_type": "stream",
          "text": []
        },
        {
          "name": "stdout",
          "output_type": "stream",
          "text": [
            "62-76-49-97-48, Subset remove_3_labels_[0, 2, 3], Test Accuracy Retain: 96.12%, Test Accuracy All: 39.13%\n",
            "62-76-49-97-48, Subset remove_3_labels_[0, 2, 4], Test Accuracy Retain: 94.92%, Test Accuracy All: 36.96%\n"
          ]
        },
        {
          "name": "stderr",
          "output_type": "stream",
          "text": []
        },
        {
          "name": "stdout",
          "output_type": "stream",
          "text": [
            "62-76-49-97-48, Subset remove_3_labels_[0, 3, 4], Test Accuracy Retain: 90.05%, Test Accuracy All: 33.99%\n"
          ]
        },
        {
          "name": "stderr",
          "output_type": "stream",
          "text": []
        },
        {
          "name": "stdout",
          "output_type": "stream",
          "text": [
            "62-76-49-97-48, Subset remove_3_labels_[1, 2, 3], Test Accuracy Retain: 97.61%, Test Accuracy All: 40.32%\n"
          ]
        },
        {
          "name": "stderr",
          "output_type": "stream",
          "text": []
        },
        {
          "name": "stdout",
          "output_type": "stream",
          "text": [
            "62-76-49-97-48, Subset remove_3_labels_[1, 2, 4], Test Accuracy Retain: 99.00%, Test Accuracy All: 39.13%\n"
          ]
        },
        {
          "name": "stderr",
          "output_type": "stream",
          "text": []
        },
        {
          "name": "stdout",
          "output_type": "stream",
          "text": [
            "62-76-49-97-48, Subset remove_3_labels_[1, 3, 4], Test Accuracy Retain: 95.36%, Test Accuracy All: 36.56%\n"
          ]
        },
        {
          "name": "stderr",
          "output_type": "stream",
          "text": [
            "COMBINATIONS: 10it [00:04,  2.03it/s]\n",
            "LABELS:  80%|████████  | 4/5 [00:17<00:04,  4.81s/it]"
          ]
        },
        {
          "name": "stdout",
          "output_type": "stream",
          "text": [
            "62-76-49-97-48, Subset remove_3_labels_[2, 3, 4], Test Accuracy Retain: 89.19%, Test Accuracy All: 32.61%\n"
          ]
        },
        {
          "name": "stderr",
          "output_type": "stream",
          "text": []
        },
        {
          "name": "stdout",
          "output_type": "stream",
          "text": [
            "62-76-49-97-48, Subset remove_4_labels_[0, 1, 2, 3], Test Accuracy Retain: 100.00%, Test Accuracy All: 22.73%\n"
          ]
        },
        {
          "name": "stderr",
          "output_type": "stream",
          "text": []
        },
        {
          "name": "stdout",
          "output_type": "stream",
          "text": [
            "62-76-49-97-48, Subset remove_4_labels_[0, 1, 2, 4], Test Accuracy Retain: 100.00%, Test Accuracy All: 20.95%\n"
          ]
        },
        {
          "name": "stderr",
          "output_type": "stream",
          "text": []
        },
        {
          "name": "stdout",
          "output_type": "stream",
          "text": [
            "62-76-49-97-48, Subset remove_4_labels_[0, 1, 3, 4], Test Accuracy Retain: 100.00%, Test Accuracy All: 19.76%\n"
          ]
        },
        {
          "name": "stderr",
          "output_type": "stream",
          "text": []
        },
        {
          "name": "stdout",
          "output_type": "stream",
          "text": [
            "62-76-49-97-48, Subset remove_4_labels_[0, 2, 3, 4], Test Accuracy Retain: 100.00%, Test Accuracy All: 17.98%\n"
          ]
        },
        {
          "name": "stderr",
          "output_type": "stream",
          "text": [
            "COMBINATIONS: 5it [00:01,  3.05it/s]\n",
            "LABELS: 100%|██████████| 5/5 [00:18<00:00,  3.77s/it]"
          ]
        },
        {
          "name": "stdout",
          "output_type": "stream",
          "text": [
            "62-76-49-97-48, Subset remove_4_labels_[1, 2, 3, 4], Test Accuracy Retain: 100.00%, Test Accuracy All: 18.58%\n"
          ]
        },
        {
          "name": "stderr",
          "output_type": "stream",
          "text": [
            "\n",
            "COMBINATIONS: 1it [00:01,  1.13s/it]?, ?it/s]\n",
            "LABELS:  20%|██        | 1/5 [00:01<00:04,  1.13s/it]"
          ]
        },
        {
          "name": "stdout",
          "output_type": "stream",
          "text": [
            "45-85-53-19-28, Subset remove_0_labels_[], Test Accuracy Retain: 95.14%, Test Accuracy All: 95.14%\n"
          ]
        },
        {
          "name": "stderr",
          "output_type": "stream",
          "text": []
        },
        {
          "name": "stdout",
          "output_type": "stream",
          "text": [
            "45-85-53-19-28, Subset remove_1_labels_[0], Test Accuracy Retain: 92.42%, Test Accuracy All: 76.52%\n"
          ]
        },
        {
          "name": "stderr",
          "output_type": "stream",
          "text": []
        },
        {
          "name": "stdout",
          "output_type": "stream",
          "text": [
            "45-85-53-19-28, Subset remove_1_labels_[1], Test Accuracy Retain: 96.16%, Test Accuracy All: 81.17%\n"
          ]
        },
        {
          "name": "stderr",
          "output_type": "stream",
          "text": []
        },
        {
          "name": "stdout",
          "output_type": "stream",
          "text": [
            "45-85-53-19-28, Subset remove_1_labels_[2], Test Accuracy Retain: 91.30%, Test Accuracy All: 72.27%\n"
          ]
        },
        {
          "name": "stderr",
          "output_type": "stream",
          "text": []
        },
        {
          "name": "stdout",
          "output_type": "stream",
          "text": [
            "45-85-53-19-28, Subset remove_1_labels_[3], Test Accuracy Retain: 88.83%, Test Accuracy All: 69.23%\n",
            "45-85-53-19-28, Subset remove_1_labels_[4], Test Accuracy Retain: 93.58%, Test Accuracy All: 70.85%\n"
          ]
        },
        {
          "name": "stderr",
          "output_type": "stream",
          "text": [
            "COMBINATIONS: 5it [00:04,  1.17it/s]\n",
            "LABELS:  40%|████      | 2/5 [00:05<00:08,  2.98s/it]"
          ]
        },
        {
          "name": "stdout",
          "output_type": "stream",
          "text": [
            "45-85-53-19-28, Subset remove_2_labels_[0, 1], Test Accuracy Retain: 95.48%, Test Accuracy All: 64.17%\n"
          ]
        },
        {
          "name": "stderr",
          "output_type": "stream",
          "text": []
        },
        {
          "name": "stdout",
          "output_type": "stream",
          "text": [
            "45-85-53-19-28, Subset remove_2_labels_[0, 2], Test Accuracy Retain: 86.93%, Test Accuracy All: 53.85%\n"
          ]
        },
        {
          "name": "stderr",
          "output_type": "stream",
          "text": []
        },
        {
          "name": "stdout",
          "output_type": "stream",
          "text": [
            "45-85-53-19-28, Subset remove_2_labels_[0, 3], Test Accuracy Retain: 85.33%, Test Accuracy All: 51.82%\n"
          ]
        },
        {
          "name": "stderr",
          "output_type": "stream",
          "text": []
        },
        {
          "name": "stdout",
          "output_type": "stream",
          "text": [
            "45-85-53-19-28, Subset remove_2_labels_[0, 4], Test Accuracy Retain: 91.00%, Test Accuracy All: 53.24%\n"
          ]
        },
        {
          "name": "stderr",
          "output_type": "stream",
          "text": []
        },
        {
          "name": "stdout",
          "output_type": "stream",
          "text": [
            "45-85-53-19-28, Subset remove_2_labels_[1, 2], Test Accuracy Retain: 94.90%, Test Accuracy All: 60.32%\n"
          ]
        },
        {
          "name": "stderr",
          "output_type": "stream",
          "text": []
        },
        {
          "name": "stdout",
          "output_type": "stream",
          "text": [
            "45-85-53-19-28, Subset remove_2_labels_[1, 3], Test Accuracy Retain: 93.18%, Test Accuracy All: 58.10%\n"
          ]
        },
        {
          "name": "stderr",
          "output_type": "stream",
          "text": []
        },
        {
          "name": "stdout",
          "output_type": "stream",
          "text": [
            "45-85-53-19-28, Subset remove_2_labels_[1, 4], Test Accuracy Retain: 95.96%, Test Accuracy All: 57.69%\n"
          ]
        },
        {
          "name": "stderr",
          "output_type": "stream",
          "text": []
        },
        {
          "name": "stdout",
          "output_type": "stream",
          "text": [
            "45-85-53-19-28, Subset remove_2_labels_[2, 3], Test Accuracy Retain: 80.85%, Test Accuracy All: 46.15%\n"
          ]
        },
        {
          "name": "stderr",
          "output_type": "stream",
          "text": []
        },
        {
          "name": "stdout",
          "output_type": "stream",
          "text": [
            "45-85-53-19-28, Subset remove_2_labels_[2, 4], Test Accuracy Retain: 94.46%, Test Accuracy All: 51.82%\n"
          ]
        },
        {
          "name": "stderr",
          "output_type": "stream",
          "text": [
            "COMBINATIONS: 10it [00:06,  1.49it/s]\n",
            "LABELS:  60%|██████    | 3/5 [00:12<00:09,  4.68s/it]"
          ]
        },
        {
          "name": "stdout",
          "output_type": "stream",
          "text": [
            "45-85-53-19-28, Subset remove_2_labels_[3, 4], Test Accuracy Retain: 88.68%, Test Accuracy All: 47.57%\n"
          ]
        },
        {
          "name": "stderr",
          "output_type": "stream",
          "text": []
        },
        {
          "name": "stdout",
          "output_type": "stream",
          "text": [
            "45-85-53-19-28, Subset remove_3_labels_[0, 1, 2], Test Accuracy Retain: 99.56%, Test Accuracy All: 46.15%\n"
          ]
        },
        {
          "name": "stderr",
          "output_type": "stream",
          "text": []
        },
        {
          "name": "stdout",
          "output_type": "stream",
          "text": [
            "45-85-53-19-28, Subset remove_3_labels_[0, 1, 3], Test Accuracy Retain: 92.83%, Test Accuracy All: 41.90%\n"
          ]
        },
        {
          "name": "stderr",
          "output_type": "stream",
          "text": []
        },
        {
          "name": "stdout",
          "output_type": "stream",
          "text": [
            "45-85-53-19-28, Subset remove_3_labels_[0, 1, 4], Test Accuracy Retain: 100.00%, Test Accuracy All: 42.91%\n"
          ]
        },
        {
          "name": "stderr",
          "output_type": "stream",
          "text": []
        },
        {
          "name": "stdout",
          "output_type": "stream",
          "text": [
            "45-85-53-19-28, Subset remove_3_labels_[0, 2, 3], Test Accuracy Retain: 72.59%, Test Accuracy All: 28.95%\n"
          ]
        },
        {
          "name": "stderr",
          "output_type": "stream",
          "text": []
        },
        {
          "name": "stdout",
          "output_type": "stream",
          "text": [
            "45-85-53-19-28, Subset remove_3_labels_[0, 2, 4], Test Accuracy Retain: 100.00%, Test Accuracy All: 37.65%\n",
            "45-85-53-19-28, Subset remove_3_labels_[0, 3, 4], Test Accuracy Retain: 86.67%, Test Accuracy All: 31.58%\n"
          ]
        },
        {
          "name": "stderr",
          "output_type": "stream",
          "text": []
        },
        {
          "name": "stdout",
          "output_type": "stream",
          "text": [
            "45-85-53-19-28, Subset remove_3_labels_[1, 2, 3], Test Accuracy Retain: 88.29%, Test Accuracy All: 36.64%\n"
          ]
        },
        {
          "name": "stderr",
          "output_type": "stream",
          "text": []
        },
        {
          "name": "stdout",
          "output_type": "stream",
          "text": [
            "45-85-53-19-28, Subset remove_3_labels_[1, 2, 4], Test Accuracy Retain: 99.48%, Test Accuracy All: 39.07%\n"
          ]
        },
        {
          "name": "stderr",
          "output_type": "stream",
          "text": []
        },
        {
          "name": "stdout",
          "output_type": "stream",
          "text": [
            "45-85-53-19-28, Subset remove_3_labels_[1, 3, 4], Test Accuracy Retain: 95.74%, Test Accuracy All: 36.44%\n"
          ]
        },
        {
          "name": "stderr",
          "output_type": "stream",
          "text": [
            "COMBINATIONS: 10it [00:04,  2.00it/s]\n",
            "LABELS:  80%|████████  | 4/5 [00:17<00:04,  4.81s/it]"
          ]
        },
        {
          "name": "stdout",
          "output_type": "stream",
          "text": [
            "45-85-53-19-28, Subset remove_3_labels_[2, 3, 4], Test Accuracy Retain: 87.04%, Test Accuracy All: 28.54%\n"
          ]
        },
        {
          "name": "stderr",
          "output_type": "stream",
          "text": []
        },
        {
          "name": "stdout",
          "output_type": "stream",
          "text": [
            "45-85-53-19-28, Subset remove_4_labels_[0, 1, 2, 3], Test Accuracy Retain: 100.00%, Test Accuracy All: 24.29%\n"
          ]
        },
        {
          "name": "stderr",
          "output_type": "stream",
          "text": []
        },
        {
          "name": "stdout",
          "output_type": "stream",
          "text": [
            "45-85-53-19-28, Subset remove_4_labels_[0, 1, 2, 4], Test Accuracy Retain: 100.00%, Test Accuracy All: 22.06%\n"
          ]
        },
        {
          "name": "stderr",
          "output_type": "stream",
          "text": []
        },
        {
          "name": "stdout",
          "output_type": "stream",
          "text": [
            "45-85-53-19-28, Subset remove_4_labels_[0, 1, 3, 4], Test Accuracy Retain: 100.00%, Test Accuracy All: 20.85%\n"
          ]
        },
        {
          "name": "stderr",
          "output_type": "stream",
          "text": []
        },
        {
          "name": "stdout",
          "output_type": "stream",
          "text": [
            "45-85-53-19-28, Subset remove_4_labels_[0, 2, 3, 4], Test Accuracy Retain: 100.00%, Test Accuracy All: 15.59%\n"
          ]
        },
        {
          "name": "stderr",
          "output_type": "stream",
          "text": [
            "COMBINATIONS: 5it [00:01,  2.99it/s]\n",
            "LABELS: 100%|██████████| 5/5 [00:18<00:00,  3.76s/it]"
          ]
        },
        {
          "name": "stdout",
          "output_type": "stream",
          "text": [
            "45-85-53-19-28, Subset remove_4_labels_[1, 2, 3, 4], Test Accuracy Retain: 100.00%, Test Accuracy All: 17.21%\n"
          ]
        },
        {
          "name": "stderr",
          "output_type": "stream",
          "text": [
            "\n",
            "COMBINATIONS: 1it [00:01,  1.30s/it]?, ?it/s]\n",
            "LABELS:  20%|██        | 1/5 [00:01<00:05,  1.30s/it]"
          ]
        },
        {
          "name": "stdout",
          "output_type": "stream",
          "text": [
            "61-18-90-73-25, Subset remove_0_labels_[], Test Accuracy Retain: 97.87%, Test Accuracy All: 97.87%\n"
          ]
        },
        {
          "name": "stderr",
          "output_type": "stream",
          "text": []
        },
        {
          "name": "stdout",
          "output_type": "stream",
          "text": [
            "61-18-90-73-25, Subset remove_1_labels_[0], Test Accuracy Retain: 95.92%, Test Accuracy All: 77.37%\n"
          ]
        },
        {
          "name": "stderr",
          "output_type": "stream",
          "text": []
        },
        {
          "name": "stdout",
          "output_type": "stream",
          "text": [
            "61-18-90-73-25, Subset remove_1_labels_[1], Test Accuracy Retain: 96.02%, Test Accuracy All: 74.66%\n"
          ]
        },
        {
          "name": "stderr",
          "output_type": "stream",
          "text": []
        },
        {
          "name": "stdout",
          "output_type": "stream",
          "text": [
            "61-18-90-73-25, Subset remove_1_labels_[2], Test Accuracy Retain: 97.80%, Test Accuracy All: 77.56%\n"
          ]
        },
        {
          "name": "stderr",
          "output_type": "stream",
          "text": []
        },
        {
          "name": "stdout",
          "output_type": "stream",
          "text": [
            "61-18-90-73-25, Subset remove_1_labels_[3], Test Accuracy Retain: 97.81%, Test Accuracy All: 77.76%\n"
          ]
        },
        {
          "name": "stderr",
          "output_type": "stream",
          "text": [
            "COMBINATIONS: 5it [00:04,  1.14it/s]\n",
            "LABELS:  40%|████      | 2/5 [00:05<00:09,  3.12s/it]"
          ]
        },
        {
          "name": "stdout",
          "output_type": "stream",
          "text": [
            "61-18-90-73-25, Subset remove_1_labels_[4], Test Accuracy Retain: 96.96%, Test Accuracy All: 80.27%\n"
          ]
        },
        {
          "name": "stderr",
          "output_type": "stream",
          "text": []
        },
        {
          "name": "stdout",
          "output_type": "stream",
          "text": [
            "61-18-90-73-25, Subset remove_2_labels_[0, 1], Test Accuracy Retain: 93.38%, Test Accuracy All: 54.55%\n"
          ]
        },
        {
          "name": "stderr",
          "output_type": "stream",
          "text": []
        },
        {
          "name": "stdout",
          "output_type": "stream",
          "text": [
            "61-18-90-73-25, Subset remove_2_labels_[0, 2], Test Accuracy Retain: 97.10%, Test Accuracy All: 58.22%\n"
          ]
        },
        {
          "name": "stderr",
          "output_type": "stream",
          "text": []
        },
        {
          "name": "stdout",
          "output_type": "stream",
          "text": [
            "61-18-90-73-25, Subset remove_2_labels_[0, 3], Test Accuracy Retain: 96.78%, Test Accuracy All: 58.22%\n"
          ]
        },
        {
          "name": "stderr",
          "output_type": "stream",
          "text": []
        },
        {
          "name": "stdout",
          "output_type": "stream",
          "text": [
            "61-18-90-73-25, Subset remove_2_labels_[0, 4], Test Accuracy Retain: 96.04%, Test Accuracy All: 60.93%\n"
          ]
        },
        {
          "name": "stderr",
          "output_type": "stream",
          "text": []
        },
        {
          "name": "stdout",
          "output_type": "stream",
          "text": [
            "61-18-90-73-25, Subset remove_2_labels_[1, 2], Test Accuracy Retain: 96.95%, Test Accuracy All: 55.32%\n"
          ]
        },
        {
          "name": "stderr",
          "output_type": "stream",
          "text": []
        },
        {
          "name": "stdout",
          "output_type": "stream",
          "text": [
            "61-18-90-73-25, Subset remove_2_labels_[1, 3], Test Accuracy Retain: 98.65%, Test Accuracy All: 56.48%\n"
          ]
        },
        {
          "name": "stderr",
          "output_type": "stream",
          "text": []
        },
        {
          "name": "stdout",
          "output_type": "stream",
          "text": [
            "61-18-90-73-25, Subset remove_2_labels_[1, 4], Test Accuracy Retain: 98.08%, Test Accuracy All: 59.38%\n"
          ]
        },
        {
          "name": "stderr",
          "output_type": "stream",
          "text": []
        },
        {
          "name": "stdout",
          "output_type": "stream",
          "text": [
            "61-18-90-73-25, Subset remove_2_labels_[2, 3], Test Accuracy Retain: 99.34%, Test Accuracy All: 58.41%\n"
          ]
        },
        {
          "name": "stderr",
          "output_type": "stream",
          "text": []
        },
        {
          "name": "stdout",
          "output_type": "stream",
          "text": [
            "61-18-90-73-25, Subset remove_2_labels_[2, 4], Test Accuracy Retain: 98.75%, Test Accuracy All: 61.32%\n"
          ]
        },
        {
          "name": "stderr",
          "output_type": "stream",
          "text": [
            "COMBINATIONS: 10it [00:07,  1.39it/s]\n",
            "LABELS:  60%|██████    | 3/5 [00:12<00:09,  4.99s/it]"
          ]
        },
        {
          "name": "stdout",
          "output_type": "stream",
          "text": [
            "61-18-90-73-25, Subset remove_2_labels_[3, 4], Test Accuracy Retain: 96.58%, Test Accuracy All: 60.15%\n"
          ]
        },
        {
          "name": "stderr",
          "output_type": "stream",
          "text": []
        },
        {
          "name": "stdout",
          "output_type": "stream",
          "text": [
            "61-18-90-73-25, Subset remove_3_labels_[0, 1, 2], Test Accuracy Retain: 89.74%, Test Accuracy All: 33.85%\n"
          ]
        },
        {
          "name": "stderr",
          "output_type": "stream",
          "text": []
        },
        {
          "name": "stdout",
          "output_type": "stream",
          "text": [
            "61-18-90-73-25, Subset remove_3_labels_[0, 1, 3], Test Accuracy Retain: 96.94%, Test Accuracy All: 36.75%\n"
          ]
        },
        {
          "name": "stderr",
          "output_type": "stream",
          "text": []
        },
        {
          "name": "stdout",
          "output_type": "stream",
          "text": [
            "61-18-90-73-25, Subset remove_3_labels_[0, 1, 4], Test Accuracy Retain: 92.96%, Test Accuracy All: 38.30%\n"
          ]
        },
        {
          "name": "stderr",
          "output_type": "stream",
          "text": []
        },
        {
          "name": "stdout",
          "output_type": "stream",
          "text": [
            "61-18-90-73-25, Subset remove_3_labels_[0, 2, 3], Test Accuracy Retain: 100.00%, Test Accuracy All: 39.46%\n",
            "61-18-90-73-25, Subset remove_3_labels_[0, 2, 4], Test Accuracy Retain: 99.10%, Test Accuracy All: 42.36%\n"
          ]
        },
        {
          "name": "stderr",
          "output_type": "stream",
          "text": []
        },
        {
          "name": "stdout",
          "output_type": "stream",
          "text": [
            "61-18-90-73-25, Subset remove_3_labels_[0, 3, 4], Test Accuracy Retain: 95.50%, Test Accuracy All: 41.01%\n"
          ]
        },
        {
          "name": "stderr",
          "output_type": "stream",
          "text": []
        },
        {
          "name": "stdout",
          "output_type": "stream",
          "text": [
            "61-18-90-73-25, Subset remove_3_labels_[1, 2, 3], Test Accuracy Retain: 100.00%, Test Accuracy All: 36.56%\n"
          ]
        },
        {
          "name": "stderr",
          "output_type": "stream",
          "text": []
        },
        {
          "name": "stdout",
          "output_type": "stream",
          "text": [
            "61-18-90-73-25, Subset remove_3_labels_[1, 2, 4], Test Accuracy Retain: 99.51%, Test Accuracy All: 39.65%\n"
          ]
        },
        {
          "name": "stderr",
          "output_type": "stream",
          "text": []
        },
        {
          "name": "stdout",
          "output_type": "stream",
          "text": [
            "61-18-90-73-25, Subset remove_3_labels_[1, 3, 4], Test Accuracy Retain: 100.00%, Test Accuracy All: 40.04%\n"
          ]
        },
        {
          "name": "stderr",
          "output_type": "stream",
          "text": [
            "COMBINATIONS: 10it [00:05,  1.86it/s]\n",
            "LABELS:  80%|████████  | 4/5 [00:18<00:05,  5.14s/it]"
          ]
        },
        {
          "name": "stdout",
          "output_type": "stream",
          "text": [
            "61-18-90-73-25, Subset remove_3_labels_[2, 3, 4], Test Accuracy Retain: 98.60%, Test Accuracy All: 41.01%\n"
          ]
        },
        {
          "name": "stderr",
          "output_type": "stream",
          "text": []
        },
        {
          "name": "stdout",
          "output_type": "stream",
          "text": [
            "61-18-90-73-25, Subset remove_4_labels_[0, 1, 2, 3], Test Accuracy Retain: 100.00%, Test Accuracy All: 17.21%\n"
          ]
        },
        {
          "name": "stderr",
          "output_type": "stream",
          "text": []
        },
        {
          "name": "stdout",
          "output_type": "stream",
          "text": [
            "61-18-90-73-25, Subset remove_4_labels_[0, 1, 2, 4], Test Accuracy Retain: 100.00%, Test Accuracy All: 20.50%\n"
          ]
        },
        {
          "name": "stderr",
          "output_type": "stream",
          "text": []
        },
        {
          "name": "stdout",
          "output_type": "stream",
          "text": [
            "61-18-90-73-25, Subset remove_4_labels_[0, 1, 3, 4], Test Accuracy Retain: 100.00%, Test Accuracy All: 20.70%\n"
          ]
        },
        {
          "name": "stderr",
          "output_type": "stream",
          "text": []
        },
        {
          "name": "stdout",
          "output_type": "stream",
          "text": [
            "61-18-90-73-25, Subset remove_4_labels_[0, 2, 3, 4], Test Accuracy Retain: 100.00%, Test Accuracy All: 22.24%\n"
          ]
        },
        {
          "name": "stderr",
          "output_type": "stream",
          "text": [
            "COMBINATIONS: 5it [00:01,  2.96it/s]\n",
            "LABELS: 100%|██████████| 5/5 [00:19<00:00,  3.99s/it]"
          ]
        },
        {
          "name": "stdout",
          "output_type": "stream",
          "text": [
            "61-18-90-73-25, Subset remove_4_labels_[1, 2, 3, 4], Test Accuracy Retain: 100.00%, Test Accuracy All: 19.34%\n"
          ]
        },
        {
          "name": "stderr",
          "output_type": "stream",
          "text": [
            "\n",
            "COMBINATIONS: 1it [00:01,  1.19s/it]?, ?it/s]\n",
            "LABELS:  20%|██        | 1/5 [00:01<00:04,  1.19s/it]"
          ]
        },
        {
          "name": "stdout",
          "output_type": "stream",
          "text": [
            "13-8-5-35-46, Subset remove_0_labels_[], Test Accuracy Retain: 94.14%, Test Accuracy All: 94.14%\n"
          ]
        },
        {
          "name": "stderr",
          "output_type": "stream",
          "text": []
        },
        {
          "name": "stdout",
          "output_type": "stream",
          "text": [
            "13-8-5-35-46, Subset remove_1_labels_[0], Test Accuracy Retain: 91.14%, Test Accuracy All: 66.46%\n",
            "13-8-5-35-46, Subset remove_1_labels_[1], Test Accuracy Retain: 97.98%, Test Accuracy All: 78.38%\n"
          ]
        },
        {
          "name": "stderr",
          "output_type": "stream",
          "text": []
        },
        {
          "name": "stdout",
          "output_type": "stream",
          "text": [
            "13-8-5-35-46, Subset remove_1_labels_[2], Test Accuracy Retain: 97.80%, Test Accuracy All: 81.01%\n"
          ]
        },
        {
          "name": "stderr",
          "output_type": "stream",
          "text": []
        },
        {
          "name": "stdout",
          "output_type": "stream",
          "text": [
            "13-8-5-35-46, Subset remove_1_labels_[3], Test Accuracy Retain: 92.33%, Test Accuracy All: 75.35%\n"
          ]
        },
        {
          "name": "stderr",
          "output_type": "stream",
          "text": [
            "COMBINATIONS: 5it [00:04,  1.17it/s]\n",
            "LABELS:  40%|████      | 2/5 [00:05<00:09,  3.00s/it]"
          ]
        },
        {
          "name": "stdout",
          "output_type": "stream",
          "text": [
            "13-8-5-35-46, Subset remove_1_labels_[4], Test Accuracy Retain: 93.64%, Test Accuracy All: 77.37%\n"
          ]
        },
        {
          "name": "stderr",
          "output_type": "stream",
          "text": []
        },
        {
          "name": "stdout",
          "output_type": "stream",
          "text": [
            "13-8-5-35-46, Subset remove_2_labels_[0, 1], Test Accuracy Retain: 98.47%, Test Accuracy All: 52.12%\n"
          ]
        },
        {
          "name": "stderr",
          "output_type": "stream",
          "text": []
        },
        {
          "name": "stdout",
          "output_type": "stream",
          "text": [
            "13-8-5-35-46, Subset remove_2_labels_[0, 2], Test Accuracy Retain: 97.10%, Test Accuracy All: 54.14%\n"
          ]
        },
        {
          "name": "stderr",
          "output_type": "stream",
          "text": []
        },
        {
          "name": "stdout",
          "output_type": "stream",
          "text": [
            "13-8-5-35-46, Subset remove_2_labels_[0, 3], Test Accuracy Retain: 87.04%, Test Accuracy All: 47.47%\n"
          ]
        },
        {
          "name": "stderr",
          "output_type": "stream",
          "text": []
        },
        {
          "name": "stdout",
          "output_type": "stream",
          "text": [
            "13-8-5-35-46, Subset remove_2_labels_[0, 4], Test Accuracy Retain: 87.64%, Test Accuracy All: 48.69%\n"
          ]
        },
        {
          "name": "stderr",
          "output_type": "stream",
          "text": []
        },
        {
          "name": "stdout",
          "output_type": "stream",
          "text": [
            "13-8-5-35-46, Subset remove_2_labels_[1, 2], Test Accuracy Retain: 97.11%, Test Accuracy All: 61.01%\n"
          ]
        },
        {
          "name": "stderr",
          "output_type": "stream",
          "text": []
        },
        {
          "name": "stdout",
          "output_type": "stream",
          "text": [
            "13-8-5-35-46, Subset remove_2_labels_[1, 3], Test Accuracy Retain: 96.39%, Test Accuracy All: 59.39%\n"
          ]
        },
        {
          "name": "stderr",
          "output_type": "stream",
          "text": []
        },
        {
          "name": "stdout",
          "output_type": "stream",
          "text": [
            "13-8-5-35-46, Subset remove_2_labels_[1, 4], Test Accuracy Retain: 97.74%, Test Accuracy All: 61.21%\n"
          ]
        },
        {
          "name": "stderr",
          "output_type": "stream",
          "text": []
        },
        {
          "name": "stdout",
          "output_type": "stream",
          "text": [
            "13-8-5-35-46, Subset remove_2_labels_[2, 3], Test Accuracy Retain: 97.81%, Test Accuracy All: 63.03%\n"
          ]
        },
        {
          "name": "stderr",
          "output_type": "stream",
          "text": []
        },
        {
          "name": "stdout",
          "output_type": "stream",
          "text": [
            "13-8-5-35-46, Subset remove_2_labels_[2, 4], Test Accuracy Retain: 97.22%, Test Accuracy All: 63.64%\n"
          ]
        },
        {
          "name": "stderr",
          "output_type": "stream",
          "text": [
            "COMBINATIONS: 10it [00:06,  1.52it/s]\n",
            "LABELS:  60%|██████    | 3/5 [00:12<00:09,  4.63s/it]"
          ]
        },
        {
          "name": "stdout",
          "output_type": "stream",
          "text": [
            "13-8-5-35-46, Subset remove_2_labels_[3, 4], Test Accuracy Retain: 90.57%, Test Accuracy All: 58.18%\n"
          ]
        },
        {
          "name": "stderr",
          "output_type": "stream",
          "text": []
        },
        {
          "name": "stdout",
          "output_type": "stream",
          "text": [
            "13-8-5-35-46, Subset remove_3_labels_[0, 1, 2], Test Accuracy Retain: 98.31%, Test Accuracy All: 35.15%\n"
          ]
        },
        {
          "name": "stderr",
          "output_type": "stream",
          "text": []
        },
        {
          "name": "stdout",
          "output_type": "stream",
          "text": [
            "13-8-5-35-46, Subset remove_3_labels_[0, 1, 3], Test Accuracy Retain: 97.66%, Test Accuracy All: 33.74%\n"
          ]
        },
        {
          "name": "stderr",
          "output_type": "stream",
          "text": []
        },
        {
          "name": "stdout",
          "output_type": "stream",
          "text": [
            "13-8-5-35-46, Subset remove_3_labels_[0, 1, 4], Test Accuracy Retain: 97.73%, Test Accuracy All: 34.75%\n"
          ]
        },
        {
          "name": "stderr",
          "output_type": "stream",
          "text": []
        },
        {
          "name": "stdout",
          "output_type": "stream",
          "text": [
            "13-8-5-35-46, Subset remove_3_labels_[0, 2, 3], Test Accuracy Retain: 96.22%, Test Accuracy All: 35.96%\n"
          ]
        },
        {
          "name": "stderr",
          "output_type": "stream",
          "text": []
        },
        {
          "name": "stdout",
          "output_type": "stream",
          "text": [
            "13-8-5-35-46, Subset remove_3_labels_[0, 2, 4], Test Accuracy Retain: 97.89%, Test Accuracy All: 37.58%\n"
          ]
        },
        {
          "name": "stderr",
          "output_type": "stream",
          "text": []
        },
        {
          "name": "stdout",
          "output_type": "stream",
          "text": [
            "13-8-5-35-46, Subset remove_3_labels_[0, 3, 4], Test Accuracy Retain: 86.41%, Test Accuracy All: 32.12%\n"
          ]
        },
        {
          "name": "stderr",
          "output_type": "stream",
          "text": []
        },
        {
          "name": "stdout",
          "output_type": "stream",
          "text": [
            "13-8-5-35-46, Subset remove_3_labels_[1, 2, 3], Test Accuracy Retain: 99.09%, Test Accuracy All: 44.04%\n"
          ]
        },
        {
          "name": "stderr",
          "output_type": "stream",
          "text": []
        },
        {
          "name": "stdout",
          "output_type": "stream",
          "text": [
            "13-8-5-35-46, Subset remove_3_labels_[1, 2, 4], Test Accuracy Retain: 96.44%, Test Accuracy All: 43.84%\n"
          ]
        },
        {
          "name": "stderr",
          "output_type": "stream",
          "text": []
        },
        {
          "name": "stdout",
          "output_type": "stream",
          "text": [
            "13-8-5-35-46, Subset remove_3_labels_[1, 3, 4], Test Accuracy Retain: 100.00%, Test Accuracy All: 44.24%\n"
          ]
        },
        {
          "name": "stderr",
          "output_type": "stream",
          "text": [
            "COMBINATIONS: 10it [00:05,  1.94it/s]\n",
            "LABELS:  80%|████████  | 4/5 [00:17<00:04,  4.85s/it]"
          ]
        },
        {
          "name": "stdout",
          "output_type": "stream",
          "text": [
            "13-8-5-35-46, Subset remove_3_labels_[2, 3, 4], Test Accuracy Retain: 98.28%, Test Accuracy All: 46.26%\n"
          ]
        },
        {
          "name": "stderr",
          "output_type": "stream",
          "text": []
        },
        {
          "name": "stdout",
          "output_type": "stream",
          "text": [
            "13-8-5-35-46, Subset remove_4_labels_[0, 1, 2, 3], Test Accuracy Retain: 100.00%, Test Accuracy All: 17.37%\n"
          ]
        },
        {
          "name": "stderr",
          "output_type": "stream",
          "text": []
        },
        {
          "name": "stdout",
          "output_type": "stream",
          "text": [
            "13-8-5-35-46, Subset remove_4_labels_[0, 1, 2, 4], Test Accuracy Retain: 100.00%, Test Accuracy All: 18.38%\n"
          ]
        },
        {
          "name": "stderr",
          "output_type": "stream",
          "text": []
        },
        {
          "name": "stdout",
          "output_type": "stream",
          "text": [
            "13-8-5-35-46, Subset remove_4_labels_[0, 1, 3, 4], Test Accuracy Retain: 100.00%, Test Accuracy All: 17.17%\n"
          ]
        },
        {
          "name": "stderr",
          "output_type": "stream",
          "text": []
        },
        {
          "name": "stdout",
          "output_type": "stream",
          "text": [
            "13-8-5-35-46, Subset remove_4_labels_[0, 2, 3, 4], Test Accuracy Retain: 100.00%, Test Accuracy All: 20.00%\n"
          ]
        },
        {
          "name": "stderr",
          "output_type": "stream",
          "text": [
            "COMBINATIONS: 5it [00:01,  2.88it/s]\n",
            "LABELS: 100%|██████████| 5/5 [00:18<00:00,  3.79s/it]"
          ]
        },
        {
          "name": "stdout",
          "output_type": "stream",
          "text": [
            "13-8-5-35-46, Subset remove_4_labels_[1, 2, 3, 4], Test Accuracy Retain: 100.00%, Test Accuracy All: 27.07%\n"
          ]
        },
        {
          "name": "stderr",
          "output_type": "stream",
          "text": [
            "\n",
            "LABELS:   0%|          | 0/5 [00:00<?, ?it/s]"
          ]
        },
        {
          "name": "stdout",
          "output_type": "stream",
          "text": [
            "10-0-87-7-2, Subset remove_0_labels_[], Test Accuracy Retain: 95.28%, Test Accuracy All: 95.28%\n"
          ]
        },
        {
          "name": "stderr",
          "output_type": "stream",
          "text": [
            "COMBINATIONS: 1it [00:01,  1.40s/it]\n",
            "LABELS:  20%|██        | 1/5 [00:01<00:05,  1.40s/it]"
          ]
        },
        {
          "name": "stdout",
          "output_type": "stream",
          "text": [
            "10-0-87-7-2, Subset remove_1_labels_[0], Test Accuracy Retain: 91.81%, Test Accuracy All: 72.69%\n"
          ]
        },
        {
          "name": "stderr",
          "output_type": "stream",
          "text": []
        },
        {
          "name": "stdout",
          "output_type": "stream",
          "text": [
            "10-0-87-7-2, Subset remove_1_labels_[1], Test Accuracy Retain: 94.67%, Test Accuracy All: 76.82%\n"
          ]
        },
        {
          "name": "stderr",
          "output_type": "stream",
          "text": []
        },
        {
          "name": "stdout",
          "output_type": "stream",
          "text": [
            "10-0-87-7-2, Subset remove_1_labels_[2], Test Accuracy Retain: 91.26%, Test Accuracy All: 69.74%\n"
          ]
        },
        {
          "name": "stderr",
          "output_type": "stream",
          "text": []
        },
        {
          "name": "stdout",
          "output_type": "stream",
          "text": [
            "10-0-87-7-2, Subset remove_1_labels_[3], Test Accuracy Retain: 93.95%, Test Accuracy All: 76.23%\n"
          ]
        },
        {
          "name": "stderr",
          "output_type": "stream",
          "text": [
            "COMBINATIONS: 5it [00:04,  1.17it/s]\n",
            "LABELS:  40%|████      | 2/5 [00:05<00:09,  3.10s/it]"
          ]
        },
        {
          "name": "stdout",
          "output_type": "stream",
          "text": [
            "10-0-87-7-2, Subset remove_1_labels_[4], Test Accuracy Retain: 93.30%, Test Accuracy All: 76.62%\n"
          ]
        },
        {
          "name": "stderr",
          "output_type": "stream",
          "text": []
        },
        {
          "name": "stdout",
          "output_type": "stream",
          "text": [
            "10-0-87-7-2, Subset remove_2_labels_[0, 1], Test Accuracy Retain: 85.99%, Test Accuracy All: 51.87%\n"
          ]
        },
        {
          "name": "stderr",
          "output_type": "stream",
          "text": []
        },
        {
          "name": "stdout",
          "output_type": "stream",
          "text": [
            "10-0-87-7-2, Subset remove_2_labels_[0, 2], Test Accuracy Retain: 89.75%, Test Accuracy All: 49.90%\n"
          ]
        },
        {
          "name": "stderr",
          "output_type": "stream",
          "text": []
        },
        {
          "name": "stdout",
          "output_type": "stream",
          "text": [
            "10-0-87-7-2, Subset remove_2_labels_[0, 3], Test Accuracy Retain: 89.90%, Test Accuracy All: 54.22%\n"
          ]
        },
        {
          "name": "stderr",
          "output_type": "stream",
          "text": []
        },
        {
          "name": "stdout",
          "output_type": "stream",
          "text": [
            "10-0-87-7-2, Subset remove_2_labels_[0, 4], Test Accuracy Retain: 92.31%, Test Accuracy All: 56.58%\n"
          ]
        },
        {
          "name": "stderr",
          "output_type": "stream",
          "text": []
        },
        {
          "name": "stdout",
          "output_type": "stream",
          "text": [
            "10-0-87-7-2, Subset remove_2_labels_[1, 2], Test Accuracy Retain: 94.54%, Test Accuracy All: 54.42%\n"
          ]
        },
        {
          "name": "stderr",
          "output_type": "stream",
          "text": []
        },
        {
          "name": "stdout",
          "output_type": "stream",
          "text": [
            "10-0-87-7-2, Subset remove_2_labels_[1, 3], Test Accuracy Retain: 97.16%, Test Accuracy All: 60.51%\n"
          ]
        },
        {
          "name": "stderr",
          "output_type": "stream",
          "text": []
        },
        {
          "name": "stdout",
          "output_type": "stream",
          "text": [
            "10-0-87-7-2, Subset remove_2_labels_[1, 4], Test Accuracy Retain: 92.86%, Test Accuracy All: 58.74%\n"
          ]
        },
        {
          "name": "stderr",
          "output_type": "stream",
          "text": []
        },
        {
          "name": "stdout",
          "output_type": "stream",
          "text": [
            "10-0-87-7-2, Subset remove_2_labels_[2, 3], Test Accuracy Retain: 93.17%, Test Accuracy All: 53.63%\n",
            "10-0-87-7-2, Subset remove_2_labels_[2, 4], Test Accuracy Retain: 97.32%, Test Accuracy All: 56.97%\n"
          ]
        },
        {
          "name": "stderr",
          "output_type": "stream",
          "text": [
            "COMBINATIONS: 10it [00:06,  1.43it/s]\n",
            "LABELS:  60%|██████    | 3/5 [00:12<00:09,  4.87s/it]"
          ]
        },
        {
          "name": "stdout",
          "output_type": "stream",
          "text": [
            "10-0-87-7-2, Subset remove_2_labels_[3, 4], Test Accuracy Retain: 97.83%, Test Accuracy All: 61.89%\n"
          ]
        },
        {
          "name": "stderr",
          "output_type": "stream",
          "text": []
        },
        {
          "name": "stdout",
          "output_type": "stream",
          "text": [
            "10-0-87-7-2, Subset remove_3_labels_[0, 1, 2], Test Accuracy Retain: 96.26%, Test Accuracy All: 35.36%\n"
          ]
        },
        {
          "name": "stderr",
          "output_type": "stream",
          "text": []
        },
        {
          "name": "stdout",
          "output_type": "stream",
          "text": [
            "10-0-87-7-2, Subset remove_3_labels_[0, 1, 3], Test Accuracy Retain: 93.36%, Test Accuracy All: 38.70%\n"
          ]
        },
        {
          "name": "stderr",
          "output_type": "stream",
          "text": []
        },
        {
          "name": "stdout",
          "output_type": "stream",
          "text": [
            "10-0-87-7-2, Subset remove_3_labels_[0, 1, 4], Test Accuracy Retain: 83.33%, Test Accuracy All: 35.36%\n"
          ]
        },
        {
          "name": "stderr",
          "output_type": "stream",
          "text": []
        },
        {
          "name": "stdout",
          "output_type": "stream",
          "text": [
            "10-0-87-7-2, Subset remove_3_labels_[0, 2, 3], Test Accuracy Retain: 89.30%, Test Accuracy All: 32.81%\n"
          ]
        },
        {
          "name": "stderr",
          "output_type": "stream",
          "text": []
        },
        {
          "name": "stdout",
          "output_type": "stream",
          "text": [
            "10-0-87-7-2, Subset remove_3_labels_[0, 2, 4], Test Accuracy Retain: 96.35%, Test Accuracy All: 36.35%\n"
          ]
        },
        {
          "name": "stderr",
          "output_type": "stream",
          "text": []
        },
        {
          "name": "stdout",
          "output_type": "stream",
          "text": [
            "10-0-87-7-2, Subset remove_3_labels_[0, 3, 4], Test Accuracy Retain: 97.69%, Test Accuracy All: 41.45%\n"
          ]
        },
        {
          "name": "stderr",
          "output_type": "stream",
          "text": []
        },
        {
          "name": "stdout",
          "output_type": "stream",
          "text": [
            "10-0-87-7-2, Subset remove_3_labels_[1, 2, 3], Test Accuracy Retain: 99.49%, Test Accuracy All: 38.51%\n"
          ]
        },
        {
          "name": "stderr",
          "output_type": "stream",
          "text": []
        },
        {
          "name": "stdout",
          "output_type": "stream",
          "text": [
            "10-0-87-7-2, Subset remove_3_labels_[1, 2, 4], Test Accuracy Retain: 99.50%, Test Accuracy All: 39.49%\n"
          ]
        },
        {
          "name": "stderr",
          "output_type": "stream",
          "text": []
        },
        {
          "name": "stdout",
          "output_type": "stream",
          "text": [
            "10-0-87-7-2, Subset remove_3_labels_[1, 3, 4], Test Accuracy Retain: 100.00%, Test Accuracy All: 44.40%\n"
          ]
        },
        {
          "name": "stderr",
          "output_type": "stream",
          "text": [
            "COMBINATIONS: 10it [00:04,  2.02it/s]\n",
            "LABELS:  80%|████████  | 4/5 [00:17<00:04,  4.91s/it]"
          ]
        },
        {
          "name": "stdout",
          "output_type": "stream",
          "text": [
            "10-0-87-7-2, Subset remove_3_labels_[2, 3, 4], Test Accuracy Retain: 99.01%, Test Accuracy All: 39.29%\n"
          ]
        },
        {
          "name": "stderr",
          "output_type": "stream",
          "text": []
        },
        {
          "name": "stdout",
          "output_type": "stream",
          "text": [
            "10-0-87-7-2, Subset remove_4_labels_[0, 1, 2, 3], Test Accuracy Retain: 100.00%, Test Accuracy All: 17.88%\n"
          ]
        },
        {
          "name": "stderr",
          "output_type": "stream",
          "text": []
        },
        {
          "name": "stdout",
          "output_type": "stream",
          "text": [
            "10-0-87-7-2, Subset remove_4_labels_[0, 1, 2, 4], Test Accuracy Retain: 100.00%, Test Accuracy All: 18.86%\n",
            "10-0-87-7-2, Subset remove_4_labels_[0, 1, 3, 4], Test Accuracy Retain: 100.00%, Test Accuracy All: 23.58%\n"
          ]
        },
        {
          "name": "stderr",
          "output_type": "stream",
          "text": []
        },
        {
          "name": "stdout",
          "output_type": "stream",
          "text": [
            "10-0-87-7-2, Subset remove_4_labels_[0, 2, 3, 4], Test Accuracy Retain: 100.00%, Test Accuracy All: 18.86%\n"
          ]
        },
        {
          "name": "stderr",
          "output_type": "stream",
          "text": [
            "COMBINATIONS: 5it [00:01,  2.66it/s]\n",
            "LABELS: 100%|██████████| 5/5 [00:19<00:00,  3.90s/it]"
          ]
        },
        {
          "name": "stdout",
          "output_type": "stream",
          "text": [
            "10-0-87-7-2, Subset remove_4_labels_[1, 2, 3, 4], Test Accuracy Retain: 100.00%, Test Accuracy All: 20.83%\n"
          ]
        },
        {
          "name": "stderr",
          "output_type": "stream",
          "text": [
            "\n"
          ]
        }
      ],
      "source": [
        "N = list(range(100))\n",
        "random.shuffle(N)\n",
        "\n",
        "for i in range(0, 100, 5):\n",
        "    curr_elems = N[i:i + 5]\n",
        "    curr_name = '-'.join(str(i) for i in curr_elems)\n",
        "    train_test_in_memory(curr_name, \"dataset\", curr_elems)"
      ]
    },
    {
      "cell_type": "markdown",
      "metadata": {
        "id": "D29x3HbkQD8G"
      },
      "source": [
        "Code to split the dataset into training, validation and test. All the details are in the report below."
      ]
    },
    {
      "cell_type": "code",
      "execution_count": 10,
      "metadata": {
        "id": "fvl3bx81QD8G"
      },
      "outputs": [],
      "source": [
        "train_split = 0.8\n",
        "val_split = 0.1\n",
        "test_split = 0.1\n",
        "\n",
        "assert train_split + test_split + val_split == 1., \"Splitting percentages must add to one\"\n",
        "\n",
        "weights_file = \"dataset/results.xlsx\"\n",
        "df = pd.read_excel(weights_file ,engine='openpyxl',dtype=object,header=None)\n",
        "values = df.values.tolist()[1:]\n",
        "\n",
        "datasets = list(set([data[0] for data in values]))\n",
        "\n",
        "train_datasets = datasets[:int(len(datasets)*train_split)]\n",
        "val_datasets = datasets[int(len(datasets)*train_split):int(len(datasets)*train_split) + int(len(datasets)*val_split)]\n",
        "test_datasets = datasets[int(len(datasets)*train_split) + int(len(datasets)*val_split):]\n",
        "\n",
        "train_data, val_data, test_data = [], [], []\n",
        "for data in values:\n",
        "    if data[0] in train_datasets:\n",
        "        train_data.append(data)\n",
        "    elif data[0] in val_datasets:\n",
        "        val_data.append(data)\n",
        "    elif data[0] in test_datasets:\n",
        "        test_data.append(data)\n",
        "\n",
        "#Very ugly sanity check\n",
        "d = [train_datasets, val_datasets, test_datasets]\n",
        "for i in range(3):\n",
        "    for j in range(i+1, 3):\n",
        "        assert set(d[i]).intersection(set(d[j])) == set(), \"Different splitting should not have elements in common\""
      ]
    },
    {
      "cell_type": "markdown",
      "metadata": {
        "id": "YQ4Ut4T-QD8G"
      },
      "source": [
        "This was a utility function used to compute how many weights we were going to reconstruct (that is, how big the TinyCNN model was)"
      ]
    },
    {
      "cell_type": "code",
      "execution_count": 11,
      "metadata": {
        "id": "DrSYvZtyQD8G"
      },
      "outputs": [],
      "source": [
        "def count_weights(model):\n",
        "    weights = model.state_dict()\n",
        "    w = []\n",
        "\n",
        "    for _, p in weights.items():\n",
        "      w.append(p.flatten())\n",
        "\n",
        "    w = torch.cat(w)\n",
        "    return w.shape\n",
        "\n",
        "reconstructed_size = count_weights(TinyCNN())"
      ]
    },
    {
      "cell_type": "markdown",
      "metadata": {
        "id": "4MJh5He1QD8G"
      },
      "source": [
        "The following custom Dataset was defined to obtain the unrolled weights of the network trained on all the labels, the graph for the CNN, the excluded labels.\n",
        "If the testing flag is on, then we also return the weights of the model that was trained on all the labels of that subset (just for comparison), the arch to reconstruct the model from the reconstructed weights and the labels identiyfing the subset of MNIST-100 (to test the reconstructed model)"
      ]
    },
    {
      "cell_type": "code",
      "execution_count": 24,
      "metadata": {
        "id": "1KMEkSiYQD8G"
      },
      "outputs": [],
      "source": [
        "class WeightsDataset(Dataset):\n",
        "    def __init__(self, weights_dir, values, model, test = False, print_verbose = False, run_locally = False):\n",
        "\n",
        "        self.weights_dir = weights_dir\n",
        "        self.model = model\n",
        "\n",
        "        self.values = values\n",
        "\n",
        "        if run_locally:\n",
        "           for data in self.values:\n",
        "              data[4] = data[4].split(\"\\\\\" if \"\\\\\" in data[4] else \"/\")[-1].replace('\\\\','/')\n",
        "\n",
        "        self.base_models = self.return_trained_all()\n",
        "\n",
        "        self.test = test\n",
        "        self.print_verbose = print_verbose\n",
        "\n",
        "    def __len__(self):\n",
        "        return len(self.values)\n",
        "\n",
        "    def encode_excluded_labels(self, excluded_labels):\n",
        "        if type(excluded_labels) == float: #Used to exclude the first entry that is just the model trained on every label (it contains nan in excluded labels, that is a float)\n",
        "            return torch.ones(5, dtype=torch.int)\n",
        "\n",
        "        int_labels = [int(label) for label in excluded_labels.split(\",\")]\n",
        "        tensor = torch.ones(5, dtype=torch.int)\n",
        "\n",
        "        tensor[int_labels] = 0\n",
        "\n",
        "        return tensor\n",
        "\n",
        "    def unroll_weights(self, weights):\n",
        "        w = []\n",
        "\n",
        "        for _, p in weights.items():\n",
        "          w.append(p.flatten())\n",
        "\n",
        "        w = torch.cat(w)\n",
        "        return w\n",
        "\n",
        "    def return_trained_all(self):\n",
        "        to_return = dict()\n",
        "        for data in self.values:\n",
        "          if type(data[1]) == float: # it is nan, so no labels were excluded\n",
        "            path = data[4]\n",
        "            weights = torch.load(os.path.join(self.weights_dir, path), weights_only=True)\n",
        "            to_return[data[0]] = weights\n",
        "\n",
        "        return to_return\n",
        "\n",
        "\n",
        "    def __getitem__(self, idx):\n",
        "        data = self.values[idx]\n",
        "\n",
        "        path = data[4]\n",
        "        weights = torch.load(os.path.join(self.weights_dir, path), weights_only=True)\n",
        "\n",
        "        self.model.load_state_dict(self.base_models[data[0]])\n",
        "        arch = sequential_to_arch(self.model.model)\n",
        "        x, edge_index, edge_attr = arch_to_graph(arch)\n",
        "        x = x.float()\n",
        "        edge_attr = edge_attr.float()\n",
        "\n",
        "        if self.print_verbose:\n",
        "          print(f\"Excluded labels: {data[1]}\")\n",
        "          print(f\"Dataset on which weights were trained: {data[0]}\")\n",
        "        excluded_labels = self.encode_excluded_labels(data[1])\n",
        "\n",
        "        g_cnn = Data(x=x, edge_index=edge_index, edge_attr=edge_attr, u=torch.zeros(1,1))\n",
        "\n",
        "        if self.test:\n",
        "          used_labels = [int(x) for x in data[0].split(\"-\")]\n",
        "          return self.base_models[data[0]], self.unroll_weights(weights), g_cnn, arch, excluded_labels, used_labels\n",
        "\n",
        "        return self.unroll_weights(weights), g_cnn, excluded_labels"
      ]
    },
    {
      "cell_type": "code",
      "execution_count": 25,
      "metadata": {
        "id": "K3Ym42O6QD8G"
      },
      "outputs": [],
      "source": [
        "train_dataset = WeightsDataset(\"dataset/model_weights\", train_data, TinyCNN(), run_locally=True)\n",
        "val_dataset = WeightsDataset(\"dataset/model_weights\", val_data, TinyCNN(), run_locally=True)\n",
        "test_dataset = WeightsDataset(\"dataset/model_weights\", test_data, TinyCNN(), run_locally=True, test=True, print_verbose=True)"
      ]
    },
    {
      "cell_type": "code",
      "execution_count": 26,
      "metadata": {
        "id": "2UXfbM_uQD8G"
      },
      "outputs": [],
      "source": [
        "n_nodes = train_dataset[0][1].x.shape[0]\n",
        "n_edges = train_dataset[0][1].edge_attr.shape[0]\n",
        "len_excluded_labels = len(train_dataset[0][2])"
      ]
    },
    {
      "cell_type": "markdown",
      "metadata": {
        "id": "Rc4zFTFzQD8I"
      },
      "source": [
        "We had to define our custom collate_fn because of the *batch graph*. We could have used the Dataloader defined by torch geometric, but we have to return also other things and not only the batched graphs"
      ]
    },
    {
      "cell_type": "code",
      "execution_count": 27,
      "metadata": {
        "id": "ESX3eiGpQD8I"
      },
      "outputs": [],
      "source": [
        "def collate_fn(batch):\n",
        "    weights, graphs, excluded_labels = zip(*batch)\n",
        "\n",
        "    batched_graphs = Batch.from_data_list(graphs)\n",
        "\n",
        "    batched_weights = torch.stack(weights)\n",
        "\n",
        "    excluded_labels = torch.stack(excluded_labels)\n",
        "\n",
        "    return batched_weights, batched_graphs, excluded_labels\n",
        "\n",
        "train_dataloader = DataLoader(train_dataset, batch_size=8, shuffle=True, collate_fn=collate_fn)\n",
        "val_dataloader = DataLoader(val_dataset, batch_size=8, shuffle=True, collate_fn=collate_fn)"
      ]
    },
    {
      "cell_type": "markdown",
      "metadata": {
        "id": "fzIerr9xQD8J"
      },
      "source": [
        "### Model"
      ]
    },
    {
      "cell_type": "markdown",
      "metadata": {
        "id": "33HJ6CgzQD8J"
      },
      "source": [
        "The following is the model definition. The architecture is very complex, and it is all detailed inside the report."
      ]
    },
    {
      "cell_type": "code",
      "execution_count": 28,
      "metadata": {
        "id": "Rgw3sr7FQD8J"
      },
      "outputs": [],
      "source": [
        "class GraphMetaNetwork(nn.Module):\n",
        "    '''\n",
        "    Wrapper class for the graph metanetwork\n",
        "    '''\n",
        "    def __init__(self, encoder, mpnn):\n",
        "        super(GraphMetaNetwork, self).__init__()\n",
        "        self.encoder = encoder\n",
        "        self.mpnn = mpnn\n",
        "\n",
        "    def forward(self, data):\n",
        "        x, edge_index, edge_attr, u, batch = data.x, data.edge_index, data.edge_attr, data.u, data.batch\n",
        "        x, edge_attr = self.encoder(x, edge_attr)\n",
        "        x, edge_attr, u = self.mpnn(x, edge_index, edge_attr, u, batch)\n",
        "        return x, edge_attr, u\n",
        "\n",
        "class WeightsReconstructor(nn.Module):\n",
        "  def __init__(self,\n",
        "                n_nodes, # Number of nodes for graph in the batch\n",
        "                n_edges, # Number of edges for graph in the batch\n",
        "                len_excluded_labels, # Number of excluded labels (5)\n",
        "                reconstructed_size, # Size of the weights to reconstruct (9125 in our case)\n",
        "                target_node_dim = 8, # Dimension of all the node features after the convolution on the nodes\n",
        "                target_edge_dim = 32, # Same but whit the edges\n",
        "                latent_code_dim = 96, # Latent code dimension of ALL THE NETWORK\n",
        "                middle_representation_channels = 3): # the latent code is been reshaped in k * 3\n",
        "    super(WeightsReconstructor, self).__init__()\n",
        "\n",
        "    # ============ GMN definition ============\n",
        "    pre_embedding_dim = 3 # Dimension of the node and edge features before the GMN whit a class of gmn pakage\n",
        "    global_in_dim = 1 # useless\n",
        "    hidden_dim = 2 # hidden dimention of the GMN embeddings\n",
        "    node_out_dim = 3 # output dimention of the node embeddings\n",
        "    edge_out_dim = 3 # output dimention of the edge embeddings\n",
        "    global_out_dim = 1 # useless\n",
        "    num_gnn_layers = 2 # number of layers of the GMN\n",
        "    encoder = NodeEdgeFeatEncoder(hidden_dim=pre_embedding_dim)\n",
        "    mpnn = MPNN(node_in_dim=pre_embedding_dim,\n",
        "                edge_in_dim=pre_embedding_dim,\n",
        "                global_in_dim = global_in_dim,\n",
        "                hidden_dim=hidden_dim,\n",
        "                node_out_dim= node_out_dim,\n",
        "                edge_out_dim = edge_out_dim,\n",
        "                global_out_dim= global_out_dim,\n",
        "                num_layers=num_gnn_layers,\n",
        "                reduce='mean')\n",
        "    self.gmn = GraphMetaNetwork(encoder, mpnn).to(device)\n",
        "\n",
        "\n",
        "    # ============ Convolutions to reduce dimensionality of edges and nodes features ============\n",
        "\n",
        "    self.target_node_dim = target_node_dim\n",
        "    self.target_edge_dim = target_edge_dim\n",
        "\n",
        "    self.conv1 = nn.Sequential(\n",
        "            nn.Conv1d(in_channels=node_out_dim, out_channels=16, kernel_size=3, stride=1, padding=1),\n",
        "            nn.ReLU(),\n",
        "            nn.Conv1d(in_channels=16, out_channels=32, kernel_size=3, stride=1, padding=1),\n",
        "            nn.ReLU(),\n",
        "            nn.Flatten(start_dim=1),\n",
        "            nn.Linear(n_nodes * 32, self.target_node_dim)\n",
        "        )\n",
        "\n",
        "    self.conv2 = nn.Sequential(\n",
        "            nn.Conv1d(in_channels=edge_out_dim, out_channels=16, kernel_size=3, stride=1, padding=1),\n",
        "            nn.MaxPool1d(kernel_size=2, stride=2),\n",
        "            nn.ReLU(),\n",
        "            nn.Conv1d(in_channels=16, out_channels=32, kernel_size=3, stride=1, padding=1),\n",
        "            nn.MaxPool1d(kernel_size=2, stride=2),\n",
        "            nn.ReLU(),\n",
        "            nn.Conv1d(in_channels=32, out_channels=64, kernel_size=3, stride=1, padding=1),\n",
        "            nn.MaxPool1d(kernel_size=2, stride=2),\n",
        "            nn.ReLU(),\n",
        "            nn.Flatten(start_dim=1),\n",
        "            nn.Linear((n_edges // 8) * 64, self.target_edge_dim)\n",
        "        )\n",
        "\n",
        "    # ============ Fully connected layer to project features and excluded labels into latent space ============\n",
        "    self.reconstructed_size = reconstructed_size\n",
        "    self.latent_code_dim = latent_code_dim\n",
        "\n",
        "    self.fc = nn.Linear(target_edge_dim + target_node_dim + len_excluded_labels, self.latent_code_dim)\n",
        "\n",
        "    # ============ Deconvolutions and final fully connected layer to reconstruct weights from latent code ============\n",
        "\n",
        "    assert latent_code_dim % middle_representation_channels == 0, \"Latent code dimension must be divisible by middle representation channels!\"\n",
        "    self.middle_representation_channels = middle_representation_channels\n",
        "    self.middle_representation_length = self.latent_code_dim // self.middle_representation_channels\n",
        "\n",
        "    self.deconv = nn.Sequential(\n",
        "            nn.ConvTranspose1d(self.middle_representation_channels, 16, kernel_size=4, stride=2, padding=1),\n",
        "            nn.ReLU(),\n",
        "            nn.ConvTranspose1d(16, 8, kernel_size=4, stride=2, padding=1),\n",
        "            nn.ReLU(),\n",
        "            nn.ConvTranspose1d(8, 1, kernel_size=4, stride=2, padding=1),\n",
        "            nn.Flatten(start_dim=1),\n",
        "            nn.Linear(self.middle_representation_length  * 8, self.reconstructed_size)\n",
        "        )\n",
        "\n",
        "  def extract_graph_data(self, batch, edge_index, x, edge_attr, u): # edge_index and batch are used to reconstruct the grahps from the GMN output (that is batched as a singolar graph composed of disconnected graphs)\n",
        "    num_graphs = u.size(0)\n",
        "    graph_data = []\n",
        "\n",
        "    for graph_id in range(num_graphs):\n",
        "        node_mask = (batch == graph_id)\n",
        "        node_indices = torch.where(node_mask)[0]\n",
        "\n",
        "        graph_nodes = x[node_mask]\n",
        "\n",
        "        node_indices = torch.tensor(node_indices, dtype=torch.long, device=edge_index.device)\n",
        "\n",
        "        graph_edge_index, edge_attributes, edge_mask = subgraph(\n",
        "            node_indices, edge_index, edge_attr=edge_attr, relabel_nodes=True, return_edge_mask=True\n",
        "        )\n",
        "\n",
        "        if edge_mask is not None:\n",
        "            graph_edge_attr = edge_attr[edge_mask]\n",
        "        else:\n",
        "            graph_edge_attr = torch.empty(0, edge_attr.size(1), device=edge_attr.device)\n",
        "\n",
        "        graph_u = u[graph_id]\n",
        "\n",
        "        graph_data.append({\n",
        "            'nodes': graph_nodes,\n",
        "            'edges': graph_edge_index,\n",
        "            'edge_attr': graph_edge_attr,\n",
        "            'global_feature': graph_u\n",
        "        })\n",
        "\n",
        "    return graph_data\n",
        "\n",
        "  def forward(self, data, excluded_labels):\n",
        "    x, edge_attr, u = self.gmn(data) # feature extraction\n",
        "    graph_data = self.extract_graph_data(data.batch, data.edge_index, x, edge_attr, u) # subgraphs division\n",
        "\n",
        "    node_batch = []\n",
        "    edges_batch = []\n",
        "    global_batch = []\n",
        "    for d in graph_data:\n",
        "      node_batch.append(d['nodes'].unsqueeze(0))\n",
        "      edges_batch.append(d['edge_attr'].unsqueeze(0))\n",
        "      global_batch.append(d['global_feature'].unsqueeze(0))\n",
        "\n",
        "    node_batch, edges_batch, global_batch = torch.cat(node_batch, dim = 0).permute(0, 2, 1), torch.cat(edges_batch, dim=0).permute(0, 2, 1), torch.cat(global_batch, dim=0)\n",
        "\n",
        "    node_batch = self.conv1(node_batch)\n",
        "    edges_batch = self.conv2(edges_batch)\n",
        "\n",
        "    latent_code_batch = torch.cat((node_batch, edges_batch, excluded_labels), dim=1)\n",
        "\n",
        "    batch_size = latent_code_batch.size(0)\n",
        "\n",
        "    x = self.fc(latent_code_batch)\n",
        "    x = x.view(batch_size, self.middle_representation_channels, self.middle_representation_length)\n",
        "\n",
        "    x = self.deconv(x)\n",
        "\n",
        "    return x"
      ]
    },
    {
      "cell_type": "code",
      "execution_count": 29,
      "metadata": {
        "id": "fIZGMrkaQD8J"
      },
      "outputs": [],
      "source": [
        "def train(epochs, model, train_dataloader, val_dataloader, optimizer, criterion):\n",
        "  train_losses = []\n",
        "  val_losses = []\n",
        "  for epoch in tqdm(range(1, epochs+1), desc = \"Training\", leave=False):\n",
        "    model.train()\n",
        "    avg_loss = 0\n",
        "    for weights, graph, excluded_labels in train_dataloader: # weights of the model tinyCNN trained on the subset TOT_LABELS - {excluded_labels} and graph is the graph of the tinyCNN trained on all the labels\n",
        "      weights = weights.to(device)\n",
        "      graph = graph.to(device)\n",
        "      excluded_labels = excluded_labels.to(device)\n",
        "\n",
        "      reconstructed = model(graph, excluded_labels)\n",
        "\n",
        "      loss = criterion(reconstructed, weights)\n",
        "\n",
        "      optimizer.zero_grad()\n",
        "      loss.backward()\n",
        "      optimizer.step()\n",
        "\n",
        "      avg_loss += loss.item()\n",
        "\n",
        "    model.eval()\n",
        "    with torch.no_grad():\n",
        "      avg_val_loss = 0\n",
        "      for weights, graph, excluded_labels in val_dataloader:\n",
        "        weights = weights.to(device)\n",
        "        graph = graph.to(device)\n",
        "        excluded_labels = excluded_labels.to(device)\n",
        "\n",
        "        reconstructed = model(graph, excluded_labels)\n",
        "\n",
        "        loss = criterion(reconstructed, weights)\n",
        "\n",
        "        avg_val_loss += loss.item()\n",
        "\n",
        "    print(f\"Epoch: {epoch}, Training Loss: {avg_loss/len(train_dataloader)}, Validation Loss: {avg_val_loss/len(val_dataloader)}\")\n",
        "    train_losses.append(avg_loss/len(train_dataloader))\n",
        "    val_losses.append(avg_val_loss/len(val_dataloader))\n",
        "\n",
        "  return train_losses, val_losses"
      ]
    },
    {
      "cell_type": "markdown",
      "metadata": {
        "id": "jZJea8llQD8J"
      },
      "source": [
        "MSE loss because we are doing regression on the weights values"
      ]
    },
    {
      "cell_type": "code",
      "execution_count": 30,
      "metadata": {
        "colab": {
          "base_uri": "https://localhost:8080/",
          "height": 1000,
          "referenced_widgets": [
            "2764ac9d4b51497daabdf0f5a794d431",
            "10a4b58ffc9b49859c9415ca542e01eb",
            "41e57e0477b44dc9813c33a23cd575fd",
            "19ff3a6e8c2c47af8fe68505d6ec5f8e",
            "d7ed2b018e794e06ad3d7c0a0edb0a9c",
            "52958d3a05a54618aab166b31eb1ed2f",
            "405d98b92d79439c89464296c845d5f0",
            "a95308b80c8247509110d758e13fbda3",
            "e389006f6d194f28b7a1c9605805d74a",
            "a428283878274d40875f14bb9bac3dfc",
            "b9e8b328e4e24afd82d970d4ddc5c7c4"
          ]
        },
        "id": "FDqcxaC2QD8J",
        "outputId": "a25bfc91-d3ca-4d11-93f3-d9560fdbc861"
      },
      "outputs": [
        {
          "output_type": "display_data",
          "data": {
            "text/plain": [
              "Training:   0%|          | 0/100 [00:00<?, ?it/s]"
            ],
            "application/vnd.jupyter.widget-view+json": {
              "version_major": 2,
              "version_minor": 0,
              "model_id": "2764ac9d4b51497daabdf0f5a794d431"
            }
          },
          "metadata": {}
        },
        {
          "output_type": "stream",
          "name": "stderr",
          "text": [
            "<ipython-input-28-2238dae1cf12>:109: UserWarning: To copy construct from a tensor, it is recommended to use sourceTensor.clone().detach() or sourceTensor.clone().detach().requires_grad_(True), rather than torch.tensor(sourceTensor).\n",
            "  node_indices = torch.tensor(node_indices, dtype=torch.long, device=edge_index.device)\n"
          ]
        },
        {
          "output_type": "stream",
          "name": "stdout",
          "text": [
            "Epoch: 1, Training Loss: 0.028605795675708402, Validation Loss: 0.013799443375319242\n",
            "Epoch: 2, Training Loss: 0.013418315789632259, Validation Loss: 0.01368140208069235\n",
            "Epoch: 3, Training Loss: 0.013317358710112111, Validation Loss: 0.013650832581333816\n",
            "Epoch: 4, Training Loss: 0.013275981084593842, Validation Loss: 0.013672722969204187\n",
            "Epoch: 5, Training Loss: 0.013263161669695569, Validation Loss: 0.013606064720079303\n",
            "Epoch: 6, Training Loss: 0.01324609818778211, Validation Loss: 0.013647168059833348\n",
            "Epoch: 7, Training Loss: 0.013217658420363742, Validation Loss: 0.013819808722473681\n",
            "Epoch: 8, Training Loss: 0.013193236468660255, Validation Loss: 0.01368060673121363\n",
            "Epoch: 9, Training Loss: 0.013173936746053157, Validation Loss: 0.013767878874205053\n",
            "Epoch: 10, Training Loss: 0.013164782250720647, Validation Loss: 0.013705141958780587\n",
            "Epoch: 11, Training Loss: 0.013144204783583842, Validation Loss: 0.013878035708330572\n",
            "Epoch: 12, Training Loss: 0.013121637515723705, Validation Loss: 0.013785749557428062\n",
            "Epoch: 13, Training Loss: 0.013102870479586625, Validation Loss: 0.01378109329380095\n",
            "Epoch: 14, Training Loss: 0.013087962829177418, Validation Loss: 0.013648184831254184\n",
            "Epoch: 15, Training Loss: 0.013067804427156526, Validation Loss: 0.013691557454876602\n",
            "Epoch: 16, Training Loss: 0.013057301346693308, Validation Loss: 0.01372805458959192\n",
            "Epoch: 17, Training Loss: 0.013029170087388447, Validation Loss: 0.013816903927363455\n",
            "Epoch: 18, Training Loss: 0.013008662679743382, Validation Loss: 0.013736034976318479\n",
            "Epoch: 19, Training Loss: 0.012986315985120112, Validation Loss: 0.01394668233115226\n",
            "Epoch: 20, Training Loss: 0.012964145475698094, Validation Loss: 0.013800523360259831\n",
            "Epoch: 21, Training Loss: 0.012932839082373727, Validation Loss: 0.01379271480254829\n",
            "Epoch: 22, Training Loss: 0.012918156286280963, Validation Loss: 0.013884788728319108\n",
            "Epoch: 23, Training Loss: 0.012889712162676358, Validation Loss: 0.013906825566664338\n",
            "Epoch: 24, Training Loss: 0.01286431959259414, Validation Loss: 0.013937260257080197\n",
            "Epoch: 25, Training Loss: 0.012844619761791921, Validation Loss: 0.01386974984779954\n",
            "Epoch: 26, Training Loss: 0.012833643524396804, Validation Loss: 0.013931098626926541\n",
            "Epoch: 27, Training Loss: 0.012809043930422875, Validation Loss: 0.01387388922739774\n",
            "Epoch: 28, Training Loss: 0.012786393549533622, Validation Loss: 0.014055930078029633\n",
            "Epoch: 29, Training Loss: 0.012774268285401406, Validation Loss: 0.01391838991548866\n",
            "Epoch: 30, Training Loss: 0.01275384553798264, Validation Loss: 0.014028173871338367\n",
            "Epoch: 31, Training Loss: 0.012734297047098797, Validation Loss: 0.014149555820040405\n",
            "Epoch: 32, Training Loss: 0.012730326593643235, Validation Loss: 0.014198082848452032\n",
            "Epoch: 33, Training Loss: 0.012722926439657327, Validation Loss: 0.014074294245801866\n",
            "Epoch: 34, Training Loss: 0.012712267633046835, Validation Loss: 0.014055132633075118\n",
            "Epoch: 35, Training Loss: 0.012697989601762064, Validation Loss: 0.014019605587236583\n",
            "Epoch: 36, Training Loss: 0.012706904822299558, Validation Loss: 0.014188738074153662\n",
            "Epoch: 37, Training Loss: 0.012682998237470466, Validation Loss: 0.014068927732296288\n",
            "Epoch: 38, Training Loss: 0.012686658154932721, Validation Loss: 0.014065270312130451\n",
            "Epoch: 39, Training Loss: 0.012679043931946639, Validation Loss: 0.014078102656640112\n",
            "Epoch: 40, Training Loss: 0.012667878455812893, Validation Loss: 0.01413933769799769\n",
            "Epoch: 41, Training Loss: 0.012672868497189014, Validation Loss: 0.014156173216179013\n",
            "Epoch: 42, Training Loss: 0.012665824453917241, Validation Loss: 0.014123085071332753\n",
            "Epoch: 43, Training Loss: 0.012655921670938692, Validation Loss: 0.014108597533777356\n",
            "Epoch: 44, Training Loss: 0.012658195555089943, Validation Loss: 0.01412114326376468\n",
            "Epoch: 45, Training Loss: 0.012654215097427368, Validation Loss: 0.014067047741264105\n",
            "Epoch: 46, Training Loss: 0.012652896705173677, Validation Loss: 0.014280706876888871\n",
            "Epoch: 47, Training Loss: 0.012655871199263681, Validation Loss: 0.014037767075933516\n",
            "Epoch: 48, Training Loss: 0.012656368961137148, Validation Loss: 0.014051336096599698\n",
            "Epoch: 49, Training Loss: 0.012657130692875194, Validation Loss: 0.014129809336736798\n",
            "Epoch: 50, Training Loss: 0.012647011392419376, Validation Loss: 0.01415715937037021\n",
            "Epoch: 51, Training Loss: 0.012657366467699889, Validation Loss: 0.014193903654813766\n",
            "Epoch: 52, Training Loss: 0.012641087955524844, Validation Loss: 0.014005629229359329\n",
            "Epoch: 53, Training Loss: 0.012642176551443915, Validation Loss: 0.014109195210039616\n",
            "Epoch: 54, Training Loss: 0.012630947264692476, Validation Loss: 0.014121228246949613\n",
            "Epoch: 55, Training Loss: 0.012654696215665149, Validation Loss: 0.014190390123985708\n",
            "Epoch: 56, Training Loss: 0.01266035646380436, Validation Loss: 0.014065410592593253\n",
            "Epoch: 57, Training Loss: 0.012642280559145635, Validation Loss: 0.014104746864177287\n",
            "Epoch: 58, Training Loss: 0.012639780453736744, Validation Loss: 0.014116693288087845\n",
            "Epoch: 59, Training Loss: 0.012648128664060947, Validation Loss: 0.01404851523693651\n",
            "Epoch: 60, Training Loss: 0.01264627758533724, Validation Loss: 0.014208220527507365\n",
            "Epoch: 61, Training Loss: 0.01263934692307826, Validation Loss: 0.014159091399051249\n",
            "Epoch: 62, Training Loss: 0.012643478945979187, Validation Loss: 0.01429233921226114\n",
            "Epoch: 63, Training Loss: 0.012633640469322282, Validation Loss: 0.014108542003668845\n",
            "Epoch: 64, Training Loss: 0.012641108609856136, Validation Loss: 0.014305684133432806\n",
            "Epoch: 65, Training Loss: 0.012642536177149704, Validation Loss: 0.014045687741599977\n",
            "Epoch: 66, Training Loss: 0.012644544303897888, Validation Loss: 0.014110659365542233\n",
            "Epoch: 67, Training Loss: 0.012636077680414724, Validation Loss: 0.01408764161169529\n",
            "Epoch: 68, Training Loss: 0.012641914301521836, Validation Loss: 0.014111100928857923\n",
            "Epoch: 69, Training Loss: 0.012641056185407985, Validation Loss: 0.014057160704396665\n",
            "Epoch: 70, Training Loss: 0.012641771966891905, Validation Loss: 0.014154624775983393\n",
            "Epoch: 71, Training Loss: 0.01263240706776419, Validation Loss: 0.014111117227002978\n",
            "Epoch: 72, Training Loss: 0.012645949910004292, Validation Loss: 0.014230628148652613\n",
            "Epoch: 73, Training Loss: 0.012643284299561092, Validation Loss: 0.014156201854348183\n",
            "Epoch: 74, Training Loss: 0.012635927286840255, Validation Loss: 0.01416263624560088\n",
            "Epoch: 75, Training Loss: 0.012648263720855597, Validation Loss: 0.01417277380824089\n",
            "Epoch: 76, Training Loss: 0.012656054970237517, Validation Loss: 0.0140996677801013\n",
            "Epoch: 77, Training Loss: 0.01263436883868229, Validation Loss: 0.014163403306156397\n",
            "Epoch: 78, Training Loss: 0.012646676416719151, Validation Loss: 0.014109410461969674\n",
            "Epoch: 79, Training Loss: 0.01263627055431566, Validation Loss: 0.014225464197807014\n",
            "Epoch: 80, Training Loss: 0.012650245004483768, Validation Loss: 0.014169172383844852\n",
            "Epoch: 81, Training Loss: 0.012645722344337453, Validation Loss: 0.014246869832277298\n",
            "Epoch: 82, Training Loss: 0.012633854943898416, Validation Loss: 0.013992305845022202\n",
            "Epoch: 83, Training Loss: 0.012643864062885124, Validation Loss: 0.014097959036007524\n",
            "Epoch: 84, Training Loss: 0.01262686165770696, Validation Loss: 0.01404433255083859\n",
            "Epoch: 85, Training Loss: 0.012641341500585117, Validation Loss: 0.01408363040536642\n",
            "Epoch: 86, Training Loss: 0.01263649620476269, Validation Loss: 0.014083928079344332\n",
            "Epoch: 87, Training Loss: 0.0126370957211381, Validation Loss: 0.014132818439975381\n",
            "Epoch: 88, Training Loss: 0.012632218985668114, Validation Loss: 0.014190297340974212\n",
            "Epoch: 89, Training Loss: 0.012649187082124333, Validation Loss: 0.014000923838466406\n",
            "Epoch: 90, Training Loss: 0.012643692384083425, Validation Loss: 0.01427222031634301\n",
            "Epoch: 91, Training Loss: 0.012629851007894162, Validation Loss: 0.014173287781886756\n",
            "Epoch: 92, Training Loss: 0.01264497577663391, Validation Loss: 0.014049826888367534\n",
            "Epoch: 93, Training Loss: 0.01263014667276894, Validation Loss: 0.014100467669777572\n",
            "Epoch: 94, Training Loss: 0.012647034855739724, Validation Loss: 0.014234323636628687\n",
            "Epoch: 95, Training Loss: 0.01265009240277352, Validation Loss: 0.014013895764946938\n",
            "Epoch: 96, Training Loss: 0.012659455349128093, Validation Loss: 0.014241492142900825\n",
            "Epoch: 97, Training Loss: 0.012658557163611535, Validation Loss: 0.01412897533737123\n",
            "Epoch: 98, Training Loss: 0.012627407668098327, Validation Loss: 0.014342613168992102\n",
            "Epoch: 99, Training Loss: 0.01263120187626731, Validation Loss: 0.014069036697037518\n",
            "Epoch: 100, Training Loss: 0.012638202207463404, Validation Loss: 0.01426277554128319\n"
          ]
        }
      ],
      "source": [
        "model = WeightsReconstructor(n_nodes, n_edges, len_excluded_labels, reconstructed_size[0]).to(device)\n",
        "optimizer = optim.AdamW(model.parameters(), lr=0.01)\n",
        "criterion = nn.MSELoss()\n",
        "epochs = 100\n",
        "train_losses, val_losses = train(epochs, model, train_dataloader, val_dataloader, optimizer, criterion)"
      ]
    },
    {
      "cell_type": "code",
      "source": [
        "# Plot losses\n",
        "plt.plot(train_losses, label='Training Loss')\n",
        "plt.plot(val_losses, label='Validation Loss')\n",
        "plt.xlabel('Epoch')\n",
        "plt.ylabel('Loss')\n",
        "plt.title('Training and Validation Loss')\n",
        "plt.legend()\n",
        "plt.show()"
      ],
      "metadata": {
        "colab": {
          "base_uri": "https://localhost:8080/",
          "height": 472
        },
        "id": "oa9NQ97OT_WM",
        "outputId": "45885e9e-c935-4e43-9a2e-84a7b4cca64b"
      },
      "execution_count": 26,
      "outputs": [
        {
          "output_type": "display_data",
          "data": {
            "text/plain": [
              "<Figure size 640x480 with 1 Axes>"
            ],
            "image/png": "[encoded data removed]"
          },
          "metadata": {}
        }
      ]
    },
    {
      "cell_type": "markdown",
      "metadata": {
        "id": "8jYXI4RcQD8J"
      },
      "source": [
        "### Test"
      ]
    },
    {
      "cell_type": "markdown",
      "metadata": {
        "id": "Zm_h-ir1QD8J"
      },
      "source": [
        "Code used to test the obtained models"
      ]
    },
    {
      "cell_type": "code",
      "execution_count": 31,
      "metadata": {
        "id": "MHRGuWp2QD8J"
      },
      "outputs": [],
      "source": [
        "def test_loop(dataloader, model1, model2, model3):\n",
        "\n",
        "    model1.eval()\n",
        "    model2.eval()\n",
        "    model3.eval()\n",
        "\n",
        "    model1.to(device)\n",
        "    model2.to(device)\n",
        "    model3.to(device)\n",
        "\n",
        "    errors_model1 = defaultdict(int)\n",
        "    errors_model2 = defaultdict(int)\n",
        "    errors_model3 = defaultdict(int)\n",
        "    label_counts = defaultdict(int)\n",
        "\n",
        "    with torch.no_grad():\n",
        "        for batch in dataloader:\n",
        "            inputs, labels = batch\n",
        "            inputs, labels = inputs.to(device), labels.to(device)\n",
        "\n",
        "            outputs_model1 = model1(inputs)\n",
        "            outputs_model2 = model2(inputs)\n",
        "            outputs_model3 = model3(inputs)\n",
        "\n",
        "            preds_model1 = torch.argmax(outputs_model1, dim=1)\n",
        "            preds_model2 = torch.argmax(outputs_model2, dim=1)\n",
        "            preds_model3 = torch.argmax(outputs_model3, dim=1)\n",
        "\n",
        "            for label, pred1, pred2, pred3 in zip(labels, preds_model1, preds_model2, preds_model3):\n",
        "                label_counts[label.item()] += 1\n",
        "                if pred1 != label:\n",
        "                    errors_model1[label.item()] += 1\n",
        "                if pred2 != label:\n",
        "                    errors_model2[label.item()] += 1\n",
        "                if pred3 != label:\n",
        "                    errors_model3[label.item()] += 1\n",
        "\n",
        "    error_rates_model1 = {label: errors_model1[label] / count\n",
        "                          for label, count in label_counts.items()}\n",
        "    error_rates_model2 = {label: errors_model2[label] / count\n",
        "                          for label, count in label_counts.items()}\n",
        "    error_rates_model3 = {label: errors_model3[label] / count\n",
        "                          for label, count in label_counts.items()}\n",
        "\n",
        "    labels = sorted(label_counts.keys())\n",
        "    x = np.arange(len(labels))\n",
        "\n",
        "    fig, ax = plt.subplots(figsize=(10, 6))\n",
        "    ax.bar(x , [error_rates_model1[label] for label in labels], width=0.2, label='All Labels Model')\n",
        "    ax.bar(x + 0.2, [error_rates_model2[label] for label in labels], width=0.2, label='Reconstructed Model')\n",
        "    ax.bar(x + 0.4, [error_rates_model3[label] for label in labels], width=0.2, label='Original Model')\n",
        "\n",
        "    ax.set_xlabel('Labels')\n",
        "    ax.set_ylabel('Error Rate')\n",
        "    ax.set_title('Error Rates per Label')\n",
        "    ax.set_xticks(x)\n",
        "    ax.set_xticklabels(labels)\n",
        "    ax.legend()\n",
        "\n",
        "    plt.show()\n",
        "\n",
        "def test(model, test_dataset, idx):\n",
        "    base_model_weights, weights, g_cnn, arch, excluded_labels, used_labels = test_dataset[idx]\n",
        "\n",
        "    base_model = TinyCNN()\n",
        "    base_model.load_state_dict(base_model_weights)\n",
        "\n",
        "    batch = Batch.from_data_list([g_cnn]).to(device)\n",
        "\n",
        "    model.eval()\n",
        "    reconstructed = model(batch, excluded_labels.to(device).unsqueeze(0)).squeeze()\n",
        "\n",
        "    new_arch = graph_to_arch(arch, reconstructed)\n",
        "    reconstructed_model = TinyCNN()\n",
        "    reconstructed_model.model = arch_to_sequential(new_arch, reconstructed_model.model)\n",
        "\n",
        "    original_model = TinyCNN()\n",
        "    new_arch = graph_to_arch(arch, weights)\n",
        "    original_model.model = arch_to_sequential(new_arch, original_model.model)\n",
        "\n",
        "    print(f\"Loss: {nn.MSELoss()(reconstructed, weights)}\")\n",
        "\n",
        "    subset_mnsit100_mean, subset_mnsit100_std = compute_mean_std(MNIST100Subset(data_mnist['train_images'], data_mnist['train_labels'], used_labels, transform=transforms.Compose([\n",
        "                                            transforms.ToTensor(),\n",
        "                                            transforms.Resize((28, 28)),\n",
        "                                        ])))\n",
        "\n",
        "    subset_mnsit100 = MNIST100Subset(data_mnist['train_images'], data_mnist['train_labels'], used_labels, transform=transforms.Compose([\n",
        "                                                transforms.ToTensor(),\n",
        "                                                transforms.Resize((28, 28)),\n",
        "                                                transforms.Normalize(subset_mnsit100_mean, subset_mnsit100_std)\n",
        "                                            ]))\n",
        "\n",
        "\n",
        "    subset_mnsit100_dataloader = DataLoader(subset_mnsit100, batch_size=64, shuffle=False)\n",
        "\n",
        "    print(f\"Subset of MNIST100 on which we are testing: {used_labels}\")\n",
        "    print(f\"Lables excluded: {excluded_labels} [1 is retained, 0 is excluded]\")\n",
        "    test_loop(subset_mnsit100_dataloader, base_model, reconstructed_model, original_model)"
      ]
    },
    {
      "cell_type": "code",
      "execution_count": 32,
      "metadata": {
        "colab": {
          "base_uri": "https://localhost:8080/",
          "height": 706
        },
        "id": "frmpaxYxQD8K",
        "outputId": "58c2aae3-c321-4581-eae8-1d3ab3b7a5e2"
      },
      "outputs": [
        {
          "output_type": "stream",
          "name": "stdout",
          "text": [
            "Excluded labels: 0, 4\n",
            "Dataset on which weights were trained: 10-0-87-7-2\n",
            "Loss: 0.015249541960656643\n"
          ]
        },
        {
          "output_type": "stream",
          "name": "stderr",
          "text": [
            "<ipython-input-28-2238dae1cf12>:109: UserWarning: To copy construct from a tensor, it is recommended to use sourceTensor.clone().detach() or sourceTensor.clone().detach().requires_grad_(True), rather than torch.tensor(sourceTensor).\n",
            "  node_indices = torch.tensor(node_indices, dtype=torch.long, device=edge_index.device)\n"
          ]
        },
        {
          "output_type": "stream",
          "name": "stdout",
          "text": [
            "Subset of MNIST100 on which we are testing: [10, 0, 87, 7, 2]\n",
            "Lables excluded: tensor([0, 1, 1, 1, 0], dtype=torch.int32) [1 is retained, 0 is excluded]\n"
          ]
        },
        {
          "output_type": "display_data",
          "data": {
            "text/plain": [
              "<Figure size 1000x600 with 1 Axes>"
            ],
            "image/png": "[encoded data removed]"
          },
          "metadata": {}
        }
      ],
      "source": [
        "test(model, test_dataset, 40)"
      ]
    },
    {
      "cell_type": "markdown",
      "metadata": {
        "id": "ntlZO7QmQD8K"
      },
      "source": [
        "### Mia Attack"
      ]
    },
    {
      "cell_type": "code",
      "execution_count": 33,
      "metadata": {
        "id": "mF5EsK_UQD8K"
      },
      "outputs": [],
      "source": [
        "# Load MNIST Dataset\n",
        "data = load('mnist_compressed.npz')"
      ]
    },
    {
      "cell_type": "code",
      "execution_count": 34,
      "metadata": {
        "id": "hMgiRuVhQD8K"
      },
      "outputs": [],
      "source": [
        "def compute_losses_recon_model(model, inputs, labels):\n",
        "\n",
        "    model.eval()\n",
        "    model.to(device)\n",
        "\n",
        "    all_losses = []\n",
        "\n",
        "    with torch.no_grad():\n",
        "            output = model(inputs)\n",
        "            losses = F.nll_loss(output, labels, reduction=\"none\").detach().cpu().numpy()\n",
        "\n",
        "            for l in losses:\n",
        "                all_losses.append(l)\n",
        "\n",
        "    return np.array(all_losses)"
      ]
    },
    {
      "cell_type": "code",
      "execution_count": 35,
      "metadata": {
        "colab": {
          "base_uri": "https://localhost:8080/"
        },
        "id": "BpzB2vvUQD8K",
        "outputId": "b1efb7f8-10d4-4d74-9cd4-39f6e96da14d"
      },
      "outputs": [
        {
          "output_type": "stream",
          "name": "stdout",
          "text": [
            "Excluded labels: 2, 3\n",
            "Dataset on which weights were trained: 10-0-87-7-2\n",
            "Subset of MNIST100 on which we are testing: [10, 0, 87, 7, 2]\n",
            "Lables excluded: tensor([1, 1, 0, 0, 1], dtype=torch.int32) [1 is retained, 0 is excluded]\n"
          ]
        }
      ],
      "source": [
        "idx = 44\n",
        "base_model_weights, weights, g_cnn, arch, excluded_labels, used_labels = test_dataset[idx]\n",
        "\n",
        "retain_labels = set([i for i, e in enumerate(excluded_labels) if e == 1])\n",
        "forget_labels = set([i for i, e in enumerate(excluded_labels) if e == 0])\n",
        "\n",
        "\n",
        "data_mean, data_std = compute_mean_std(MNIST100Subset(data['train_images'], data['train_labels'], used_labels, transform=transforms.Compose([\n",
        "                            transforms.ToTensor(),\n",
        "                            transforms.Resize((28, 28)),\n",
        "                            ])))\n",
        "\n",
        "dataset = MNIST100Subset(data['train_images'], data['train_labels'], used_labels, transform=transforms.Compose([\n",
        "                            transforms.ToTensor(),\n",
        "                            transforms.Resize((28, 28)),\n",
        "                            transforms.Normalize(data_mean, data_std)\n",
        "                            ]))\n",
        "\n",
        "train_data = torch.stack(dataset.filtered_data).float()\n",
        "train_labels = torch.tensor(dataset.filtered_labels)\n",
        "\n",
        "retain_mask = ~torch.tensor([label.item() in retain_labels for label in train_labels])\n",
        "forget_mask = ~torch.tensor([label.item() in forget_labels for label in train_labels])\n",
        "\n",
        "retain_subset_data = train_data[forget_mask].to(device)\n",
        "retain_subset_labels = train_labels[forget_mask].to(device)\n",
        "forget_subset_data = train_data[retain_mask].to(device)\n",
        "forget_subset_labels = train_labels[retain_mask].to(device)\n",
        "\n",
        "print(f\"Subset of MNIST100 on which we are testing: {used_labels}\")\n",
        "print(f\"Lables excluded: {excluded_labels} [1 is retained, 0 is excluded]\")\n"
      ]
    },
    {
      "cell_type": "code",
      "execution_count": 36,
      "metadata": {
        "colab": {
          "base_uri": "https://localhost:8080/"
        },
        "id": "aE3mXtkTQD8K",
        "outputId": "a58f295e-e9fb-4a8d-d89a-d6145001f869"
      },
      "outputs": [
        {
          "output_type": "stream",
          "name": "stderr",
          "text": [
            "<ipython-input-28-2238dae1cf12>:109: UserWarning: To copy construct from a tensor, it is recommended to use sourceTensor.clone().detach() or sourceTensor.clone().detach().requires_grad_(True), rather than torch.tensor(sourceTensor).\n",
            "  node_indices = torch.tensor(node_indices, dtype=torch.long, device=edge_index.device)\n"
          ]
        }
      ],
      "source": [
        "# Base model (Knows every class)\n",
        "base_model = TinyCNN()\n",
        "base_model.load_state_dict(base_model_weights)\n",
        "\n",
        "# Compute losses on retain and forget set\n",
        "retain_losses = compute_losses_recon_model(base_model, retain_subset_data, retain_subset_labels)\n",
        "forget_losses = compute_losses_recon_model(base_model, forget_subset_data, forget_subset_labels)\n",
        "\n",
        "\n",
        "batch = Batch.from_data_list([g_cnn]).to(device)\n",
        "\n",
        "# Reconstructed model\n",
        "model.eval()\n",
        "reconstructed = model(batch, excluded_labels.to(device).unsqueeze(0)).squeeze()\n",
        "new_arch = graph_to_arch(arch, reconstructed)\n",
        "reconstructed_model = TinyCNN()\n",
        "reconstructed_model.model = arch_to_sequential(new_arch, reconstructed_model.model)\n",
        "\n",
        "# Compute losses on retain and forget set\n",
        "retain_losses_reconstructed = compute_losses_recon_model(reconstructed_model, retain_subset_data, retain_subset_labels)\n",
        "forget_losses_reconstructed = compute_losses_recon_model(reconstructed_model, forget_subset_data, forget_subset_labels)\n",
        "\n",
        "# Original model (Label)\n",
        "original_model = TinyCNN()\n",
        "new_arch = graph_to_arch(arch, weights)\n",
        "original_model.model = arch_to_sequential(new_arch, original_model.model)\n",
        "\n",
        "# Compute losses on retain and forget set\n",
        "retain_losses_original = compute_losses_recon_model(original_model, retain_subset_data, retain_subset_labels)\n",
        "forget_losses_original = compute_losses_recon_model(original_model, forget_subset_data, forget_subset_labels)"
      ]
    },
    {
      "cell_type": "code",
      "execution_count": 37,
      "metadata": {
        "colab": {
          "base_uri": "https://localhost:8080/",
          "height": 459
        },
        "id": "4tY7LV-HQD8K",
        "outputId": "d48dd791-3766-4c40-c319-c1d6982f2294"
      },
      "outputs": [
        {
          "output_type": "display_data",
          "data": {
            "text/plain": [
              "<Figure size 2000x500 with 3 Axes>"
            ],
            "image/png": "[encoded data removed]"
          },
          "metadata": {}
        }
      ],
      "source": [
        "# 3 plots woth ax of histograms\n",
        "fig, axs = plt.subplots(1, 3, figsize=(20, 5))\n",
        "\n",
        "m = min(len(retain_losses), len(forget_losses))\n",
        "\n",
        "#subsample retrain losses to have the same size as the forget losses\n",
        "random_idx = np.random.choice(np.arange(m), m, replace=True)\n",
        "\n",
        "axs[0].hist(retain_losses[random_idx], density = True, bins=50, alpha=0.5, label='Retain', color='blue')\n",
        "axs[0].hist(forget_losses[random_idx], density = True, bins=50, alpha=0.5, label='Forget', color='red')\n",
        "axs[0].set_title('Model')\n",
        "axs[0].set_xlabel('Likelihood Loss')\n",
        "axs[0].legend()\n",
        "\n",
        "axs[1].hist(retain_losses_reconstructed[random_idx], density = True, bins=50, alpha=0.5, label='Retain', color='blue')\n",
        "axs[1].hist(forget_losses_reconstructed[random_idx], density = True, bins=50, alpha=0.5, label='Forget', color='red')\n",
        "axs[1].set_title('Reconstructed Model')\n",
        "axs[1].set_xlabel('Likelihood Loss')\n",
        "axs[1].legend()\n",
        "\n",
        "axs[2].hist(retain_losses_original[random_idx], density = True, bins=50, alpha=0.5, label='Retain', color='blue')\n",
        "axs[2].hist(forget_losses_original[random_idx], density = True, bins=50, alpha=0.5, label='Forget', color='red')\n",
        "axs[2].set_title('Original Model')\n",
        "axs[2].set_xlabel('Likelihood Loss')\n",
        "axs[2].legend()\n",
        "\n",
        "plt.show()"
      ]
    },
    {
      "cell_type": "code",
      "source": [
        "from sklearn import linear_model, model_selection\n",
        "def simple_mia(sample_loss, members, n_splits=10, random_state=0):\n",
        "    \"\"\"Computes cross-validation score of a membership inference attack.\n",
        "\n",
        "    Args:\n",
        "      sample_loss : array_like of shape (n,).\n",
        "        objective function evaluated on n samples.\n",
        "      members : array_like of shape (n,),\n",
        "        whether a sample was used for training.\n",
        "      n_splits: int\n",
        "        number of splits to use in the cross-validation.\n",
        "    Returns:\n",
        "      scores : array_like of size (n_splits,)\n",
        "    \"\"\"\n",
        "\n",
        "    torch.manual_seed(torch.initial_seed())\n",
        "\n",
        "    unique_members = np.unique(members)\n",
        "    if not np.all(unique_members == np.array([0, 1])):\n",
        "        raise ValueError(\"members should only have 0 and 1s\")\n",
        "\n",
        "    attack_model = linear_model.LogisticRegression(random_state=random_state)\n",
        "    cv = model_selection.StratifiedShuffleSplit(\n",
        "        n_splits=n_splits, random_state = 0\n",
        "    )\n",
        "\n",
        "    return model_selection.cross_val_score(\n",
        "        attack_model, sample_loss, members, cv=cv, scoring=\"accuracy\",\n",
        "    )"
      ],
      "metadata": {
        "id": "8QrPwFlJnAXn"
      },
      "execution_count": 41,
      "outputs": []
    },
    {
      "cell_type": "code",
      "source": [
        "# mia on base model\n",
        "retain_losses_model_subsample = np.random.choice(retain_losses, m, replace=False)\n",
        "forget_losses_model_subsample = np.random.choice(forget_losses, m, replace=False)\n",
        "samples_mia = np.concatenate([retain_losses_model_subsample, forget_losses_model_subsample]).reshape(-1, 1)\n",
        "members_mia = np.concatenate([np.zeros(len(retain_losses_model_subsample)), np.ones(len(forget_losses_model_subsample))])\n",
        "\n",
        "scores = simple_mia(samples_mia, members_mia)\n",
        "print(f\"Model MIA score: {scores.mean():.4f}\")"
      ],
      "metadata": {
        "colab": {
          "base_uri": "https://localhost:8080/"
        },
        "id": "IUltH0Z9jdsZ",
        "outputId": "d1d04d3f-eece-4ed8-c265-c4a3a4e71576"
      },
      "execution_count": 42,
      "outputs": [
        {
          "output_type": "stream",
          "name": "stdout",
          "text": [
            "Model MIA score: 0.5506\n"
          ]
        }
      ]
    },
    {
      "cell_type": "code",
      "source": [
        "# mia on reconstructed model\n",
        "retain_losses_recon_subsample = np.random.choice(retain_losses_reconstructed, m, replace=False)\n",
        "forget_losses_recon_subsample = np.random.choice(forget_losses_reconstructed, m, replace=False)\n",
        "samples_mia = np.concatenate([retain_losses_recon_subsample, forget_losses_recon_subsample]).reshape(-1, 1)\n",
        "members_mia = np.concatenate([np.zeros(len(retain_losses_recon_subsample)), np.ones(len(forget_losses_recon_subsample))])\n",
        "\n",
        "scores_recon = simple_mia(samples_mia, members_mia)\n",
        "print(f\"Reconstructed Model MIA score: {scores_recon.mean():.4f}\")"
      ],
      "metadata": {
        "colab": {
          "base_uri": "https://localhost:8080/"
        },
        "id": "wS9tP87_kVlU",
        "outputId": "4efd0274-bf1f-4f8d-d5c3-bff23f24535d"
      },
      "execution_count": 43,
      "outputs": [
        {
          "output_type": "stream",
          "name": "stdout",
          "text": [
            "Reconstructed Model MIA score: 1.0000\n"
          ]
        }
      ]
    },
    {
      "cell_type": "code",
      "source": [
        "# mia on original model\n",
        "retain_losses_original_subsample = np.random.choice(retain_losses_original, m, replace=False)\n",
        "forget_losses_original_subsample = np.random.choice(forget_losses_original, m, replace=False)\n",
        "samples_mia = np.concatenate([retain_losses_original_subsample, forget_losses_original_subsample]).reshape(-1, 1)\n",
        "members_mia = np.concatenate([np.zeros(len(retain_losses_original_subsample)), np.ones(len(forget_losses_original_subsample))])\n",
        "\n",
        "scores_original = simple_mia(samples_mia, members_mia)\n",
        "print(f\"Original Model MIA score: {scores_original.mean():.4f}\")"
      ],
      "metadata": {
        "colab": {
          "base_uri": "https://localhost:8080/"
        },
        "id": "PnIBu8kWktZX",
        "outputId": "08cfb8ce-1226-4f71-df81-88f882875d98"
      },
      "execution_count": 44,
      "outputs": [
        {
          "output_type": "stream",
          "name": "stdout",
          "text": [
            "Original Model MIA score: 1.0000\n"
          ]
        }
      ]
    },
    {
      "cell_type": "markdown",
      "metadata": {
        "id": "oA5-77IKQD8L"
      },
      "source": [
        "\n",
        "# Report\n",
        "For the unlearning task we choose to train a model (with the help of the GMN model) to get in input the weights of a model $M$ and a binary encoding $O$ representing the labels to forget (where 1 means retained and 0 is excluded) and gives in output the weights of a model $M'$ such that $M$ classify 5 classes (it has a good accuracy on all the 5 classes) and $M'$ forgets 1 to 4 of those classes (it has a bad accuracy on the classes to be forgotten and still a good accuracy on the remaning classes) based on the binary representation $O$ that specifies what classes it has to forget.\n",
        "\n",
        "A general pipeline can be sketched as follows:\n",
        "- First of all, we generate a dataset of CNN weights trained on different subsets of MNIST100 (we are going to justify this choice later in the report)\n",
        "- Second, we take the dataset of weights and train a model that takes in input the CNN trained on all the labels of that particular dataset, plus the label we would like to forget.\n",
        "- In this way the gmn extract the features of the model edges and nodes, that are then passed through convolutional layers to reduce their dimensionality.\n",
        "- The tensors extracted with convolutions are then stacked together with the excluded labels and passed through some transposed convolutions to obtain the final tensor of reconstructed weights\n",
        "\n",
        "Given the explanation, we can think about the Weights Reconstructor Model as a sort of AutoEncoder, where the encoder $E$ is composed of the GMN and the convolution operations, and the decoder $D$ are the transposed convolutions.\n",
        "\n",
        "So, given the weights $w$ of the model we would like to reconstruct, that is the one with unlearned classes, the loss is going to be:\n",
        "\n",
        "$$ l = MSE(w, D(E(w))) $$\n",
        "\n",
        "The final idea is that, by just passing the label to exclude and a general CNN trained on a different subset of MNIST with respect the model training weights, the  Weights Reconstructor Model will be able to reconstruct the weights of such unlearned model.\n",
        "\n",
        "Our idea is vaguely inspired from this [paper](https://arxiv.org/abs/2212.04089), in which the authors makes models unlearn with simple arithmetic operations on weights. Even if our approach is very much different, we wanted to leverage the concept of vectors encoding informations about the weights by training the Weights Reconstructor in regenerating model weights.\n",
        "\n",
        "## Dataset\n",
        "We created a dataset of CNN weights. We trained a single tiny network, **TinyCNN**, on a MNIST-100 dataset that has 100 classes, splitting it in $\\frac{100}{5} = 20\\ $  subsets (each one contaning 5 classes). Formally, calling $D$ the whole MNIST-100 dataset and $D_{i, i+5}$ a subset of said MNIST-100, we have:\n",
        "$$ \\bigcup\\limits_{k=0}^{19} D_{5k, 5k+5} = D$$\n",
        "$$ \\bigcap\\limits_{k=0}^{19} D_{5k, 5k+5} = \\emptyset$$\n",
        "\n",
        "**NOTE** Even if the notation here used suggest that the subsets of MNIST-100 are created taking contigous labels (e.g $D_{5,10}$ contains the labels from 5 to 10, $D_{10,15}$ contains the labels from 10 to 15, etc...), the actual subset have different shuffled labels (e.g We have a subset with labels $10, 0, 87, 7, 2$). This is done to avoid introducing a bias over the weights. For simplicity, we leave the notation as it is, meaning that when we write $D_{i,i+5}$ we want to say that we a subset of MNIST-100 with 5 labels.\n",
        "\n",
        "Then for each subset $D_{i, i+5}$ we trained one model excluding 1 to 4 classes for every different combination of those classes. If we represent the labels as binary encodings, where 1 is retained and 0 is forget, we have, for each subset, the following:\n",
        "\\begin{equation} [0,0,0,0,0],[1,0,0,0,0],\\dots,[1,1,0,0,0],[1,0,1,0,0],\\dots,[1,1,1,1,0],[0,1,1,1,1] \\end{equation}\n",
        "So we have $\\binom{5}{0} + \\binom{5}{1} + \\binom{5}{2} + \\binom{5}{3} + \\binom{5}{4} = 31 $ possible combination of removed classes and for each of the 20 subset of MNIST-100 we have a total of $31×20 = 620$ models in our dataset.\n",
        "\n",
        "We choose to train a model with just 5 labels to predict because in this way we had a faster dataset generation $ \\bigl( \\sum_{k=0}^{4} \\binom{5}{k}  << \\sum_{k=0}^{9} \\binom{10}{k} \\bigl) $ and a greater accuracy for each of the subset of MNIST-100\n",
        "\n",
        "***\n",
        "\n",
        "*Why training a single CNN on MNIST-100?*\n",
        "\n",
        "First of all, MNIST images are gray scale, meaning that we require less parameters in the convolutional layers. Second, we had three very hard constrains:\n",
        "\n",
        "- **TIME**\n",
        "    Creating a dataset full of CNN weights means to train said network on tens of differents datasets, so we need a lot of time. We tried squeezing every second out of this process, with different optimizations, and we managed to create a small dataset in few minutes, but the time requirement is still very important. With a larger network or larger datasets, few minutes could translate to days\n",
        "\n",
        "- **SPACE**\n",
        "    Having a bigger network would be very useful in order to test this on CIFAR10 or other type of RGB images, but, assuming to have the datasets on which to train the network, saving the weights for each of those datasets would mean to have a very large dataset.\n",
        "\n",
        "- **RECONSTRUCTION SIZE**\n",
        "    For simplicity, our architecture used to reconstruct model weights outputs always a constant number of values. We speculated that for different models with different sizes a _sequence model_ could have been used, but this would introduce problems on its own, and we decided to further trivialize the problem to show our approach in a simpler way.\n",
        "\n",
        "Also, we thought that having different weights all trained on a very simple and similar domain for each of them would have helped a lot in creating a toy problem on which to train the Weights Reconstructor.\n",
        "\n",
        "***\n",
        "\n",
        "The various optimizations used to train the network are partially taken from this [repo](https://github.com/tuomaso/train_mnist_fast), in which the author trains a CNN on MNIST in 700ms.\n",
        "In a nutshell, the biggest time consuming operation is the Dataloader, so just a simple manual slicing helps a lot with the time performances.\n",
        "\n",
        "#### TinyCNNs performance\n",
        "The dataset's models have to be big enough to reach a good accuracy but small enough to be trained fast and effectively on the GMN.\n",
        "We trained the TinyCNN on the training set of the subsets of MNIST-100 and computed also the accuracy on test set to check eventual overfittings. In particular, for each subset we print the accuracy on the retain test set (test set with retained labels) and the accuracy over the whole test set (test set with all labels).\n",
        "\n",
        "## Model\n",
        "\n",
        "As explained above, the idea is to have an architecture that can take a CNN model $M$ trained on all the labels of a subset $D_{i, i+5}$, along with the labels we would like to forget, represented as a binary encoding (e.g. $[1,1,0,0,0]$ means retain the first and second label and forget the others), to obtain in output the weights of a model $M'$ that has forgot the indicated labels.\n",
        "\n",
        "The pipeline of the model is as follows:\n",
        "\n",
        "1. Take a batch of graphs in inputs (e.g $B$ is the number of graphs in the batch)\n",
        "2. Return nodes features, edges features and global features (we do not use the latters) (e.g. We obtain tensors of shape $(B \\times N, F_x)$ for the nodes and $(B \\times E, F_e)$ for the edges)\n",
        "3. Debatchify the batched graph to obtain the single graphs\n",
        "4. Extract nodes and edges for each graph (e.g. We obtain $B$ tensors of shape $(N, F_x)$ for the nodes and $(E, F_e)$ for the edges)\n",
        "5. Rebatchify the nodes and edges (e.g. We obtain tensors of shape $(B, N, F_x)$ for the nodes and $(B, E, F_e)$ for the edges)\n",
        "6. Pass those tensors into 1D convolutions (with a final flatten and linear layer) to extract features and reduce dimensionality (e.g We obtain tensors of shape $(B, D_x)$ for the nodes and $(B, D_e)$ for the edges)\n",
        "7. Concatenate all along with binary labels representation (e.g We obtain a tensor of shape $(B, D_x + D_e + 5)$)\n",
        "8. Pass this tensor into a linear layer to encode informations into a tensor of fixed size (e.g The tensor obtained has shape $(B, L)$)\n",
        "9. Reshape the tensor to match a 2D representation to better reconstruct using transposed convolutions (e.g We reshape it to be $(B, 3, L/3)$)\n",
        "10. Pass it through transposed convolutions and flatten+linear layer to obtain final reconstructed weights\n",
        "\n",
        "Our idea was that the Weight Reconstructor could have learned how to reconstruct weights from the tensor obtained at step 8 that was encoding all the informations needed for this task. Like latent codes in actual AEs, we were hoping to obtain something similar with a vector carrying encoded informations about the network, the weights and the labels to forget.\n",
        "\n",
        "#### Training\n",
        "\n",
        "We splitted the weights dataset into training, validation and test set. Note that this splitting is not performed on all the weights shuffled, but we take the weights trained on specific subset of MNIST-100, so it would be more correct to think about this splitting as taking percentages of subsets weights of MNIST-100. To be more specific, let's imagine to have a train percentage of 80%, validation of 10% and testing 10%. We know that there are 20 subset $D_{i, i+5}$ of the original $D$, the MNIST-100 dataset. Thus, we have:\n",
        "\n",
        "- **Train** $\\rightarrow \\{D_{5k, 5k+5}|k \\in [0,1,2,3,4,5,6,7,8,9,10,11,12,13,14,15]\\} $\n",
        "- **Val**   $\\rightarrow \\{D_{5k, 5k+5}|k \\in [16,17]\\} $\n",
        "- **Test**  $\\rightarrow \\{D_{5k, 5k+5}|k \\in [18,19]\\} $\n",
        "\n",
        "***\n",
        "\n",
        "*Why this splitting?*\n",
        "\n",
        "Taken a fixed CNN, the idea is to train the Weights Reconstructor on weights coming from the training on a particular subset. If the Weights Reconstructor has to be tested on never seen before data, it is pretty clear that we need to pass weights that comes from a training on different subsets, otherwise those weights would not be never seen before.\n",
        "\n",
        "***\n",
        "\n",
        "During training, the model trained on all the labels of a particular subset $D_{i, i+5}$ is passed to the architecture along with the labels we would like to forget. The reconstructed weights are then used to compute the loss with the weights of the model that was trained on the subset $D_{i, i+5}$ but just with the retained labels. We used the MSE loss because we are doing regression on models weights values.\n",
        "\n",
        "## Performance\n",
        "This approach, unfortunately, did not work. We couldn't make the model converge: it only learned to predict a few TinyCNN (probably similar to all others in the training set), but couldn't generalize. In order to help the model not overfit and generalize we tried to change the model size, both increasing it and decreasing it. We also tried some other techniques including Dropout and Weight Decay (L2 regularization), with no effect. We believe this problem was caused by two main facts:\n",
        "- The dataset is not very diverse and has a small size\n",
        "- The approach we used, that is \"learning to predict weights as similar as possible to the ground truth\", is too simplistic (more on this in the section *Future developments*)\n",
        "\n",
        "### A closer look to Performance\n",
        "As we discussed earlier the model learned to predict a few TinyCNN. We think this is rather interesting: there are some models that have very similar weights (measured with MSELoss), even tho they perform different tasks (predicting different number of classes). For example we noticed the model often predicts TinyCNNs that only recognize one single class. It's as if somehow a model that only recognizes one class \"is similar\" to every other. It's important to state that this cannot be explained with an imbalance in the dataset we created, since there are more TinyCNNs that recognize 2 or 3 classes, rather than 1. This could mean that effectively similar weights do encode similar behaviour: always predicting a TinyCNN that recognizes one class would mean that the input TinyCNN would actually be unlearning! It would of course be unlearning classes that wasn't supposed to, but still this is interesting because nowhere was encoded the fact that it actually had to unlearn.\n",
        "\n",
        "\n",
        "### Mia Attack\n",
        "We performed the Mia Attack on the Test set of our dataset. We expect the Attack to work very well, since we are basically overfitting and always predicting a Model that recognizes the Retain set.\n",
        "\n",
        "In the image below we used the following notation: *Model* is the model that can recognize every class, *Reconstructed Model* is *Model* that has unlearned the Forget set and *Original Model* is the ground truth model that was trained to recognize only the Retain set. As we can see in the image below the attack works very well: there is a very distinct division between the losses calculated on the Retain and Forget set for both *Reconstructed Model* and *Original Model*. This was completely expected, for the motivations exaplained earlier. We also notice that the *Reconstructed Model* losses were a bit higher than the ones of *Original Model* for the Retain set. This is because the *Reconstructed Model* only knows how to classify a single class (this behaviour was described earlier).\n",
        "![download.png](data:image/png;base64,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)\n",
        "\n",
        "Finally we had Mia Scores of $≈0.55$ for *Model* and $1$ for *Reconstructed Model* and *Original Model*.\n",
        "## Future developments\n",
        "\n",
        "Given that our approach does not work very well, we thought that just using the MSE between reconstructed weights and original weights is not enough to learn something meaningful in order to have a functioning model. We speculate that an hybrid approach involving also the calculation of actual performances of reconstructed models inside the loss could help the Weights Reconstructor.\n",
        "\n",
        "Finally, more testing should be done in order to fully understand the behaviour of this architecture. In particular, a larger and more diverse weights dataset, with different models having different sizes could be an option to acknowledge the problems and fix them.\n"
      ]
    }
  ],
  "metadata": {
    "kernelspec": {
      "display_name": "Python 3",
      "name": "python3"
    },
    "language_info": {
      "codemirror_mode": {
        "name": "ipython",
        "version": 3
      },
      "file_extension": ".py",
      "mimetype": "text/x-python",
      "name": "python",
      "nbconvert_exporter": "python",
      "pygments_lexer": "ipython3",
      "version": "3.8.10"
    },
    "colab": {
      "provenance": [],
      "gpuType": "A100"
    },
    "accelerator": "GPU",
    "widgets": {
      "application/vnd.jupyter.widget-state+json": {
        "2764ac9d4b51497daabdf0f5a794d431": {
          "model_module": "@jupyter-widgets/controls",
          "model_name": "HBoxModel",
          "model_module_version": "1.5.0",
          "state": {
            "_dom_classes": [],
            "_model_module": "@jupyter-widgets/controls",
            "_model_module_version": "1.5.0",
            "_model_name": "HBoxModel",
            "_view_count": null,
            "_view_module": "@jupyter-widgets/controls",
            "_view_module_version": "1.5.0",
            "_view_name": "HBoxView",
            "box_style": "",
            "children": [
              "IPY_MODEL_10a4b58ffc9b49859c9415ca542e01eb",
              "IPY_MODEL_41e57e0477b44dc9813c33a23cd575fd",
              "IPY_MODEL_19ff3a6e8c2c47af8fe68505d6ec5f8e"
            ],
            "layout": "IPY_MODEL_d7ed2b018e794e06ad3d7c0a0edb0a9c"
          }
        },
        "10a4b58ffc9b49859c9415ca542e01eb": {
          "model_module": "@jupyter-widgets/controls",
          "model_name": "HTMLModel",
          "model_module_version": "1.5.0",
          "state": {
            "_dom_classes": [],
            "_model_module": "@jupyter-widgets/controls",
            "_model_module_version": "1.5.0",
            "_model_name": "HTMLModel",
            "_view_count": null,
            "_view_module": "@jupyter-widgets/controls",
            "_view_module_version": "1.5.0",
            "_view_name": "HTMLView",
            "description": "",
            "description_tooltip": null,
            "layout": "IPY_MODEL_52958d3a05a54618aab166b31eb1ed2f",
            "placeholder": "​",
            "style": "IPY_MODEL_405d98b92d79439c89464296c845d5f0",
            "value": "Training: 100%"
          }
        },
        "41e57e0477b44dc9813c33a23cd575fd": {
          "model_module": "@jupyter-widgets/controls",
          "model_name": "FloatProgressModel",
          "model_module_version": "1.5.0",
          "state": {
            "_dom_classes": [],
            "_model_module": "@jupyter-widgets/controls",
            "_model_module_version": "1.5.0",
            "_model_name": "FloatProgressModel",
            "_view_count": null,
            "_view_module": "@jupyter-widgets/controls",
            "_view_module_version": "1.5.0",
            "_view_name": "ProgressView",
            "bar_style": "",
            "description": "",
            "description_tooltip": null,
            "layout": "IPY_MODEL_a95308b80c8247509110d758e13fbda3",
            "max": 100,
            "min": 0,
            "orientation": "horizontal",
            "style": "IPY_MODEL_e389006f6d194f28b7a1c9605805d74a",
            "value": 100
          }
        },
        "19ff3a6e8c2c47af8fe68505d6ec5f8e": {
          "model_module": "@jupyter-widgets/controls",
          "model_name": "HTMLModel",
          "model_module_version": "1.5.0",
          "state": {
            "_dom_classes": [],
            "_model_module": "@jupyter-widgets/controls",
            "_model_module_version": "1.5.0",
            "_model_name": "HTMLModel",
            "_view_count": null,
            "_view_module": "@jupyter-widgets/controls",
            "_view_module_version": "1.5.0",
            "_view_name": "HTMLView",
            "description": "",
            "description_tooltip": null,
            "layout": "IPY_MODEL_a428283878274d40875f14bb9bac3dfc",
            "placeholder": "​",
            "style": "IPY_MODEL_b9e8b328e4e24afd82d970d4ddc5c7c4",
            "value": " 100/100 [14:37&lt;00:00,  7.36s/it]"
          }
        },
        "d7ed2b018e794e06ad3d7c0a0edb0a9c": {
          "model_module": "@jupyter-widgets/base",
          "model_name": "LayoutModel",
          "model_module_version": "1.2.0",
          "state": {
            "_model_module": "@jupyter-widgets/base",
            "_model_module_version": "1.2.0",
            "_model_name": "LayoutModel",
            "_view_count": null,
            "_view_module": "@jupyter-widgets/base",
            "_view_module_version": "1.2.0",
            "_view_name": "LayoutView",
            "align_content": null,
            "align_items": null,
            "align_self": null,
            "border": null,
            "bottom": null,
            "display": null,
            "flex": null,
            "flex_flow": null,
            "grid_area": null,
            "grid_auto_columns": null,
            "grid_auto_flow": null,
            "grid_auto_rows": null,
            "grid_column": null,
            "grid_gap": null,
            "grid_row": null,
            "grid_template_areas": null,
            "grid_template_columns": null,
            "grid_template_rows": null,
            "height": null,
            "justify_content": null,
            "justify_items": null,
            "left": null,
            "margin": null,
            "max_height": null,
            "max_width": null,
            "min_height": null,
            "min_width": null,
            "object_fit": null,
            "object_position": null,
            "order": null,
            "overflow": null,
            "overflow_x": null,
            "overflow_y": null,
            "padding": null,
            "right": null,
            "top": null,
            "visibility": "hidden",
            "width": null
          }
        },
        "52958d3a05a54618aab166b31eb1ed2f": {
          "model_module": "@jupyter-widgets/base",
          "model_name": "LayoutModel",
          "model_module_version": "1.2.0",
          "state": {
            "_model_module": "@jupyter-widgets/base",
            "_model_module_version": "1.2.0",
            "_model_name": "LayoutModel",
            "_view_count": null,
            "_view_module": "@jupyter-widgets/base",
            "_view_module_version": "1.2.0",
            "_view_name": "LayoutView",
            "align_content": null,
            "align_items": null,
            "align_self": null,
            "border": null,
            "bottom": null,
            "display": null,
            "flex": null,
            "flex_flow": null,
            "grid_area": null,
            "grid_auto_columns": null,
            "grid_auto_flow": null,
            "grid_auto_rows": null,
            "grid_column": null,
            "grid_gap": null,
            "grid_row": null,
            "grid_template_areas": null,
            "grid_template_columns": null,
            "grid_template_rows": null,
            "height": null,
            "justify_content": null,
            "justify_items": null,
            "left": null,
            "margin": null,
            "max_height": null,
            "max_width": null,
            "min_height": null,
            "min_width": null,
            "object_fit": null,
            "object_position": null,
            "order": null,
            "overflow": null,
            "overflow_x": null,
            "overflow_y": null,
            "padding": null,
            "right": null,
            "top": null,
            "visibility": null,
            "width": null
          }
        },
        "405d98b92d79439c89464296c845d5f0": {
          "model_module": "@jupyter-widgets/controls",
          "model_name": "DescriptionStyleModel",
          "model_module_version": "1.5.0",
          "state": {
            "_model_module": "@jupyter-widgets/controls",
            "_model_module_version": "1.5.0",
            "_model_name": "DescriptionStyleModel",
            "_view_count": null,
            "_view_module": "@jupyter-widgets/base",
            "_view_module_version": "1.2.0",
            "_view_name": "StyleView",
            "description_width": ""
          }
        },
        "a95308b80c8247509110d758e13fbda3": {
          "model_module": "@jupyter-widgets/base",
          "model_name": "LayoutModel",
          "model_module_version": "1.2.0",
          "state": {
            "_model_module": "@jupyter-widgets/base",
            "_model_module_version": "1.2.0",
            "_model_name": "LayoutModel",
            "_view_count": null,
            "_view_module": "@jupyter-widgets/base",
            "_view_module_version": "1.2.0",
            "_view_name": "LayoutView",
            "align_content": null,
            "align_items": null,
            "align_self": null,
            "border": null,
            "bottom": null,
            "display": null,
            "flex": null,
            "flex_flow": null,
            "grid_area": null,
            "grid_auto_columns": null,
            "grid_auto_flow": null,
            "grid_auto_rows": null,
            "grid_column": null,
            "grid_gap": null,
            "grid_row": null,
            "grid_template_areas": null,
            "grid_template_columns": null,
            "grid_template_rows": null,
            "height": null,
            "justify_content": null,
            "justify_items": null,
            "left": null,
            "margin": null,
            "max_height": null,
            "max_width": null,
            "min_height": null,
            "min_width": null,
            "object_fit": null,
            "object_position": null,
            "order": null,
            "overflow": null,
            "overflow_x": null,
            "overflow_y": null,
            "padding": null,
            "right": null,
            "top": null,
            "visibility": null,
            "width": null
          }
        },
        "e389006f6d194f28b7a1c9605805d74a": {
          "model_module": "@jupyter-widgets/controls",
          "model_name": "ProgressStyleModel",
          "model_module_version": "1.5.0",
          "state": {
            "_model_module": "@jupyter-widgets/controls",
            "_model_module_version": "1.5.0",
            "_model_name": "ProgressStyleModel",
            "_view_count": null,
            "_view_module": "@jupyter-widgets/base",
            "_view_module_version": "1.2.0",
            "_view_name": "StyleView",
            "bar_color": null,
            "description_width": ""
          }
        },
        "a428283878274d40875f14bb9bac3dfc": {
          "model_module": "@jupyter-widgets/base",
          "model_name": "LayoutModel",
          "model_module_version": "1.2.0",
          "state": {
            "_model_module": "@jupyter-widgets/base",
            "_model_module_version": "1.2.0",
            "_model_name": "LayoutModel",
            "_view_count": null,
            "_view_module": "@jupyter-widgets/base",
            "_view_module_version": "1.2.0",
            "_view_name": "LayoutView",
            "align_content": null,
            "align_items": null,
            "align_self": null,
            "border": null,
            "bottom": null,
            "display": null,
            "flex": null,
            "flex_flow": null,
            "grid_area": null,
            "grid_auto_columns": null,
            "grid_auto_flow": null,
            "grid_auto_rows": null,
            "grid_column": null,
            "grid_gap": null,
            "grid_row": null,
            "grid_template_areas": null,
            "grid_template_columns": null,
            "grid_template_rows": null,
            "height": null,
            "justify_content": null,
            "justify_items": null,
            "left": null,
            "margin": null,
            "max_height": null,
            "max_width": null,
            "min_height": null,
            "min_width": null,
            "object_fit": null,
            "object_position": null,
            "order": null,
            "overflow": null,
            "overflow_x": null,
            "overflow_y": null,
            "padding": null,
            "right": null,
            "top": null,
            "visibility": null,
            "width": null
          }
        },
        "b9e8b328e4e24afd82d970d4ddc5c7c4": {
          "model_module": "@jupyter-widgets/controls",
          "model_name": "DescriptionStyleModel",
          "model_module_version": "1.5.0",
          "state": {
            "_model_module": "@jupyter-widgets/controls",
            "_model_module_version": "1.5.0",
            "_model_name": "DescriptionStyleModel",
            "_view_count": null,
            "_view_module": "@jupyter-widgets/base",
            "_view_module_version": "1.2.0",
            "_view_name": "StyleView",
            "description_width": ""
          }
        }
      }
    }
  },
  "nbformat": 4,
  "nbformat_minor": 0
}